{
 "cells": [
  {
   "cell_type": "markdown",
   "id": "c2f29730",
   "metadata": {
    "deletable": false,
    "editable": false,
    "nbgrader": {
     "cell_type": "markdown",
     "checksum": "77d29f66f7e8dd5ebe9a1c0fd789ebc9",
     "grade": false,
     "grade_id": "cell-23c292513cf02ad6",
     "locked": true,
     "schema_version": 3,
     "solution": false,
     "task": false
    }
   },
   "source": [
    "# Set up:\n",
    "\n",
    "- **Do NOT change the name of this jupyter notebook! Otherwise, the autograder will not work as intended!**\n",
    "- **There will be some cells that appear blank and that you can't type in. That is normal. Just ignore them.**\n",
    "- **Complete your homework on JupyterHub. Do not copy the file to your local machine.**\n",
    "- Any files you create for this assignment should be stored in the same directory where you found this notebook. You can also upload your log to that directory when you are finished with the assignment.\n",
    "\n",
    "   *You don't have to do anything here, just don't CHANGE the path where you save or create files when working on JupyterHub!*\n",
    "- Once you are finished, you can submit your assignment directly through JupyterHub and we will run the autograder and return feedback to you.\n",
    "- Once your are finished, please **DO** download a copy of your submitted/{assignment name} folder from JupyterHub to your local machine and commit changes and push to your GitHub repository for your records!\n",
    "---\n",
    "Before you turn this assignment in, make sure everything runs as expected. First, **restart the kernel** (in the menubar, select Kernel $\\rightarrow$ Restart) and then **run all cells** (in the menubar, select Cell $\\rightarrow$ Run All). You can also *Validate* your assignment in the Nbgrader Assignment List to make sure it is correct.\n",
    "\n",
    "Make sure you fill in any place that says `YOUR CODE HERE` and remove the statement `raise NotImplementedError()` below it.\n",
    "\n",
    "You are certainly allowed to work together and communicate with your peers to solve this assignment but per UCF Academic Integrity policy, **the work in the cells below MUST be your own unique work to receive credit.** "
   ]
  },
  {
   "cell_type": "code",
   "execution_count": null,
   "id": "19519dc5",
   "metadata": {
    "deletable": false,
    "editable": false,
    "nbgrader": {
     "cell_type": "code",
     "checksum": "220e060d7b8e21b00bd7a89a2d8338ff",
     "grade": true,
     "grade_id": "header_test",
     "locked": true,
     "points": 0,
     "schema_version": 3,
     "solution": false,
     "task": false
    }
   },
   "outputs": [],
   "source": []
  },
  {
   "cell_type": "markdown",
   "id": "865a005a",
   "metadata": {
    "deletable": false,
    "editable": false,
    "nbgrader": {
     "cell_type": "markdown",
     "checksum": "83f73f1aab938a16499a1290f398b395",
     "grade": false,
     "grade_id": "cell-f618a5061cba2c0e",
     "locked": true,
     "schema_version": 3,
     "solution": false,
     "task": false
    }
   },
   "source": [
    "# Homework 4\n",
    "---"
   ]
  },
  {
   "cell_type": "markdown",
   "id": "8ee88ba3",
   "metadata": {
    "deletable": false,
    "editable": false,
    "nbgrader": {
     "cell_type": "markdown",
     "checksum": "d450d68f0772a3095368fb0931c45746",
     "grade": false,
     "grade_id": "cell-67ff84a8dbc88608",
     "locked": true,
     "schema_version": 3,
     "solution": false,
     "task": false
    }
   },
   "source": [
    "## Problem 1\n",
    "**1.1** Recall the quadratic formula\n",
    "$$x = \\frac{-b\\pm\\sqrt{b^2-4ac}}{2a}$$\n",
    "which gives the roots of $ax^2 + bx + c = 0$. \n",
    "- Write a function called `quadratic` that calculates and returns a tuple containing both roots, given the three coefficients $a$, $b$, and $c$. Be sure to include an informative docstring!\n",
    "- Make the function arguments ($a$, $b$, and $c$) *keyword arguments* with default values of $0$ so that the user doesn't have to supply one of them if it's value in the expression is $0$.\n",
    "\n",
    "*In this problem you do not have to worry about complex roots if you do not want to! We will only test expressions with **real** roots.*"
   ]
  },
  {
   "cell_type": "code",
   "execution_count": 5,
   "id": "735dc8d4",
   "metadata": {
    "deletable": false,
    "nbgrader": {
     "cell_type": "code",
     "checksum": "c1fe0735f510e507b7f90718ffe8830e",
     "grade": false,
     "grade_id": "prob_1_1_ans",
     "locked": false,
     "schema_version": 3,
     "solution": true,
     "task": false
    }
   },
   "outputs": [],
   "source": [
    "import math\n",
    "def quadratic(a=0,b=0,c=0):\n",
    "    \"\"\"\n",
    "    calculates the equation ax^2+bx+c with coefficients a, b, and c \n",
    "    returns a tuple containing roots\n",
    "    calculates discriminate first\n",
    "    then take the square root of discriminate by calling math function\n",
    "    divides all of that by 2a\n",
    "    inputs:\n",
    "    coefficents (integers) a , b , c\n",
    "    outputs:\n",
    "    tuple with roots \n",
    "    \"\"\"\n",
    "    discriminate = (b**2) - 4*a*c #inside of sqrt of quadratic formula\n",
    "    root_1 = (-b + math.sqrt(discriminate)) / (2*a)\n",
    "    root_2 = (-b - math.sqrt(discriminate)) / (2*a)\n",
    "    solution = root_1, root_2 # shows result as tuple\n",
    "    return solution\n",
    "    \n",
    "    "
   ]
  },
  {
   "cell_type": "markdown",
   "id": "0b2c01e8",
   "metadata": {
    "deletable": false,
    "editable": false,
    "nbgrader": {
     "cell_type": "markdown",
     "checksum": "ac486d6dfbe4a47a9df9809897d14b4c",
     "grade": false,
     "grade_id": "cell-c570c4b0f04ddcfd",
     "locked": true,
     "schema_version": 3,
     "solution": false,
     "task": false
    }
   },
   "source": [
    "**1.2**\n",
    "- Calculate the roots of $x^2-x-12=0$ and return them as the tuple `tup1`.\n",
    "- Calculate the roots of $2x^2 - 2x = 0$ and return them as the tuple `tup2`"
   ]
  },
  {
   "cell_type": "code",
   "execution_count": 6,
   "id": "9faed1f4-a54b-4e6f-8e0a-cc80ede1696f",
   "metadata": {
    "deletable": false,
    "nbgrader": {
     "cell_type": "code",
     "checksum": "a7a4de57ddb4bdbbdd1d9200a63945bf",
     "grade": false,
     "grade_id": "prob_1_2_ans",
     "locked": false,
     "schema_version": 3,
     "solution": true,
     "task": false
    }
   },
   "outputs": [
    {
     "name": "stdout",
     "output_type": "stream",
     "text": [
      "(4.0, -3.0) (1.0, 0.0)\n"
     ]
    }
   ],
   "source": [
    "tup1 = quadratic(1,-1,-12)\n",
    "tup2 = quadratic(2,-2)\n",
    "print(tup1, tup2)"
   ]
  },
  {
   "cell_type": "markdown",
   "id": "fefba4da-6efe-4865-a134-5f8dd5a85d4b",
   "metadata": {},
   "source": [
    "##### Expected Call/Output:\n",
    "```\n",
    "tup1 = quadratic(1,-1,-12)\n",
    "tup2 = quadratic(2,-2)\n",
    "print(tup1, tup2)\n",
    "```\n",
    "`(4.0, -3.0) (1.0, 0.0)`\n"
   ]
  },
  {
   "cell_type": "code",
   "execution_count": null,
   "id": "416da45c-b14e-45ff-ac9e-9a7a3141b755",
   "metadata": {
    "deletable": false,
    "editable": false,
    "nbgrader": {
     "cell_type": "code",
     "checksum": "5f2993e615c68098310b9fe5b4bea54f",
     "grade": true,
     "grade_id": "prob_1_1_test",
     "locked": true,
     "points": 1,
     "schema_version": 3,
     "solution": false,
     "task": false
    }
   },
   "outputs": [],
   "source": []
  },
  {
   "cell_type": "code",
   "execution_count": 4,
   "id": "81a97cde-8883-412e-9208-e6a8b95f2a2b",
   "metadata": {
    "deletable": false,
    "editable": false,
    "nbgrader": {
     "cell_type": "code",
     "checksum": "4b11efff1b25fb32fcf14a5c32051a1a",
     "grade": true,
     "grade_id": "prob_1_2_test",
     "locked": true,
     "points": 1,
     "schema_version": 3,
     "solution": false,
     "task": false
    }
   },
   "outputs": [],
   "source": [
    "assert tup1[0] == 4 and tup1[1] == -3 and tup2[0] == 1 and tup2[1] == 0\n",
    "    "
   ]
  },
  {
   "cell_type": "code",
   "execution_count": null,
   "id": "8016fff0",
   "metadata": {
    "deletable": false,
    "editable": false,
    "nbgrader": {
     "cell_type": "code",
     "checksum": "4167094d17c7baef570c5daf178a0bab",
     "grade": true,
     "grade_id": "prob_1_1_func_test",
     "locked": true,
     "points": 1,
     "schema_version": 3,
     "solution": false,
     "task": false
    }
   },
   "outputs": [],
   "source": []
  },
  {
   "cell_type": "markdown",
   "id": "4425beb6",
   "metadata": {
    "deletable": false,
    "editable": false,
    "nbgrader": {
     "cell_type": "markdown",
     "checksum": "97a883a04b1106aa5fa701dbb43fcb64",
     "grade": false,
     "grade_id": "cell-262be98f36e62152",
     "locked": true,
     "schema_version": 3,
     "solution": false,
     "task": false
    }
   },
   "source": [
    "## Problem 2\n",
    "**2.1** Create a *numpy array* called `student_h` that constains lists with the heights of students in feet and inches. A person being 5' 6\" would be noted as [5, 6], a person being 5' 10.5\" would be noted as [5, 10.5] etc. Populate your array with the heights of five students who are: 5'1\", 4'10\", 6'2\", 5'7\", and 6'11\". Print it."
   ]
  },
  {
   "cell_type": "code",
   "execution_count": 7,
   "id": "a3a4eb6d",
   "metadata": {
    "deletable": false,
    "nbgrader": {
     "cell_type": "code",
     "checksum": "363e9ba191c6f2cb4722f114c1ab8eb4",
     "grade": false,
     "grade_id": "prob_2_1_ans",
     "locked": false,
     "schema_version": 3,
     "solution": true,
     "task": false
    }
   },
   "outputs": [
    {
     "name": "stdout",
     "output_type": "stream",
     "text": [
      "[[ 5  1]\n",
      " [ 4 10]\n",
      " [ 6  2]\n",
      " [ 5  7]\n",
      " [ 6 11]]\n"
     ]
    }
   ],
   "source": [
    "import numpy as np\n",
    "student_h = np.array([[5,1],[4,10],[6,2],[5,7],[6,11]]) # adds values as pairs\n",
    "print(student_h)\n"
   ]
  },
  {
   "cell_type": "markdown",
   "id": "b42db596",
   "metadata": {
    "deletable": false,
    "editable": false,
    "nbgrader": {
     "cell_type": "markdown",
     "checksum": "f4d626263b574df824c0025fce17f8bc",
     "grade": false,
     "grade_id": "cell-b0a9ea7c6280b6c7",
     "locked": true,
     "schema_version": 3,
     "solution": false,
     "task": false
    }
   },
   "source": [
    "**2.2** Create a function called `ft_to_m` in the cell below that takes as input `student_h` and returns an array with heights in a the form [m, cm], while always rounding centimeters up. \n",
    "\n",
    "Use $1~\\mathrm{ft}~=~0.3048~\\mathrm{m}$ and $1~\\mathrm{inch}~=~0.0254~\\mathrm{m}$ and $1~\\mathrm{m}~=~100~\\mathrm{cm}$.\n",
    "\n",
    "*You are not expected to use* `for` *loops in this problem but you will need to be clever with array slicing.*"
   ]
  },
  {
   "cell_type": "code",
   "execution_count": 20,
   "id": "c41782e6",
   "metadata": {
    "deletable": false,
    "nbgrader": {
     "cell_type": "code",
     "checksum": "4bbe0766adb657db87c859d3b29a2b97",
     "grade": false,
     "grade_id": "prob_2_2_ans",
     "locked": false,
     "schema_version": 3,
     "solution": true,
     "task": false
    }
   },
   "outputs": [],
   "source": [
    "def ft_to_m(student_h):\n",
    "    \"\"\"\n",
    "    takes in different height pairs [feet,inches] and converts into form [m,cm]\n",
    "    multiples value of feet by meters conversion factor\n",
    "    multiplies value of inches by meters then centimeters conversion factor\n",
    "    input:\n",
    "    array values from student_h [ft,in]\n",
    "    output:\n",
    "    heights as array [m,cm]\n",
    "    \"\"\"\n",
    "    feet = student_h[:,0] #defines feet as the first column (0)\n",
    "    inches = student_h[:,1] #defines inches as the 2nd column (1)\n",
    "    total_inches = feet * 12 + inches #convert ft into inches so all values same unit\n",
    "    total_cm = total_inches * 2.54 #convert all inches to cm so all values same unit\n",
    "    meters = (total_cm//100).astype(int) # takes the whole number integer, divide by 100cm to convert to m\n",
    "    centimeters = np.ceil(total_cm%100).astype(int) # gives the remainder after finding full number integers \n",
    "    new_list = np.array([meters, centimeters]).T\n",
    "    return new_list\n",
    "\n",
    "    \n",
    "\n"
   ]
  },
  {
   "cell_type": "markdown",
   "id": "8f3e76e1",
   "metadata": {
    "deletable": false,
    "editable": false,
    "nbgrader": {
     "cell_type": "markdown",
     "checksum": "360fff699ed782bd1193be963fdd4cf8",
     "grade": false,
     "grade_id": "cell-95d5eea1ad11ff67",
     "locked": true,
     "schema_version": 3,
     "solution": false,
     "task": false
    }
   },
   "source": [
    "**2.3** Call your function for `student_h` and print all students' converted heights in one command. Check that the outputs for each individual student are correct by hand, by using a calculator, or by writing a test case here in python."
   ]
  },
  {
   "cell_type": "code",
   "execution_count": 21,
   "id": "4449a53a-b674-4566-a946-6a752313b7ac",
   "metadata": {
    "deletable": false,
    "nbgrader": {
     "cell_type": "code",
     "checksum": "6883b9dde37b122211d582a2642a3aff",
     "grade": false,
     "grade_id": "prob_2_3_ans",
     "locked": false,
     "schema_version": 3,
     "solution": true,
     "task": false
    }
   },
   "outputs": [
    {
     "name": "stdout",
     "output_type": "stream",
     "text": [
      "[[ 1 55]\n",
      " [ 1 48]\n",
      " [ 1 88]\n",
      " [ 1 71]\n",
      " [ 2 11]]\n"
     ]
    }
   ],
   "source": [
    "call = ft_to_m(student_h)\n",
    "print(call)"
   ]
  },
  {
   "cell_type": "markdown",
   "id": "50451fa6",
   "metadata": {},
   "source": [
    "##### Expected Call/Output:\n",
    "```\n",
    "print(\"The students' heights in [m cm] are:\\n\", ft_to_m(student_h))\n",
    "```\n",
    "```\n",
    "The students' heights in [m cm] are:\n",
    " [[ 1 55]\n",
    " [ 1 48]\n",
    " [ 1 88]\n",
    " [ 1 71]\n",
    " [ 2 11]]\n",
    " ```\n",
    "\n"
   ]
  },
  {
   "cell_type": "code",
   "execution_count": null,
   "id": "2e468b51-986d-483b-982a-9ddae7678687",
   "metadata": {
    "deletable": false,
    "editable": false,
    "nbgrader": {
     "cell_type": "code",
     "checksum": "2caf457e2955dd236c94e81ef29a65a8",
     "grade": true,
     "grade_id": "prob_2_2and3_test",
     "locked": true,
     "points": 1,
     "schema_version": 3,
     "solution": false,
     "task": false
    }
   },
   "outputs": [],
   "source": []
  },
  {
   "cell_type": "markdown",
   "id": "d37b76e5",
   "metadata": {
    "deletable": false,
    "editable": false,
    "nbgrader": {
     "cell_type": "markdown",
     "checksum": "132ac0b1c908d16ffdc30fcb109ab179",
     "grade": false,
     "grade_id": "cell-32ef48b54ebd41f3",
     "locked": true,
     "schema_version": 3,
     "solution": false,
     "task": false
    }
   },
   "source": [
    "## Problem 3\n",
    "**3.1** In a separate .py file named `disp.py` , create a function called `displacement(v0, a, t)` that calculates the total displacememnt of a body during a time interval $t$, when the body has initial speed $v_0$ and a constant acceleration $a$. The function will return the displacement.\n",
    "\n",
    "(The displacement of a body that moves with a constant acceleration will be $\\Delta x = v_0 t + \\frac{1}{2}at^2$)\n",
    "\n",
    "Remember to start the function with a proper docstring.\n",
    "\n",
    "- Import the function from the .py file. "
   ]
  },
  {
   "cell_type": "code",
   "execution_count": 23,
   "id": "3e5ee33a-fea0-4220-a9a7-5ebc73bb7195",
   "metadata": {
    "deletable": false,
    "nbgrader": {
     "cell_type": "code",
     "checksum": "2ceaeeb6c8409b43eeb08b1f3c281c63",
     "grade": false,
     "grade_id": "prob_3_1_ans",
     "locked": false,
     "schema_version": 3,
     "solution": true,
     "task": false
    }
   },
   "outputs": [],
   "source": [
    "from disp import displacement"
   ]
  },
  {
   "cell_type": "markdown",
   "id": "4f6413d6-4568-4d40-9d69-4a55544e7c97",
   "metadata": {},
   "source": [
    "**3.2** Calculate the total displacement for:\n",
    "\n",
    "$v_0 = 10 ~~\\mathrm{m\\cdot s^{-1}}$, $a = -9.8 ~~\\mathrm{m\\cdot s^{-2}}$,\n",
    "and $t = 4 ~~\\mathrm{s}$ \n",
    "\n",
    "- Print the result in an informative way."
   ]
  },
  {
   "cell_type": "code",
   "execution_count": 24,
   "id": "0a471b00-bff9-4a1d-925d-ae38958b31f3",
   "metadata": {
    "deletable": false,
    "nbgrader": {
     "cell_type": "code",
     "checksum": "97dfddff1e0f1562005e2f9eaa1f2dbb",
     "grade": false,
     "grade_id": "prob_3_2_ans",
     "locked": false,
     "schema_version": 3,
     "solution": true,
     "task": false
    }
   },
   "outputs": [
    {
     "name": "stdout",
     "output_type": "stream",
     "text": [
      "The displacement of a body with inital velocity of 10 m/s undergoing a constant acceleration of -9.8 m/s^2 for 4 s is -38.400000000000006 m.\n"
     ]
    }
   ],
   "source": [
    "v0=10\n",
    "a=-9.8\n",
    "t=4\n",
    "dx = displacement(v0,a,t)\n",
    "print(\"The displacement of a body with inital velocity of\",v0,\\\n",
    "      \"m/s undergoing a constant acceleration of\",a,\"m/s^2 for\",t,\"s is\",dx,\"m.\")\n"
   ]
  },
  {
   "cell_type": "markdown",
   "id": "3e294f70-02c1-4ffa-afc9-cd4912b30e78",
   "metadata": {},
   "source": [
    "##### Expected Call/Output:\n",
    "```\n",
    "dx = displacement(10, -9.8, 4)\n",
    "\n",
    "print(\"The displacement of a body with an initial velocity of\",v0,\\\n",
    "      \"m/s undergoing a constant acceleration of\", a, \"m/s^2 for\", t, \"s is\", dx, \"m.\") \n",
    "```\n",
    "`\n",
    "The displacement of a body with an initial velocity of 10 m/s undergoing a constant acceleration of -9.8 m/s^2 for 4 s is -38.400000000000006 m.\n",
    "`"
   ]
  },
  {
   "cell_type": "code",
   "execution_count": null,
   "id": "5eb3dc8a-9c2e-4c5f-8ea1-0ae9a2811176",
   "metadata": {
    "deletable": false,
    "editable": false,
    "nbgrader": {
     "cell_type": "code",
     "checksum": "67b0deedc9759166370888012dc263f4",
     "grade": true,
     "grade_id": "prob_3_1_test",
     "locked": true,
     "points": 1,
     "schema_version": 3,
     "solution": false,
     "task": false
    }
   },
   "outputs": [],
   "source": []
  },
  {
   "cell_type": "code",
   "execution_count": null,
   "id": "996ea8be-cbd9-4680-a6fc-f1501d796986",
   "metadata": {
    "deletable": false,
    "editable": false,
    "nbgrader": {
     "cell_type": "code",
     "checksum": "d37c292d06f3c9e10038529f44f329f6",
     "grade": true,
     "grade_id": "prob_3_2_test",
     "locked": true,
     "points": 1,
     "schema_version": 3,
     "solution": false,
     "task": false
    }
   },
   "outputs": [],
   "source": []
  },
  {
   "cell_type": "markdown",
   "id": "ded5acd5-0d31-4b0c-b5ea-b7b0c998a46a",
   "metadata": {
    "deletable": false,
    "editable": false,
    "nbgrader": {
     "cell_type": "markdown",
     "checksum": "6d9cb4b42bd023fe79ef539f7c024927",
     "grade": false,
     "grade_id": "cell-3c940ac632cbb110",
     "locked": true,
     "schema_version": 3,
     "solution": false,
     "task": false
    }
   },
   "source": [
    "**3.3**\n",
    "- With *numpy arrays* it is not hard to calculate the displacement vector:\n",
    "\n",
    "   $\\Delta \\vec{r} = \\vec{r}_{f} - \\vec{r}_{0} = \\vec{v}_0 \\cdot t + \\frac{1}{2}\\vec{a}\\cdot t^2$\n",
    "\n",
    "- Update your function to allow the user to input vectors for $\\vec{v}_0$ and  $\\vec{a}$ as numpy arrays.\n",
    "\n",
    "  **Note: After modifying and saving your .py file, you will need to restart the kernel for your Jupyter Notebook. If you don't, it will not recognize the changes. You can restart your kernel from the 'Kernel' menu or by tapping 0 twice.** \n",
    "- Use your function to calculate the vector displacement of a body with initial velocity:\n",
    "\n",
    "  $\\vec{v}_0 = 3 \\hat{i} + 1 \\hat{j} - 4 \\hat{k} ~~\\mathrm{m\\cdot s^{-1}}$\n",
    "\n",
    "  undergoing constant acceleration:\n",
    "  \n",
    "  $\\vec{a} = 2 \\hat{i} - 7 \\hat{j} - 1 \\hat{k} ~~\\mathrm{m\\cdot s^{-2}}$\n",
    "\n",
    "  for t = 3.3 s. Assign it to the variable `dr` and print it.\n",
    "\n",
    "- Using numpy arrays it is also pretty easy to calculate the displacement vectors for many bodies with different (constant) accelerations and initial velocities. For example, the $i^{th}$ body would have a displacement given by:\n",
    "\n",
    "    $\\Delta \\vec{r}_i = \\vec{v}_{0i} \\cdot t + \\frac{1}{2}\\vec{a}_i\\cdot t^2$\n",
    "\n",
    "  Think about how you would do that. Do you think you would need to modify your function?"
   ]
  },
  {
   "cell_type": "code",
   "execution_count": 28,
   "id": "dd8d5ba3-567a-486f-b49b-1e38a17f8164",
   "metadata": {
    "deletable": false,
    "nbgrader": {
     "cell_type": "code",
     "checksum": "223c286d4fc01e202317643a3b1d90d5",
     "grade": false,
     "grade_id": "prob_3_3_ans",
     "locked": false,
     "schema_version": 3,
     "solution": true,
     "task": false
    }
   },
   "outputs": [
    {
     "name": "stdout",
     "output_type": "stream",
     "text": [
      "[ 20.79  -34.815 -18.645]\n"
     ]
    }
   ],
   "source": [
    "v0 = np.array([3,1,-4]) #velocity in form xi,yj,zk\n",
    "a = np.array([2,-7,-1]) #acceleration in form xi,yj,zk\n",
    "t = 3.3 #s\n",
    "dr = displacement(v0,a,t)\n",
    "print(dr)"
   ]
  },
  {
   "cell_type": "code",
   "execution_count": 29,
   "id": "2ff881e1-4136-420c-853c-4cf46afbe744",
   "metadata": {
    "deletable": false,
    "editable": false,
    "nbgrader": {
     "cell_type": "code",
     "checksum": "097e666cd226559e33eed4d52e69fddc",
     "grade": true,
     "grade_id": "prob_3_3_test",
     "locked": true,
     "points": 1,
     "schema_version": 3,
     "solution": false,
     "task": false
    }
   },
   "outputs": [],
   "source": [
    "assert np.all(dr == [ 20.79,  -34.815, -18.645])\n"
   ]
  },
  {
   "cell_type": "markdown",
   "id": "3f30cab4-458b-48c1-b862-06b84c70596a",
   "metadata": {
    "deletable": false,
    "editable": false,
    "nbgrader": {
     "cell_type": "markdown",
     "checksum": "b989795d97ca5568e3eb3cea17a9cfae",
     "grade": false,
     "grade_id": "cell-1f4d3c349dad3f56",
     "locked": true,
     "schema_version": 3,
     "solution": false,
     "task": false
    }
   },
   "source": [
    "**3.4** Use your function from Problem 1 to determine the *time* it takes for object with constant acceleration $a$ and initial velocity $v_0$ to be displaced by $\\Delta x$. Print an informative statement about the time `dt` it takes when $\\Delta x = -20 ~\\mathrm{m}$, $v_0 = +15 ~\\mathrm{m\\cdot s^{-1}}$ and $a = -9.8  ~\\mathrm{m\\cdot s^{-2}}$. Also store the time in seconds in the variable `dt`."
   ]
  },
  {
   "cell_type": "code",
   "execution_count": 37,
   "id": "5e916c09-2456-4b16-af5c-8552551168fc",
   "metadata": {
    "deletable": false,
    "nbgrader": {
     "cell_type": "code",
     "checksum": "4dac401720d7ff2bcea6e4309fe15815",
     "grade": false,
     "grade_id": "prob_3_4_ans",
     "locked": false,
     "schema_version": 3,
     "solution": true,
     "task": false
    },
    "scrolled": true
   },
   "outputs": [
    {
     "name": "stdout",
     "output_type": "stream",
     "text": [
      "Starting with inital velocity of 15 m/s and a constant acceleration of -9.8 m/s^2 a body has a displacement of -20 m after 4.065253540484535 s\n"
     ]
    }
   ],
   "source": [
    "# displacement formula (1/2)*at^2 +v0t - d = 0\n",
    "# squared value of t relate to a, t value relate to v0, and d value relate to x\n",
    "a= -9.8 \n",
    "displacement_accel = a *0.5\n",
    "b= 15\n",
    "c= -20\n",
    "displacement_position = c *(-1)\n",
    "dt = quadratic (displacement_accel,b,displacement_position)\n",
    "print(\"Starting with inital velocity of\",b,\"m/s and a constant acceleration of\",a,\\\n",
    "      \"m/s^2 a body has a displacement of\",c,\"m after\",dt[1],\"s\")\n",
    "\n",
    "\n",
    "# ax^2 + bx + c  ax^2 = acceleration, bx = velocity c = position"
   ]
  },
  {
   "cell_type": "markdown",
   "id": "dd1e146f",
   "metadata": {},
   "source": [
    "##### Expected Output:\n",
    "```\n",
    "Starting with an initial velocity of 15.0  m/s and a constant acceleration of -9.8  m/s^2 a body has a displacement of -20.0  m after 4.065253540484535 s.\n",
    "```\n",
    "\n"
   ]
  },
  {
   "cell_type": "code",
   "execution_count": null,
   "id": "4e11dd30-dc8a-46ee-9b38-f36a5bbbb1e5",
   "metadata": {
    "deletable": false,
    "editable": false,
    "nbgrader": {
     "cell_type": "code",
     "checksum": "c05e88f8ca81b16358c43f965220b2b0",
     "grade": true,
     "grade_id": "prob_3_4_test",
     "locked": true,
     "points": 1,
     "schema_version": 3,
     "solution": false,
     "task": false
    }
   },
   "outputs": [],
   "source": []
  },
  {
   "cell_type": "markdown",
   "id": "878e86d5-3ab7-44bb-b471-57c0bc778a86",
   "metadata": {
    "deletable": false,
    "editable": false,
    "nbgrader": {
     "cell_type": "markdown",
     "checksum": "186a8abd1f54bd5f3e034bcc1d94553b",
     "grade": false,
     "grade_id": "cell-823411d1f5f4eac0",
     "locked": true,
     "schema_version": 3,
     "solution": false,
     "task": false
    }
   },
   "source": [
    "---\n",
    "### Homework Submission\n",
    "Prepare and submit your homework on JupyterHub.\n",
    "\n",
    "- Make sure that all the cells run without errors and that your output matches the solution.\n",
    "\n",
    "  *All your functions will be tested with different inputs to assure that they are working as intended!*\n",
    "  \n",
    "- Navigate to the `Home` tab in JupyterNotebook and make sure all additional files (.py files, figures, etc.) are in your assignment folder. \n",
    "- Copy your up-to-date `.log` file into your assignment folder.\n",
    "- Make sure your submission folder is properly named according to the naming conventions.\n",
    "- After submission, Feel free to download a copy of your submitted assignment folder.  Use GitHub to update and commit your changes on your machine and push to your online GitHub repository.\n"
   ]
  },
  {
   "cell_type": "code",
   "execution_count": null,
   "id": "7e21bab6-a133-4ce8-a222-98a81042fed1",
   "metadata": {
    "deletable": false,
    "editable": false,
    "nbgrader": {
     "cell_type": "code",
     "checksum": "70de38f30d04329833f5d9b7a5d799e9",
     "grade": true,
     "grade_id": "footer_test",
     "locked": true,
     "points": 0,
     "schema_version": 3,
     "solution": false,
     "task": false
    }
   },
   "outputs": [],
   "source": []
  },
  {
   "cell_type": "code",
   "execution_count": null,
   "id": "53e5a360-de6a-40d3-87fc-7cdbd3e29903",
   "metadata": {
    "deletable": false,
    "editable": false,
    "nbgrader": {
     "cell_type": "code",
     "checksum": "16c56c3f92048173606edde666c3da3c",
     "grade": true,
     "grade_id": "cell-9c81c9f8c6fd1a65",
     "locked": true,
     "points": 0,
     "schema_version": 3,
     "solution": false,
     "task": false
    }
   },
   "outputs": [],
   "source": []
  }
 ],
 "metadata": {
  "kernelspec": {
   "display_name": "Python 3 (ipykernel)",
   "language": "python",
   "name": "python3"
  },
  "language_info": {
   "codemirror_mode": {
    "name": "ipython",
    "version": 3
   },
   "file_extension": ".py",
   "mimetype": "text/x-python",
   "name": "python",
   "nbconvert_exporter": "python",
   "pygments_lexer": "ipython3",
   "version": "3.12.3"
  }
 },
 "nbformat": 4,
 "nbformat_minor": 5
}
