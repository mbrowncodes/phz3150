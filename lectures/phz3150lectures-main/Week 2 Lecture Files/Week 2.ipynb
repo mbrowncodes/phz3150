{
 "cells": [
  {
   "cell_type": "code",
   "execution_count": null,
   "id": "a2ce1bf8-423c-468d-9df4-9a752fd69024",
   "metadata": {},
   "outputs": [],
   "source": []
  },
  {
   "cell_type": "markdown",
   "id": "9a2b935a-4e7f-41e4-a5ae-8d85fe3bf6a3",
   "metadata": {},
   "source": [
    "<h1 id=\"Week2\">Week 2. Introduction to Jupyter Notebooks</h1>"
   ]
  },
  {
   "cell_type": "markdown",
   "id": "7ee678d2-4c7c-4807-b204-07adcd9a1ecb",
   "metadata": {},
   "source": [
    "## Motivation\n",
    "\n",
    "This chapter gets you started with the Jupyter Notebooks. Jupyter Notebooks are excellent for scientist because you can run code, take note, add plots and figures, and even embed images and html in one place. This means that they work well for lab notebooks and you can present your research work directly from them."
   ]
  },
  {
   "cell_type": "code",
   "execution_count": null,
   "id": "0061dca1-a292-44e8-9946-f624ce0887b4",
   "metadata": {},
   "outputs": [],
   "source": []
  },
  {
   "cell_type": "markdown",
   "id": "9b6c8679-8897-46ee-83cd-afe5c8cb6546",
   "metadata": {},
   "source": [
    "# This is a level 2 heading and this **word** is *bold*\n",
    "Volume of a sphere: $V = \\frac{4}{3}\\pi r_s^3$"
   ]
  },
  {
   "cell_type": "markdown",
   "id": "be35d3de-ba7a-4118-afce-99468deeb339",
   "metadata": {},
   "source": [
    "it has essentially two types of cells (if we forget about Raw NB Convert cells):\n",
    "- **Markdown cells** (this cell is a markdown cell for example) \n",
    "    - you can type nicely formatted text, add html, add Latex equations, bulleted lists, tables, [links](https://jupyter-notebook.readthedocs.io/en/stable/examples/Notebook/Working%20With%20Markdown%20Cells.html) etc. in these markdown cells.\n",
    "    - you can insert a markdown cell by going to insert cell (OR pressing 'a' for a cell above or 'b' for a cell below your current position in the notebook. Then go to cell>cell type>markdown or  press 'm' to convert the cell to markdown.\n",
    "- **Code cells** (a code cell is below)\n",
    "    - code cells allow you to execute a block of python code.\n",
    "    - to run the code in a code cell click the run button or SHIFT + RETURN at the same time.\n",
    "    "
   ]
  },
  {
   "cell_type": "code",
   "execution_count": 67,
   "id": "a14e3ee4-9db9-471a-b9ef-51d23e2adc26",
   "metadata": {},
   "outputs": [
    {
     "name": "stdout",
     "output_type": "stream",
     "text": [
      "Hello World!\n",
      "13\n"
     ]
    }
   ],
   "source": [
    "print(\"Hello World!\")\n",
    "x = 7\n",
    "y = 6\n",
    "print(x + y)"
   ]
  },
  {
   "attachments": {
    "Screenshot%202024-09-17%20at%205.45.46%E2%80%AFPM.png": {
     "image/png": "[encoded data removed]"
    }
   },
   "cell_type": "markdown",
   "id": "73a07c6f-bc1c-4152-9b60-85723a5a67c8",
   "metadata": {},
   "source": [
    "# Markdown Cells:\n",
    "## In a markdown cell we\n",
    "### can easily use different\n",
    "#### heading levels.\n",
    "\n",
    "*We can italicize text* or make it **bold**.\n",
    "\n",
    "We can add Latex code to write equations like\n",
    "The area of a circle, $A$ is given by $A = \\pi \\cdot r^2$\n",
    "\n",
    "or \n",
    "\n",
    "The magnitude of the vector cross product is given by:\n",
    "$ \\lvert \\vec{A_1}\\times \\vec{B_2} \\rvert = \\lvert \\vec{A_1} \\rvert \\lvert \\vec{B_2} \\rvert \\sin(\\theta) $\n",
    "\n",
    "and we can add tables by \"drawing them\" with text like this:\n",
    "\n",
    "My first | table in | Python\n",
    " --| :---------: | :---------:|\n",
    " 1 | test | two\n",
    " 2 | other| column\n",
    " \n",
    " Or we can embed an image by simply dragging and dropping it into the cell:![Screenshot%202024-09-17%20at%205.45.46%E2%80%AFPM.png](attachment:Screenshot%202024-09-17%20at%205.45.46%E2%80%AFPM.png)\n",
    " \n",
    "[Read the docs](https://jupyter-notebook.readthedocs.io/en/stable/examples/Notebook/Working%20With%20Markdown%20Cells.html) for more info on markdown cells. \n",
    " \n",
    "In order to compile the markdown cell so it displays the formatting, press SHIFT + RETURN like you would to run a code cell."
   ]
  },
  {
   "cell_type": "markdown",
   "id": "3ee95e6f-67eb-499f-96ad-6475e3cc2eb1",
   "metadata": {},
   "source": [
    "### Let's do some math recalling the last lesson on using Python as a calculator:\n",
    "\n",
    "Remember that in Python the = sign assigns a value or values to a variable. Below 5.0 is assigned to x and 2.0 is assigned to y. The result of an expression is passed to Out which can be accessed using the '_' symbol. Note that *assignment* is different from \"is equivalent to\" in mathematical expresssions. For example in programming `x = x + 1` makes perfect sense. This simply adds one to $x$ and assigns the sum back to $x$ but clearly this doesn't work in a mathematical expression."
   ]
  },
  {
   "cell_type": "code",
   "execution_count": 73,
   "id": "a931274a-d1dd-452d-a0b7-7904808d0196",
   "metadata": {},
   "outputs": [],
   "source": [
    "x = 5.0\n",
    "y = 2.0\n",
    "z = -1"
   ]
  },
  {
   "cell_type": "code",
   "execution_count": 60,
   "id": "27f977e1-a162-4b69-bac9-5b2ba8bd79e5",
   "metadata": {},
   "outputs": [
    {
     "data": {
      "text/plain": [
       "5.0"
      ]
     },
     "execution_count": 60,
     "metadata": {},
     "output_type": "execute_result"
    }
   ],
   "source": [
    "x\n",
    "#shoudlnt just type variable to print it, use print(x)\n"
   ]
  },
  {
   "cell_type": "code",
   "execution_count": 78,
   "id": "4cdb0bc1-2eb7-41ed-ba6b-81e9de898c5d",
   "metadata": {},
   "outputs": [
    {
     "data": {
      "text/plain": [
       "7.0"
      ]
     },
     "execution_count": 78,
     "metadata": {},
     "output_type": "execute_result"
    }
   ],
   "source": [
    "x = x + 1\n",
    "x += 1\n",
    "x"
   ]
  },
  {
   "cell_type": "code",
   "execution_count": 62,
   "id": "58716070-e439-47a1-ac1b-0370c6a24e4a",
   "metadata": {},
   "outputs": [
    {
     "data": {
      "text/plain": [
       "2.0"
      ]
     },
     "execution_count": 62,
     "metadata": {},
     "output_type": "execute_result"
    }
   ],
   "source": [
    "y "
   ]
  },
  {
   "cell_type": "code",
   "execution_count": 63,
   "id": "d2145bb5-0f1b-4d4d-8136-d4d6d91c5477",
   "metadata": {},
   "outputs": [
    {
     "data": {
      "text/plain": [
       "9.0"
      ]
     },
     "execution_count": 63,
     "metadata": {},
     "output_type": "execute_result"
    }
   ],
   "source": [
    "x + y "
   ]
  },
  {
   "cell_type": "code",
   "execution_count": 64,
   "id": "3fbea0a4-8c6d-4532-aab1-ffc0c01d1c5e",
   "metadata": {},
   "outputs": [
    {
     "data": {
      "text/plain": [
       "5.0"
      ]
     },
     "execution_count": 64,
     "metadata": {},
     "output_type": "execute_result"
    }
   ],
   "source": [
    "x - y "
   ]
  },
  {
   "cell_type": "code",
   "execution_count": 65,
   "id": "9946e04a-3fb6-48f5-9fe4-43d1d7129106",
   "metadata": {
    "scrolled": true
   },
   "outputs": [
    {
     "ename": "TypeError",
     "evalue": "can only concatenate str (not \"float\") to str",
     "output_type": "error",
     "traceback": [
      "\u001b[0;31m---------------------------------------------------------------------------\u001b[0m",
      "\u001b[0;31mTypeError\u001b[0m                                 Traceback (most recent call last)",
      "Cell \u001b[0;32mIn[65], line 1\u001b[0m\n\u001b[0;32m----> 1\u001b[0m _ \u001b[38;5;241m+\u001b[39m x \u001b[38;5;241m*\u001b[39m y\n",
      "\u001b[0;31mTypeError\u001b[0m: can only concatenate str (not \"float\") to str"
     ]
    }
   ],
   "source": [
    "_ + x * y #_ represents the last out (Out[16])"
   ]
  },
  {
   "cell_type": "markdown",
   "id": "d719c613-784d-443c-b924-0c7392b9ce7b",
   "metadata": {},
   "source": [
    "Note that relying on `OUT []:` to display the answers is generally bad practice --- when you want to see the value of something you use the print() function otherwise you may not see the output if you execute multiple commands."
   ]
  },
  {
   "cell_type": "code",
   "execution_count": 80,
   "id": "b37e18e8-ee47-4ec2-a18a-a646276da5a9",
   "metadata": {},
   "outputs": [
    {
     "name": "stdout",
     "output_type": "stream",
     "text": [
      "7.0\n",
      "2.0\n",
      "9.0 5.0\n"
     ]
    }
   ],
   "source": [
    "x\n",
    "\n",
    "print( x )\n",
    "print( y )\n",
    "print( x + y, x - y )"
   ]
  },
  {
   "cell_type": "markdown",
   "id": "7dd7eab2-e799-4a90-b93a-54f483c0a20c",
   "metadata": {},
   "source": [
    "A variable is more like a container to store the data in the computer's memory, the name of the variable tells the computer where to find this value in the memory. For now, it is sufficient to know that the notebook has its own memory space to store all the variables in the notebook. As a result of the previous example, you will see the variable \"x\" and \"y\" in the memory. You can view a list of all the variables in the notebook using the magic command `%whos`."
   ]
  },
  {
   "cell_type": "markdown",
   "id": "a268fc0e-cce6-475e-8317-db3f9a76651e",
   "metadata": {},
   "source": [
    "**TRY IT!** List all the variables in this notebook"
   ]
  },
  {
   "cell_type": "code",
   "execution_count": 68,
   "id": "9a8b0f10-9354-4e5d-be71-a2dbc9da1cb6",
   "metadata": {},
   "outputs": [
    {
     "name": "stdout",
     "output_type": "stream",
     "text": [
      "Variable               Type        Data/Info\n",
      "--------------------------------------------\n",
      "dataframe_columns      function    <function dataframe_columns at 0x13db51080>\n",
      "dataframe_hash         function    <function dataframe_hash at 0x10e451f80>\n",
      "dtypes_str             function    <function dtypes_str at 0x10eade840>\n",
      "get_dataframes         function    <function get_dataframes at 0x10eaddda0>\n",
      "getpass                module      <module 'getpass' from '/<...>b/python3.13/getpass.py'>\n",
      "hashlib                module      <module 'hashlib' from '/<...>b/python3.13/hashlib.py'>\n",
      "import_pandas_safely   function    <function import_pandas_safely at 0x13db534c0>\n",
      "is_data_frame          function    <function is_data_frame at 0x13db52340>\n",
      "json                   module      <module 'json' from '/opt<...>on3.13/json/__init__.py'>\n",
      "x                      int         7\n",
      "y                      int         6\n",
      "z                      int         -1\n"
     ]
    }
   ],
   "source": [
    "%whos"
   ]
  },
  {
   "cell_type": "markdown",
   "id": "570da2b9-74ad-4bc6-bde2-a056492850ee",
   "metadata": {},
   "source": [
    "#### what do these do?"
   ]
  },
  {
   "cell_type": "code",
   "execution_count": 84,
   "id": "a4978480-c487-44e9-a571-22a2d6563e14",
   "metadata": {},
   "outputs": [
    {
     "data": {
      "text/plain": [
       "49.0"
      ]
     },
     "execution_count": 84,
     "metadata": {},
     "output_type": "execute_result"
    }
   ],
   "source": [
    "x ** y    # x raised to the y value"
   ]
  },
  {
   "cell_type": "code",
   "execution_count": 81,
   "id": "036d727e-9e68-40a2-8d93-96727397dddc",
   "metadata": {},
   "outputs": [
    {
     "data": {
      "text/plain": [
       "3.5"
      ]
     },
     "execution_count": 81,
     "metadata": {},
     "output_type": "execute_result"
    }
   ],
   "source": [
    "x / y     # x divided by y\n"
   ]
  },
  {
   "cell_type": "code",
   "execution_count": 82,
   "id": "1b0add2f-5e2f-42f6-bfc2-0bc831003566",
   "metadata": {},
   "outputs": [
    {
     "data": {
      "text/plain": [
       "1.0"
      ]
     },
     "execution_count": 82,
     "metadata": {},
     "output_type": "execute_result"
    }
   ],
   "source": [
    "x % y     # Remainder after dividing"
   ]
  },
  {
   "cell_type": "code",
   "execution_count": 83,
   "id": "9736d699-fed5-43f5-bb84-bc9e587cf8f5",
   "metadata": {},
   "outputs": [
    {
     "data": {
      "text/plain": [
       "3.0"
      ]
     },
     "execution_count": 83,
     "metadata": {},
     "output_type": "execute_result"
    }
   ],
   "source": [
    "x // y    #"
   ]
  },
  {
   "cell_type": "markdown",
   "id": "c5a73a91-8c82-4f7c-b30d-3f291a1f1c8b",
   "metadata": {},
   "source": [
    "**TRY IT!** Set variable a equal to 200 and b equal to 30. Then calculate the product of a and b, the difference a minus b,  a modulo b, and a floor divided by b. Print them all. "
   ]
  },
  {
   "cell_type": "code",
   "execution_count": 92,
   "id": "c40894f5-7ab3-47ae-a559-fd8d322e5fcd",
   "metadata": {},
   "outputs": [
    {
     "name": "stdout",
     "output_type": "stream",
     "text": [
      "230\n",
      "170\n",
      "6.666666666666667\n",
      "20 6\n",
      "6\n"
     ]
    }
   ],
   "source": [
    "a = 200\n",
    "b = 30\n",
    "add = a + b\n",
    "print(add)\n",
    "\n",
    "print(a-b)\n",
    "\n",
    "print (a/b)\n",
    "\n",
    "print (a % b, a//b)\n",
    "\n",
    "print (a//b)\n"
   ]
  },
  {
   "cell_type": "markdown",
   "id": "8535f41d-13ba-4b13-a288-1c06facddf5d",
   "metadata": {},
   "source": [
    "**TRY IT!** A car moves with a constant *velocity* of 12 m/s. If it moved for 2.4 s how far away did it go in m? Use Python variables and expressions to calculate this!"
   ]
  },
  {
   "cell_type": "code",
   "execution_count": 99,
   "id": "0ebe5fa0-8fc9-4126-886e-401a4bb02788",
   "metadata": {},
   "outputs": [
    {
     "ename": "SyntaxError",
     "evalue": "invalid decimal literal (215150002.py, line 9)",
     "output_type": "error",
     "traceback": [
      "\u001b[0;36m  Cell \u001b[0;32mIn[99], line 9\u001b[0;36m\u001b[0m\n\u001b[0;31m    print(f{3* .2f})\u001b[0m\n\u001b[0m                ^\u001b[0m\n\u001b[0;31mSyntaxError\u001b[0m\u001b[0;31m:\u001b[0m invalid decimal literal\n"
     ]
    }
   ],
   "source": [
    "v_car = 12  # in m/s\n",
    "t_sec = 2.4 # in s\n",
    "distance = v_car * t_sec\n",
    "print(\"The car went:\", distance, \"meters\")\n",
    "\n",
    "\n",
    "print(f\"The care went:{distance: .2f} meters.\")  ##search up f strings later\n",
    "print(3*.3)\n",
    "\n",
    "\n"
   ]
  },
  {
   "cell_type": "markdown",
   "id": "ef90be11-5a3a-4664-8156-1742c2afb1b0",
   "metadata": {},
   "source": [
    "## Variable Names\n",
    "\n",
    "Generally, variable names should be descriptive. It is better to call a variable `velocity` instead of `v` and `time` instead of `t`. This is to help make the code more readable to yourself and others."
   ]
  },
  {
   "cell_type": "markdown",
   "id": "a3416c98-d5dc-4b71-adb1-43b3bcdb8527",
   "metadata": {},
   "source": [
    "Note that when a variable is assigned, it has no memory of _how_ it was assigned. That is, if the value of a variable, *_y_*, is constructed from other variables, like _*x*_, reassigning the value of _x_ will not change the value of *y*."
   ]
  },
  {
   "cell_type": "markdown",
   "id": "40a651bf-51e3-4e28-bbe1-d4eb76468865",
   "metadata": {},
   "source": [
    "**In Python there are some things you need to be careful with when naming a variable:**"
   ]
  },
  {
   "cell_type": "code",
   "execution_count": 96,
   "id": "701fe716-0aad-4c6f-848c-3c6b389afe24",
   "metadata": {},
   "outputs": [],
   "source": [
    "# this works:\n",
    "c2 = 5."
   ]
  },
  {
   "cell_type": "code",
   "execution_count": 97,
   "id": "5e10673b-1fc9-49c7-927e-8c42aa04e07d",
   "metadata": {},
   "outputs": [
    {
     "ename": "SyntaxError",
     "evalue": "invalid decimal literal (3361409079.py, line 2)",
     "output_type": "error",
     "traceback": [
      "\u001b[0;36m  Cell \u001b[0;32mIn[97], line 2\u001b[0;36m\u001b[0m\n\u001b[0;31m    2c = 5\u001b[0m\n\u001b[0m    ^\u001b[0m\n\u001b[0;31mSyntaxError\u001b[0m\u001b[0;31m:\u001b[0m invalid decimal literal\n"
     ]
    }
   ],
   "source": [
    "#this one doesn't:\n",
    "2c = 5"
   ]
  },
  {
   "cell_type": "markdown",
   "id": "31c9b415-ff1d-46e7-bfd3-0a64f71008e5",
   "metadata": {},
   "source": [
    "**WARNING!** You can overwrite variables or functions that have been stored in Python. For example, the command `help = 2` will store the value 2 in the variable with name *help*. After this assignment *help* will behave like the value 2 instead of the function *help*. Therefore, you should always be careful not to give your variables the same name as built-in functions or values."
   ]
  },
  {
   "cell_type": "code",
   "execution_count": 101,
   "id": "ecd892c3-0e32-4880-ad5c-378e63865c1d",
   "metadata": {},
   "outputs": [],
   "source": [
    "max = 10.  # --> note color change; Python warns you max means\n",
    "           #something!"
   ]
  },
  {
   "cell_type": "code",
   "execution_count": 102,
   "id": "03797e30-0451-46e9-b45d-ed5671ee5999",
   "metadata": {},
   "outputs": [],
   "source": [
    "max_value = 10. #this is a better variable name:"
   ]
  },
  {
   "cell_type": "markdown",
   "id": "9a510811-e13c-4d7d-8084-eda76ac4be68",
   "metadata": {},
   "source": [
    "**TRY IT!** Assign a variable pi =  $\\pi$ and r the radius of a circle. Then calculate the circumference and area of the circle. Print them."
   ]
  },
  {
   "cell_type": "code",
   "execution_count": 105,
   "id": "2558feb9-e6f6-4cdf-b397-306b6e6b6eca",
   "metadata": {},
   "outputs": [
    {
     "ename": "SyntaxError",
     "evalue": "invalid syntax (3606708179.py, line 1)",
     "output_type": "error",
     "traceback": [
      "\u001b[0;36m  Cell \u001b[0;32mIn[105], line 1\u001b[0;36m\u001b[0m\n\u001b[0;31m    pi = $\\pi$\u001b[0m\n\u001b[0m         ^\u001b[0m\n\u001b[0;31mSyntaxError\u001b[0m\u001b[0;31m:\u001b[0m invalid syntax\n"
     ]
    }
   ],
   "source": [
    "pi = $\\pi$\n",
    "radius = 3 \n",
    "circumference = pi*r**2"
   ]
  },
  {
   "cell_type": "code",
   "execution_count": 29,
   "id": "7485c20c-53a6-4fad-882c-7df809e52788",
   "metadata": {},
   "outputs": [],
   "source": []
  },
  {
   "cell_type": "code",
   "execution_count": 30,
   "id": "483901d7-6a5b-4692-a56d-4001927cd5e3",
   "metadata": {},
   "outputs": [],
   "source": []
  },
  {
   "cell_type": "code",
   "execution_count": 1,
   "id": "0391a3e0-5545-461a-a0b0-4450ee3660b6",
   "metadata": {},
   "outputs": [],
   "source": [
    "#print the circumference and area:\n"
   ]
  },
  {
   "cell_type": "markdown",
   "id": "ddbb0604-6aaf-42b4-aa50-2e5197def097",
   "metadata": {},
   "source": [
    "**Python follows PEMDAS. But you can also use parenthesis to keep things clean, and ensure things happen as you want them to:**"
   ]
  },
  {
   "cell_type": "code",
   "execution_count": 32,
   "id": "7e90308a-b785-4ec8-95fe-b1347c678b67",
   "metadata": {},
   "outputs": [
    {
     "data": {
      "text/plain": [
       "625.0"
      ]
     },
     "execution_count": 32,
     "metadata": {},
     "output_type": "execute_result"
    }
   ],
   "source": [
    "x ** ( 2 * y )"
   ]
  },
  {
   "cell_type": "markdown",
   "id": "bdc87551-b78d-419e-98da-562a1b5cbab3",
   "metadata": {},
   "source": [
    "use the \\ to break expressions in multiple lines:"
   ]
  },
  {
   "cell_type": "code",
   "execution_count": null,
   "id": "33866165-2a36-4c54-8c70-68ec89ab4d93",
   "metadata": {},
   "outputs": [],
   "source": [
    "#compare the easiness of reading this (scroll to the right):\n",
    "my_huge_expr = 5. + ( 6. * x )  + ( x **2 ) + 5. * x * y + 45. + 4. * y ** 2 + 100. * x + 42. "
   ]
  },
  {
   "cell_type": "code",
   "execution_count": 33,
   "id": "ca1ef331-c9f5-4bbb-89c7-39b2684b85a2",
   "metadata": {},
   "outputs": [],
   "source": [
    "# with this:\n",
    "my_huge_expr = 5. + ( 6. * x )  + ( x **2 ) + 5. * x * y + \\\n",
    "               45. + 4. * y ** 2 + 100. * x + 42. "
   ]
  },
  {
   "cell_type": "markdown",
   "id": "bc58af9f-fb13-4c46-b69d-7b40ac4a6228",
   "metadata": {},
   "source": [
    "**TIP!** Now that you know how to assign variables, it is important that you learn to *never* leave unassigned commands. An **unassigned command** is an operation that has a result, but that result is not assigned to a variable. For example, you should never use *2+2*. You should instead assign it to some variable `x=2+2`. This allows you to \"hold on\" to the results of previous commands and will make your interaction with Python must less confusing."
   ]
  },
  {
   "cell_type": "markdown",
   "id": "6e5ef1b2-3851-4afe-a98f-0306622eefc2",
   "metadata": {},
   "source": [
    "You can clear a variable from the notebook using the *del* function. Typing `del x` will clear the variable *_x_* from the workspace. If you want to remove all the variables in the notebook, you can use the magic command *%reset*. \n",
    "\n",
    "In mathematics, variables are usually associated with unknown numbers; in programming, variables are associated with a value of a certain type. There are many data types that can be assigned to variables. A **data type** is a classification of the type of information that is being stored in a variable. The basic data types that you will utilize throughout this book are boolean, int, float, string, list, tuple, dictionary, set. A formal description of these data types will be given in the following weeks."
   ]
  },
  {
   "cell_type": "code",
   "execution_count": 38,
   "id": "0b3b9a7c-7340-4d79-97d1-941a3d724403",
   "metadata": {},
   "outputs": [],
   "source": [
    "x = 1 #what type is this?\n",
    "y = 2.1034e3 #how about this?\n",
    "z = 1 + 2.1j #and this?"
   ]
  },
  {
   "cell_type": "markdown",
   "id": "62089464-ae31-431b-90e0-552f4c0549c2",
   "metadata": {},
   "source": [
    "we can use the type() function to find out:"
   ]
  },
  {
   "cell_type": "code",
   "execution_count": 39,
   "id": "cf6c0413-17ef-4050-9d47-2b4ac9b819e4",
   "metadata": {},
   "outputs": [
    {
     "name": "stdout",
     "output_type": "stream",
     "text": [
      "<class 'int'> <class 'float'> <class 'complex'>\n"
     ]
    }
   ],
   "source": [
    "print(type(x),type(y),type(z))"
   ]
  },
  {
   "cell_type": "markdown",
   "id": "d850d478-a250-4a4f-b278-1870aeff42ff",
   "metadata": {},
   "source": [
    "### Let's import a module (a library of functions):\n",
    "\n",
    "The module os contains function (methods) for dealing with your operating system:"
   ]
  },
  {
   "cell_type": "code",
   "execution_count": 4,
   "id": "48f93735-0011-4f9d-8703-515ca7cde2b8",
   "metadata": {},
   "outputs": [],
   "source": [
    "import os "
   ]
  },
  {
   "cell_type": "code",
   "execution_count": 5,
   "id": "46a1d650-89c2-4f8c-918e-982909bf6506",
   "metadata": {},
   "outputs": [
    {
     "name": "stdout",
     "output_type": "stream",
     "text": [
      "/Users/mackenziebrown/Documents/GitHub/phz3150/lectures/phz3150lectures-main/Week 2 Lecture Files\n"
     ]
    }
   ],
   "source": [
    "print ( os.getcwd() ) #lists the current working directory"
   ]
  },
  {
   "cell_type": "code",
   "execution_count": 6,
   "id": "cab7565c-d3e9-485a-9392-31c589ea1d02",
   "metadata": {},
   "outputs": [
    {
     "name": "stdout",
     "output_type": "stream",
     "text": [
      "['Week 2.ipynb', '.ipynb_checkpoints']\n"
     ]
    }
   ],
   "source": [
    "print ( os.listdir() ) #lists all of the files in a  directory"
   ]
  },
  {
   "cell_type": "markdown",
   "id": "76713ae7-759c-4c3a-aeaa-2f24748a20d4",
   "metadata": {},
   "source": [
    "### Let's import two more modules:\n",
    "***numpy*** and ***matplotlib.pyplot***\n",
    "\n",
    "Note that pyplot is a module within the module matplotlib. It also contains many functions or methods."
   ]
  },
  {
   "cell_type": "code",
   "execution_count": 33,
   "id": "64187024-a9ec-4ce8-82b8-b400e518389a",
   "metadata": {},
   "outputs": [],
   "source": [
    "import numpy as np #as allows us to give the module a short name\n",
    "import matplotlib.pyplot as plt\n"
   ]
  },
  {
   "cell_type": "code",
   "execution_count": 34,
   "id": "402ba501-bac2-4cbb-b7c2-85984a09c850",
   "metadata": {},
   "outputs": [],
   "source": [
    "my_first_array = np.arange (0 , 11 , 1 )"
   ]
  },
  {
   "cell_type": "code",
   "execution_count": 37,
   "id": "9fd38ca6-f2dc-4a83-be33-ef3178c487e5",
   "metadata": {},
   "outputs": [
    {
     "name": "stdout",
     "output_type": "stream",
     "text": [
      "[ 0  1  2  3  4  5  6  7  8  9 10]\n"
     ]
    }
   ],
   "source": [
    "print( my_first_array ) "
   ]
  },
  {
   "cell_type": "markdown",
   "id": "56d86e09-2625-4007-89c7-d6137e2486d2",
   "metadata": {},
   "source": [
    "**what did np.arange do?**"
   ]
  },
  {
   "cell_type": "code",
   "execution_count": 14,
   "id": "07f3d181-8182-48dc-86e0-be3b0dc0dab1",
   "metadata": {},
   "outputs": [
    {
     "name": "stdout",
     "output_type": "stream",
     "text": [
      "10\n",
      "0\n",
      "5.0\n"
     ]
    }
   ],
   "source": [
    "print(np.max ( my_first_array )) #what does this do?\n",
    "print(np.min(my_first_array))\n",
    "print(np.mean(my_first_array))"
   ]
  },
  {
   "cell_type": "markdown",
   "id": "f029d99e-ac25-41fb-b127-feb31b14c4bb",
   "metadata": {},
   "source": [
    "**Let's make another array which is simply the sine of the first.** *Note that in Python trig functions always take radians not degrees!*"
   ]
  },
  {
   "cell_type": "code",
   "execution_count": 72,
   "id": "d9ae855c-cfb7-4c36-a08c-ed9348474cbe",
   "metadata": {},
   "outputs": [],
   "source": [
    "my_second_array = np.sin ( my_first_array ) \n",
    "#my_first_array is assumed to be in radians!!"
   ]
  },
  {
   "cell_type": "markdown",
   "id": "2ea36fab-2184-4f92-b285-b782c991a91d",
   "metadata": {},
   "source": [
    "**now let's make some basic plots:**"
   ]
  },
  {
   "cell_type": "code",
   "execution_count": 73,
   "id": "bc3d5df9-9397-466e-9601-0e046e45a87a",
   "metadata": {},
   "outputs": [
    {
     "data": {
      "text/plain": [
       "[<matplotlib.lines.Line2D at 0x156d13250>]"
      ]
     },
     "execution_count": 73,
     "metadata": {},
     "output_type": "execute_result"
    },
    {
     "data": {
      "image/png": "[encoded data removed]",
      "text/plain": [
       "<Figure size 640x480 with 1 Axes>"
      ]
     },
     "metadata": {},
     "output_type": "display_data"
    }
   ],
   "source": [
    "plt.plot( my_first_array , my_second_array ) #VERY basic"
   ]
  },
  {
   "cell_type": "code",
   "execution_count": 75,
   "id": "f0eb5c65-57a9-4657-80c4-53a56d98c4e9",
   "metadata": {},
   "outputs": [
    {
     "data": {
      "text/plain": [
       "Text(0, 0.5, 'block position (m)')"
      ]
     },
     "execution_count": 75,
     "metadata": {},
     "output_type": "execute_result"
    },
    {
     "data": {
      "image/png": "[encoded data removed]",
      "text/plain": [
       "<Figure size 800x300 with 1 Axes>"
      ]
     },
     "metadata": {},
     "output_type": "display_data"
    }
   ],
   "source": [
    "#Properly labeled and a bit less basic\n",
    "plt.figure( figsize = ( 8 , 3 ) )\n",
    "plt.plot( my_first_array , my_second_array ,\\\n",
    "         color = 'red', marker = 'o',linestyle = '--')\n",
    "plt.title( 'mass-spring system prediction' )\n",
    "plt.xlabel('time (s)')\n",
    "plt.ylabel('block position (m)')"
   ]
  },
  {
   "cell_type": "markdown",
   "id": "237f6d61-925a-41c5-a4d7-3f4c710a5462",
   "metadata": {},
   "source": [
    "### Python is a very intuitive language!"
   ]
  },
  {
   "cell_type": "code",
   "execution_count": null,
   "id": "f251410e-7ff4-4f62-9d58-f56ed6c80707",
   "metadata": {},
   "outputs": [],
   "source": []
  },
  {
   "cell_type": "markdown",
   "id": "1c4c03d9-27ea-42af-a5b0-48faa7a89197",
   "metadata": {},
   "source": [
    "By now you probably noticed that lines starting with `#` are ignored as part of your code. These are called **comments**. They are allowed so you can explain what you are doing in the code. It is good coding practice to document and comment *every* piece of your code! \n",
    "\n",
    "#### The better you do this, the less time you will have to spend: \n",
    "    1) trying to figure out what you wanted to do with a code when you need to use it months or years later, and \n",
    "    2) explaining what your code does to someone that wants to use your code.\n",
    "    \n",
    "#### Below is some well-commented code:"
   ]
  },
  {
   "cell_type": "code",
   "execution_count": 70,
   "id": "ba002912-4214-452a-975f-2041c0f2f332",
   "metadata": {},
   "outputs": [
    {
     "data": {
      "image/png": "[encoded data removed]",
      "text/plain": [
       "<Figure size 1200x400 with 1 Axes>"
      ]
     },
     "metadata": {},
     "output_type": "display_data"
    }
   ],
   "source": [
    "# get the time of the observations :\n",
    "time            = my_second_array\n",
    "# and the observations:\n",
    "my_first_sine   = np.sin( 2 * np.pi * time )\n",
    "my_first_cosine = np.cos( 2 * np.pi * time )\n",
    "\n",
    "#---------------------------\n",
    "# Visualize the observations:\n",
    "\n",
    "#set the size of the figure to be in a 12 by 10 ratio\n",
    "\n",
    "plt.figure( figsize = ( 12 , 4 ) )\n",
    "\n",
    "#plot the cosine and set its color to red\n",
    "plt.plot( time , my_first_cosine , color = 'red',linestyle = '',\\\n",
    "        marker = 'o')  # 'r'\n",
    "\n",
    "#set the color of the sine to be blue and plot it\n",
    "plt.plot(time  , my_first_sine   , color = 'blue',linestyle = '',\\\n",
    "        marker = '^')\n",
    "\n",
    "#define the label of your x-axis and set its font size to 24\n",
    "plt.xlabel( 'Time (s)'       , fontsize = 18 )\n",
    "\n",
    "#define the label of your y-axis and set its font size to 24\n",
    "plt.ylabel( 'My random values' , fontsize = 18 )\n",
    "\n",
    "#make our x-axis labels a bit larger\n",
    "plt.xticks( fontsize = 18 )\n",
    "\n",
    "#let's save the plot in a png\n",
    "plt.savefig( \" my_first_saved_plot.png\" )\n",
    "plt.show()"
   ]
  },
  {
   "cell_type": "markdown",
   "id": "5daa5e66-371d-4037-82af-f1b01bbfde5f",
   "metadata": {},
   "source": [
    "## Summary:\n",
    "\n",
    "- You learned how to create markdown cells with formatting, tables, figures, and $\\LaTeX$ equations.\n",
    "- You learned how to import modules.\n",
    "- You learned how to write comments and assign variables with appropriate names.\n",
    "  "
   ]
  },
  {
   "cell_type": "code",
   "execution_count": null,
   "id": "b1facdaa-2e42-4cdc-b300-8c53a4090f52",
   "metadata": {},
   "outputs": [],
   "source": []
  },
  {
   "cell_type": "markdown",
   "id": "c0835c66-51f5-4c9e-b2da-c29481e2686a",
   "metadata": {
    "button": false,
    "new_sheet": false,
    "run_control": {
     "read_only": false
    }
   },
   "source": [
    "# Variables and Data Structures"
   ]
  },
  {
   "cell_type": "markdown",
   "id": "fb2859e3-0a7b-419e-a753-630ada658191",
   "metadata": {
    "button": false,
    "new_sheet": false,
    "run_control": {
     "read_only": false
    }
   },
   "source": [
    "## Motivation\n",
    "\n",
    "Currently, technology can acquire information from the physical world at an enormous rate. For example, there are sensors that can take tens of thousands of pressure, temperature, and acceleration readings per second. To make sense of all this data and process it in a way that will help solve science and engineering problems requires storing information in data structures that you and Python can easily work with.\n",
    "\n",
    "Variables are used in Python to store and work with data. However, data can take many forms. For example, data can be numbers, words, or have a more complicated structure. It is only natural that Python would have different kinds of variables to hold different kinds of data. In this chapter, you will learn how to create and manipulate Python’s most common variable types. \n",
    "\n",
    "Last week we saw some different types of numbers such as integers (ints), floating point decimal numbers (floats), and complex numbers (recall Python uses $j = \\sqrt{-1}$):"
   ]
  },
  {
   "cell_type": "code",
   "execution_count": 2,
   "id": "cb32993c-b7b7-45f5-a719-9511f8a19df7",
   "metadata": {
    "button": false,
    "new_sheet": false,
    "run_control": {
     "read_only": false
    }
   },
   "outputs": [],
   "source": [
    "import numpy as np"
   ]
  },
  {
   "cell_type": "code",
   "execution_count": 4,
   "id": "a52f9abe-d557-480c-8b96-b43f5028a3ef",
   "metadata": {
    "button": false,
    "new_sheet": false,
    "run_control": {
     "read_only": false
    }
   },
   "outputs": [
    {
     "name": "stdout",
     "output_type": "stream",
     "text": [
      "<class 'int'> <class 'float'> <class 'float'> <class 'complex'>\n"
     ]
    }
   ],
   "source": [
    "w = 1 #int\n",
    "x = 1.0 #float\n",
    "y = 1.0e0 #also float\n",
    "z = 1.0 + 0j #complex\n",
    "\n",
    "print(type(w),type(x),type(y),type(z))"
   ]
  },
  {
   "cell_type": "markdown",
   "id": "b0bc30e0-d65a-4946-bf6e-3529d78e8186",
   "metadata": {
    "button": false,
    "new_sheet": false,
    "run_control": {
     "read_only": false
    }
   },
   "source": [
    "We can also make numpy arrays with each of these data types:"
   ]
  },
  {
   "cell_type": "code",
   "execution_count": 13,
   "id": "4237eb0a-cc69-4a6d-a428-5009ab257be3",
   "metadata": {
    "button": false,
    "new_sheet": false,
    "run_control": {
     "read_only": false
    }
   },
   "outputs": [
    {
     "name": "stdout",
     "output_type": "stream",
     "text": [
      "[ 1.e+00 -2.e+00  3.e+05  5.e+00]\n",
      "[ 1.  +0.j   1.  +0.j   1.  +0.j  -0.04+2.3j]\n"
     ]
    }
   ],
   "source": [
    "y_array = np.array([y,-2,3e5,y+4])\n",
    "z_array = np.array([z,z,z,-4e-2 + 2.3j])\n",
    "\n",
    "print(y_array)\n",
    "print(z_array)"
   ]
  },
  {
   "cell_type": "code",
   "execution_count": 7,
   "id": "620d4fb5-e981-4f22-8d45-2e499dba43a8",
   "metadata": {
    "button": false,
    "new_sheet": false,
    "run_control": {
     "read_only": false
    }
   },
   "outputs": [
    {
     "data": {
      "text/plain": [
       "2"
      ]
     },
     "execution_count": 7,
     "metadata": {},
     "output_type": "execute_result"
    }
   ],
   "source": [
    "x = 1\n",
    "y = x + 1\n",
    "x = 2\n",
    "y"
   ]
  },
  {
   "cell_type": "markdown",
   "id": "402ef3c3-9ee8-478c-b55d-adcfe2d86e19",
   "metadata": {
    "button": false,
    "new_sheet": false,
    "run_control": {
     "read_only": false
    }
   },
   "source": [
    "**WARNING!** You can overwrite variables or functions that have been stored in Python. For example, the command `help = 2` will store the value 2 in the variable with name *help*. After this assignment *help* will behave like the value 2 instead of the function *help*. Therefore, you should always be careful not to give your variables the same name as built-in functions or values."
   ]
  },
  {
   "cell_type": "markdown",
   "id": "76aa31eb-8ab7-4693-b32a-8b7b0b864f2d",
   "metadata": {
    "button": false,
    "new_sheet": false,
    "run_control": {
     "read_only": false
    }
   },
   "source": [
    "**TIP!** Now that you know how to assign variables, it is important that you learn to *never* leave unassigned commands. An **unassigned command** is an operation that has a result, but that result is not assigned to a variable. For example, you should never use *2+2*. You should instead assign it to some variable `x=2+2`. This allows you to \"hold on\" to the results of previous commands and will make your interaction with Python must less confusing."
   ]
  },
  {
   "cell_type": "markdown",
   "id": "6bf3773c-237d-4f1b-a90b-12d5e9001580",
   "metadata": {
    "button": false,
    "new_sheet": false,
    "run_control": {
     "read_only": false
    }
   },
   "source": [
    "You can clear a variable from the notebook using the *del* function. Typing `del x` will clear the variable *_x_* from the workspace. If you want to remove all the variables in the notebook, you can use the magic command *%reset*. \n",
    "\n",
    "In mathematics, variables are usually associated with unknown numbers; in programming, variables are associated with a value of a certain type. There are many data types that can be assigned to variables. A **data type** is a classification of the type of information that is being stored in a variable. The basic data types that you will utilize throughout this book are boolean, int, float, string, list, tuple, dictionary, set. A formal description of these data types is given in the following sections."
   ]
  },
  {
   "cell_type": "markdown",
   "id": "46adecec-5536-4bc8-ae3a-827dca74922c",
   "metadata": {
    "button": false,
    "new_sheet": false,
    "run_control": {
     "read_only": false
    }
   },
   "source": [
    "## Data Structure - Strings"
   ]
  },
  {
   "cell_type": "markdown",
   "id": "2cc4572e-7957-44c1-8c07-50750b2ee6f5",
   "metadata": {
    "button": false,
    "new_sheet": false,
    "run_control": {
     "read_only": false
    }
   },
   "source": [
    "We talked about different data types, such as int, float and boolean, these are all related to single value. The rest of this chapter will introduce you more data types so that we could store multiple values. The data structure related to these new types are Strings, Lists, Tuples, Sets, and Dictionaries. We will start with the strings. "
   ]
  },
  {
   "cell_type": "markdown",
   "id": "77a51a9c-cdc9-4497-b1a0-18657f89639c",
   "metadata": {
    "button": false,
    "new_sheet": false,
    "run_control": {
     "read_only": false
    }
   },
   "source": [
    "A string is a sequence of characters, such as \"Hello World\" we saw in chapter 1. Strings are surrounded by either single or double quotation marks. We could use *print* function to output the strings to the screen.\n",
    "\n",
    "**TRY IT!** Print \"I love Python!\" to the screen."
   ]
  },
  {
   "cell_type": "code",
   "execution_count": 1,
   "id": "71298fea-f40f-46b6-bbc7-6f83d76d95ef",
   "metadata": {
    "button": false,
    "new_sheet": false,
    "run_control": {
     "read_only": false
    }
   },
   "outputs": [],
   "source": []
  },
  {
   "cell_type": "markdown",
   "id": "1a2496b6-6ed4-4618-8937-a57fd40fac21",
   "metadata": {
    "button": false,
    "new_sheet": false,
    "run_control": {
     "read_only": false
    }
   },
   "source": [
    "**TRY IT!** Assign the character \"S\" to the variable with name s. Assign the string \"Hello World\" to the variable w. Verify that s and w have the type string using the *type* function."
   ]
  },
  {
   "cell_type": "code",
   "execution_count": 29,
   "id": "8683f31c-b174-4b52-8f32-4c2d38dba70f",
   "metadata": {
    "button": false,
    "new_sheet": false,
    "run_control": {
     "read_only": false
    }
   },
   "outputs": [],
   "source": []
  },
  {
   "cell_type": "code",
   "execution_count": null,
   "id": "d52b082d-10e2-4086-b120-2eecc68aa421",
   "metadata": {
    "button": false,
    "new_sheet": false,
    "run_control": {
     "read_only": false
    }
   },
   "outputs": [],
   "source": []
  },
  {
   "cell_type": "code",
   "execution_count": null,
   "id": "8e26905c-712a-457c-82a8-468853c75169",
   "metadata": {
    "button": false,
    "new_sheet": false,
    "run_control": {
     "read_only": false
    }
   },
   "outputs": [],
   "source": []
  },
  {
   "cell_type": "markdown",
   "id": "e2208cd6-e31d-4124-916a-32d5bc1b6622",
   "metadata": {
    "button": false,
    "new_sheet": false,
    "run_control": {
     "read_only": false
    }
   },
   "source": [
    "Note that a blank space, \" \", between \"Hello\" and \"World\" is also a type *str*. Any symbol can be a char, even the ones that have been reserved for operators. Note that as a *str*, they do not perform the same function. Although they look the same, Python interprets them completely differently."
   ]
  },
  {
   "cell_type": "markdown",
   "id": "97a47190-4767-41d8-a4e1-22d8eaaf3df3",
   "metadata": {
    "button": false,
    "new_sheet": false,
    "run_control": {
     "read_only": false
    }
   },
   "source": [
    "**TRY IT!** Create an empty string. Verify that the empty string is a *str*."
   ]
  },
  {
   "cell_type": "code",
   "execution_count": null,
   "id": "dfb46844-735b-412e-97e4-d2d645d11644",
   "metadata": {
    "button": false,
    "new_sheet": false,
    "run_control": {
     "read_only": false
    }
   },
   "outputs": [],
   "source": []
  },
  {
   "cell_type": "markdown",
   "id": "f32c87bd-9c0f-4f58-8b1a-35a67e0a423e",
   "metadata": {
    "button": false,
    "new_sheet": false,
    "run_control": {
     "read_only": false
    }
   },
   "source": [
    "A string is an array of characters, therfore it has length to indicate the size of the string. For example, we could check the size of the string by using the built-in function *len*. "
   ]
  },
  {
   "cell_type": "code",
   "execution_count": null,
   "id": "09b8e25f-9946-4cce-9192-71fb6029e9b6",
   "metadata": {
    "button": false,
    "new_sheet": false,
    "run_control": {
     "read_only": false
    }
   },
   "outputs": [],
   "source": []
  },
  {
   "attachments": {
    "2e2caeaa-8a82-408d-a6dd-74a8ae7e7d36.png": {
     "image/png": "[encoded data removed]"
    }
   },
   "cell_type": "markdown",
   "id": "f2523add-7d77-4468-ab58-5703f0707095",
   "metadata": {
    "button": false,
    "new_sheet": false,
    "run_control": {
     "read_only": false
    }
   },
   "source": [
    "Strings also have indexes to indicate the location of each character, so that we could easily find out some character. The index of the position start with 0, as shown in the following picture. \n",
    "\n",
    "![02.02.01-hello_world_index.png](attachment:2e2caeaa-8a82-408d-a6dd-74a8ae7e7d36.png)"
   ]
  },
  {
   "cell_type": "markdown",
   "id": "10585703-1b1f-464b-96fe-df27d3cb0dcb",
   "metadata": {
    "button": false,
    "new_sheet": false,
    "run_control": {
     "read_only": false
    }
   },
   "source": [
    "We could get access to any character by using a bracket and the index of the position. For example, if we want to get the character 'W', then we need to do:"
   ]
  },
  {
   "cell_type": "code",
   "execution_count": 7,
   "id": "4d0bbc76-a258-42c1-8715-6e85f76dddea",
   "metadata": {
    "button": false,
    "new_sheet": false,
    "run_control": {
     "read_only": false
    }
   },
   "outputs": [
    {
     "data": {
      "text/plain": [
       "'W'"
      ]
     },
     "execution_count": 7,
     "metadata": {},
     "output_type": "execute_result"
    }
   ],
   "source": [
    "w[6]"
   ]
  },
  {
   "cell_type": "markdown",
   "id": "fcb556f6-9fee-4fc3-b587-bb7a3360ccc4",
   "metadata": {
    "button": false,
    "new_sheet": false,
    "run_control": {
     "read_only": false
    }
   },
   "source": [
    "We could also select a sequence as well using string slicing. For example, if we want to get the \"World\", we could do the following command."
   ]
  },
  {
   "cell_type": "code",
   "execution_count": 8,
   "id": "4e401346-175b-40f4-979b-d4f2ebff99d3",
   "metadata": {
    "button": false,
    "new_sheet": false,
    "run_control": {
     "read_only": false
    }
   },
   "outputs": [
    {
     "data": {
      "text/plain": [
       "'World'"
      ]
     },
     "execution_count": 8,
     "metadata": {},
     "output_type": "execute_result"
    }
   ],
   "source": [
    "w[6:11]"
   ]
  },
  {
   "cell_type": "markdown",
   "id": "5b9ab842-7ca9-499b-96f9-e0a846784673",
   "metadata": {
    "button": false,
    "new_sheet": false,
    "run_control": {
     "read_only": false
    }
   },
   "source": [
    "[6:11] means the start position is from index 6 and the end position is index 10. For Python string slicing range, the upper-bound is exclusive, which means that [6:11] is actually to slice the characters from 6 -> 10. The syntax for slicing in Python is [start:end:step], the 3rd one - step is optional. "
   ]
  },
  {
   "cell_type": "markdown",
   "id": "62a571cc-5295-4fa5-b294-78663c0fafc3",
   "metadata": {
    "button": false,
    "new_sheet": false,
    "run_control": {
     "read_only": false
    }
   },
   "source": [
    "You can ignore the end position if you want to slice to the end of the string. For example, the following command is the same as the above one:"
   ]
  },
  {
   "cell_type": "code",
   "execution_count": 9,
   "id": "a58fc69e-1178-4c81-8649-a121853fe2b8",
   "metadata": {
    "button": false,
    "new_sheet": false,
    "run_control": {
     "read_only": false
    }
   },
   "outputs": [
    {
     "data": {
      "text/plain": [
       "'World'"
      ]
     },
     "execution_count": 9,
     "metadata": {},
     "output_type": "execute_result"
    }
   ],
   "source": [
    "w[6:]"
   ]
  },
  {
   "cell_type": "markdown",
   "id": "3bcd69b7-a6a3-433e-bdc2-3f1dbd582cdf",
   "metadata": {
    "button": false,
    "new_sheet": false,
    "run_control": {
     "read_only": false
    }
   },
   "source": [
    "**TRY IT!** Retrieve the word \"Hello\" from string *w*."
   ]
  },
  {
   "cell_type": "code",
   "execution_count": 10,
   "id": "93484fe6-9c67-4b11-9996-24069b81de2f",
   "metadata": {
    "button": false,
    "new_sheet": false,
    "run_control": {
     "read_only": false
    }
   },
   "outputs": [
    {
     "data": {
      "text/plain": [
       "'Hello'"
      ]
     },
     "execution_count": 10,
     "metadata": {},
     "output_type": "execute_result"
    }
   ],
   "source": [
    "w[:5]"
   ]
  },
  {
   "cell_type": "markdown",
   "id": "95cb672d-b898-4ae3-bae1-62f246d84f48",
   "metadata": {
    "button": false,
    "new_sheet": false,
    "run_control": {
     "read_only": false
    }
   },
   "source": [
    "You can also use negative index when slice the strings, which means counting from the end of the string. For example, -1 means the last character, -2 means the 2nd to last and so on. \n",
    "\n",
    "**TRY IT!** Slice the \"Wor\" within the word \"World\". "
   ]
  },
  {
   "cell_type": "code",
   "execution_count": 11,
   "id": "1bbd7ec8-c636-43b8-a4e3-6e00767c962c",
   "metadata": {
    "button": false,
    "new_sheet": false,
    "run_control": {
     "read_only": false
    }
   },
   "outputs": [
    {
     "data": {
      "text/plain": [
       "'Wor'"
      ]
     },
     "execution_count": 11,
     "metadata": {},
     "output_type": "execute_result"
    }
   ],
   "source": [
    "w[6:-2]"
   ]
  },
  {
   "cell_type": "markdown",
   "id": "518b2743-a716-43ba-965d-65b16e92077f",
   "metadata": {
    "button": false,
    "new_sheet": false,
    "run_control": {
     "read_only": false
    }
   },
   "source": [
    "**TRY IT!** Retrieve every other character in the variable *w* "
   ]
  },
  {
   "cell_type": "code",
   "execution_count": 12,
   "id": "2bd9fbd3-892e-448e-90ac-c79c306e2902",
   "metadata": {
    "button": false,
    "new_sheet": false,
    "run_control": {
     "read_only": false
    }
   },
   "outputs": [
    {
     "data": {
      "text/plain": [
       "'HloWrd'"
      ]
     },
     "execution_count": 12,
     "metadata": {},
     "output_type": "execute_result"
    }
   ],
   "source": [
    "w[::2]"
   ]
  },
  {
   "cell_type": "markdown",
   "id": "d4a838f3-0210-4356-aa0d-b97bb4b9d904",
   "metadata": {
    "button": false,
    "new_sheet": false,
    "run_control": {
     "read_only": false
    }
   },
   "source": [
    "Strings can not be used in the mathematical operations."
   ]
  },
  {
   "cell_type": "markdown",
   "id": "d1d8fc64-5c0a-42a0-af7e-46a1560173dd",
   "metadata": {
    "button": false,
    "new_sheet": false,
    "run_control": {
     "read_only": false
    }
   },
   "source": [
    "**TRY IT!** Use '+' to add two numbers. Verify that \"+\" does not behave like the addition operator, `+`."
   ]
  },
  {
   "cell_type": "code",
   "execution_count": 13,
   "id": "66a5e1a5-3fc4-4418-977e-02cc78dff5b0",
   "metadata": {
    "button": false,
    "new_sheet": false,
    "run_control": {
     "read_only": false
    }
   },
   "outputs": [
    {
     "ename": "SyntaxError",
     "evalue": "invalid syntax (<ipython-input-13-46b54f731e00>, line 1)",
     "output_type": "error",
     "traceback": [
      "\u001b[0;36m  File \u001b[0;32m\"<ipython-input-13-46b54f731e00>\"\u001b[0;36m, line \u001b[0;32m1\u001b[0m\n\u001b[0;31m    1 \"+\" 2\u001b[0m\n\u001b[0m        ^\u001b[0m\n\u001b[0;31mSyntaxError\u001b[0m\u001b[0;31m:\u001b[0m invalid syntax\n"
     ]
    }
   ],
   "source": [
    "1 \"+\" 2"
   ]
  },
  {
   "cell_type": "markdown",
   "id": "7a87c3c3-6870-48c2-9be1-e32f3f354896",
   "metadata": {
    "button": false,
    "new_sheet": false,
    "run_control": {
     "read_only": false
    }
   },
   "source": [
    "**WARNING!** Numbers can also be expressed as *str*. For example, `x = '123'` means that x is the string 123 not the number 123. However, strings represent words or text and so should not have addition defined on them."
   ]
  },
  {
   "cell_type": "markdown",
   "id": "8015c501-1278-4fe3-b23c-c471e0d490c2",
   "metadata": {
    "button": false,
    "new_sheet": false,
    "run_control": {
     "read_only": false
    }
   },
   "source": [
    "**TIP!** You may find yourself in a situation where you would like to use an apostrophe as a *str*. This is problematic since an apostrophe is used to denote strings. Fortunately, an apostrophe can be used in a string in the following way. The backslash (\\\\) is a way to tell Python this is part of the string, not to denote strings. The backslash character is used to escape characters that otherwise have a special meaning, such as newline, backslash itself, or the quote character."
   ]
  },
  {
   "cell_type": "code",
   "execution_count": 14,
   "id": "d7ea77d1-7695-4aa8-af58-701424a4fa5f",
   "metadata": {
    "button": false,
    "new_sheet": false,
    "run_control": {
     "read_only": false
    }
   },
   "outputs": [
    {
     "data": {
      "text/plain": [
       "\"don't\""
      ]
     },
     "execution_count": 14,
     "metadata": {},
     "output_type": "execute_result"
    }
   ],
   "source": [
    "'don\\'t'"
   ]
  },
  {
   "cell_type": "markdown",
   "id": "3d8e52fd-ce73-49fb-a1fb-253ed83971e0",
   "metadata": {
    "button": false,
    "new_sheet": false,
    "run_control": {
     "read_only": false
    }
   },
   "source": [
    "One string could be concatenated to another string. For example:"
   ]
  },
  {
   "cell_type": "code",
   "execution_count": 24,
   "id": "93e067be-7396-4a7c-8bcf-6d201e1f19f2",
   "metadata": {
    "button": false,
    "new_sheet": false,
    "run_control": {
     "read_only": false
    }
   },
   "outputs": [
    {
     "name": "stdout",
     "output_type": "stream",
     "text": [
      "I love Python! You too!\n"
     ]
    }
   ],
   "source": [
    "str_a = \"I love Python! \"\n",
    "str_b = \"You too!\"\n",
    "\n",
    "print(str_a + str_b)"
   ]
  },
  {
   "cell_type": "markdown",
   "id": "64e251d6-c04c-4da8-be9c-5e6972b6ecd7",
   "metadata": {
    "button": false,
    "new_sheet": false,
    "run_control": {
     "read_only": false
    }
   },
   "source": [
    "We could convert other data types to strings as well using the built-in function *str*. This is useful, for example, we have an variable x that stored 1 as an integer type, if we want to print it out directly with a string, we will get an error saying we can not concatenate string with an integer."
   ]
  },
  {
   "cell_type": "code",
   "execution_count": 25,
   "id": "701ecbc3-d7ef-499a-8569-2c2b286bdf60",
   "metadata": {
    "button": false,
    "new_sheet": false,
    "run_control": {
     "read_only": false
    }
   },
   "outputs": [
    {
     "ename": "TypeError",
     "evalue": "can only concatenate str (not \"int\") to str",
     "output_type": "error",
     "traceback": [
      "\u001b[0;31m---------------------------------------------------------------------------\u001b[0m",
      "\u001b[0;31mTypeError\u001b[0m                                 Traceback (most recent call last)",
      "Cell \u001b[0;32mIn[25], line 2\u001b[0m\n\u001b[1;32m      1\u001b[0m x \u001b[38;5;241m=\u001b[39m \u001b[38;5;241m1\u001b[39m\n\u001b[0;32m----> 2\u001b[0m \u001b[38;5;28mprint\u001b[39m(\u001b[38;5;124m\"\u001b[39m\u001b[38;5;124mx = \u001b[39m\u001b[38;5;124m\"\u001b[39m \u001b[38;5;241m+\u001b[39m x)\n",
      "\u001b[0;31mTypeError\u001b[0m: can only concatenate str (not \"int\") to str"
     ]
    }
   ],
   "source": [
    "x = 1\n",
    "print(\"x = \" + x)"
   ]
  },
  {
   "cell_type": "markdown",
   "id": "f9b5b5e4-9b7b-4f7f-ba72-bfc794307aae",
   "metadata": {
    "button": false,
    "new_sheet": false,
    "run_control": {
     "read_only": false
    }
   },
   "source": [
    "The correct way to do it is to convert the integer to string first, and then print it out. \n",
    "\n",
    "**TRY IT!** Print out *x = 1* to the screen."
   ]
  },
  {
   "cell_type": "code",
   "execution_count": 26,
   "id": "98dd6382-c724-48f9-be52-6c2ad9a40a8b",
   "metadata": {
    "button": false,
    "new_sheet": false,
    "run_control": {
     "read_only": false
    }
   },
   "outputs": [
    {
     "name": "stdout",
     "output_type": "stream",
     "text": [
      "x = 1\n"
     ]
    }
   ],
   "source": [
    "print(\"x = \" + str(x))"
   ]
  },
  {
   "cell_type": "code",
   "execution_count": 27,
   "id": "37e3b1e3-3eb2-455b-bbf5-da1c939944a1",
   "metadata": {
    "button": false,
    "new_sheet": false,
    "run_control": {
     "read_only": false
    }
   },
   "outputs": [
    {
     "data": {
      "text/plain": [
       "str"
      ]
     },
     "execution_count": 27,
     "metadata": {},
     "output_type": "execute_result"
    }
   ],
   "source": [
    "type(str(x))"
   ]
  },
  {
   "cell_type": "markdown",
   "id": "23b29047-0e7c-4faf-ae85-b2725d45335b",
   "metadata": {
    "button": false,
    "new_sheet": false,
    "run_control": {
     "read_only": false
    }
   },
   "source": [
    "In Python, string as an object that has various methods that could be used to manipulate it (we will talk more about object-oriented programming later). They way to get access to the various methods is to use this patter \"string.method_name\". \n",
    "\n",
    "**TRY IT!** Turn the variable w to upper case. "
   ]
  },
  {
   "cell_type": "code",
   "execution_count": 30,
   "id": "a75b4f56-0af4-4b0c-a4f6-7bb59e2424ba",
   "metadata": {
    "button": false,
    "new_sheet": false,
    "run_control": {
     "read_only": false
    }
   },
   "outputs": [
    {
     "data": {
      "text/plain": [
       "'HELLO WORLD'"
      ]
     },
     "execution_count": 30,
     "metadata": {},
     "output_type": "execute_result"
    }
   ],
   "source": [
    "w.upper()"
   ]
  },
  {
   "cell_type": "markdown",
   "id": "76ec1b40-2bfd-435f-a37d-7e2aa050a186",
   "metadata": {
    "button": false,
    "new_sheet": false,
    "run_control": {
     "read_only": false
    }
   },
   "source": [
    "**TRY IT!** Count the number of occurrence for letter \"l\" in w."
   ]
  },
  {
   "cell_type": "code",
   "execution_count": 31,
   "id": "d459dc24-32e5-402f-8c31-c00f72784634",
   "metadata": {
    "button": false,
    "new_sheet": false,
    "run_control": {
     "read_only": false
    }
   },
   "outputs": [
    {
     "data": {
      "text/plain": [
       "3"
      ]
     },
     "execution_count": 31,
     "metadata": {},
     "output_type": "execute_result"
    }
   ],
   "source": [
    "w.count(\"l\")"
   ]
  },
  {
   "cell_type": "markdown",
   "id": "efe6d2a6-695a-45f1-a730-a6e2ca13168a",
   "metadata": {
    "button": false,
    "new_sheet": false,
    "run_control": {
     "read_only": false
    }
   },
   "source": [
    "**TRY IT!** Replace the \"World\" in variable w to \"Berkeley\"."
   ]
  },
  {
   "cell_type": "code",
   "execution_count": 32,
   "id": "68176bd3-9692-4d51-af77-c4ab13a3f67c",
   "metadata": {
    "button": false,
    "new_sheet": false,
    "run_control": {
     "read_only": false
    }
   },
   "outputs": [
    {
     "data": {
      "text/plain": [
       "'Hello Orlando'"
      ]
     },
     "execution_count": 32,
     "metadata": {},
     "output_type": "execute_result"
    }
   ],
   "source": [
    "w.replace(\"World\", \"Orlando\")"
   ]
  },
  {
   "cell_type": "markdown",
   "id": "1af54c2d-cc48-421e-a7a7-cfb6db89f616",
   "metadata": {
    "button": false,
    "new_sheet": false,
    "run_control": {
     "read_only": false
    }
   },
   "source": [
    "There are different ways to pre-format a string. Here we introduce two ways to do it. For example, if we have two variables *name* and *country*, and wants to print them out in a sentence, but we don't want to use the string concatenation we used before, since it will use many '+' signs in the string. We could do the following instead: "
   ]
  },
  {
   "cell_type": "code",
   "execution_count": 35,
   "id": "0709571c-08de-46e9-9468-1aaf1e30962f",
   "metadata": {
    "button": false,
    "new_sheet": false,
    "run_control": {
     "read_only": false
    }
   },
   "outputs": [
    {
     "name": "stdout",
     "output_type": "stream",
     "text": [
      "UCF is a great school in Florida!\n"
     ]
    }
   ],
   "source": [
    "name = \"UCF\"\n",
    "state = 'Florida'\n",
    "\n",
    "print(\"%s is a great school in %s!\"%(name, state))"
   ]
  },
  {
   "cell_type": "markdown",
   "id": "18e9fe0f-bd75-4a88-8915-d3a5cc2033dd",
   "metadata": {
    "button": false,
    "new_sheet": false,
    "run_control": {
     "read_only": false
    }
   },
   "source": [
    "**WHAT IS HAPPENING?** In the previous example, the %s in the double quotation marks is telling Python that we want to insert some strings at this location (s stands for string in this case). The *%(name, country)* is where the two strings we want to insert."
   ]
  },
  {
   "cell_type": "markdown",
   "id": "be26b055-7bed-4057-9357-9b5cc8cc9147",
   "metadata": {
    "button": false,
    "new_sheet": false,
    "run_control": {
     "read_only": false
    }
   },
   "source": [
    "**NEW!** There is a different way that only introduced in Python 3.6 and above, it is called f-String which means formated-String. You can easily format a string with the following line:"
   ]
  },
  {
   "cell_type": "code",
   "execution_count": 36,
   "id": "add73c63-55a2-415f-a2a9-571d6cbc9dfc",
   "metadata": {
    "button": false,
    "new_sheet": false,
    "run_control": {
     "read_only": false
    }
   },
   "outputs": [
    {
     "name": "stdout",
     "output_type": "stream",
     "text": [
      "UCF is a great school in Florida.\n"
     ]
    }
   ],
   "source": [
    "print(f\"{name} is a great school in {state}.\")"
   ]
  },
  {
   "cell_type": "markdown",
   "id": "0d083227-ec3f-4a68-a648-69fcab3e931c",
   "metadata": {
    "button": false,
    "new_sheet": false,
    "run_control": {
     "read_only": false
    }
   },
   "source": [
    "You could even print out a numerical expression without convert the data type as we did before. \n",
    "\n",
    "**TRY it!** Print out the result of *3*4* directly using f-String. "
   ]
  },
  {
   "cell_type": "code",
   "execution_count": 37,
   "id": "375bafe0-8348-4402-8dfb-98fcdd077360",
   "metadata": {
    "button": false,
    "new_sheet": false,
    "run_control": {
     "read_only": false
    }
   },
   "outputs": [
    {
     "name": "stdout",
     "output_type": "stream",
     "text": [
      "12\n"
     ]
    }
   ],
   "source": [
    "print(f\"{3*4}\")"
   ]
  },
  {
   "cell_type": "markdown",
   "id": "dab2527a-dc4a-4671-914d-f49e895a3971",
   "metadata": {
    "button": false,
    "new_sheet": false,
    "run_control": {
     "read_only": false
    }
   },
   "source": [
    "Ok, we learned many things from the data structure - string, this is our first sequence data structure. Let's learn more now. "
   ]
  },
  {
   "cell_type": "markdown",
   "id": "e6dd1787-0013-4776-855a-3b57a0aec9a5",
   "metadata": {
    "button": false,
    "new_sheet": false,
    "run_control": {
     "read_only": false
    }
   },
   "source": [
    "## Data Structure - Lists"
   ]
  },
  {
   "cell_type": "markdown",
   "id": "cf0baf81-c5dc-4b58-86dd-6af9a6d69de1",
   "metadata": {
    "button": false,
    "new_sheet": false,
    "run_control": {
     "read_only": false
    }
   },
   "source": [
    "We saw strings in the previous section that could hold a sequence of characters. Now, let's see a more versatile sequential data structure in Python - Lists. The way to define it is to use a pair of brackets [ ], and the elements within it are separated by commas. A list could hold any type of data: numerical, or strings or other types. For example:"
   ]
  },
  {
   "cell_type": "code",
   "execution_count": 1,
   "id": "78abdf6e-8112-4c56-80cb-1a1ef1687c7e",
   "metadata": {
    "button": false,
    "new_sheet": false,
    "run_control": {
     "read_only": false
    }
   },
   "outputs": [
    {
     "data": {
      "text/plain": [
       "[1, 2, 3]"
      ]
     },
     "execution_count": 1,
     "metadata": {},
     "output_type": "execute_result"
    }
   ],
   "source": [
    "list_1 = [1, 2, 3]\n",
    "list_1"
   ]
  },
  {
   "cell_type": "code",
   "execution_count": 2,
   "id": "9c94173f-ee2a-4d08-92ff-d848aeb2bfcb",
   "metadata": {
    "button": false,
    "new_sheet": false,
    "run_control": {
     "read_only": false
    }
   },
   "outputs": [
    {
     "data": {
      "text/plain": [
       "['Hello', 'World']"
      ]
     },
     "execution_count": 2,
     "metadata": {},
     "output_type": "execute_result"
    }
   ],
   "source": [
    "list_2 = ['Hello', 'World']\n",
    "list_2"
   ]
  },
  {
   "cell_type": "markdown",
   "id": "42f61aa8-82d8-428d-bb11-2d534f2728b6",
   "metadata": {
    "button": false,
    "new_sheet": false,
    "run_control": {
     "read_only": false
    }
   },
   "source": [
    "We could put mixed types in the list as well"
   ]
  },
  {
   "cell_type": "code",
   "execution_count": 3,
   "id": "c4366a92-ff56-4b8d-af02-1d68230d19a3",
   "metadata": {
    "button": false,
    "new_sheet": false,
    "run_control": {
     "read_only": false
    }
   },
   "outputs": [
    {
     "data": {
      "text/plain": [
       "[1, 2, 3, 'Apple', 'orange']"
      ]
     },
     "execution_count": 3,
     "metadata": {},
     "output_type": "execute_result"
    }
   ],
   "source": [
    "list_3 = [1, 2, 3, 'Apple', 'orange']\n",
    "list_3"
   ]
  },
  {
   "cell_type": "markdown",
   "id": "76f3d333-1e27-4820-878f-7c4f70a6f490",
   "metadata": {
    "button": false,
    "new_sheet": false,
    "run_control": {
     "read_only": false
    }
   },
   "source": [
    "We can also nest the lists, for example:"
   ]
  },
  {
   "cell_type": "code",
   "execution_count": 4,
   "id": "55591d66-647d-431d-bb66-df1413844416",
   "metadata": {
    "button": false,
    "new_sheet": false,
    "run_control": {
     "read_only": false
    }
   },
   "outputs": [
    {
     "data": {
      "text/plain": [
       "[[1, 2, 3], ['Hello', 'World']]"
      ]
     },
     "execution_count": 4,
     "metadata": {},
     "output_type": "execute_result"
    }
   ],
   "source": [
    "list_4 = [list_1, list_2]\n",
    "list_4"
   ]
  },
  {
   "attachments": {
    "9077086d-bc78-49e5-b76a-b2dc804462fa.png": {
     "image/png": "[encoded data removed]"
    }
   },
   "cell_type": "markdown",
   "id": "da9c441e-bbc2-4e1e-8c36-45ee1f3107cd",
   "metadata": {
    "button": false,
    "new_sheet": false,
    "run_control": {
     "read_only": false
    }
   },
   "source": [
    "The way to retrieve the element in the list is very similar to the strings, see the following figure for the index\n",
    "\n",
    "![02.03.01-list_index.png](attachment:9077086d-bc78-49e5-b76a-b2dc804462fa.png)"
   ]
  },
  {
   "cell_type": "markdown",
   "id": "de63d6f8-50c8-4471-a4bc-aef218733399",
   "metadata": {
    "button": false,
    "new_sheet": false,
    "run_control": {
     "read_only": false
    }
   },
   "source": [
    "**TRY IT!** Get the 3rd element in list_3"
   ]
  },
  {
   "cell_type": "code",
   "execution_count": 5,
   "id": "17d9368c-cc03-44f3-8661-f7b8480ac234",
   "metadata": {
    "button": false,
    "new_sheet": false,
    "run_control": {
     "read_only": false
    }
   },
   "outputs": [
    {
     "data": {
      "text/plain": [
       "3"
      ]
     },
     "execution_count": 5,
     "metadata": {},
     "output_type": "execute_result"
    }
   ],
   "source": [
    "list_3[2]"
   ]
  },
  {
   "cell_type": "markdown",
   "id": "48ab04c2-32df-4d6e-a84e-ca4cf154ed9a",
   "metadata": {
    "button": false,
    "new_sheet": false,
    "run_control": {
     "read_only": false
    }
   },
   "source": [
    "**TRY IT!** Get the first 3 elements in list_3"
   ]
  },
  {
   "cell_type": "code",
   "execution_count": 6,
   "id": "17b09495-faf1-4860-a947-b55b99e72503",
   "metadata": {
    "button": false,
    "new_sheet": false,
    "run_control": {
     "read_only": false
    }
   },
   "outputs": [
    {
     "data": {
      "text/plain": [
       "[1, 2, 3]"
      ]
     },
     "execution_count": 6,
     "metadata": {},
     "output_type": "execute_result"
    }
   ],
   "source": [
    "list_3[:3]"
   ]
  },
  {
   "cell_type": "markdown",
   "id": "04f62e03-1f2f-49fb-a0a1-256503b4ca53",
   "metadata": {
    "button": false,
    "new_sheet": false,
    "run_control": {
     "read_only": false
    }
   },
   "source": [
    "**TRY IT!** Get the last element in list_3"
   ]
  },
  {
   "cell_type": "code",
   "execution_count": 7,
   "id": "fc824603-543b-4e28-a78e-34c0a959b570",
   "metadata": {
    "button": false,
    "new_sheet": false,
    "run_control": {
     "read_only": false
    }
   },
   "outputs": [
    {
     "data": {
      "text/plain": [
       "'orange'"
      ]
     },
     "execution_count": 7,
     "metadata": {},
     "output_type": "execute_result"
    }
   ],
   "source": [
    "list_3[-1]"
   ]
  },
  {
   "cell_type": "markdown",
   "id": "1a35480a-4d4d-4c69-8e3d-d4ede66357a9",
   "metadata": {
    "button": false,
    "new_sheet": false,
    "run_control": {
     "read_only": false
    }
   },
   "source": [
    "**TRY IT!** Get the first list from list_4."
   ]
  },
  {
   "cell_type": "code",
   "execution_count": 8,
   "id": "8d2a75d6-8efd-424d-83f3-9ed5ab184313",
   "metadata": {
    "button": false,
    "new_sheet": false,
    "run_control": {
     "read_only": false
    }
   },
   "outputs": [
    {
     "data": {
      "text/plain": [
       "[1, 2, 3]"
      ]
     },
     "execution_count": 8,
     "metadata": {},
     "output_type": "execute_result"
    }
   ],
   "source": [
    "list_4[0]"
   ]
  },
  {
   "cell_type": "markdown",
   "id": "38dab5a8-5618-4096-a0f4-bd7239e0c96c",
   "metadata": {
    "button": false,
    "new_sheet": false,
    "run_control": {
     "read_only": false
    }
   },
   "source": [
    "Similarly, we could get the length of the list by using the *len* function. "
   ]
  },
  {
   "cell_type": "code",
   "execution_count": 9,
   "id": "793c50af-d492-4135-a980-f5a0a9ee8c93",
   "metadata": {
    "button": false,
    "new_sheet": false,
    "run_control": {
     "read_only": false
    }
   },
   "outputs": [
    {
     "data": {
      "text/plain": [
       "5"
      ]
     },
     "execution_count": 9,
     "metadata": {},
     "output_type": "execute_result"
    }
   ],
   "source": [
    "len(list_3)"
   ]
  },
  {
   "cell_type": "markdown",
   "id": "07624a4f-3b9c-4051-a382-bd0fd18a0fbc",
   "metadata": {
    "button": false,
    "new_sheet": false,
    "run_control": {
     "read_only": false
    }
   },
   "source": [
    "We can also concatenate two lists by simply using a *+* sign. \n",
    "\n",
    "**TRY IT!** Add list_1 and list_2 to one list. "
   ]
  },
  {
   "cell_type": "code",
   "execution_count": 10,
   "id": "caef3b19-1bc8-4ff9-89b8-dcb6ffcdaaf5",
   "metadata": {
    "button": false,
    "new_sheet": false,
    "run_control": {
     "read_only": false
    }
   },
   "outputs": [
    {
     "data": {
      "text/plain": [
       "[1, 2, 3, 'Hello', 'World']"
      ]
     },
     "execution_count": 10,
     "metadata": {},
     "output_type": "execute_result"
    }
   ],
   "source": [
    "list_1 + list_2"
   ]
  },
  {
   "cell_type": "markdown",
   "id": "aaa9c4da-d98e-4ce1-b327-6d7776599ef0",
   "metadata": {
    "button": false,
    "new_sheet": false,
    "run_control": {
     "read_only": false
    }
   },
   "source": [
    "New items could be added to an existing list by using the *append* method from the list. "
   ]
  },
  {
   "cell_type": "code",
   "execution_count": 11,
   "id": "00382970-f302-4b77-9e3c-29c94df8a73e",
   "metadata": {
    "button": false,
    "new_sheet": false,
    "run_control": {
     "read_only": false
    }
   },
   "outputs": [
    {
     "data": {
      "text/plain": [
       "[1, 2, 3, 4]"
      ]
     },
     "execution_count": 11,
     "metadata": {},
     "output_type": "execute_result"
    }
   ],
   "source": [
    "list_1.append(4)\n",
    "list_1"
   ]
  },
  {
   "cell_type": "markdown",
   "id": "34ea2193-9e64-41f1-bc53-186294d7665d",
   "metadata": {
    "button": false,
    "new_sheet": false,
    "run_control": {
     "read_only": false
    }
   },
   "source": [
    "**Note!** The *append* function operate on the list itself as shown in the above example, 4 is added to the list. But in the list_1 + list_2 example, list_1 and list_2 won't change. You can check list_2 to verify this. "
   ]
  },
  {
   "cell_type": "markdown",
   "id": "54977209-42a1-4f17-8a06-d0db1ade2945",
   "metadata": {
    "button": false,
    "new_sheet": false,
    "run_control": {
     "read_only": false
    }
   },
   "source": [
    "We could also insert or remove element from the list by using the methods *insert* and *remove*, but they are also operating on the list directly."
   ]
  },
  {
   "cell_type": "code",
   "execution_count": 12,
   "id": "f2c8d2c2-94b6-431a-bff6-720080680e47",
   "metadata": {
    "button": false,
    "new_sheet": false,
    "run_control": {
     "read_only": false
    }
   },
   "outputs": [
    {
     "data": {
      "text/plain": [
       "[1, 2, 'center', 3, 4]"
      ]
     },
     "execution_count": 12,
     "metadata": {},
     "output_type": "execute_result"
    }
   ],
   "source": [
    "list_1.insert(2,'center')\n",
    "list_1"
   ]
  },
  {
   "cell_type": "markdown",
   "id": "0cc01265-2a1b-45ca-88ac-e85bb1001a18",
   "metadata": {
    "button": false,
    "new_sheet": false,
    "run_control": {
     "read_only": false
    }
   },
   "source": [
    "**Note!** Using the *remove* method will only remove the first occurrence of the item (read the documentation of the method). There is another way to delete an item by using its index - function *del*. "
   ]
  },
  {
   "cell_type": "code",
   "execution_count": 13,
   "id": "9a0dc751-59d1-469e-9a80-80596defcdbe",
   "metadata": {
    "button": false,
    "new_sheet": false,
    "run_control": {
     "read_only": false
    }
   },
   "outputs": [
    {
     "data": {
      "text/plain": [
       "[1, 2, 3, 4]"
      ]
     },
     "execution_count": 13,
     "metadata": {},
     "output_type": "execute_result"
    }
   ],
   "source": [
    "del list_1[2]\n",
    "list_1"
   ]
  },
  {
   "cell_type": "markdown",
   "id": "350faa5f-95c8-4f44-ba0a-3f065877f4dd",
   "metadata": {
    "button": false,
    "new_sheet": false,
    "run_control": {
     "read_only": false
    }
   },
   "source": [
    "We could also define an empty list and add in new element later using *append* method. It is used a lot in Python when you have to loop through a sequence of items, we will learn more later in the iteration chapter.\n",
    "\n",
    "**TRY IT!** Define an empty list and add values 5 and 6 to the list. "
   ]
  },
  {
   "cell_type": "code",
   "execution_count": 14,
   "id": "5da711ae-7d73-4cf0-b534-c716a45985b4",
   "metadata": {
    "button": false,
    "new_sheet": false,
    "run_control": {
     "read_only": false
    }
   },
   "outputs": [
    {
     "data": {
      "text/plain": [
       "[5]"
      ]
     },
     "execution_count": 14,
     "metadata": {},
     "output_type": "execute_result"
    }
   ],
   "source": [
    "list_5 = []\n",
    "list_5.append(5)\n",
    "list_5"
   ]
  },
  {
   "cell_type": "code",
   "execution_count": 15,
   "id": "456ef9fe-e332-47c4-bc22-9765d286a052",
   "metadata": {
    "button": false,
    "new_sheet": false,
    "run_control": {
     "read_only": false
    }
   },
   "outputs": [
    {
     "data": {
      "text/plain": [
       "[5, 6]"
      ]
     },
     "execution_count": 15,
     "metadata": {},
     "output_type": "execute_result"
    }
   ],
   "source": [
    "list_5.append(6)\n",
    "list_5"
   ]
  },
  {
   "cell_type": "markdown",
   "id": "a2bf7798-abf1-48a5-8a10-b517868bd60e",
   "metadata": {
    "button": false,
    "new_sheet": false,
    "run_control": {
     "read_only": false
    }
   },
   "source": [
    "We could also quickly check if an element is in the list using the operator *in*. \n",
    "\n",
    "**TRY IT!** Check if number 5 is in the *list_5*. "
   ]
  },
  {
   "cell_type": "code",
   "execution_count": 16,
   "id": "b8bf7b85-7ca5-42a1-8476-712c00b31175",
   "metadata": {
    "button": false,
    "new_sheet": false,
    "run_control": {
     "read_only": false
    }
   },
   "outputs": [
    {
     "data": {
      "text/plain": [
       "True"
      ]
     },
     "execution_count": 16,
     "metadata": {},
     "output_type": "execute_result"
    }
   ],
   "source": [
    "5 in list_5"
   ]
  },
  {
   "cell_type": "markdown",
   "id": "e1ed1e75-a13e-45f2-ac4f-85ad28cd5af3",
   "metadata": {
    "button": false,
    "new_sheet": false,
    "run_control": {
     "read_only": false
    }
   },
   "source": [
    "Using the *list* function, we could turn other sequence items into a list. \n",
    "\n",
    "**TRY IT!** Turn the string 'Hello World' into a list of characters. "
   ]
  },
  {
   "cell_type": "code",
   "execution_count": 17,
   "id": "8fe26f59-810a-4324-9dde-0f15d41beb8e",
   "metadata": {
    "button": false,
    "new_sheet": false,
    "run_control": {
     "read_only": false
    }
   },
   "outputs": [
    {
     "data": {
      "text/plain": [
       "['H', 'e', 'l', 'l', 'o', ' ', 'W', 'o', 'r', 'l', 'd']"
      ]
     },
     "execution_count": 17,
     "metadata": {},
     "output_type": "execute_result"
    }
   ],
   "source": [
    "list('Hello World')"
   ]
  },
  {
   "cell_type": "markdown",
   "id": "633d4e81-9975-437c-b2de-3df070a94c54",
   "metadata": {
    "button": false,
    "new_sheet": false,
    "run_control": {
     "read_only": false
    }
   },
   "source": [
    "The lists will be used a lot in Python when we are working with data, they have many different use cases that you will see in the later sections."
   ]
  },
  {
   "cell_type": "markdown",
   "id": "a024d4da-d337-4798-ac58-de70be3f53f7",
   "metadata": {
    "button": false,
    "new_sheet": false,
    "run_control": {
     "read_only": false
    }
   },
   "source": [
    "## Data Structure - Tuples"
   ]
  },
  {
   "cell_type": "markdown",
   "id": "0065ca1f-8934-4b47-b796-6f6bf6b40497",
   "metadata": {
    "button": false,
    "new_sheet": false,
    "run_control": {
     "read_only": false
    }
   },
   "source": [
    "Let's learn one more different sequence data structure in Python - Tuples. It is usually defined by using a pair of parentheses ( ) , and its elements are separated by commas. For example:"
   ]
  },
  {
   "cell_type": "code",
   "execution_count": 1,
   "id": "2afd4109-19d8-40ad-b330-4d1f013f827c",
   "metadata": {
    "button": false,
    "new_sheet": false,
    "run_control": {
     "read_only": false
    }
   },
   "outputs": [
    {
     "data": {
      "text/plain": [
       "(1, 2, 3, 2)"
      ]
     },
     "execution_count": 1,
     "metadata": {},
     "output_type": "execute_result"
    }
   ],
   "source": [
    "tuple_1 = (1, 2, 3, 2)\n",
    "tuple_1"
   ]
  },
  {
   "cell_type": "markdown",
   "id": "68382235-9ee5-49be-b534-1e851cad9d20",
   "metadata": {
    "button": false,
    "new_sheet": false,
    "run_control": {
     "read_only": false
    }
   },
   "source": [
    "As strings and lists, they way for indexing the tuples, slicing the elements, and even some methods are very similar. \n",
    "\n",
    "**TRY IT!** Get the length of tuple_1."
   ]
  },
  {
   "cell_type": "code",
   "execution_count": 2,
   "id": "7fbfa5d5-bfbb-4d70-88f3-39dc039ff38f",
   "metadata": {
    "button": false,
    "new_sheet": false,
    "run_control": {
     "read_only": false
    }
   },
   "outputs": [
    {
     "data": {
      "text/plain": [
       "4"
      ]
     },
     "execution_count": 2,
     "metadata": {},
     "output_type": "execute_result"
    }
   ],
   "source": [
    "len(tuple_1)"
   ]
  },
  {
   "cell_type": "markdown",
   "id": "951b1ccb-a89c-4ff4-9bd4-2cb4b2e8e89a",
   "metadata": {
    "button": false,
    "new_sheet": false,
    "run_control": {
     "read_only": false
    }
   },
   "source": [
    "**TRY IT!** Get the elements from index 1 to 3 for tuple_1."
   ]
  },
  {
   "cell_type": "code",
   "execution_count": 3,
   "id": "0580ce3b-8c7e-48de-890e-498dde0067c2",
   "metadata": {
    "button": false,
    "new_sheet": false,
    "run_control": {
     "read_only": false
    }
   },
   "outputs": [
    {
     "data": {
      "text/plain": [
       "(2, 3, 2)"
      ]
     },
     "execution_count": 3,
     "metadata": {},
     "output_type": "execute_result"
    }
   ],
   "source": [
    "tuple_1[1:4]"
   ]
  },
  {
   "cell_type": "markdown",
   "id": "d19a12ec-246d-4274-a147-d0cf35c61c48",
   "metadata": {
    "button": false,
    "new_sheet": false,
    "run_control": {
     "read_only": false
    }
   },
   "source": [
    "**TRY IT!** Count the occurrence for number 2 in tuple_1."
   ]
  },
  {
   "cell_type": "code",
   "execution_count": 4,
   "id": "8ae35301-d059-4a06-b456-a3cf09a5909a",
   "metadata": {
    "button": false,
    "new_sheet": false,
    "run_control": {
     "read_only": false
    }
   },
   "outputs": [
    {
     "data": {
      "text/plain": [
       "2"
      ]
     },
     "execution_count": 4,
     "metadata": {},
     "output_type": "execute_result"
    }
   ],
   "source": [
    "tuple_1.count(2)"
   ]
  },
  {
   "cell_type": "markdown",
   "id": "d98ffc83-f508-4744-8603-373d8524fa01",
   "metadata": {
    "button": false,
    "new_sheet": false,
    "run_control": {
     "read_only": false
    }
   },
   "source": [
    "You may ask, what's the difference between lists and tuples? If they are similar to each other, why do we need another sequence data structure? \n",
    "\n",
    "Well, tuples are created for a reason. From the [Python documentation](https://docs.python.org/3/tutorial/datastructures.html#tuples-and-sequences):\n",
    "\n",
    ">Though tuples may seem similar to lists, they are often used in different situations and for different purposes. Tuples are **immutable**, and usually contain a **heterogeneous** sequence of elements that are accessed via unpacking (see later in this section) or indexing (or even by attribute in the case of named tuples). Lists are **mutable**, and their elements are usually **homogeneous** and are accessed by iterating over the list.\n",
    "\n",
    "What does it mean by immutable? It means the elements in the tuple, once defined, they can not be changed. But elements in a list can be changed without any problem. For example:"
   ]
  },
  {
   "cell_type": "code",
   "execution_count": 5,
   "id": "6e0ffe62-f493-46ac-97f6-90766daf7740",
   "metadata": {
    "button": false,
    "new_sheet": false,
    "run_control": {
     "read_only": false
    }
   },
   "outputs": [
    {
     "data": {
      "text/plain": [
       "[1, 2, 1]"
      ]
     },
     "execution_count": 5,
     "metadata": {},
     "output_type": "execute_result"
    }
   ],
   "source": [
    "list_1 = [1, 2, 3]\n",
    "list_1[2] = 1\n",
    "list_1"
   ]
  },
  {
   "cell_type": "code",
   "execution_count": 6,
   "id": "b45dbf5f-d6f1-4ec1-abc8-e3e9d8fee4f7",
   "metadata": {
    "button": false,
    "new_sheet": false,
    "run_control": {
     "read_only": false
    }
   },
   "outputs": [
    {
     "ename": "TypeError",
     "evalue": "'tuple' object does not support item assignment",
     "output_type": "error",
     "traceback": [
      "\u001b[0;31m---------------------------------------------------------------------------\u001b[0m",
      "\u001b[0;31mTypeError\u001b[0m                                 Traceback (most recent call last)",
      "\u001b[0;32m<ipython-input-6-76fb6b169c14>\u001b[0m in \u001b[0;36m<module>\u001b[0;34m()\u001b[0m\n\u001b[0;32m----> 1\u001b[0;31m \u001b[0mtuple_1\u001b[0m\u001b[0;34m[\u001b[0m\u001b[0;36m2\u001b[0m\u001b[0;34m]\u001b[0m \u001b[0;34m=\u001b[0m \u001b[0;36m1\u001b[0m\u001b[0;34m\u001b[0m\u001b[0m\n\u001b[0m",
      "\u001b[0;31mTypeError\u001b[0m: 'tuple' object does not support item assignment"
     ]
    }
   ],
   "source": [
    "tuple_1[2] = 1"
   ]
  },
  {
   "cell_type": "markdown",
   "id": "a0e3dc19-3f2a-47bd-8046-07d5966cb393",
   "metadata": {
    "button": false,
    "new_sheet": false,
    "run_control": {
     "read_only": false
    }
   },
   "source": [
    "What does heterogeneous mean? Tuples usually contain a heterogeneous sequence of elements, while lists usually contain a homogeneous sequence. Let's see an example, that we have a list that contains different fruits. Usually the name of the fruits could be stored in a list, since they are homogeneous. Now we want to have a data structure to store how many fruit do we have for each type, this is usually where the tuples comes in, since the name of the fruit and the number are heterogeneous. Such as ('apple', 3) which means we have 3 apples. "
   ]
  },
  {
   "cell_type": "code",
   "execution_count": 7,
   "id": "7aad4563-79ec-4d79-a5d3-1e77c9cde08f",
   "metadata": {
    "button": false,
    "new_sheet": false,
    "run_control": {
     "read_only": false
    }
   },
   "outputs": [
    {
     "data": {
      "text/plain": [
       "['apple', 'banana', 'orange', 'pear']"
      ]
     },
     "execution_count": 7,
     "metadata": {},
     "output_type": "execute_result"
    }
   ],
   "source": [
    "# a fruit list\n",
    "['apple', 'banana', 'orange', 'pear']"
   ]
  },
  {
   "cell_type": "code",
   "execution_count": 38,
   "id": "9fc8a8e6-51b5-461f-b239-6c925a24286e",
   "metadata": {
    "button": false,
    "new_sheet": false,
    "run_control": {
     "read_only": false
    }
   },
   "outputs": [
    {
     "data": {
      "text/plain": [
       "[('apple', 3), ('banana', 4), ('orange', 1), ('pear', 4)]"
      ]
     },
     "execution_count": 38,
     "metadata": {},
     "output_type": "execute_result"
    }
   ],
   "source": [
    "# a list of (fruit, number) pairs (as tuples)\n",
    "[('apple', 3), ('banana', 4) , ('orange', 1), ('pear', 4)]"
   ]
  },
  {
   "cell_type": "markdown",
   "id": "b53da895-99b1-4512-accf-f562fbdfbadd",
   "metadata": {
    "button": false,
    "new_sheet": false,
    "run_control": {
     "read_only": false
    }
   },
   "source": [
    "Tuples could be accessed by unpacking, it requires that the number of variables on the left side of the equals sign equals to the number of elements in the sequence."
   ]
  },
  {
   "cell_type": "code",
   "execution_count": 9,
   "id": "6cb746d8-fbe7-48f4-8e34-c2c9ba0b118d",
   "metadata": {
    "button": false,
    "new_sheet": false,
    "run_control": {
     "read_only": false
    }
   },
   "outputs": [
    {
     "name": "stdout",
     "output_type": "stream",
     "text": [
      "1 2 1\n"
     ]
    }
   ],
   "source": [
    "a, b, c = list_1\n",
    "print(a, b, c)"
   ]
  },
  {
   "cell_type": "markdown",
   "id": "11081601-e248-46d7-88ba-d8b18d6d453a",
   "metadata": {
    "button": false,
    "new_sheet": false,
    "run_control": {
     "read_only": false
    }
   },
   "source": [
    "**NOTE!** The opposite operation to unpacking is packing as shown in the following example. We could see that we don't need the parentheses to define a tuple, but it is always good to have that. "
   ]
  },
  {
   "cell_type": "code",
   "execution_count": 10,
   "id": "55e4dce6-9dfb-411b-b416-17ed5be8d51e",
   "metadata": {
    "button": false,
    "new_sheet": false,
    "run_control": {
     "read_only": false
    }
   },
   "outputs": [
    {
     "data": {
      "text/plain": [
       "(2, 4, 5)"
      ]
     },
     "execution_count": 10,
     "metadata": {},
     "output_type": "execute_result"
    }
   ],
   "source": [
    "list_2 = 2, 4, 5\n",
    "list_2"
   ]
  },
  {
   "cell_type": "markdown",
   "id": "e8dec661-6dfa-49dc-9d9b-98ea919014b2",
   "metadata": {
    "button": false,
    "new_sheet": false,
    "run_control": {
     "read_only": false
    }
   },
   "source": [
    "## Data Structure - Sets"
   ]
  },
  {
   "cell_type": "markdown",
   "id": "4fcfa4ba-d1d9-4775-a704-cf394ae69288",
   "metadata": {
    "button": false,
    "new_sheet": false,
    "run_control": {
     "read_only": false
    }
   },
   "source": [
    "Another data type in Python is sets. It is a type that could store an unordered collection with no duplicate elements. It is also support the mathematical operations like union, intersection, difference, and symmetric difference. It is defined by using a pair of braces { }, and its elements are separated by commas. "
   ]
  },
  {
   "cell_type": "code",
   "execution_count": 1,
   "id": "518cca08-8568-48ad-a4fb-04a1961c2e31",
   "metadata": {
    "button": false,
    "new_sheet": false,
    "run_control": {
     "read_only": false
    }
   },
   "outputs": [
    {
     "data": {
      "text/plain": [
       "{1, 2, 3, 4, 5, 6}"
      ]
     },
     "execution_count": 1,
     "metadata": {},
     "output_type": "execute_result"
    }
   ],
   "source": [
    "{3, 3, 2, 3, 1, 4, 5, 6, 4, 2}"
   ]
  },
  {
   "cell_type": "markdown",
   "id": "b6bf7a25-977c-41fb-848c-329c103820fd",
   "metadata": {
    "button": false,
    "new_sheet": false,
    "run_control": {
     "read_only": false
    }
   },
   "source": [
    "One quick usage of this is to find out the unique elements in a string, list, or tuple. \n",
    "\n",
    "**TRY IT!** Find the unique elements in list [1, 2, 2, 3, 2, 1, 2]."
   ]
  },
  {
   "cell_type": "code",
   "execution_count": 2,
   "id": "4080517d-6a1d-4a61-9ed6-31732b3e0f01",
   "metadata": {
    "button": false,
    "new_sheet": false,
    "run_control": {
     "read_only": false
    }
   },
   "outputs": [
    {
     "data": {
      "text/plain": [
       "{1, 2, 3}"
      ]
     },
     "execution_count": 2,
     "metadata": {},
     "output_type": "execute_result"
    }
   ],
   "source": [
    "set_1 = set([1, 2, 2, 3, 2, 1, 2])\n",
    "set_1"
   ]
  },
  {
   "cell_type": "markdown",
   "id": "423ff03e-01e4-4dad-9d77-0ed0ba4f828f",
   "metadata": {
    "button": false,
    "new_sheet": false,
    "run_control": {
     "read_only": false
    }
   },
   "source": [
    "**TRY IT!** Find the unique elements in tuple (2, 4, 6, 5,2)."
   ]
  },
  {
   "cell_type": "code",
   "execution_count": 3,
   "id": "ae8b473e-95e9-4752-be61-d386b2c78504",
   "metadata": {
    "button": false,
    "new_sheet": false,
    "run_control": {
     "read_only": false
    }
   },
   "outputs": [
    {
     "data": {
      "text/plain": [
       "{2, 4, 5, 6}"
      ]
     },
     "execution_count": 3,
     "metadata": {},
     "output_type": "execute_result"
    }
   ],
   "source": [
    "set_2 = set((2, 4, 6, 5, 2))\n",
    "set_2"
   ]
  },
  {
   "cell_type": "markdown",
   "id": "ab17198a-e676-4534-8cfb-15e3ce1509e4",
   "metadata": {
    "button": false,
    "new_sheet": false,
    "run_control": {
     "read_only": false
    }
   },
   "source": [
    "**TRY IT!** Find the unique character in string \"Banana\"."
   ]
  },
  {
   "cell_type": "code",
   "execution_count": 4,
   "id": "68107b89-8c8a-46dc-9a03-31ae58eff1b3",
   "metadata": {
    "button": false,
    "new_sheet": false,
    "run_control": {
     "read_only": false
    }
   },
   "outputs": [
    {
     "data": {
      "text/plain": [
       "{'B', 'a', 'n'}"
      ]
     },
     "execution_count": 4,
     "metadata": {},
     "output_type": "execute_result"
    }
   ],
   "source": [
    "set('Banana')"
   ]
  },
  {
   "cell_type": "markdown",
   "id": "09bb6dd2-2b16-40a0-8607-08f7e695a54a",
   "metadata": {
    "button": false,
    "new_sheet": false,
    "run_control": {
     "read_only": false
    }
   },
   "source": [
    "We mentioned that sets support the mathematical operations like union, intersection, difference, and symmetric difference. \n",
    "\n",
    "**TRY IT!** Get the union of set_1 and set_2."
   ]
  },
  {
   "cell_type": "code",
   "execution_count": 5,
   "id": "542ce5e4-9d82-440a-8768-3b610ebb52d9",
   "metadata": {
    "button": false,
    "new_sheet": false,
    "run_control": {
     "read_only": false
    }
   },
   "outputs": [
    {
     "name": "stdout",
     "output_type": "stream",
     "text": [
      "{1, 2, 3}\n",
      "{2, 4, 5, 6}\n"
     ]
    }
   ],
   "source": [
    "print(set_1)\n",
    "print(set_2)"
   ]
  },
  {
   "cell_type": "code",
   "execution_count": 6,
   "id": "93bcc1b9-a646-4a79-b20f-9e50d1fbc5d6",
   "metadata": {
    "button": false,
    "new_sheet": false,
    "run_control": {
     "read_only": false
    }
   },
   "outputs": [
    {
     "data": {
      "text/plain": [
       "{1, 2, 3, 4, 5, 6}"
      ]
     },
     "execution_count": 6,
     "metadata": {},
     "output_type": "execute_result"
    }
   ],
   "source": [
    "set_1.union(set_2)"
   ]
  },
  {
   "cell_type": "markdown",
   "id": "98c8bdde-b844-4744-b628-d61c42bb9d69",
   "metadata": {
    "button": false,
    "new_sheet": false,
    "run_control": {
     "read_only": false
    }
   },
   "source": [
    "**TRY IT!** Get the intersection of set_1 and set_2."
   ]
  },
  {
   "cell_type": "code",
   "execution_count": 7,
   "id": "30b2cae8-2f19-40ef-843c-45d892bcac39",
   "metadata": {
    "button": false,
    "new_sheet": false,
    "run_control": {
     "read_only": false
    }
   },
   "outputs": [
    {
     "data": {
      "text/plain": [
       "{2}"
      ]
     },
     "execution_count": 7,
     "metadata": {},
     "output_type": "execute_result"
    }
   ],
   "source": [
    "set_1.intersection(set_2)"
   ]
  },
  {
   "cell_type": "markdown",
   "id": "6a71c940-00e9-4255-b461-80feda1b09ab",
   "metadata": {
    "button": false,
    "new_sheet": false,
    "run_control": {
     "read_only": false
    }
   },
   "source": [
    "**TRY IT!** Is set_1 a subset of {1, 2, 3, 3, 4, 5}?"
   ]
  },
  {
   "cell_type": "code",
   "execution_count": 8,
   "id": "cafe990d-28df-46e4-a8ba-e21e190e2efc",
   "metadata": {
    "button": false,
    "new_sheet": false,
    "run_control": {
     "read_only": false
    }
   },
   "outputs": [
    {
     "data": {
      "text/plain": [
       "True"
      ]
     },
     "execution_count": 8,
     "metadata": {},
     "output_type": "execute_result"
    }
   ],
   "source": [
    "set_1.issubset({1, 2, 3, 3, 4, 5})"
   ]
  },
  {
   "cell_type": "markdown",
   "id": "aca9328e-788d-40bf-aee9-f9ecea5f8509",
   "metadata": {
    "button": false,
    "new_sheet": false,
    "run_control": {
     "read_only": false
    }
   },
   "source": [
    "## Data Structure - Dictionaries"
   ]
  },
  {
   "cell_type": "markdown",
   "id": "a0dc073c-6972-44b0-9a3f-eacdf3f4c469",
   "metadata": {
    "button": false,
    "new_sheet": false,
    "run_control": {
     "read_only": false
    }
   },
   "source": [
    "We introduced several sequential data type in the previous sections. Now we will introduce you a new and useful type - Dictionaries. It is a mapping type, which makes it a totally different type than the ones we talked before. Instead of using a sequence of numbers to index the elements (such as lists or tuples), dictionaries are indexed by keys, which could be a string, number or even tuple (but not list). A dictionary is a key-value pairs, and each key maps to a corresponding value. It is defined by using a pair of braces { }, while the elements are a list of comma separated key:value pairs (note the key:value pair is separated by the colon, with key at front and value at the end). "
   ]
  },
  {
   "cell_type": "code",
   "execution_count": 1,
   "id": "67c4d1e8-1b28-432a-b83b-99392fb3e2da",
   "metadata": {
    "button": false,
    "new_sheet": false,
    "run_control": {
     "read_only": false
    }
   },
   "outputs": [
    {
     "data": {
      "text/plain": [
       "{'apple': 3, 'oragne': 4, 'pear': 2}"
      ]
     },
     "execution_count": 1,
     "metadata": {},
     "output_type": "execute_result"
    }
   ],
   "source": [
    "dict_1 = {'apple':3, 'oragne':4, 'pear':2}\n",
    "dict_1"
   ]
  },
  {
   "cell_type": "markdown",
   "id": "f099190b-f716-4527-aeda-f73c6c4ddde8",
   "metadata": {
    "button": false,
    "new_sheet": false,
    "run_control": {
     "read_only": false
    }
   },
   "source": [
    "Within a dictionary, elements are stored without order, therefore, you can not access a dictionary based on a sequence of index numbers. To get access to a dictionary, we need to use the key of the element - dictionary[key]. \n",
    "\n",
    "**TRY IT!** Get the element 'apple' from dict_1."
   ]
  },
  {
   "cell_type": "code",
   "execution_count": 2,
   "id": "913fb9c7-f7b8-47b2-8a99-bbfaf1014db3",
   "metadata": {
    "button": false,
    "new_sheet": false,
    "run_control": {
     "read_only": false
    }
   },
   "outputs": [
    {
     "data": {
      "text/plain": [
       "3"
      ]
     },
     "execution_count": 2,
     "metadata": {},
     "output_type": "execute_result"
    }
   ],
   "source": [
    "dict_1['apple']"
   ]
  },
  {
   "cell_type": "markdown",
   "id": "7b024a20-f6b0-46c9-8695-91259f775e88",
   "metadata": {
    "button": false,
    "new_sheet": false,
    "run_control": {
     "read_only": false
    }
   },
   "source": [
    "We could get all the keys in a dictionary by using the *keys* method, or all the values by using the method *values*.\n",
    "\n",
    "**TRY IT** Get all the keys and values from dict_1. "
   ]
  },
  {
   "cell_type": "code",
   "execution_count": 3,
   "id": "7219c45c-6319-42da-9afe-ff07fc3cf820",
   "metadata": {
    "button": false,
    "new_sheet": false,
    "run_control": {
     "read_only": false
    }
   },
   "outputs": [
    {
     "data": {
      "text/plain": [
       "dict_keys(['apple', 'oragne', 'pear'])"
      ]
     },
     "execution_count": 3,
     "metadata": {},
     "output_type": "execute_result"
    }
   ],
   "source": [
    "dict_1.keys()"
   ]
  },
  {
   "cell_type": "code",
   "execution_count": 4,
   "id": "764542a4-b82d-4779-ab66-9b64c0db1889",
   "metadata": {
    "button": false,
    "new_sheet": false,
    "run_control": {
     "read_only": false
    }
   },
   "outputs": [
    {
     "data": {
      "text/plain": [
       "dict_values([3, 4, 2])"
      ]
     },
     "execution_count": 4,
     "metadata": {},
     "output_type": "execute_result"
    }
   ],
   "source": [
    "dict_1.values()"
   ]
  },
  {
   "cell_type": "markdown",
   "id": "e991f237-1e3c-4d07-8f08-5cde830e6d97",
   "metadata": {
    "button": false,
    "new_sheet": false,
    "run_control": {
     "read_only": false
    }
   },
   "source": [
    "We could also get the size of a dictionary by using the *len* function. "
   ]
  },
  {
   "cell_type": "code",
   "execution_count": 5,
   "id": "916d5164-6675-478c-82fe-8574a9415132",
   "metadata": {
    "button": false,
    "new_sheet": false,
    "run_control": {
     "read_only": false
    }
   },
   "outputs": [
    {
     "data": {
      "text/plain": [
       "3"
      ]
     },
     "execution_count": 5,
     "metadata": {},
     "output_type": "execute_result"
    }
   ],
   "source": [
    "len(dict_1)"
   ]
  },
  {
   "cell_type": "markdown",
   "id": "f6fde264-b864-4973-b3e1-0066de38ec78",
   "metadata": {
    "button": false,
    "new_sheet": false,
    "run_control": {
     "read_only": false
    }
   },
   "source": [
    "We could define an empty dictionary and then fill in the element later. Or we could turn a list of tuples with (key, value) pairs to a dictionary. \n",
    "\n",
    "**TRY IT!** Define an empty dictionary named *school_dict* and add value \"UCF\":\"Orlando\"."
   ]
  },
  {
   "cell_type": "code",
   "execution_count": 39,
   "id": "887bd285-1249-4e1b-9be3-a2035e3f25ca",
   "metadata": {
    "button": false,
    "new_sheet": false,
    "run_control": {
     "read_only": false
    }
   },
   "outputs": [
    {
     "data": {
      "text/plain": [
       "{'UCF': 'Florida'}"
      ]
     },
     "execution_count": 39,
     "metadata": {},
     "output_type": "execute_result"
    }
   ],
   "source": [
    "school_dict = {}\n",
    "school_dict['UCF'] = 'Florida'\n",
    "school_dict"
   ]
  },
  {
   "cell_type": "markdown",
   "id": "2c04f3fe-aed8-4505-bc06-7b2e0ba63374",
   "metadata": {
    "button": false,
    "new_sheet": false,
    "run_control": {
     "read_only": false
    }
   },
   "source": [
    "**TRY IT!** Add another element \"Oxford\":\"UK\" to *school_dict*."
   ]
  },
  {
   "cell_type": "code",
   "execution_count": 40,
   "id": "9130c4ac-b865-4fda-a2b1-5ac7e2bcddc5",
   "metadata": {
    "button": false,
    "new_sheet": false,
    "run_control": {
     "read_only": false
    }
   },
   "outputs": [
    {
     "data": {
      "text/plain": [
       "{'UCF': 'Florida', 'Oxford': 'UK'}"
      ]
     },
     "execution_count": 40,
     "metadata": {},
     "output_type": "execute_result"
    }
   ],
   "source": [
    "school_dict['Oxford'] = 'UK'\n",
    "school_dict"
   ]
  },
  {
   "cell_type": "markdown",
   "id": "7a6b099e-6172-4d8a-bd3a-0bf41185c54c",
   "metadata": {
    "button": false,
    "new_sheet": false,
    "run_control": {
     "read_only": false
    }
   },
   "source": [
    "**TRY IT!** Turn the list of tuples *[(\"UC Berkeley\", \"USA\"), ('Oxford', 'UK')]* into a dictionary."
   ]
  },
  {
   "cell_type": "code",
   "execution_count": 48,
   "id": "b786d5cf-00f8-4a88-b25d-080f590496aa",
   "metadata": {
    "button": false,
    "new_sheet": false,
    "run_control": {
     "read_only": false
    }
   },
   "outputs": [
    {
     "data": {
      "text/plain": [
       "{'UCF': 'Orlando',\n",
       " 'UC Berkeley': 'California',\n",
       " 'Oxford': 'UK',\n",
       " 'This is a number': 4}"
      ]
     },
     "execution_count": 48,
     "metadata": {},
     "output_type": "execute_result"
    }
   ],
   "source": [
    "new = dict([(\"UCF\", \"Orlando\"), (\"UC Berkeley\", \"California\"), ('Oxford', 'UK'), (\"This is a number\", 4)])\n",
    "new"
   ]
  },
  {
   "cell_type": "markdown",
   "id": "8a7d2247-ae8f-4ac6-9c48-ef15f648be90",
   "metadata": {
    "button": false,
    "new_sheet": false,
    "run_control": {
     "read_only": false
    }
   },
   "source": [
    "We could also check if an element belongs to a dictionary using the operator *in*. \n",
    "\n",
    "**TRY IT!** Determine if \"UC Berkeley\" is in *school_dict*. "
   ]
  },
  {
   "cell_type": "code",
   "execution_count": 49,
   "id": "418b0182-7c3e-4e17-8af5-eb972fbfaac7",
   "metadata": {
    "button": false,
    "new_sheet": false,
    "run_control": {
     "read_only": false
    }
   },
   "outputs": [
    {
     "data": {
      "text/plain": [
       "False"
      ]
     },
     "execution_count": 49,
     "metadata": {},
     "output_type": "execute_result"
    }
   ],
   "source": [
    "\"UC Berkeley\" in school_dict"
   ]
  },
  {
   "cell_type": "markdown",
   "id": "72cc139f-d0fe-48d3-b117-3465374d1793",
   "metadata": {
    "button": false,
    "new_sheet": false,
    "run_control": {
     "read_only": false
    }
   },
   "source": [
    "**TRY IT!** Determine whether \"Harvard\" is not in *school_dict*."
   ]
  },
  {
   "cell_type": "code",
   "execution_count": 50,
   "id": "e2a5edca-9cce-421c-93dc-aaad8825c17a",
   "metadata": {
    "button": false,
    "new_sheet": false,
    "run_control": {
     "read_only": false
    }
   },
   "outputs": [
    {
     "data": {
      "text/plain": [
       "True"
      ]
     },
     "execution_count": 50,
     "metadata": {},
     "output_type": "execute_result"
    }
   ],
   "source": [
    "\"Harvard\" not in school_dict"
   ]
  },
  {
   "cell_type": "markdown",
   "id": "ed4c752e-301f-4d8e-bbf8-9a830f67567d",
   "metadata": {
    "button": false,
    "new_sheet": false,
    "run_control": {
     "read_only": false
    }
   },
   "source": [
    "We could also use the *list* function to turn a dictionary with a list of keys. For example:"
   ]
  },
  {
   "cell_type": "code",
   "execution_count": 11,
   "id": "d78f159a-5311-4b62-9f00-36f3ead466e5",
   "metadata": {
    "button": false,
    "new_sheet": false,
    "run_control": {
     "read_only": false
    },
    "scrolled": true
   },
   "outputs": [
    {
     "data": {
      "text/plain": [
       "['UC Berkeley', 'Oxford']"
      ]
     },
     "execution_count": 11,
     "metadata": {},
     "output_type": "execute_result"
    }
   ],
   "source": [
    "list(school_dict)"
   ]
  },
  {
   "cell_type": "markdown",
   "id": "a7ea8090-514e-4c5c-be5d-3ed9e7beb384",
   "metadata": {
    "button": false,
    "new_sheet": false,
    "run_control": {
     "read_only": false
    }
   },
   "source": [
    "## Numpy Arrays"
   ]
  },
  {
   "cell_type": "markdown",
   "id": "79682448-b588-44f3-bb15-11e679045df5",
   "metadata": {
    "button": false,
    "new_sheet": false,
    "run_control": {
     "read_only": false
    }
   },
   "source": [
    "In the 2nd half of this course, we will study the numerical methods by using Python. We will use array/matrix a lot later in the book. Therefore, here we are going to introduce the most common way to handle arrays in Python using the [Numpy module](http://www.numpy.org). Numpy is probably the most fundamental numerical computing module in Python. \n",
    "\n",
    "NumPy is important in scientific computing, it is coded both in Python and C (for speed). On its website, a few important features for Numpy is listed:\n",
    "\n",
    "* a powerful N-dimensional array object\n",
    "* sophisticated (broadcasting) functions\n",
    "* tools for integrating C/C++ and Fortran code\n",
    "* useful linear algebra, Fourier transform, and random number capabilities\n",
    "\n",
    "Here we will only introduce you the Numpy array which is related to the data structure, but we will gradually touch on other aspects of Numpy in the following chapters. "
   ]
  },
  {
   "cell_type": "markdown",
   "id": "137d3b46-b9b9-446b-a75d-55cb6fa3c37b",
   "metadata": {
    "button": false,
    "new_sheet": false,
    "run_control": {
     "read_only": false
    }
   },
   "source": [
    "In order to use Numpy module, we need to import it first. A conventional way to import it is to use \"np\" as a shortened name."
   ]
  },
  {
   "cell_type": "code",
   "execution_count": 1,
   "id": "657a91ff-b280-4b79-bdda-1b99de071809",
   "metadata": {
    "button": false,
    "new_sheet": false,
    "run_control": {
     "read_only": false
    }
   },
   "outputs": [],
   "source": [
    "import numpy as np"
   ]
  },
  {
   "cell_type": "markdown",
   "id": "719fd5ba-7279-40f6-941e-88aced0c8343",
   "metadata": {
    "button": false,
    "new_sheet": false,
    "run_control": {
     "read_only": false
    }
   },
   "source": [
    "**WARNING!** Of course, you could call it any name, but conventionally, \"np\" is accepted by the whole community and it is a good practice to use it for obvious purposes. "
   ]
  },
  {
   "cell_type": "markdown",
   "id": "47f8a593-d788-432a-b9b4-356c82c80671",
   "metadata": {
    "button": false,
    "new_sheet": false,
    "run_control": {
     "read_only": false
    }
   },
   "source": [
    "To define an array in Python, you could use the *np.array* function to convert a list. \n",
    "\n",
    "**TRY IT!** Create the following arrays:\n",
    "\n",
    "$x = \\begin{pmatrix} \n",
    "1 & 4 & 3 \\\\\n",
    "\\end{pmatrix}$\n",
    "\n",
    "$y = \\begin{pmatrix} \n",
    "1 & 4 & 3 \\\\\n",
    "9 & 2 & 7 \\\\\n",
    "\\end{pmatrix}$"
   ]
  },
  {
   "cell_type": "code",
   "execution_count": 2,
   "id": "16c55e38-03fb-4c6f-80f7-dec61e6dbc22",
   "metadata": {
    "button": false,
    "new_sheet": false,
    "run_control": {
     "read_only": false
    }
   },
   "outputs": [
    {
     "data": {
      "text/plain": [
       "array([1, 4, 3])"
      ]
     },
     "execution_count": 2,
     "metadata": {},
     "output_type": "execute_result"
    }
   ],
   "source": [
    "x = np.array([1, 4, 3]) #This turns a list into an array.\n",
    "x"
   ]
  },
  {
   "cell_type": "code",
   "execution_count": 3,
   "id": "e486de5e-5d3d-4a1c-a1a4-ca5ae63873a9",
   "metadata": {
    "button": false,
    "new_sheet": false,
    "run_control": {
     "read_only": false
    }
   },
   "outputs": [
    {
     "data": {
      "text/plain": [
       "array([[1, 4, 3],\n",
       "       [9, 2, 7]])"
      ]
     },
     "execution_count": 3,
     "metadata": {},
     "output_type": "execute_result"
    }
   ],
   "source": [
    "y = np.array([[1, 4, 3], [9, 2, 7]]) #A list of lists is a 2d list.\n",
    "y"
   ]
  },
  {
   "cell_type": "markdown",
   "id": "2248e775-9e8c-4fd0-9142-60b325c3130e",
   "metadata": {
    "button": false,
    "new_sheet": false,
    "run_control": {
     "read_only": false
    }
   },
   "source": [
    "**NOTE!** A 2-D array could use a nested lists to represent, with the inner list represent each row. "
   ]
  },
  {
   "cell_type": "markdown",
   "id": "e0d19b93-f76c-4af3-a438-0264459272dc",
   "metadata": {
    "button": false,
    "new_sheet": false,
    "run_control": {
     "read_only": false
    }
   },
   "source": [
    "Many times we would like to know the size or length of an array. The array *shape* attribute is called on an array M and returns a 2 × 3 array where the first element is the number of rows in the matrix M and the second element is the number of columns in M. Note that the output of the *shape* attribute is a tuple. The *size* attribute is called on an array M and returns the total number of elements in matrix M.\n",
    "\n",
    "**TRY IT!** Find the rows, columns and the total size for array y."
   ]
  },
  {
   "cell_type": "code",
   "execution_count": 4,
   "id": "a239682f-f7c3-492f-8852-4a56865ab8d5",
   "metadata": {
    "button": false,
    "new_sheet": false,
    "run_control": {
     "read_only": false
    }
   },
   "outputs": [
    {
     "data": {
      "text/plain": [
       "(2, 3)"
      ]
     },
     "execution_count": 4,
     "metadata": {},
     "output_type": "execute_result"
    }
   ],
   "source": [
    "y.shape"
   ]
  },
  {
   "cell_type": "code",
   "execution_count": 5,
   "id": "cb949df8-86b7-4a8a-aeec-a5bbc28f2a4e",
   "metadata": {
    "button": false,
    "new_sheet": false,
    "run_control": {
     "read_only": false
    }
   },
   "outputs": [
    {
     "data": {
      "text/plain": [
       "6"
      ]
     },
     "execution_count": 5,
     "metadata": {},
     "output_type": "execute_result"
    }
   ],
   "source": [
    "y.size"
   ]
  },
  {
   "cell_type": "markdown",
   "id": "8addc454-d457-40c0-b610-18adc907a738",
   "metadata": {
    "button": false,
    "new_sheet": false,
    "run_control": {
     "read_only": false
    }
   },
   "source": [
    "**NOTE!** You may notice the difference that we only use *y.shape* instead of *y.shape()*, this is because *shape* is an attribute rather than a method in this array object. We will introduce more of the object-oriented programming in a later chapter. For now, you need to remember that when we call a method in an object, we need to use the parentheses, while the attribute don't.   "
   ]
  },
  {
   "cell_type": "markdown",
   "id": "973ce3bb-b707-4d52-bed8-c0b3ffae5285",
   "metadata": {
    "button": false,
    "new_sheet": false,
    "run_control": {
     "read_only": false
    }
   },
   "source": [
    "Very often we would like to generate arrays that have a structure or pattern. For instance, we may wish to create the array z = [1 2 3 ... 2000]. It would be very cumbersome to type the entire description of z into Python. For generating arrays that are in order and evenly spaced, it is useful to use the *arange* function in Numpy.\n",
    "\n",
    "**TRY IT!** Create an array *z* from 1 to 2000 with an increment 1. "
   ]
  },
  {
   "cell_type": "code",
   "execution_count": 6,
   "id": "a900ba35-56aa-4c46-947e-d79d02b664c1",
   "metadata": {
    "button": false,
    "new_sheet": false,
    "run_control": {
     "read_only": false
    }
   },
   "outputs": [
    {
     "data": {
      "text/plain": [
       "array([   1,    2,    3, ..., 1997, 1998, 1999])"
      ]
     },
     "execution_count": 6,
     "metadata": {},
     "output_type": "execute_result"
    }
   ],
   "source": [
    "z = np.arange(1, 2000, 1)\n",
    "z"
   ]
  },
  {
   "cell_type": "markdown",
   "id": "793346f2-4ae2-4ed9-848f-bfe1aae86251",
   "metadata": {
    "button": false,
    "new_sheet": false,
    "run_control": {
     "read_only": false
    }
   },
   "source": [
    "Sometimes we want to guarantee a start and end point for an array but still have evenly spaced elements. For instance, we may want an array that starts at 1, ends at 8, and has exactly 10 elements. For this purpose you can use the function *np.linspace*. *linspace* takes three input values separated by commas. So *A = linspace(a,b,n)* generates an array of n equally spaced elements starting from a and ending at b.\n",
    "\n",
    "**TRY IT!** Use *linspace* to generate an array starting at 3, ending at 9, and containing 10 elements."
   ]
  },
  {
   "cell_type": "code",
   "execution_count": 314,
   "id": "3f824c66-a025-42a0-9019-8ad6b84ec388",
   "metadata": {
    "button": false,
    "new_sheet": false,
    "run_control": {
     "read_only": false
    }
   },
   "outputs": [
    {
     "data": {
      "text/plain": [
       "array([3.        , 3.66666667, 4.33333333, 5.        , 5.66666667,\n",
       "       6.33333333, 7.        , 7.66666667, 8.33333333, 9.        ])"
      ]
     },
     "execution_count": 314,
     "metadata": {},
     "output_type": "execute_result"
    }
   ],
   "source": [
    "x = np.linspace(3, 9, 10)\n",
    "x"
   ]
  },
  {
   "cell_type": "markdown",
   "id": "689f176e-abd6-4dfb-94b2-c99cbff22825",
   "metadata": {
    "button": false,
    "new_sheet": false,
    "run_control": {
     "read_only": false
    }
   },
   "source": [
    "Getting access to the 1D numpy array is similar to what we described for lists or tuples, it has an index to indicate the location. For example:"
   ]
  },
  {
   "cell_type": "code",
   "execution_count": 315,
   "id": "94d2f1d7-f185-4e0d-aa99-2f5643cf60c1",
   "metadata": {
    "button": false,
    "new_sheet": false,
    "run_control": {
     "read_only": false
    }
   },
   "outputs": [
    {
     "data": {
      "text/plain": [
       "3.6666666666666665"
      ]
     },
     "execution_count": 315,
     "metadata": {},
     "output_type": "execute_result"
    }
   ],
   "source": [
    "# get the 2nd element of x\n",
    "x[1]"
   ]
  },
  {
   "cell_type": "code",
   "execution_count": 316,
   "id": "b68541ee-c011-4fc7-a773-5c9ebd204ef6",
   "metadata": {
    "button": false,
    "new_sheet": false,
    "run_control": {
     "read_only": false
    }
   },
   "outputs": [
    {
     "data": {
      "text/plain": [
       "array([3.66666667, 4.33333333, 5.        , 5.66666667, 6.33333333,\n",
       "       7.        , 7.66666667, 8.33333333, 9.        ])"
      ]
     },
     "execution_count": 316,
     "metadata": {},
     "output_type": "execute_result"
    }
   ],
   "source": [
    "# get all the element after the 2nd element of x\n",
    "x[1:]"
   ]
  },
  {
   "cell_type": "code",
   "execution_count": 317,
   "id": "52f15486-66f8-45af-8905-5f5d91605a56",
   "metadata": {
    "button": false,
    "new_sheet": false,
    "run_control": {
     "read_only": false
    }
   },
   "outputs": [
    {
     "data": {
      "text/plain": [
       "9.0"
      ]
     },
     "execution_count": 317,
     "metadata": {},
     "output_type": "execute_result"
    }
   ],
   "source": [
    "# get the last element of x\n",
    "x[-1]"
   ]
  },
  {
   "cell_type": "markdown",
   "id": "3364b20d-bcb3-4800-84c4-baf689ab8f7a",
   "metadata": {
    "button": false,
    "new_sheet": false,
    "run_control": {
     "read_only": false
    }
   },
   "source": [
    "You can reassign a value of an array by using array indexing and the assignment operator. You can reassign multiple elements to a single number using array indexing on the left side. You can also reassign multiple elements of an array as long as both the number of elements being assigned and the number of elements assigned is the same. You can create an array using array indexing."
   ]
  },
  {
   "cell_type": "markdown",
   "id": "bfa49fd6-ac0d-47af-b7c7-dec80d7a2e19",
   "metadata": {
    "button": false,
    "new_sheet": false,
    "run_control": {
     "read_only": false
    }
   },
   "source": [
    "**TRY IT!** Let a = [1, 2, 3, 4, 5, 6]. Reassign the fourth element of A to 7. Reassign the first, second, and thrid elements to 1. Reassign the second, third, and fourth elements to 9, 8, and 7. "
   ]
  },
  {
   "cell_type": "code",
   "execution_count": 19,
   "id": "7d2b5f7d-2084-4db8-93f0-9ba05a9096be",
   "metadata": {
    "button": false,
    "new_sheet": false,
    "run_control": {
     "read_only": false
    }
   },
   "outputs": [
    {
     "data": {
      "text/plain": [
       "array([1, 2, 3, 4, 5, 6])"
      ]
     },
     "execution_count": 19,
     "metadata": {},
     "output_type": "execute_result"
    }
   ],
   "source": [
    "a = np.arange(1, 7)\n",
    "a"
   ]
  },
  {
   "cell_type": "code",
   "execution_count": 20,
   "id": "fa775cd4-0b82-4994-b73d-b75aa5b0799e",
   "metadata": {
    "button": false,
    "new_sheet": false,
    "run_control": {
     "read_only": false
    }
   },
   "outputs": [
    {
     "data": {
      "text/plain": [
       "array([1, 2, 3, 7, 5, 6])"
      ]
     },
     "execution_count": 20,
     "metadata": {},
     "output_type": "execute_result"
    }
   ],
   "source": [
    "a[3] = 7\n",
    "a"
   ]
  },
  {
   "cell_type": "code",
   "execution_count": 21,
   "id": "2f23cf8c-7570-4b1d-b69f-120dc920e0ac",
   "metadata": {
    "button": false,
    "new_sheet": false,
    "run_control": {
     "read_only": false
    }
   },
   "outputs": [
    {
     "data": {
      "text/plain": [
       "array([1, 1, 1, 7, 5, 6])"
      ]
     },
     "execution_count": 21,
     "metadata": {},
     "output_type": "execute_result"
    }
   ],
   "source": [
    "a[:3] = 1\n",
    "a"
   ]
  },
  {
   "cell_type": "code",
   "execution_count": 22,
   "id": "6676eb29-9797-4fee-8b4b-6b8afdc6dc52",
   "metadata": {
    "button": false,
    "new_sheet": false,
    "run_control": {
     "read_only": false
    }
   },
   "outputs": [
    {
     "data": {
      "text/plain": [
       "array([1, 9, 8, 7, 5, 6])"
      ]
     },
     "execution_count": 22,
     "metadata": {},
     "output_type": "execute_result"
    }
   ],
   "source": [
    "a[1:4] = [9, 8, 7]\n",
    "a"
   ]
  },
  {
   "cell_type": "markdown",
   "id": "2774b446-791f-4569-9e86-692e712e3dcc",
   "metadata": {
    "button": false,
    "new_sheet": false,
    "run_control": {
     "read_only": false
    }
   },
   "source": [
    "Basic arithmetic is defined for arrays. However, there are operations between a scalar (a single number) and an array and operations between two arrays. We will start with operations between a scalar and an array. To illustrate, let c be a scalar, and b be a matrix.\n",
    "\n",
    "*b + c*, *b − c*, *b * c* and *b / c* adds a to every element of b, subtracts c from every element of b, multiplies every element of b by c, and divides every element of b by c, respectively.\n",
    "\n",
    "**TRY IT!** Let $b = \\begin{pmatrix} \n",
    "1 & 2 \\\\\n",
    "3 & 4  \\\\\n",
    "\\end{pmatrix}$. Add and substract 2 from b. Multiply and divide b by 2. Square every element of b. Let c be a scalar. On your own, verify the reflexivity of scalar addition and multiplication: b + c = c + b and cb = bc."
   ]
  },
  {
   "cell_type": "code",
   "execution_count": 24,
   "id": "2f3a0ca6-8be3-44fe-8dab-1fc97d549b6f",
   "metadata": {
    "button": false,
    "new_sheet": false,
    "run_control": {
     "read_only": false
    }
   },
   "outputs": [
    {
     "data": {
      "text/plain": [
       "array([[ 3.,  4.],\n",
       "       [ 5.,  6.]])"
      ]
     },
     "execution_count": 24,
     "metadata": {},
     "output_type": "execute_result"
    }
   ],
   "source": [
    "b + 2"
   ]
  },
  {
   "cell_type": "code",
   "execution_count": 25,
   "id": "635b7786-8cc6-4bee-a407-e53a4e9ed58c",
   "metadata": {
    "button": false,
    "new_sheet": false,
    "run_control": {
     "read_only": false
    }
   },
   "outputs": [
    {
     "data": {
      "text/plain": [
       "array([[-1.,  0.],\n",
       "       [ 1.,  2.]])"
      ]
     },
     "execution_count": 25,
     "metadata": {},
     "output_type": "execute_result"
    }
   ],
   "source": [
    "b - 2"
   ]
  },
  {
   "cell_type": "code",
   "execution_count": 26,
   "id": "d0e13a6c-2944-4a36-940f-43d5ddf36cb6",
   "metadata": {
    "button": false,
    "new_sheet": false,
    "run_control": {
     "read_only": false
    }
   },
   "outputs": [
    {
     "data": {
      "text/plain": [
       "array([[ 2.,  4.],\n",
       "       [ 6.,  8.]])"
      ]
     },
     "execution_count": 26,
     "metadata": {},
     "output_type": "execute_result"
    }
   ],
   "source": [
    "2 * b"
   ]
  },
  {
   "cell_type": "code",
   "execution_count": 27,
   "id": "1e8c6d05-db17-4fce-af91-dd67523ab8ea",
   "metadata": {
    "button": false,
    "new_sheet": false,
    "run_control": {
     "read_only": false
    }
   },
   "outputs": [
    {
     "data": {
      "text/plain": [
       "array([[ 0.5,  1. ],\n",
       "       [ 1.5,  2. ]])"
      ]
     },
     "execution_count": 27,
     "metadata": {},
     "output_type": "execute_result"
    }
   ],
   "source": [
    "b / 2"
   ]
  },
  {
   "cell_type": "code",
   "execution_count": 28,
   "id": "e7d9c1fa-5f06-4d31-92b5-d445b68ce3b0",
   "metadata": {
    "button": false,
    "new_sheet": false,
    "run_control": {
     "read_only": false
    }
   },
   "outputs": [
    {
     "data": {
      "text/plain": [
       "array([[  1.,   4.],\n",
       "       [  9.,  16.]])"
      ]
     },
     "execution_count": 28,
     "metadata": {},
     "output_type": "execute_result"
    }
   ],
   "source": [
    "b**2"
   ]
  },
  {
   "cell_type": "markdown",
   "id": "5a469b94-4a16-4c1e-a2df-58970238789f",
   "metadata": {
    "button": false,
    "new_sheet": false,
    "run_control": {
     "read_only": false
    }
   },
   "source": [
    "Describing operations between two matrices is more complicated. Let b and d be two matrices of the same size. b − d takes every element of b and subtracts the corresponding element of d. Similarly, b + d adds every element of d to the corresponding element of b.\n",
    "\n",
    "**TRY IT!** Let $b = \\begin{pmatrix} \n",
    "1 & 2 \\\\\n",
    "3 & 4  \\\\\n",
    "\\end{pmatrix}$ and $d = \\begin{pmatrix} \n",
    "3 & 4 \\\\\n",
    "5 & 6  \\\\\n",
    "\\end{pmatrix}$. Compute b + d and b - d. "
   ]
  },
  {
   "cell_type": "code",
   "execution_count": 29,
   "id": "9e08ac56-22b2-42a1-a8d5-518b6e510fed",
   "metadata": {
    "button": false,
    "new_sheet": false,
    "run_control": {
     "read_only": false
    }
   },
   "outputs": [],
   "source": [
    "b = np.array([[1, 2], [3, 4]])\n",
    "d = np.array([[3, 4], [5, 6]])"
   ]
  },
  {
   "cell_type": "code",
   "execution_count": 30,
   "id": "e86efc70-26cb-45e7-8e52-130f1b9b425f",
   "metadata": {
    "button": false,
    "new_sheet": false,
    "run_control": {
     "read_only": false
    }
   },
   "outputs": [
    {
     "data": {
      "text/plain": [
       "array([[ 4,  6],\n",
       "       [ 8, 10]])"
      ]
     },
     "execution_count": 30,
     "metadata": {},
     "output_type": "execute_result"
    }
   ],
   "source": [
    "b + d"
   ]
  },
  {
   "cell_type": "code",
   "execution_count": 31,
   "id": "ef5302d6-a10a-4a63-a9b4-5017fde9f1cd",
   "metadata": {
    "button": false,
    "new_sheet": false,
    "run_control": {
     "read_only": false
    }
   },
   "outputs": [
    {
     "data": {
      "text/plain": [
       "array([[-2, -2],\n",
       "       [-2, -2]])"
      ]
     },
     "execution_count": 31,
     "metadata": {},
     "output_type": "execute_result"
    }
   ],
   "source": [
    "b - d"
   ]
  },
  {
   "cell_type": "markdown",
   "id": "c3f775b0-69dc-4b52-a0ef-7838dff8dc83",
   "metadata": {
    "button": false,
    "new_sheet": false,
    "run_control": {
     "read_only": false
    }
   },
   "source": [
    "There are two different kinds of matrix multiplication (and division). There is element-by-element matrix multiplication and standard matrix multiplication. For this section, we will only show how element-by-element matrix multiplication and division work. Standard matrix multiplication will be described in later chapter on Linear Algebra. Python takes the * symbol to mean element-by-element multiplication. For matrices b and d of the same size, b * d takes every element of b and multiplies it by the corresponding element of d. The same is true for / and **.\n",
    "\n",
    "**TRY IT!** Compute b * d, b / d, and b**d. "
   ]
  },
  {
   "cell_type": "code",
   "execution_count": 32,
   "id": "c665a132-475d-4923-9403-a71b189c0e2c",
   "metadata": {
    "button": false,
    "new_sheet": false,
    "run_control": {
     "read_only": false
    }
   },
   "outputs": [
    {
     "data": {
      "text/plain": [
       "array([[ 3,  8],\n",
       "       [15, 24]])"
      ]
     },
     "execution_count": 32,
     "metadata": {},
     "output_type": "execute_result"
    }
   ],
   "source": [
    "b * d"
   ]
  },
  {
   "cell_type": "code",
   "execution_count": 33,
   "id": "de06516e-a5bc-4b50-ab87-2a76fa5f572a",
   "metadata": {
    "button": false,
    "new_sheet": false,
    "run_control": {
     "read_only": false
    }
   },
   "outputs": [
    {
     "data": {
      "text/plain": [
       "array([[ 0.33333333,  0.5       ],\n",
       "       [ 0.6       ,  0.66666667]])"
      ]
     },
     "execution_count": 33,
     "metadata": {},
     "output_type": "execute_result"
    }
   ],
   "source": [
    "b / d"
   ]
  },
  {
   "cell_type": "code",
   "execution_count": 34,
   "id": "15d3d1f4-4059-40ce-b674-3497f747d6db",
   "metadata": {
    "button": false,
    "new_sheet": false,
    "run_control": {
     "read_only": false
    }
   },
   "outputs": [
    {
     "data": {
      "text/plain": [
       "array([[   1,   16],\n",
       "       [ 243, 4096]])"
      ]
     },
     "execution_count": 34,
     "metadata": {},
     "output_type": "execute_result"
    }
   ],
   "source": [
    "b**d"
   ]
  },
  {
   "cell_type": "markdown",
   "id": "8ff6c691-e6bd-4d6d-819d-e3540d35851a",
   "metadata": {
    "button": false,
    "new_sheet": false,
    "run_control": {
     "read_only": false
    }
   },
   "source": [
    "The transpose of an array, b, is an array, d, where b[i, j] = d[j, i]. In other words, the transpose switches the rows and the columns of b. You can transpose an array in Python using the array method *T*. \n",
    "\n",
    "**TRY IT!** Compute the transpose of array b. "
   ]
  },
  {
   "cell_type": "code",
   "execution_count": 35,
   "id": "1c2a36d9-4ec8-47ef-bbef-34dd356ad80c",
   "metadata": {
    "button": false,
    "new_sheet": false,
    "run_control": {
     "read_only": false
    }
   },
   "outputs": [
    {
     "data": {
      "text/plain": [
       "array([[1, 3],\n",
       "       [2, 4]])"
      ]
     },
     "execution_count": 35,
     "metadata": {},
     "output_type": "execute_result"
    }
   ],
   "source": [
    "b.T"
   ]
  },
  {
   "cell_type": "markdown",
   "id": "7abbba7a-6fea-4611-acda-5d57d269c1d4",
   "metadata": {
    "button": false,
    "new_sheet": false,
    "run_control": {
     "read_only": false
    }
   },
   "source": [
    "Numpy has many arithmetic functions, such as sin, cos, etc., can take arrays as input arguments. The output is the function evaluated for every element of the input array. A function that takes an array as input and performs the function on it is said to be **vectorized**. \n",
    "\n",
    "**TRY IT!** Compute *np.sqrt* for x = [1, 4, 9, 16]. "
   ]
  },
  {
   "cell_type": "code",
   "execution_count": 36,
   "id": "08f13bd6-5d62-4e4b-be32-981b72760e42",
   "metadata": {
    "button": false,
    "new_sheet": false,
    "run_control": {
     "read_only": false
    }
   },
   "outputs": [
    {
     "data": {
      "text/plain": [
       "array([ 1.,  2.,  3.,  4.])"
      ]
     },
     "execution_count": 36,
     "metadata": {},
     "output_type": "execute_result"
    }
   ],
   "source": [
    "x = [1, 4, 9, 16]\n",
    "np.sqrt(x)"
   ]
  },
  {
   "cell_type": "markdown",
   "id": "9b414999-da25-4087-beb3-55a7fa9476d5",
   "metadata": {
    "button": false,
    "new_sheet": false,
    "run_control": {
     "read_only": false
    }
   },
   "source": [
    "Logical operations are only defined between a scalar and an array and between two arrays of the same size. Between a scalar and an array, the logical operation is conducted between the scalar and each element of the array. Between two arrays, the logical operation is conducted element-by-element.\n",
    "\n",
    "**TRY IT!** Check which elements of the array x = [1, 2, 4, 5, 9, 3] are larger than 3. Check which elements in x are larger than the corresponding element in y = [0, 2, 3, 1, 2, 3]."
   ]
  },
  {
   "cell_type": "code",
   "execution_count": 37,
   "id": "7281027c-8894-4dbd-b047-dbc4056ca9d9",
   "metadata": {
    "button": false,
    "collapsed": true,
    "jupyter": {
     "outputs_hidden": true
    },
    "new_sheet": false,
    "run_control": {
     "read_only": false
    }
   },
   "outputs": [],
   "source": [
    "x = np.array([1, 2, 4, 5, 9, 3])\n",
    "y = np.array([0, 2, 3, 1, 2, 3])"
   ]
  },
  {
   "cell_type": "code",
   "execution_count": 38,
   "id": "1ca0c535-cd7b-49e3-8897-fc7bcb45cb02",
   "metadata": {
    "button": false,
    "new_sheet": false,
    "run_control": {
     "read_only": false
    }
   },
   "outputs": [
    {
     "data": {
      "text/plain": [
       "array([False, False,  True,  True,  True, False], dtype=bool)"
      ]
     },
     "execution_count": 38,
     "metadata": {},
     "output_type": "execute_result"
    }
   ],
   "source": [
    "x > 3"
   ]
  },
  {
   "cell_type": "code",
   "execution_count": 39,
   "id": "f08bbb46-4515-41ee-ac99-b538d482bc0b",
   "metadata": {
    "button": false,
    "new_sheet": false,
    "run_control": {
     "read_only": false
    }
   },
   "outputs": [
    {
     "data": {
      "text/plain": [
       "array([ True, False,  True,  True,  True, False], dtype=bool)"
      ]
     },
     "execution_count": 39,
     "metadata": {},
     "output_type": "execute_result"
    }
   ],
   "source": [
    "x > y"
   ]
  },
  {
   "cell_type": "markdown",
   "id": "6ca9603c-ce23-4889-9d16-77f1004eb5d5",
   "metadata": {
    "button": false,
    "new_sheet": false,
    "run_control": {
     "read_only": false
    }
   },
   "source": [
    "Python can index elements of an array that satisfy a logical expression. \n",
    "\n",
    "**TRY IT!** Let x be the same array as in the previous example. Create a variable y that contains all the elements of x that are strictly bigger than 3. Assign all the values of x that are bigger than 3, the value 0. "
   ]
  },
  {
   "cell_type": "code",
   "execution_count": 40,
   "id": "541f178e-bc43-4de2-b099-fad2821481e7",
   "metadata": {
    "button": false,
    "new_sheet": false,
    "run_control": {
     "read_only": false
    }
   },
   "outputs": [
    {
     "data": {
      "text/plain": [
       "array([4, 5, 9])"
      ]
     },
     "execution_count": 40,
     "metadata": {},
     "output_type": "execute_result"
    }
   ],
   "source": [
    "y = x[x > 3]\n",
    "y"
   ]
  },
  {
   "cell_type": "code",
   "execution_count": 41,
   "id": "ea79d3db-bc9f-40a2-ae45-63cf8073ddb4",
   "metadata": {
    "button": false,
    "new_sheet": false,
    "run_control": {
     "read_only": false
    }
   },
   "outputs": [
    {
     "data": {
      "text/plain": [
       "array([1, 2, 0, 0, 0, 3])"
      ]
     },
     "execution_count": 41,
     "metadata": {},
     "output_type": "execute_result"
    }
   ],
   "source": [
    "x[x > 3] = 0\n",
    "x"
   ]
  },
  {
   "cell_type": "markdown",
   "id": "4130ecc2-4634-4cb7-a094-fd5724d6f29a",
   "metadata": {
    "button": false,
    "new_sheet": false,
    "run_control": {
     "read_only": false
    }
   },
   "source": [
    "# Summary\n",
    "\n",
    "1. Storing, retrieving, and manipulating information and data is important in any science and engineering field. \n",
    "2. Variables are an important tool for handling data values.\n",
    "3. There are different data types for storing information in Python: int, float, boolean for single value, and strings, lists, tuples, sets, dictionaries for sequential data. \n",
    "4. Numpy array is a powerful object that used a lot in scientific computing. "
   ]
  },
  {
   "cell_type": "markdown",
   "id": "71cfce5e-6220-4745-92a6-9cfbf78c87c7",
   "metadata": {
    "button": false,
    "new_sheet": false,
    "run_control": {
     "read_only": false
    }
   },
   "source": [
    "# Problems\n",
    "\n",
    "1. Assign the value 2 to the variable x and the value 3 to the variable y. Clear just the variable x. \n",
    "\n",
    "2. Write a line of code that generates the following error:\n",
    "```\n",
    "NameError: name 'x' is not defined\n",
    "```\n",
    "\n",
    "3. Let x = 10 and y = 3. Write a line of code that will make each of the following assignments.\n",
    "\n",
    "```\n",
    "u = x + y\n",
    "v = xy\n",
    "w = x/y\n",
    "z = sin(x)\n",
    "r = 8sin(x) \n",
    "s = 5sin(xy)\n",
    "p = x**y\n",
    "```\n",
    "\n",
    "4. Show all the variables in the Jupyter notebook after you finish problem 3. \n",
    "\n",
    "5. Assign string '123' to the variable S. Convert the string into a float type and assign the output to the variable N. Verify that S is a string and N is a float using the *type* function. \n",
    "\n",
    "6. Assign the string 'HELLO' to the variable s1 and the string 'hello' to the variable s2. Use the *==* operator to show that they are not equal. Use the *==* operator to show that s1 and s2 are equal if the *lower* method is used on s1. Use the **==** operator to show that s1 and s2 are equal if *upper* method is used on s2. \n",
    "\n",
    "7. Use the *print* function to generate the following strings. \n",
    "    * The world 'Engineering' has 11 letters. \n",
    "    * The word 'Book' has 4 letters.\n",
    "    \n",
    "8. Check if 'Python' is in 'Python is great!'. \n",
    "\n",
    "9. Get the last word 'great' from 'Python is great!'\n",
    "\n",
    "10. Assign list [1, 8, 9, 15] to a variable *list_a* and insert 2 at index 1 using the *insert* method. Append 4 to the *list_a* using the *append* method. \n",
    "\n",
    "11. Sort the *list_a* in problem 10 in ascending order. \n",
    "\n",
    "12. Turn 'Python is great!' to a list. \n",
    "\n",
    "13. Create one tuple with element 'One', 1 and assign it to tuple_a\n",
    "\n",
    "14. Get the 2nd element in the tuple_a in problem 13. \n",
    "\n",
    "15. Get the unique element from (2, 3, 2, 3, 1, 2, 5). \n",
    "\n",
    "16. Assign (2, 3, 2) to set_a, and (1, 2, 3) to set_b. Get the following:\n",
    "    * union of set_a and set_b\n",
    "    * intersection of set_a and set_b\n",
    "    * difference of set_a to set_b using *difference* method\n",
    "\n",
    "17. Create a dictionary that has the keys 'A', 'B', 'C' with values 'a', 'b', 'c' individually. Print all the keys in the dictionary. \n",
    "\n",
    "18. Check if key 'B' is in the dictionary defined in problem 17. \n",
    "\n",
    "19. Create array x and y, where  x = [1, 4, 3, 2, 9, 4] and y=[2, 3, 4, 1, 2, 3]. Compute the assignments from Problem 3.\n",
    "\n",
    "20. Generate an array with size 100 evenly spaced between -10 to 10 using *linspace* function in Numpy.\n",
    "\n",
    "21. Let array_a be an array [-1, 0, 1, 2, 0, 3]. Write a command that will return an array consisting of all the elements of array_a that are larger than zero. Hint: Use logical expression as the index of the array.\n",
    "\n",
    "22. Create an array $y = \\begin{pmatrix} \n",
    "3 & 5 & 3 \\\\\n",
    "2 & 2 & 5 \\\\\n",
    "3 & 8 & 9 \\\\\n",
    "\\end{pmatrix}$ and calculate the transpose of the array. \n",
    "\n",
    "23. Create a zero array with size (2, 4). \n",
    "\n",
    "24. Change the 2nd column in the above array to 1.  \n",
    "\n",
    "25. Write a cell magic to clear all the variables in the Jupyter notebook"
   ]
  },
  {
   "cell_type": "code",
   "execution_count": 11,
   "id": "e33529f2-2d4a-4453-b764-1293ef54802a",
   "metadata": {},
   "outputs": [
    {
     "data": {
      "text/plain": [
       "\u001b[0;31mSignature:\u001b[0m \u001b[0mos\u001b[0m\u001b[0;34m.\u001b[0m\u001b[0mlistdir\u001b[0m\u001b[0;34m(\u001b[0m\u001b[0mpath\u001b[0m\u001b[0;34m=\u001b[0m\u001b[0;32mNone\u001b[0m\u001b[0;34m)\u001b[0m\u001b[0;34m\u001b[0m\u001b[0;34m\u001b[0m\u001b[0m\n",
       "\u001b[0;31mDocstring:\u001b[0m\n",
       "Return a list containing the names of the files in the directory.\n",
       "\n",
       "path can be specified as either str, bytes, or a path-like object.  If path is bytes,\n",
       "  the filenames returned will also be bytes; in all other circumstances\n",
       "  the filenames returned will be str.\n",
       "If path is None, uses the path='.'.\n",
       "On some platforms, path may also be specified as an open file descriptor;\\\n",
       "  the file descriptor must refer to a directory.\n",
       "  If this functionality is unavailable, using it raises NotImplementedError.\n",
       "\n",
       "The list is in arbitrary order.  It does not include the special\n",
       "entries '.' and '..' even if they are present in the directory.\n",
       "\u001b[0;31mType:\u001b[0m      builtin_function_or_method"
      ]
     },
     "metadata": {},
     "output_type": "display_data"
    }
   ],
   "source": [
    "os.listdir?"
   ]
  },
  {
   "cell_type": "code",
   "execution_count": 10,
   "id": "2aa35db0-fd0d-46bb-b3dd-1e28b48b1244",
   "metadata": {},
   "outputs": [],
   "source": [
    "import os\n"
   ]
  },
  {
   "cell_type": "code",
   "execution_count": null,
   "id": "f26c0c79-20c6-4296-aa05-1517cc0fa4e7",
   "metadata": {},
   "outputs": [],
   "source": []
  }
 ],
 "metadata": {
  "kernelspec": {
   "display_name": "Python [conda env:base] *",
   "language": "python",
   "name": "conda-base-py"
  },
  "language_info": {
   "codemirror_mode": {
    "name": "ipython",
    "version": 3
   },
   "file_extension": ".py",
   "mimetype": "text/x-python",
   "name": "python",
   "nbconvert_exporter": "python",
   "pygments_lexer": "ipython3",
   "version": "3.13.5"
  }
 },
 "nbformat": 4,
 "nbformat_minor": 5
}
