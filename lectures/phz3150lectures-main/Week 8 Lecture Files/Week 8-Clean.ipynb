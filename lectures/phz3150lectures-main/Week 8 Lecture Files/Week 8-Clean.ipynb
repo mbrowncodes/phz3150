{
 "cells": [
  {
   "cell_type": "markdown",
   "metadata": {},
   "source": [
    "# Week 8. Object-Oriented Programming"
   ]
  },
  {
   "cell_type": "markdown",
   "metadata": {},
   "source": [
    "### Python is an *object-oriented* programming language, which means:\n",
    "- Programs include class and method definitions.\n",
    "- Most of the computation is expressed in terms of operations on objects.\n",
    "- Objects often represent things in the real world which may be more complex than numbers for example, and methods often correspond to interactions between objects or with theirself."
   ]
  },
  {
   "cell_type": "markdown",
   "metadata": {},
   "source": [
    "## Classes, Objects, and Attributes"
   ]
  },
  {
   "cell_type": "code",
   "execution_count": 1,
   "metadata": {},
   "outputs": [],
   "source": [
    "import numpy as np"
   ]
  },
  {
   "cell_type": "markdown",
   "metadata": {},
   "source": [
    "A **class** is a definition of the structure that we want. Similar to a function, it is defined as a block of code, starting with the class statement. The syntax of defining a class is:\n",
    "\n",
    "```python\n",
    "class ClassName(superclass-optional):\n",
    "    \n",
    "    def __init__(self, arguments):\n",
    "        # define or assign object attributes\n",
    "        \n",
    "    def other_methods(self, arguments):\n",
    "        # body of the method\n",
    "\n",
    "```\n",
    "Note: the definition of a class is very similar to a function. It needs to be instantiated first before you can use it. For the class name, it is standard convention to use \"CapWords.\" The **superclass** is used when you want create a new class to **inherit** the attributes and methods from another already defined class. We will talk more about **inheritance** in the next section. The **\\_\\_init\\_\\_** is one of the special methods in Python classes that is run as soon as an object of a class is instantiated (created). It assigns initial values to the object before it is ready to be used. Note the two underscores at the beginning and end of the\n",
    "`init`, indicating this is a special method reserved for special use in the language.\n",
    "In this `init` method, you can assign attributes directly when you create the object. The `other_methods`\n",
    "functions are used to define the instance methods that will be applied on the attributes, just like functions we discussed before. You may notice that there is a parameter `self` for defining this method in the class. Why? A class instance method must have this extra argument as the first argument when you define it. This particular argument refers to the object itself; conventionally, we use `self` to name it. Through this self parameter, instance methods can freely access attributes and other methods in the same object. When we define or call an instance method within a class, we need to use this self parameter. Let us see an example below.\n",
    "\n",
    "**EXAMPLE:** Let instantiate an empty class called point which represents a point in 3 dimensional space. "
   ]
  },
  {
   "cell_type": "code",
   "execution_count": 3,
   "metadata": {},
   "outputs": [],
   "source": [
    "\n",
    "class Point():\n",
    "    \"\"\"Represents a point in 3-D space.\"\"\"\n"
   ]
  },
  {
   "cell_type": "markdown",
   "metadata": {},
   "source": [
    "To make an *object* of this class simply assign a variable.\n"
   ]
  },
  {
   "cell_type": "code",
   "execution_count": 4,
   "metadata": {},
   "outputs": [],
   "source": [
    "a = Point()"
   ]
  },
  {
   "cell_type": "markdown",
   "metadata": {},
   "source": [
    "If you try to check out what a is you see that it is referencing the Point object you defined:"
   ]
  },
  {
   "cell_type": "code",
   "execution_count": 6,
   "metadata": {},
   "outputs": [
    {
     "name": "stdout",
     "output_type": "stream",
     "text": [
      "<__main__.Point object at 0x10a750250>\n"
     ]
    }
   ],
   "source": [
    "print(a)"
   ]
  },
  {
   "cell_type": "markdown",
   "metadata": {},
   "source": [
    "$a$ is an ***object*** or *instance* of the class Point and it is stored in my memory at 0x110ed4910"
   ]
  },
  {
   "cell_type": "markdown",
   "metadata": {},
   "source": [
    "## Attributes\n",
    "\n",
    "*Atrributes* are named elements of an object.\n",
    "\n",
    "These attributes can be accessed by all the other methods (functions) defined in the class with `self.attribute`.\n",
    "\n",
    "You can assign values to the instance $a$ after it has been created with with the \".\" method :"
   ]
  },
  {
   "cell_type": "code",
   "execution_count": 9,
   "metadata": {},
   "outputs": [
    {
     "name": "stdout",
     "output_type": "stream",
     "text": [
      "5\n"
     ]
    }
   ],
   "source": [
    "#set some coordinates:\n",
    "a.x = 3\n",
    "a.y = 4\n",
    "a.z = 5\n",
    "print(a.z)"
   ]
  },
  {
   "cell_type": "markdown",
   "metadata": {},
   "source": [
    "Does this seem familiar?  `n = a.x` :  `m = np.pi`"
   ]
  },
  {
   "cell_type": "code",
   "execution_count": 10,
   "metadata": {},
   "outputs": [
    {
     "name": "stdout",
     "output_type": "stream",
     "text": [
      "<__main__.Point object at 0x10a750250> 3 4 5\n"
     ]
    }
   ],
   "source": [
    "print( a, a.x, a.y, a.z )"
   ]
  },
  {
   "cell_type": "markdown",
   "metadata": {},
   "source": [
    "### Attributes are mutable:\n"
   ]
  },
  {
   "cell_type": "code",
   "execution_count": 11,
   "metadata": {},
   "outputs": [
    {
     "name": "stdout",
     "output_type": "stream",
     "text": [
      "13.0\n"
     ]
    }
   ],
   "source": [
    "a.x = a.x + 5.  ## --> will work\n",
    "a.x +=5\n",
    "print( a.x )"
   ]
  },
  {
   "cell_type": "markdown",
   "metadata": {},
   "source": [
    "### Initializing an instance of a class\n",
    "\n",
    "The __init__ *dunder method* of a class will initialize the attributes when we create an object. We need to pass in the initial value for x, y, and z. We can use KWARGS so if we leave one out, it is defined by default.\n",
    "\n",
    "**EXAMPLE:** \n",
    "- Redefine the class *Point* with an `__init__` method that is initialized with x, y, and z attributes,  each with a default value of zero.\n",
    "- Create an instance of point $a$ with attributes x = 3, y = 4, and z =  5.\n",
    "- Print attributes x, y, and z."
   ]
  },
  {
   "cell_type": "code",
   "execution_count": 12,
   "metadata": {},
   "outputs": [],
   "source": [
    "class Point:\n",
    "\n",
    "    def __init__(self,x = None,y = None,z = None):\n",
    "        \"\"\"Initializes object of class Point with x,y,z coord.\"\"\"\n",
    "        self.x = x\n",
    "        self.y = y\n",
    "        self.z = z\n",
    "\n",
    "    "
   ]
  },
  {
   "cell_type": "code",
   "execution_count": 17,
   "metadata": {},
   "outputs": [
    {
     "name": "stdout",
     "output_type": "stream",
     "text": [
      "1 4 0\n"
     ]
    }
   ],
   "source": [
    "a = Point(1,4,0)\n",
    "\n",
    "print(a.x,a.y,a.z)"
   ]
  },
  {
   "cell_type": "markdown",
   "metadata": {},
   "source": [
    "### *Pure functions* \n",
    "do not change the objects passed to them and have no other effect on there attributes. They only return a value (which could be another object).\n",
    "\n",
    "**EXAMPLE:** \n",
    "- Create a pure function that will determine the distance from the origin to a point.\n",
    "- Print the distance from the origin to your point $a$."
   ]
  },
  {
   "cell_type": "code",
   "execution_count": 18,
   "metadata": {},
   "outputs": [],
   "source": [
    "def distance(point):\n",
    "    dist = np.sqrt(point.x**2 + point.y**2 + point.z**2)\n",
    "    return dist"
   ]
  },
  {
   "cell_type": "code",
   "execution_count": 19,
   "metadata": {},
   "outputs": [
    {
     "name": "stdout",
     "output_type": "stream",
     "text": [
      "4.123105625617661\n"
     ]
    }
   ],
   "source": [
    "print(distance(a))"
   ]
  },
  {
   "cell_type": "markdown",
   "metadata": {},
   "source": [
    "**EXAMPLE:** \n",
    "- Create a pure function `one_step` that will return a new point $b$ with 1 added to every coordinate."
   ]
  },
  {
   "cell_type": "code",
   "execution_count": 20,
   "metadata": {},
   "outputs": [],
   "source": [
    "def one_step(point):\n",
    "    step = Point()\n",
    "    step.x = point.x + 1\n",
    "    step.y = point.y + 1\n",
    "    step.z = point.z + 1\n",
    "    return step\n"
   ]
  },
  {
   "cell_type": "code",
   "execution_count": 21,
   "metadata": {},
   "outputs": [
    {
     "name": "stdout",
     "output_type": "stream",
     "text": [
      "0 2 33\n"
     ]
    }
   ],
   "source": [
    "c = Point(x = 0,y = 2,z = 33)\n",
    "print(c.x,c.y,c.z)"
   ]
  },
  {
   "cell_type": "code",
   "execution_count": 22,
   "metadata": {},
   "outputs": [
    {
     "name": "stdout",
     "output_type": "stream",
     "text": [
      "1 4 0\n",
      "2 5 1\n"
     ]
    }
   ],
   "source": [
    "print(a.x,a.y,a.z)\n",
    "\n",
    "b = one_step(a)\n",
    "\n",
    "print(b.x,b.y,b.z)"
   ]
  },
  {
   "cell_type": "markdown",
   "metadata": {},
   "source": [
    "### *Modifiers* \n",
    "functions that modify the objects they get as parameters:\n"
   ]
  },
  {
   "cell_type": "code",
   "execution_count": 23,
   "metadata": {},
   "outputs": [],
   "source": [
    "def change_the_point( my_point ):\n",
    "    \"\"\"Subtracts 1 from each coordinate of a point.\"\"\"\n",
    "    \n",
    "    # change the point's location by 3 and 7:\n",
    "    my_point.x = my_point.x - 1\n",
    "    my_point.y = my_point.y - 1\n",
    "    my_point.z = my_point.z - 1\n",
    "    \n",
    "    # return the new point\n",
    "    return my_point"
   ]
  },
  {
   "cell_type": "code",
   "execution_count": 24,
   "metadata": {},
   "outputs": [
    {
     "name": "stdout",
     "output_type": "stream",
     "text": [
      "0 3 -1\n"
     ]
    }
   ],
   "source": [
    "change_the_point(a)\n",
    "print(a.x,a.y,a.z)"
   ]
  },
  {
   "cell_type": "markdown",
   "metadata": {},
   "source": [
    "### *Methods*\n",
    "Functions that are associated with a particular class.\n",
    "\n",
    "- Methods are defined inside a class definition so as to make the relationship between the class and the method explicit.\n",
    "- Methods are contained in the instance and refer to the instance as *self*. Self is *always* the first argument of any method.\n",
    "\n",
    "**EXAMPLE:** \n",
    "- Let's add a *method* `print_point` that prints the x, y, and z coordinates of our point in a descriptive format.\n",
    "- Create a new instance of Point, $c$, with x = -1, y = 5, and z = -3.\n",
    "- call the `print_point` method for $c$.\n",
    "- While we are at it, let's copy/modify our `distance_point` in to make it a method in our class of Point.\n",
    "- Make the method `distance_point` store the distance from the origin as an *attribute*.\n",
    "- Call `distance_point` and print the distance."
   ]
  },
  {
   "cell_type": "code",
   "execution_count": 26,
   "metadata": {},
   "outputs": [],
   "source": [
    "class Point:\n",
    "    \"\"\"Represents a point in 2-D space.\"\"\"\n",
    "\n",
    "    def __init__(self,x = 0, y = 0, z = 0):\n",
    "        self.x = x\n",
    "        self.y = y\n",
    "        self.z = z   \n",
    "    \n",
    "    def distance_point(self):\n",
    "        dist = np.sqrt(self.x**2 + self.y**2 + self.z**2)\n",
    "        self.distance = dist\n",
    "        return dist\n",
    "    \n",
    "    #add a print_point method:\n",
    "\n",
    "    def print_point(self):\n",
    "        \"\"\"Prints the coordinates in a descriptive way.\"\"\"\n",
    "        print(f\"The coordinates of this point are x: {self.x:.2f}, y: {self.y:.2f}, z: {self.z:.2f}.\\n\")\n"
   ]
  },
  {
   "cell_type": "code",
   "execution_count": 28,
   "metadata": {},
   "outputs": [
    {
     "name": "stdout",
     "output_type": "stream",
     "text": [
      "The coordinates of this point are x: -1.00, y: 5.00, z: -3.00.\n",
      "\n"
     ]
    }
   ],
   "source": [
    "c = Point(-1,5,-3)\n",
    "c.print_point()"
   ]
  },
  {
   "cell_type": "code",
   "execution_count": 27,
   "metadata": {
    "scrolled": true
   },
   "outputs": [
    {
     "name": "stdout",
     "output_type": "stream",
     "text": [
      "3.7416573867739413\n"
     ]
    }
   ],
   "source": [
    "a = Point(1,2,3)\n",
    "print(a.distance_point())"
   ]
  },
  {
   "cell_type": "code",
   "execution_count": 29,
   "metadata": {},
   "outputs": [
    {
     "name": "stdout",
     "output_type": "stream",
     "text": [
      "1\n",
      "<__main__.Point object at 0x10a1c9710>\n"
     ]
    }
   ],
   "source": [
    "print(a.x)\n",
    "print(c)"
   ]
  },
  {
   "cell_type": "markdown",
   "metadata": {},
   "source": [
    "### Other Dunder Methods: String representation of an object.\n",
    "\n",
    "You can also use the `__str__` Dunder method to create the string representation of instances of a class. This is what the `print()` function will return to the screen. This is generally a better implimentation than our `print_point` method."
   ]
  },
  {
   "cell_type": "code",
   "execution_count": 39,
   "metadata": {},
   "outputs": [],
   "source": [
    "class Point:\n",
    "    \"\"\"Represents a point in 2-D space.\"\"\"\n",
    "\n",
    "    def __init__(self,x = 0, y = 0, z = 0):\n",
    "        self.x = x\n",
    "        self.y = y\n",
    "        self.z = z\n",
    "\n",
    "    def __str__(self):\n",
    "        return f\"3D coordinate: ({self.x},{self.y},{self.z})\"\n",
    "    \n",
    "    \n",
    "    def distance_point(self):\n",
    "        dist = np.sqrt(self.x**2 + self.y**2 + self.z**2)\n",
    "        self.distance = dist\n",
    "        return dist"
   ]
  },
  {
   "cell_type": "code",
   "execution_count": 40,
   "metadata": {},
   "outputs": [
    {
     "name": "stdout",
     "output_type": "stream",
     "text": [
      "3\n",
      "3\n",
      "3\n"
     ]
    }
   ],
   "source": [
    "d = Point(1,2,3)\n",
    "\n",
    "print(d)\n",
    "print(d)\n",
    "print(d)"
   ]
  },
  {
   "cell_type": "markdown",
   "metadata": {},
   "source": [
    "### Practice:\n",
    "\n",
    "- Make a class *Time* that *initiallizes* with attributes hour, minute, second with default values of 0.\n",
    "- Define the `__str__` method so that it prints the time in the format of a digital clock.\n",
    "- Make an instance called $tt$ with the current time."
   ]
  },
  {
   "cell_type": "code",
   "execution_count": 11,
   "metadata": {},
   "outputs": [],
   "source": [
    "#Write it!\n",
    "class Time:\n",
    "\n",
    "    def __init__(self,hour = 0,minute = 0,second = 0):\n",
    "        \"\"\"\n",
    "        informative doc string...\n",
    "        \"\"\"\n",
    "\n",
    "        self.hour = hour\n",
    "        self.minute = minute\n",
    "        self.second = second\n",
    "\n",
    "    def __str__(self):\n",
    "\n",
    "        return '%.2d:%.2d:%.2d' %(self.hour, self.minute, self.second )"
   ]
  },
  {
   "cell_type": "code",
   "execution_count": 12,
   "metadata": {},
   "outputs": [
    {
     "name": "stdout",
     "output_type": "stream",
     "text": [
      "01:65:00\n"
     ]
    }
   ],
   "source": [
    "#Test it!\n",
    "tt = Time(1,65)\n",
    "print(tt)"
   ]
  },
  {
   "cell_type": "markdown",
   "metadata": {},
   "source": [
    "**EXAMPLE:** \n",
    "- Make a (pure) function that adds two given times\n",
    "- Assume you go to the movies at 9:45 pm and the movie is 1h 35m long. When does it end? (Use your function)\n"
   ]
  },
  {
   "cell_type": "code",
   "execution_count": 13,
   "metadata": {},
   "outputs": [],
   "source": [
    "def add_time_here(t1, t2):\n",
    "    \n",
    "    sumt = Time()\n",
    "\n",
    "    sumt.hour = t1.hour + t2.hour\n",
    "    sumt.minute = t1.minute + t2.minute\n",
    "    sumt.second = t1.second + t2.second\n",
    "        \n",
    "    return sumt\n",
    "    "
   ]
  },
  {
   "cell_type": "code",
   "execution_count": 14,
   "metadata": {},
   "outputs": [
    {
     "name": "stdout",
     "output_type": "stream",
     "text": [
      "09:45:00\n",
      "09:45:00\n",
      "10:80:00\n"
     ]
    }
   ],
   "source": [
    "# initiate start time:\n",
    "start = Time()\n",
    "start.hour = 9\n",
    "start.minute = 45\n",
    "start.second = 0\n",
    "\n",
    "print( start )\n",
    "\n",
    "# and duration time:\n",
    "duration = Time()\n",
    "duration.hour = 1\n",
    "duration.minute = 35\n",
    "duration.second = 0\n",
    "\n",
    "print( start )\n",
    "\n",
    "# add them up to figure out when movie's done:\n",
    "done = add_time_here(start, duration)\n",
    "\n",
    "# print end time :\n",
    "print( done )\n"
   ]
  },
  {
   "cell_type": "markdown",
   "metadata": {},
   "source": [
    "Oops, we broke it! how do we fix this? we don't need 80min....\n",
    "use if statements!"
   ]
  },
  {
   "cell_type": "code",
   "execution_count": 15,
   "metadata": {},
   "outputs": [
    {
     "name": "stdout",
     "output_type": "stream",
     "text": [
      "11:20:00\n"
     ]
    }
   ],
   "source": [
    "def add_time_improved(t1, t2): \n",
    "    sumt = Time()\n",
    "    sumt.hour = t1.hour + t2.hour\n",
    "    sumt.minute = t1.minute + t2.minute\n",
    "    sumt.second = t1.second + t2.second\n",
    "\n",
    "    if sumt.second >= 60:\n",
    "        sumt.second = sumt.second - 60\n",
    "        sumt.minute = sumt.minute + 1\n",
    "        \n",
    "    if sumt.minute >= 60:\n",
    "        sumt.minute = sumt.minute - 60\n",
    "        sumt.hour   = sumt.hour   + 1\n",
    "\n",
    "    return sumt\n",
    "\n",
    "\n",
    "# add them up to figure out when movie's done:\n",
    "done = add_time_improved(start, duration)\n",
    "\n",
    "# print end time :\n",
    "print( done )"
   ]
  },
  {
   "cell_type": "code",
   "execution_count": 16,
   "metadata": {},
   "outputs": [],
   "source": [
    "# let's collect some more modifiers for our time here:\n",
    "\n",
    "def time_to_int( time ):\n",
    "    \n",
    "    minutes = time.hour * 60 + time.minute\n",
    "    seconds = minutes   * 60 + time.second\n",
    "\n",
    "    return seconds\n",
    "\n",
    "\n",
    "def int_to_time( seconds ):\n",
    "\n",
    "    time = Time()\n",
    "    minutes,   time.second = divmod( seconds, 60 )\n",
    "    time.hour, time.minute = divmod( minutes, 60 )\n",
    "\n",
    "    return time\n",
    "\n",
    "def add_time( t1, t2 ):\n",
    "\n",
    "    seconds = time_to_int( t1 ) + time_to_int( t2 )\n",
    "    \n",
    "    return int_to_time( seconds )\n",
    "\n",
    "def increment( time, seconds ):\n",
    "    \n",
    "    seconds = time_to_int( time ) + seconds\n",
    "    \n",
    "    return int_to_time( seconds )\n"
   ]
  },
  {
   "cell_type": "code",
   "execution_count": 17,
   "metadata": {},
   "outputs": [
    {
     "name": "stdout",
     "output_type": "stream",
     "text": [
      "11:20:00\n",
      "19:40:00\n"
     ]
    }
   ],
   "source": [
    "#when are we done?\n",
    "done = add_time(start, duration)\n",
    "\n",
    "print( done )\n",
    "\n",
    "# now let's get the end time and add 30,000 seconds to it....what time is that?\n",
    "a = increment(done, 30000)\n",
    "print( a )"
   ]
  },
  {
   "cell_type": "markdown",
   "metadata": {},
   "source": [
    "**EXAMPLE:** Write a boolean function called is_after that takes two Time objects, t1 and t2, and returns:\n",
    "\n",
    "- True if t1 follows t2 chronologically and False otherwise.\n",
    "- Challenge: use try/raise instead of an if statement"
   ]
  },
  {
   "cell_type": "code",
   "execution_count": 18,
   "metadata": {},
   "outputs": [
    {
     "name": "stdout",
     "output_type": "stream",
     "text": [
      "True\n"
     ]
    }
   ],
   "source": [
    "def is_after(t1, t2):\n",
    "    tot1 = t1.hour * 3600 + t1.minute * 60 \n",
    "    tot2 = t2.hour * 3600 + t2.minute * 60 \n",
    "    \n",
    "    try:\n",
    "        tot1 - tot2 > 0\n",
    "        return \"True\"\n",
    "    except:\n",
    "        raise \n",
    "        print(\"False\")\n",
    "        \n",
    "duration2 = Time()\n",
    "duration3 = Time()\n",
    "\n",
    "\n",
    "duration2.hour   = 1\n",
    "duration2.minute = 35\n",
    "\n",
    "duration3.hour   = 0\n",
    "duration3.minute = 48\n",
    "\n",
    "print( is_after( duration3, duration2 ) )"
   ]
  },
  {
   "cell_type": "code",
   "execution_count": 19,
   "metadata": {},
   "outputs": [
    {
     "name": "stdout",
     "output_type": "stream",
     "text": [
      "True\n"
     ]
    }
   ],
   "source": [
    "### or:\n",
    "\n",
    "def is_after2(t1,t2):\n",
    "    \n",
    "    tot1 = t1.hour * 3600 + t1.minute * 60 \n",
    "    tot2 = t2.hour * 3600 + t2.minute * 60 \n",
    "\n",
    "    return tot1 > tot2\n",
    "\n",
    "\n",
    "duration2 = Time()\n",
    "duration3 = Time()\n",
    "\n",
    "\n",
    "duration2.hour   = 1\n",
    "duration2.minute = 35\n",
    "\n",
    "duration3.hour   = 0\n",
    "duration3.minute = 48\n",
    "\n",
    "print( is_after2( duration2 , duration3 ) )"
   ]
  },
  {
   "cell_type": "code",
   "execution_count": 20,
   "metadata": {},
   "outputs": [],
   "source": [
    "## Rewriting is_after in the class Time is slightly more complicated because it takes two \n",
    "## Time objects as parameters. In this case it is conventional to name the first parameter self\n",
    "## and the second parameter other:\n",
    "\n",
    "\n",
    "class Time: \n",
    "    def __init__(self, hour=0, minute=0, second=0): \n",
    "        self.hour = hour\n",
    "        self.minute = minute\n",
    "        self.second = second\n",
    "    \n",
    "    def __str__(self):\n",
    "        return '%  .2d:%.2d:%.2d' % (self.hour, self.minute, self.second)\n",
    "        \n",
    "    def print_time(self): \n",
    "        print('%.2d:%.2d:%.2d' % (self.hour, self.minute, self.second ) )\n",
    "        \n",
    "    def is_after( self, other ):\n",
    "        return self.time_to_int() > other.time_to_int()\n",
    "\n",
    "    def time_to_int(self):\n",
    "        minutes = self.hour * 60 + self.minute\n",
    "        seconds = minutes   * 60 + self.second\n",
    "        return seconds\n"
   ]
  },
  {
   "cell_type": "code",
   "execution_count": 21,
   "metadata": {},
   "outputs": [
    {
     "name": "stdout",
     "output_type": "stream",
     "text": [
      "True\n"
     ]
    }
   ],
   "source": [
    "start = Time(1,35)\n",
    "end = Time()\n",
    "\n",
    "\n",
    "#start.hour   = 1\n",
    "#start.minute = 35\n",
    "\n",
    "end.hour   = 10\n",
    "end.minute = 48\n",
    "\n",
    "print( end.is_after( start ) )  # is the end after the start? note that order can matter; see later\n"
   ]
  },
  {
   "cell_type": "code",
   "execution_count": 22,
   "metadata": {},
   "outputs": [
    {
     "name": "stdout",
     "output_type": "stream",
     "text": [
      "False\n"
     ]
    }
   ],
   "source": [
    "print( start.is_after( end ) )"
   ]
  },
  {
   "cell_type": "code",
   "execution_count": 23,
   "metadata": {},
   "outputs": [
    {
     "name": "stdout",
     "output_type": "stream",
     "text": [
      "5700\n",
      " 01:35:00\n"
     ]
    }
   ],
   "source": [
    "print(start.time_to_int())\n",
    "print(start)\n",
    "\n"
   ]
  },
  {
   "cell_type": "markdown",
   "metadata": {},
   "source": [
    "### Tests\n",
    "To help with debugging you can start building some tests for your parameters, e.g., is the time real/possible?"
   ]
  },
  {
   "cell_type": "code",
   "execution_count": 24,
   "metadata": {},
   "outputs": [],
   "source": [
    "def valid_time(time):\n",
    "    \"\"\"Checks if a given time is real\"\"\"\n",
    "    if time.hour < 0 or time.minute < 0 or time.second < 0:\n",
    "        return False\n",
    "    \n",
    "    if time.minute >= 60 or time.second >= 60:\n",
    "        return False\n",
    "    \n",
    "    return True"
   ]
  },
  {
   "cell_type": "code",
   "execution_count": 25,
   "metadata": {},
   "outputs": [
    {
     "data": {
      "text/plain": [
       "False"
      ]
     },
     "execution_count": 25,
     "metadata": {},
     "output_type": "execute_result"
    }
   ],
   "source": [
    "foo = Time()\n",
    "\n",
    "foo.hour   = 1\n",
    "foo.minute = 3\n",
    "foo.second = -230\n",
    "\n",
    "valid_time( foo )"
   ]
  },
  {
   "cell_type": "code",
   "execution_count": 26,
   "metadata": {},
   "outputs": [
    {
     "data": {
      "text/plain": [
       "True"
      ]
     },
     "execution_count": 26,
     "metadata": {},
     "output_type": "execute_result"
    }
   ],
   "source": [
    "foo = Time()\n",
    "\n",
    "foo.hour   = 2\n",
    "foo.minute = 3\n",
    "foo.second = 23\n",
    "\n",
    "valid_time( foo )"
   ]
  },
  {
   "cell_type": "markdown",
   "metadata": {},
   "source": [
    "### Assert\n",
    "You can then put this at the start of each function to check the arguments"
   ]
  },
  {
   "cell_type": "code",
   "execution_count": 31,
   "metadata": {},
   "outputs": [],
   "source": [
    "t1 = Time(1,2,3)\n",
    "t2 = Time(1,2,1)\n"
   ]
  },
  {
   "cell_type": "code",
   "execution_count": 33,
   "metadata": {},
   "outputs": [
    {
     "name": "stdout",
     "output_type": "stream",
     "text": [
      " 03:38:30\n"
     ]
    }
   ],
   "source": [
    "# One way is to use an assertion:\n",
    "\n",
    "def add_time( t1, t2 ):\n",
    "    \n",
    "    assert valid_time( t1 ) and valid_time( t2 )  #--> if one return false you get assertion error\n",
    "\n",
    "    seconds = time_to_int( t1 ) + time_to_int( t2 )\n",
    "    \n",
    "    return int_to_time( seconds )\n",
    "\n",
    "\n",
    "foo.second = 30\n",
    "\n",
    "bar = add_time( foo, duration )\n",
    "\n",
    "print( bar )\n"
   ]
  },
  {
   "cell_type": "code",
   "execution_count": 59,
   "metadata": {},
   "outputs": [
    {
     "name": "stdout",
     "output_type": "stream",
     "text": [
      "02:05:40\n"
     ]
    }
   ],
   "source": [
    "foo2 = Time()\n",
    "\n",
    "foo2.hour   = 1\n",
    "foo2.minute = 3\n",
    "foo2.second = 23\n",
    "\n",
    "#print( valid_time( foo2 ) )\n",
    "\n",
    "foo3 = Time()\n",
    "\n",
    "foo3.hour   = 1\n",
    "foo3.minute = 2\n",
    "foo3.second = 17\n",
    "\n",
    "#print( valid_time( foo3)  )\n",
    "\n",
    "\n",
    "bar = add_time( foo2, foo3 )\n",
    "\n",
    "\n",
    "bar.print_time()"
   ]
  },
  {
   "cell_type": "code",
   "execution_count": null,
   "metadata": {},
   "outputs": [],
   "source": []
  },
  {
   "cell_type": "code",
   "execution_count": 84,
   "metadata": {},
   "outputs": [
    {
     "ename": "ValueError",
     "evalue": "Invalid Time object in add_time()",
     "output_type": "error",
     "traceback": [
      "\u001b[0;31m---------------------------------------------------------------------------\u001b[0m",
      "\u001b[0;31mValueError\u001b[0m                                Traceback (most recent call last)",
      "Cell \u001b[0;32mIn[84], line 14\u001b[0m\n\u001b[1;32m     10\u001b[0m     \u001b[38;5;28;01mreturn\u001b[39;00m int_to_time( seconds )\n\u001b[1;32m     12\u001b[0m foo\u001b[38;5;241m.\u001b[39msecond \u001b[38;5;241m=\u001b[39m \u001b[38;5;241m-\u001b[39m\u001b[38;5;241m230\u001b[39m\n\u001b[0;32m---> 14\u001b[0m bar \u001b[38;5;241m=\u001b[39m add_time( foo, duration )\n\u001b[1;32m     16\u001b[0m done\u001b[38;5;241m.\u001b[39mprint_time()\n",
      "Cell \u001b[0;32mIn[84], line 6\u001b[0m, in \u001b[0;36madd_time\u001b[0;34m(t1, t2)\u001b[0m\n\u001b[1;32m      3\u001b[0m \u001b[38;5;28;01mdef\u001b[39;00m \u001b[38;5;21madd_time\u001b[39m( t1, t2 ):\n\u001b[1;32m      5\u001b[0m     \u001b[38;5;28;01mif\u001b[39;00m \u001b[38;5;129;01mnot\u001b[39;00m valid_time( t1 ) \u001b[38;5;129;01mor\u001b[39;00m \u001b[38;5;129;01mnot\u001b[39;00m valid_time( t2 ):\n\u001b[0;32m----> 6\u001b[0m         \u001b[38;5;28;01mraise\u001b[39;00m \u001b[38;5;167;01mValueError\u001b[39;00m(\u001b[38;5;124m\"\u001b[39m\u001b[38;5;124mInvalid Time object in add_time()\u001b[39m\u001b[38;5;124m\"\u001b[39m)\n\u001b[1;32m      8\u001b[0m     seconds \u001b[38;5;241m=\u001b[39m time_to_int( t1 ) \u001b[38;5;241m+\u001b[39m time_to_int( t2 )\n\u001b[1;32m     10\u001b[0m     \u001b[38;5;28;01mreturn\u001b[39;00m int_to_time( seconds )\n",
      "\u001b[0;31mValueError\u001b[0m: Invalid Time object in add_time()"
     ]
    }
   ],
   "source": [
    "# or raise an exception:\n",
    "\n",
    "def add_time( t1, t2 ):\n",
    "    \n",
    "    if not valid_time( t1 ) or not valid_time( t2 ):\n",
    "        raise ValueError(\"Invalid Time object in add_time()\")\n",
    "        \n",
    "    seconds = time_to_int( t1 ) + time_to_int( t2 )\n",
    "    \n",
    "    return int_to_time( seconds )\n",
    "\n",
    "foo.second = -230\n",
    "\n",
    "bar = add_time( foo, duration )\n",
    "\n",
    "done.print_time()"
   ]
  },
  {
   "cell_type": "markdown",
   "metadata": {},
   "source": [
    "### Practice: \n",
    "Import timeclass from *timeclass.py*  It contains the full Time class from *Think Python*, plus the one function, int_to_time(),  that does not take an instance of the Time class as an argument. It's called timeclass.py and not time.py because there is already a Python module called time.py."
   ]
  },
  {
   "cell_type": "code",
   "execution_count": 6,
   "metadata": {},
   "outputs": [],
   "source": [
    "# Let's import timeclass:\n",
    "import numpy as np\n",
    "\n",
    "from timeclass import *"
   ]
  },
  {
   "cell_type": "code",
   "execution_count": 3,
   "metadata": {},
   "outputs": [
    {
     "name": "stdout",
     "output_type": "stream",
     "text": [
      "00:01:02\n"
     ]
    }
   ],
   "source": [
    "## Now, you can set the attributes in a new Time object: \n",
    "\n",
    "#before running it, what do you expect this gives? why?\n",
    "time = Time(0,1,2)\n",
    "time.print_time()"
   ]
  },
  {
   "cell_type": "code",
   "execution_count": 47,
   "metadata": {},
   "outputs": [
    {
     "name": "stdout",
     "output_type": "stream",
     "text": [
      "09:00:00\n",
      "09:45:00\n",
      "09:45:23\n",
      "09:45:23\n"
     ]
    }
   ],
   "source": [
    "#what about this: \n",
    "time = timeclass.Time(9)\n",
    "time.print_time()\n",
    "\n",
    "#or this one?\n",
    "time = timeclass.Time(9, 45)\n",
    "time.print_time()\n",
    "\n",
    "\n",
    "time = timeclass.Time(9, 45, 23)\n",
    "time.print_time()\n",
    "\n",
    "\n",
    "# You can print the time:\n",
    "\n",
    "print(time)\n",
    "# 09:45:23"
   ]
  },
  {
   "cell_type": "markdown",
   "metadata": {},
   "source": [
    "The code will look more \"natural\".  We can add times to each other, we can add times to seconds or seconds to times, and we can print them, all using ordinary Python syntax:\n"
   ]
  },
  {
   "cell_type": "code",
   "execution_count": 7,
   "metadata": {},
   "outputs": [
    {
     "name": "stdout",
     "output_type": "stream",
     "text": [
      "The time is:09:45:23\n",
      "The time is:10:45:23\n"
     ]
    }
   ],
   "source": [
    "start = Time( 9, 45, 23)\n",
    "dur   = Time(10, 45, 23)\n",
    "inter = 3600\n",
    "\n",
    "print(start)\n",
    "# 09:45:23\n",
    "print(dur)\n",
    "# 10:45:23"
   ]
  },
  {
   "cell_type": "markdown",
   "metadata": {},
   "source": [
    "**EXAMPLE:**"
   ]
  },
  {
   "cell_type": "code",
   "execution_count": 9,
   "metadata": {},
   "outputs": [
    {
     "name": "stdout",
     "output_type": "stream",
     "text": [
      "The time is:20:30:46\n",
      "The time is:10:45:23\n",
      "The time is:10:45:23\n"
     ]
    }
   ],
   "source": [
    "print(start + dur)\n",
    "# 20:30:46\n",
    "print(start + inter)\n",
    "# 10:45:23\n",
    "print(inter + start)\n",
    "# 10:45:23\n"
   ]
  },
  {
   "cell_type": "markdown",
   "metadata": {},
   "source": [
    "It worked because in timeclass.py we have let the code know what to do when it sees the + operand (see line 75). This is called ***operator overloading***."
   ]
  },
  {
   "cell_type": "markdown",
   "metadata": {},
   "source": [
    "### Operator Overloading\n",
    "Special (Dunder) methods that allow to change the behavior of operators on programmer-defined types. E.g., the \"+\" operator becomes an addition like this:\n"
   ]
  },
  {
   "cell_type": "code",
   "execution_count": 10,
   "metadata": {},
   "outputs": [],
   "source": [
    "def __add__(self, other):    # when you see the + you will add the two like this:\n",
    "    \n",
    "    seconds = self.time_to_int() + other.time_to_int()\n",
    "    \n",
    "    return int_to_time(seconds)"
   ]
  },
  {
   "cell_type": "markdown",
   "metadata": {},
   "source": [
    "For the two-parameter methods, you need to invoke it on one object and pass the other, and order might matter:"
   ]
  },
  {
   "cell_type": "code",
   "execution_count": 14,
   "metadata": {},
   "outputs": [
    {
     "name": "stdout",
     "output_type": "stream",
     "text": [
      "The time is:10:45:23\n",
      "True\n",
      "False\n"
     ]
    }
   ],
   "source": [
    "# e.g,:\n",
    "\n",
    "end = start  + inter\n",
    "\n",
    "print(end)\n",
    "print( end.is_after( start ) )  # is the end after the start?\n",
    "\n",
    "print( start.is_after( end ) )  # or is the start after the end?\n",
    "\n",
    "\n",
    "# We don't directly call most of the methods anymore! They're called behind the scenes by the + operator and print().\n"
   ]
  },
  {
   "cell_type": "markdown",
   "metadata": {},
   "source": [
    "### Practice: \n",
    "\n",
    "Make a class OpenReadFile that will open a file, read its contents and assign them to the appropriate variables. The class is meant to open files with the IDs and grades of students like the *practice_numpy_f22.dat* from some weeks ago. \n",
    "- Create an initialization function that will initiate the IDs, HW, Quiz, Midterm and Final grades and defines what the file to be read-in is.\n",
    "- Create a function read_data that actually reads the data and assigns the data to the appropriate variables.\n",
    "\n",
    "- Run it for the *practice_numpy_f22.dat* "
   ]
  },
  {
   "cell_type": "code",
   "execution_count": 15,
   "metadata": {},
   "outputs": [],
   "source": [
    "class OpenReadFile:\n",
    "\n",
    "    \"\"\"My very informative doc string describing the class blah blah...\"\"\"\n",
    "\n",
    "    def __init__(self,filename = ''):\n",
    "        self.IDs = np.zeros(2)\n",
    "        self.HW = np.zeros(2)\n",
    "        self.Quiz = np.zeros(2)\n",
    "        self.Midterm = np.zeros(2)\n",
    "        self.Final = np.zeros(2)\n",
    "        self.filename = filename\n",
    "\n",
    "    def read_data(self):\n",
    "        student_data = np.loadtxt(self.filename)\n",
    "        self.IDs = student_data[:,0]\n",
    "        self.HW = student_data[:,1]\n",
    "        self.Quiz = student_data[:,2]\n",
    "        self.Midterm = student_data[:,3]\n",
    "        self.Final = student_data[:,4]\n",
    "    \n",
    "        \n",
    "        \n",
    "        \n",
    "    "
   ]
  },
  {
   "cell_type": "code",
   "execution_count": 20,
   "metadata": {},
   "outputs": [],
   "source": [
    "mydata = OpenReadFile('practice_numpy_f22.dat')"
   ]
  },
  {
   "cell_type": "code",
   "execution_count": 27,
   "metadata": {},
   "outputs": [
    {
     "name": "stdout",
     "output_type": "stream",
     "text": [
      "[1. 2. 3. 4. 5. 6. 7. 8.]\n",
      "[1. 2. 3. 4. 5. 6. 7. 8.] [8.4 7.1 9.2 7.7 8.1 8.9 9.7 6.4]\n",
      "dict_values([array([1., 2., 3., 4., 5., 6., 7., 8.]), array([8.4, 7.1, 9.2, 7.7, 8.1, 8.9, 9.7, 6.4]), array([7.8, 6.4, 7.8, 9.8, 8.3, 5.8, 8.2, 7.7]), array([8.8, 6.8, 8.5, 7.8, 5.8, 8.2, 9.8, 6.8]), array([9.5, 6.9, 8.8, 8.5, 7.5, 8.3, 8.5, 7.5]), 'practice_numpy_f22.dat'])\n",
      "[8.4 7.1 9.2 7.7 8.1 8.9 9.7 6.4]\n"
     ]
    }
   ],
   "source": [
    "print(mydata.IDs)\n",
    "mydata.read_data()\n",
    "print(mydata.IDs,mydata.HW)\n",
    "print(mydata.__dict__.values())\n",
    "print(mydata.HW)\n"
   ]
  },
  {
   "cell_type": "markdown",
   "metadata": {},
   "source": [
    "### Practice:\n",
    "\n",
    "- Read in file random_data_pickle.pickle (see the ***I/O, storing data, pickling, pandas, reading data*** lecture for how to do it).\n",
    "-  If you know that it contains 3 columns, how do you unpickle the data into variable x,y, z in one line?\n",
    "-   Plot your y- z vs x.\n",
    "- Now read in file readin_pickle.pickle into variable data1. What is the shape of data1? What is the power of pickles?"
   ]
  },
  {
   "cell_type": "code",
   "execution_count": null,
   "metadata": {},
   "outputs": [],
   "source": []
  },
  {
   "cell_type": "code",
   "execution_count": null,
   "metadata": {},
   "outputs": [],
   "source": []
  },
  {
   "cell_type": "markdown",
   "metadata": {},
   "source": [
    "### Methods which compare objects\n",
    "\n",
    "Sometimes a method will need to compare or otherwise use two instances of an object or even two different objects. If this is the case, the object that does NOT contain the method is referred to as \"other\". The arguments of a method should begin with \"self\" and then \"other.\"\n",
    "\n",
    "Let's see some examples with a class of 2D vectors."
   ]
  },
  {
   "cell_type": "markdown",
   "metadata": {},
   "source": [
    "## Object-Oriented Programming Example: Vectors\n",
    "Below is an example of a class consisting of 2-dimensional vectors. The class allows for the usual vector addition/subtraction, multiplication by a scalar, and the vector dot product."
   ]
  },
  {
   "cell_type": "code",
   "execution_count": 28,
   "metadata": {},
   "outputs": [],
   "source": [
    "import numpy as np\n",
    "import matplotlib.pyplot as plt\n",
    "import pint\n",
    "ureg = pint.UnitRegistry()\n",
    "\n",
    "class vector2d:\n",
    "    \n",
    "    \"\"\"Class of 2-D vectors with x and y components allowing vector addition,\n",
    "    subtraction, multiplication (dot/scalar product), and muliplication by a scalar.\n",
    "    \n",
    "    Immediately uses the x and y components to determine the magnitude and angle\n",
    "    counterclockwise from the +x axis and stores them as attributes\n",
    "    \n",
    "    mag: magnitude\n",
    "    angle: angle\n",
    "    \n",
    "    The attribute angle is in radians by default unless the KWARG: deg is set.\n",
    "    \"\"\"\n",
    "    \n",
    "    #initialize a vector:\n",
    "    \n",
    "    def __init__(self, x=0, y=0, label='vec', units = ureg.meter,deg = None):\n",
    "        #Set basic attributes:\n",
    "        self.x = x\n",
    "        self.y = y\n",
    "        self.deg = deg\n",
    "        self.label = label\n",
    "        self.units = units\n",
    "        \n",
    "        self.mag_angle()\n",
    "        \n",
    "    \n",
    "    def mag_angle(self,deg = None):\n",
    "        \"\"\"Computes the magnitude and angle from vector components.\n",
    "        set self.deg to compute the angle in degrees.\"\"\"\n",
    "        \n",
    "        if deg is None:\n",
    "            deg = self.deg\n",
    "        else:\n",
    "            self.deg = deg\n",
    "        \n",
    "        #Determine magnitude from Pythagorean Thm. and set attribute:\n",
    "        \n",
    "        self.mag = np.sqrt(self.x**2 + self.y**2) \n",
    "        \n",
    "        #Now check for special cases before determining the angle:\n",
    "        \n",
    "        if self.x == 0:\n",
    "            if self.y == 0:\n",
    "                #This is a null vector\n",
    "                angle = np.nan\n",
    "            else:\n",
    "                #This vector lies on the ±x-axis:\n",
    "                if np.sign(self.y) == 1:\n",
    "                    angle = np.pi/2\n",
    "                else:\n",
    "                    angle = 3*np.pi/2\n",
    "        else:\n",
    "        #x-component is nonzero:\n",
    "            \n",
    "            #angle if first quadrant:\n",
    "            angle = np.arctan(np.abs(self.y/self.x))\n",
    "                \n",
    "            if self.x < 0 and self.y >= 0:\n",
    "                #quadrant 2:\n",
    "                angle = np.pi - angle\n",
    "            elif self.x <0 and self.y<=0:\n",
    "                #quadrant 3:\n",
    "                angle += np.pi\n",
    "            elif self.x > 0 and self.y <=0:\n",
    "                #quadrant 4:\n",
    "                angle = 2*np.pi - angle\n",
    "            \n",
    "        self.angle = angle\n",
    "        \n",
    "        if self.deg is not None:\n",
    "            self.angle *= 180/np.pi\n",
    "    \n",
    "    \n",
    "    #string representation of a vector:\n",
    "\n",
    "    def __str__(self):\n",
    "        \"\"\"String representation of vector2d class.\"\"\"\n",
    "        \n",
    "        x_comp_string = self.label+\"_x: {0:0.3f}\".format(self.x)+\" \"+str(self.units)\n",
    "        y_comp_string = self.label+\"_y: {0:0.3f}\".format(self.y)+\" \"+str(self.units)\n",
    "        mag_string = \"||\"+self.label+\"||: {0:0.3f}\".format(self.mag)+\" \"+str(self.units)\n",
    "        \n",
    "        angle_string = \" at {0:0.3f}\".format(self.angle) \n",
    "        \n",
    "        if self.deg:\n",
    "            angle_string += \" deg. counterclockwise from +x.\"\n",
    "        else:\n",
    "            angle_string += \" rad. counterclockwise from +x.\"\n",
    "               \n",
    "        return x_comp_string +\" \"+ y_comp_string + mag_string + angle_string\n",
    "    \n",
    "    \n",
    "    #overload addition to perform vector addition:\n",
    "    \n",
    "    def __add__(self,other):\n",
    "        \"\"\"Performs vector addition.\"\"\"\n",
    "        \n",
    "        x = self.x + other.x\n",
    "        y = self.y + other.y\n",
    "        if self.deg:\n",
    "            deg = 1\n",
    "        else:\n",
    "            deg = 0\n",
    "                    \n",
    "        check_unit = self.x*self.units + other.x*other.units\n",
    "        \n",
    "        vsum = vector2d(x,y,label = self.label + '+' + other.label,\\\n",
    "                        deg = deg, units = self.units)\n",
    "\n",
    "        return vsum\n",
    "\n",
    "    #overload multiplication to multiply by a scalar if one element is a scalar OR\n",
    "    #compute the dot product if both elements are vectors.\n",
    "    \n",
    "    def __mul__(self, other):\n",
    "        \n",
    "        if isinstance(other, (int, float)):  # Scalar multiplication:\n",
    "            \n",
    "            return vector2d(self.x * other, self.y * other, deg = self.deg,\\\n",
    "                           units = self.units)\n",
    "        \n",
    "        if isinstance(other, pint.Quantity): #Scalar multiplication with units:\n",
    "            return vector2d(self.x * other.magnitude, self.y * other.magnitude,\\\n",
    "                            deg = self.deg, units = self.units*other.units)\n",
    "        \n",
    "        elif isinstance(other, vector2d):    # Dot product\n",
    "            return self.x * other.x + self.y * other.y #this is a scalar (dot product)\n",
    "        else:\n",
    "            raise TypeError(\"Unsupported operand for multiplication\")\n",
    "\n",
    "    #Overload right hand multiplication:\n",
    "            \n",
    "    def __rmul__(self, other):\n",
    "        #This is necessary for right-side multiplication by a scalar.\n",
    "        if isinstance(other, (int, float,pint.Quantity)):  # Scalar multiplication:            \n",
    "            out =  self.__mul__(other) \n",
    "        else:\n",
    "             raise TypeError(\"Unsupported operand for multiplication\")\n",
    "        return out\n",
    "    \n",
    "    #Overload subtraction:\n",
    "    \n",
    "    def __sub__(self,other):\n",
    "        #just multiply other by -1 before adding:\n",
    "        neg_other = -1*other\n",
    "        return self+neg_other\n",
    "\n",
    "    #Rotate vector:\n",
    "    \n",
    "    def rotate(self,theta, deg = None):\n",
    "        \"\"\"Rotates an instance of vector2d through an angle theta in radians.\n",
    "        Set KWARG deg to give theta in degrees.\"\"\"\n",
    "        \n",
    "        if deg is not None:\n",
    "            theta = np.radians(theta)\n",
    "        \n",
    "        R = np.array([[np.cos(theta),-np.sin(theta)],\\\n",
    "                           [np.sin(theta),np.cos(theta)]])\n",
    "        \n",
    "        v = np.array([self.x,self.y])\n",
    "        vout = np.matmul(R,v)\n",
    "        \n",
    "        self.x = vout[0]\n",
    "        self.y = vout[1]\n",
    "        \n",
    "        self.mag_angle()\n",
    "        \n",
    "        #End class vector2d.\n",
    "\n",
    "        \n",
    "        \n",
    "#Define a function that creates a vector object from a magnitude and angle\n",
    "\n",
    "def polar2vec(mag,angle,deg = None, label = '', units = ureg.meter):\n",
    "        \"\"\"Takes a magnitude and angle and creates an instance of vector2d\n",
    "        optionally set KWARGS for:\n",
    "        label: name of vector\n",
    "        units: string of units for vector\n",
    "        deg: accept angle in degrees instead of radians.\n",
    "        \"\"\"\n",
    "        \n",
    "        if deg is not None:\n",
    "            angle = np.radians(angle)\n",
    "            \n",
    "        x = mag*np.cos(angle % (2*np.pi))\n",
    "        y = mag*np.sin(angle % (2*np.pi))\n",
    "        \n",
    "        vector = vector2d(x,y,label = label, units = units, deg = deg)\n",
    "        \n",
    "        return vector\n",
    "\n",
    "      \n",
    "#Define a function that draws a vector object given some coordinates for the tail\n",
    "#of the vector:\n",
    "\n",
    "def drawvec(ax,pos,vector,color = 'k',width = 1):\n",
    "    \"\"\"Draws an instance of vector2d on a figure. Must instantiate figure and object\n",
    "    using ax before drawing vector.\n",
    "    \n",
    "    Vectors can be overplotted\"\"\"\n",
    "    ax.set_xlim(-10,10)\n",
    "    ax.set_ylim(-10,10)\n",
    "    ax.quiver(pos.x,pos.y,vector.x,vector.y,\\\n",
    "             label = vector.label, color = color, width = width*3e-3,\\\n",
    "             headwidth = 4, headlength = 7, headaxislength = 4.5,\\\n",
    "             angles='xy', scale_units='xy', scale=1)\n",
    "    \n",
    "    #Set my default formatting:\n",
    "    ax.tick_params( axis ='both', which ='both',\\\n",
    "                   length = 0 , labelsize=0 )\n",
    "    \n",
    "    ax.set_xticks( np.arange(-100, 101, 2.))\n",
    "    ax.set_yticks(np.arange(-100,101,2.))\n",
    "    ax.set_xlabel(vector.units)\n",
    "    ax.set_ylabel(vector.units)\n",
    "    \n",
    "    ax.grid()\n",
    "    return ax\n",
    "\n"
   ]
  },
  {
   "cell_type": "code",
   "execution_count": 29,
   "metadata": {
    "scrolled": true
   },
   "outputs": [
    {
     "name": "stdout",
     "output_type": "stream",
     "text": [
      "A_x: 3.000 meter A_y: 4.000 meter||A||: 5.000 meter at 53.130 deg. counterclockwise from +x.\n",
      "A_x: -0.273 meter A_y: 4.993 meter||A||: 5.000 meter at 93.130 deg. counterclockwise from +x.\n"
     ]
    }
   ],
   "source": [
    "a = vector2d(3,4,deg  = 1,label = 'A',units = ureg.meter)\n",
    "b = vector2d(-7,1,deg = 1,label = 'B',units = ureg.meter)\n",
    "\n",
    "print(a)\n",
    "\n",
    "a.rotate(40,deg = 1)\n",
    "\n",
    "print(a)\n",
    "\n"
   ]
  },
  {
   "cell_type": "code",
   "execution_count": 32,
   "metadata": {},
   "outputs": [
    {
     "data": {
      "image/png": "[encoded data removed]",
      "text/plain": [
       "<Figure size 500x500 with 1 Axes>"
      ]
     },
     "metadata": {},
     "output_type": "display_data"
    }
   ],
   "source": [
    "c = a + b\n",
    "d = c + a\n",
    "fig, ax = plt.subplots( figsize = ( 5, 5 ) )\n",
    "origin = vector2d(0,0)\n",
    "drawvec(ax,origin,a)\n",
    "drawvec(ax,a,b,color = 'red')\n",
    "drawvec(ax,origin,d,color = 'b',width = 2)\n",
    "\n",
    "ax.set_xlim(-10,10)\n",
    "ax.set_ylim(-10,10)\n",
    "\n",
    "ax.legend()\n",
    "plt.show()"
   ]
  },
  {
   "attachments": {
    "2%20masses%20pulley%20incline.png": {
     "image/png": "[encoded data removed]"
    }
   },
   "cell_type": "markdown",
   "metadata": {},
   "source": [
    "## Newton's Laws Example Using Vectors & Systems of Equations\n",
    "\n",
    "Suppose a block with a mass $m_1$ hangs from a string that wraps around a *massless* pulley and connects to a block of mass $m_2$ initially at rest on an incline with a slope of $\\theta$. The coefficient of sliding friction between the incline and the bottom of the block is $\\mu_k$. The block of mass $m_2$ is released, begins to slide, and accelerates down the incline while accelerating the block of mass $m_1$ upward at the same rate. \n",
    "\n",
    "![2%20masses%20pulley%20incline.png](attachment:2%20masses%20pulley%20incline.png)\n",
    "\n",
    "Suppose that $\\theta = 30^\\circ$, the coefficient of sliding friction is $\\mu_k = 0.10$ and the masses of the two blocks are $m_1 = 0.5$ kg and $m_2 = 2.5$  kg. Determine the magnitude of the acceleration of the two blocks."
   ]
  },
  {
   "cell_type": "markdown",
   "metadata": {},
   "source": [
    "Let's start by drawing free body diagrams of both masses: $m_1$ and $m_2$:"
   ]
  },
  {
   "cell_type": "code",
   "execution_count": 357,
   "metadata": {},
   "outputs": [
    {
     "data": {
      "text/plain": [
       "<matplotlib.legend.Legend at 0x16ea3a9d0>"
      ]
     },
     "execution_count": 357,
     "metadata": {},
     "output_type": "execute_result"
    },
    {
     "data": {
      "image/png": "[encoded data removed]",
      "text/plain": [
       "<Figure size 1000x500 with 2 Axes>"
      ]
     },
     "metadata": {},
     "output_type": "display_data"
    }
   ],
   "source": [
    "fig, (ax1, ax2) = plt.subplots(1,2, figsize = ( 10, 5 ) )\n",
    "\n",
    "g  = 9.8 #m/s^2\n",
    "m1 = 0.5 #kg\n",
    "m2 = 2.5 #kg\n",
    "muk = 0.1 \n",
    "theta = 30. #deg\n",
    "theta = np.radians(theta)\n",
    "\n",
    "#m_1:\n",
    "\n",
    "origin = vector2d(0,0)\n",
    "fnetpos = vector2d(-10,4)\n",
    "T = vector2d(0,w1_mag+3,label = \"Tension\",units = ureg.newton)\n",
    "\n",
    "w1_mag = m1*g\n",
    "w1 = vector2d(0,-w1_mag,label = \"Weight of $m_1$\",units = ureg.newton)\n",
    "Fnetm1 = T+w1\n",
    "Fnetm1.label = \"$F_{Net}$\"\n",
    "\n",
    "drawvec(ax1,origin,T,width = 2)\n",
    "drawvec(ax1,origin,w1,color = 'red',width = 2)\n",
    "drawvec(ax1,fnetpos,Fnetm1,color = 'b',width = 2)\n",
    "\n",
    "ax1.set_xlim(-21,21)\n",
    "ax1.set_ylim(-21,21)\n",
    "ax1.set_title(\"$m_1$\")\n",
    "ax1.legend()\n",
    "\n",
    "#m_2:\n",
    "\n",
    "#define vectors:\n",
    "w2_mag = m2*g\n",
    "w2  = polar2vec(w2_mag,300,deg = 1,label = \"Weight of $m_2$\",units = ureg.newton)\n",
    "\n",
    "normal = vector2d(0,-w2.y,label = \"Normal\",units = ureg.newton)\n",
    "\n",
    "friction = vector2d((T.y-w2.x)*0.5,0,label = \"Friction\",units = ureg.newton)\n",
    "tension = vector2d(-T.y,0,\\\n",
    "                   label = \"Tension\",units = ureg.newton)\n",
    "\n",
    "fnet2 = friction + tension + normal + w2\n",
    "fnet2.label = \"$F_{Net}$\"\n",
    "\n",
    "drawvec(ax2,origin,tension,width = 2)\n",
    "drawvec(ax2,origin,w2,color = 'r',width = 2)\n",
    "drawvec(ax2,origin,normal,color = 'g',width = 2)\n",
    "or_fric = vector2d(0,0.5)\n",
    "drawvec(ax2,or_fric,friction,color = 'm',width = 2)\n",
    "\n",
    "drawvec(ax2,fnetpos,fnet2,color = 'b',width = 2)\n",
    "ax2.set_xlim(-21,21)\n",
    "ax2.set_ylim(-21,21)\n",
    "ax2.set_title(\"$m_2$\")\n",
    "\n",
    "ax2.legend()\n",
    "\n",
    "\n",
    "#Note that vectors are not to scale since we do not know the magnitude of the tension, \n",
    "#friction, etc.!\n",
    "                     "
   ]
  },
  {
   "cell_type": "markdown",
   "metadata": {},
   "source": [
    "### Rotating vectors\n",
    "To rotate the components of a vector of a coordinate system in 2-dimensions through an angle $\\theta$, we can multiply every $(A_x,A_y)$ array of vector components the rotation matrix:\n",
    " \n",
    "$$\n",
    "R = \\begin{bmatrix}\n",
    "\\cos \\theta & -\\sin\\theta \\\\\n",
    "\\sin \\theta & \\cos \\theta  \\\\\n",
    "\\end{bmatrix}\n",
    "$$\n",
    "\n",
    "to get the new coordinates $(\\tilde{A_x},\\tilde{A_y})$:\n",
    "\n",
    "$$\n",
    "\\left[\\begin{array}{c} \\tilde{A_x} \\\\ \\tilde{A_y} \\end{array}\\right]=\n",
    "\\begin{bmatrix}\n",
    "\\cos \\theta & -\\sin \\theta \\\\\n",
    "\\sin \\theta & \\cos \\theta \\\\\n",
    "\\end{bmatrix}\n",
    "\\left[\\begin{array}{c} A_x \\\\A_y \\end{array}\\right]\n",
    "$$\n",
    "\n",
    "This is called an *active* transformation because we are changing the vector components themselves.\n",
    "\n",
    "A *passive* transformation transforms the coordinate system axes leaving the vectors themselves alone. If we start in the usual coordinate system with basis vectors ($\\hat{i},\\hat{j}$) and wish to transform to the rotated coordinate system with basis vectors ($\\tilde{\\hat{i}},\\tilde{\\hat{j}}$) we can simply multiply them by the \n",
    "transpose of *R* which also happens to be it's inverse:\n",
    "\n",
    "$$R^T = R^{-1} = \n",
    "\\begin{bmatrix}\n",
    "\\cos \\theta & +\\sin\\theta \\\\\n",
    "-\\sin \\theta & \\cos \\theta  \\\\\n",
    "\\end{bmatrix}\n",
    "$$.\n",
    "\n",
    "In the original coordinate system the basis vectors are:\n",
    "\n",
    "$$\\hat{i} = \\left[\\begin{array}{c} 1 \\\\0 \\end{array}\\right] ~~\\mathrm{,}~~\\hat{j} = \\left[\\begin{array}{c} 0 \\\\1 \\end{array}\\right]$$\n",
    "\n",
    "and in the new system the are given by:\n",
    "\n",
    "$\\tilde{\\hat{i}} = R^T\\hat{i} =  \\left[\\begin{array}{c} \\cos \\theta \\\\ \\sin \\theta \\end{array}\\right]~~\\mathrm{,}~~ \\tilde{\\hat{j}}= R^T\\hat{j} = \\left[\\begin{array}{c} -\\sin \\theta \\\\ \\cos \\theta \\end{array}\\right]$\n",
    "\n",
    "So the *passive* transformation rotates the coordinate axes or basis vectors and they transform using $R^T$. "
   ]
  },
  {
   "cell_type": "code",
   "execution_count": 364,
   "metadata": {},
   "outputs": [
    {
     "name": "stdout",
     "output_type": "stream",
     "text": [
      "[[ 0.8660254  0.5      ]\n",
      " [-0.5        0.8660254]]\n"
     ]
    }
   ],
   "source": [
    "#this matrix will rotate our coordinate system through angle theta:\n",
    "theta = -30\n",
    "theta = np.radians(theta)\n",
    "R = np.array([[np.cos(theta),-np.sin(theta)],\\\n",
    "                           [np.sin(theta),np.cos(theta)]])\n",
    "print(R)\n"
   ]
  },
  {
   "cell_type": "markdown",
   "metadata": {},
   "source": [
    "As you can see in the free-body diagram for $m_2$ above, we have already rotated our coordinate system so that $\\hat{i}$ is along the incline and $\\hat{j}$ is perpendicular to the incline. Let's redraw our diagrams but we will show the diagram for $m_2$ in the unrotated coordinate system where $\\hat{i}$ points to the right and $\\hat{j}$ points up.\n",
    "\n",
    "We will use the vector2d method rotate() to do this for us. Take a look at the vector2d class above to see the method."
   ]
  },
  {
   "cell_type": "code",
   "execution_count": 33,
   "metadata": {},
   "outputs": [
    {
     "data": {
      "text/plain": [
       "<matplotlib.legend.Legend at 0x158831990>"
      ]
     },
     "execution_count": 33,
     "metadata": {},
     "output_type": "execute_result"
    },
    {
     "data": {
      "image/png": "[encoded data removed]",
      "text/plain": [
       "<Figure size 1000x500 with 2 Axes>"
      ]
     },
     "metadata": {},
     "output_type": "display_data"
    }
   ],
   "source": [
    "fig, (ax1, ax2) = plt.subplots(1,2, figsize = ( 10, 5 ) )\n",
    "\n",
    "g  = 9.8 #m/s^2\n",
    "m1 = 0.5 #kg\n",
    "m2 = 2.5 #kg\n",
    "muk = 0.1 \n",
    "theta = 30. #deg\n",
    "theta = np.radians(theta)\n",
    "s = 25\n",
    "#m_1:\n",
    "\n",
    "origin = vector2d(0,0)\n",
    "fnetpos = vector2d(-10,4)\n",
    "\n",
    "w1_mag = m1*g\n",
    "T = vector2d(0,w1_mag+3,label = \"Tension\",units = ureg.newton)\n",
    "\n",
    "\n",
    "w1 = vector2d(0,-w1_mag,label = \"Weight of $m_1$\",units = ureg.newton)\n",
    "Fnetm1 = T+w1\n",
    "Fnetm1.label = \"$F_{Net}$\"\n",
    "\n",
    "drawvec(ax1,origin,T,width = 2)\n",
    "drawvec(ax1,origin,w1,color = 'red',width = 2)\n",
    "drawvec(ax1,fnetpos,Fnetm1,color = 'b',width = 2)\n",
    "\n",
    "ax1.set_xlim(-s,s)\n",
    "ax1.set_ylim(-s,s)\n",
    "ax1.set_title(\"$m_1$\")\n",
    "ax1.legend(loc = 2)\n",
    "\n",
    "#m_2:\n",
    "\n",
    "#define vectors:\n",
    "w2_mag = m2*g\n",
    "w2  = polar2vec(w2_mag,300,deg = 1,label = \"Weight of $m_2$\",units = ureg.newton)\n",
    "\n",
    "normal = vector2d(0,-w2.y,label = \"Normal\",units = ureg.newton)\n",
    "\n",
    "friction = vector2d((T.y-w2.x)*0.5,0,label = \"Friction\",units = ureg.newton)\n",
    "tension = vector2d(-T.y,0,\\\n",
    "                   label = \"Tension\",units = ureg.newton)\n",
    "\n",
    "\n",
    "#rotate the vectors by -30 deg.:\n",
    "\n",
    "w2.rotate(-30,deg = True)\n",
    "normal.rotate(-30,deg = True)\n",
    "friction.rotate(-30, deg = True)\n",
    "tension.rotate(-30, deg = True)\n",
    "\n",
    "#\n",
    "\n",
    "fnet2 = friction + tension + normal + w2\n",
    "fnet2.label = \"$F_{Net}$\"\n",
    "\n",
    "drawvec(ax2,origin,tension,width = 2)\n",
    "drawvec(ax2,origin,w2,color = 'r',width = 2)\n",
    "drawvec(ax2,origin,normal,color = 'g',width = 2)\n",
    "or_fric = vector2d(0,0.5)\n",
    "drawvec(ax2,or_fric,friction,color = 'm',width = 2)\n",
    "\n",
    "drawvec(ax2,fnetpos,fnet2,color = 'b',width = 2)\n",
    "ax2.set_xlim(-s,s)\n",
    "ax2.set_ylim(-s,s)\n",
    "ax2.set_title(\"$m_2$\")\n",
    "\n",
    "ax2.legend(loc = 2)\n",
    "\n",
    "#Note that vectors are not to scale since we do not know the magnitude of the tension, \n",
    "#friction, etc.!"
   ]
  },
  {
   "cell_type": "markdown",
   "metadata": {},
   "source": [
    "So you might ask why we rotated the coordinate system in the first place. Well, it is much easier to find the components of 1 vector, the weight of $m_2$ rather than all of the other vectors! Additionally, in the rotated coordinate system the acceleration, which is down the incline, is simply in the $+\\hat{i}$ direction.\n",
    "\n",
    "Now let's move on to solving the problem."
   ]
  },
  {
   "cell_type": "markdown",
   "metadata": {},
   "source": [
    "## $m_1$:\n",
    "\n",
    "$\\vec{F}_{Net} =  \\sum_{i} \\vec{F_i} =  m_1\\vec{a}$\n",
    "\n",
    "There are no forces in the x-direction on $m_1$.\n",
    "\n",
    "1. $F_{Net_y} = T - m_1 g = m_1 a $\n",
    "\n",
    "We don't know the values of the tension, $T$ or the magnitude of the block's acceleration, $a$.\n",
    "\n",
    "But we do know that the pulley is massless (or frictionless, either will work) and $m_1$ and $m_2$ are connected by a taught (massless) string. Since the string is directly transferring the force of $m_1$ to $m_2$ and vice versa, the tension forces acting on each block form an action-reaction pair. So we can equate the magnitudes of the tension forces acting on each block. This will be usefull for $m_2$."
   ]
  },
  {
   "cell_type": "markdown",
   "metadata": {},
   "source": [
    "## $m_2$:\n",
    "\n",
    "After rotating our coordinate system so that $\\hat{i}$ is along the incline and $\\hat{j}$ is perpendicular to the incline, it is easy to see the system of equations we need to solve:\n",
    "\n",
    "\n",
    "\n",
    "$\\vec{F}_{Net} = m_2\\vec{a}$\n",
    "\n",
    "Let's break this into *x* and *y* components in our rotated coordinate system:\n",
    "\n",
    "2. $F_{Net_x} = m_2 g\\cdot \\sin \\theta - F_{friction} - T = m_2 a $\n",
    "\n",
    "3. $F_{Net_y} = m_2g\\cdot \\cos \\theta - N = 0$, since $a_y =  0$\n",
    "\n",
    "We can also replace $F_{friction}$ in eq. 2 since we know the relationship between the normal force, the coefficient of sliding friction, and the force of friction:\n",
    "\n",
    "$F_{friction} = \\mu_k\\cdot N $\n",
    "\n",
    "We have 3 numbered equations and 3 unknowns ($a$, $N$, and $T$) so we can solve for all 3 unknowns."
   ]
  },
  {
   "cell_type": "markdown",
   "metadata": {},
   "source": [
    "To do this in python we need to arrange the equations so that the the unknowns are in the same columns of a matrix. Before we do this, let's reorganize the terms in our equations:\n",
    "\n",
    "\n",
    "1. $ T - m_1 g = m_1 a $ $~~~~~~~~~~~~~~~~~~~~~~~~~~~\\rightarrow~~$ $ m_1 a + 0\\cdot N - T = - m_1g  $\n",
    "2. $ m_2 g \\sin \\theta - F_{friction} - T = m_2 a $$~~~\\rightarrow~~$$ m_2 a + \\mu_k N + T = m_2 g \\sin \\theta$\n",
    "3. $ m_2g\\cdot \\cos \\theta - N = 0 $$~~~~~~~~~~~~~~~~~~~~\\rightarrow~~$$ 0 \\cdot a + N + 0 \\cdot T = m_2 g \\cos \\theta $\n",
    "\n",
    "\n",
    "$$\n",
    "A \\vec{x} = \\begin{bmatrix}\n",
    "m_1 a &  0\\cdot N & - 1 \\cdot T \\\\\n",
    "m_2 a &  \\mu_k N  &  1 \\cdot T \\\\\n",
    "0 \\cdot a & 1\\cdot N &  0 \\cdot T \n",
    "\\end{bmatrix} = \\vec{y} = \\left[\\begin{array}{c} - m_1g  \\\\ m_2 g \\sin \\theta  \\\\  m_2 g \\cos \\theta\\end{array}\\right]$$\n",
    "\n",
    "\n",
    "From here we can determine the matrix $A$. Since the vector $\\vec{x}$ is\n",
    "$$\n",
    "\\vec{x} = \\left[\\begin{array}{c} a \\\\N \\\\T \\end{array}\\right]$$\n",
    "\n",
    "$A$ must be \n",
    "$$\n",
    "A = \\begin{bmatrix}\n",
    "m_1 & 0  & -1 \\\\\n",
    "m_2  & \\mu_k  & 1 \\\\\n",
    "0  & 1 & 0 \n",
    "\\end{bmatrix}\n",
    "$$\n",
    "\n",
    "Plugging in $m_1$, $m_2$, and $\\mu_k$ we get:\n",
    "\n",
    "$$\n",
    "A = \\begin{bmatrix}\n",
    "0.5 & 0  & -1 \\\\\n",
    "2.5 & 0.1  & 1 \\\\\n",
    "0  & 1 & 0 \n",
    "\\end{bmatrix}\n",
    "$$\n",
    "\n",
    "and \n",
    "\n",
    "$$\\vec{y} = \\left[\\begin{array}{c} -4.9 \\\\ 12.25 \\\\ 21.22 \\end{array}\\right]$$"
   ]
  },
  {
   "cell_type": "code",
   "execution_count": 34,
   "metadata": {},
   "outputs": [
    {
     "name": "stdout",
     "output_type": "stream",
     "text": [
      "[[ 0.5  0.  -1. ]\n",
      " [ 2.5  0.1  1. ]\n",
      " [ 0.   1.   0. ]] [-4.9        12.25       21.21762239]\n"
     ]
    }
   ],
   "source": [
    "A = np.array([[m1,0,-1],\\\n",
    "             [m2,muk,1],\\\n",
    "             [0,1,0]])\n",
    "y = np.array([-m1*g,m2*g*np.sin(theta),m2*g*np.cos(theta)])\n",
    "\n",
    "print(A,y)"
   ]
  },
  {
   "cell_type": "markdown",
   "metadata": {},
   "source": [
    "Let's use numpy's linear algebra tools to solve for the values of $\\vec{x}$ using Gauss-Jordan elimination:"
   ]
  },
  {
   "cell_type": "code",
   "execution_count": 351,
   "metadata": {},
   "outputs": [
    {
     "name": "stdout",
     "output_type": "stream",
     "text": [
      "[ 1.74274592 21.21762239  5.77137296]\n"
     ]
    }
   ],
   "source": [
    "x = np.linalg.solve(A,y)\n",
    "print(x)"
   ]
  },
  {
   "cell_type": "code",
   "execution_count": 368,
   "metadata": {},
   "outputs": [
    {
     "name": "stdout",
     "output_type": "stream",
     "text": [
      "The mag. of the acceleration of both blocks is 1.74 m/s^2\n",
      "The normal force on block 2 is 21.22 N\n",
      "The tension force acting on each block is 5.77 N\n",
      "Bonus: The force of friction on block 2 is 0.58 N\n"
     ]
    }
   ],
   "source": [
    "print(\"The mag. of the acceleration of both blocks is {0:0.2f} m/s^2\".format(x[0]))\n",
    "print(\"The normal force on block 2 is {0:0.2f} N\"\\\n",
    "      .format(x[1]))\n",
    "print(\"The tension force acting on each block is {0:0.2f} N\"\\\n",
    "      .format(x[2]))\n",
    "print(\"Bonus: The force of friction on block 2 is {0:0.2f} N\"\\\n",
    "      .format(x[2]*muk))"
   ]
  },
  {
   "cell_type": "code",
   "execution_count": null,
   "metadata": {},
   "outputs": [],
   "source": []
  },
  {
   "cell_type": "code",
   "execution_count": null,
   "metadata": {},
   "outputs": [],
   "source": []
  },
  {
   "cell_type": "markdown",
   "metadata": {},
   "source": [
    "# Inheritance and More Operator Overloading"
   ]
  },
  {
   "cell_type": "code",
   "execution_count": null,
   "metadata": {},
   "outputs": [],
   "source": []
  },
  {
   "cell_type": "code",
   "execution_count": 26,
   "metadata": {},
   "outputs": [],
   "source": [
    "import numpy as np"
   ]
  },
  {
   "cell_type": "markdown",
   "metadata": {},
   "source": [
    "Last time we saw how you can make your own data type by creating a new class; e.g. :"
   ]
  },
  {
   "cell_type": "code",
   "execution_count": 28,
   "metadata": {},
   "outputs": [],
   "source": [
    "class Time : \n",
    "    def __init__(self, hour=0, minute=0, second=0):    #--> special method for initializing class\n",
    "        self.hour   = hour\n",
    "        self.minute = minute\n",
    "        self.second = second\n",
    "        \n",
    "        \n",
    "    def __str__(self):                                 # --> return string with print command\n",
    "        return ('%.2d:%.2d:%.2d' % (self.hour, self.minute, self.second ) )\n"
   ]
  },
  {
   "cell_type": "markdown",
   "metadata": {},
   "source": [
    "We also saw attributes, the named elements of your class and how you can create an instance of the class; e.g.:"
   ]
  },
  {
   "cell_type": "code",
   "execution_count": 29,
   "metadata": {},
   "outputs": [],
   "source": [
    "my_time =  Time()"
   ]
  },
  {
   "cell_type": "code",
   "execution_count": 30,
   "metadata": {},
   "outputs": [],
   "source": [
    "my_time.hour = 9\n",
    "my_time.minute = 45"
   ]
  },
  {
   "cell_type": "code",
   "execution_count": 31,
   "metadata": {},
   "outputs": [
    {
     "name": "stdout",
     "output_type": "stream",
     "text": [
      "09:45:00\n"
     ]
    }
   ],
   "source": [
    "print( my_time)"
   ]
  },
  {
   "cell_type": "markdown",
   "metadata": {},
   "source": [
    "We added functions in our class, the methods, that are associated with the particular class; e.g.:"
   ]
  },
  {
   "cell_type": "code",
   "execution_count": 32,
   "metadata": {},
   "outputs": [],
   "source": [
    "class Time :\n",
    "    \"\"\"Represents the time of day.\"\"\"\n",
    "    \n",
    "    def __init__(self, hour=0, minute=0, second=0):    #--> special method for initializing class\n",
    "        self.hour   = hour\n",
    "        self.minute = minute\n",
    "        self.second = second\n",
    "        \n",
    "        \n",
    "    def __str__(self):                                 # --> return string with print command\n",
    "        return ('%.2d:%.2d:%.2d' % (self.hour, self.minute, self.second ) )\n",
    "\n",
    "    def valid_time(self):\n",
    "        if self.hour < 0 or self.minute < 0 or self.second < 0:\n",
    "            return False\n",
    "        if self.minute >= 60 or self.second >= 60:\n",
    "            return False\n",
    "        return True\n",
    "        \n",
    "    def time_to_int(self):\n",
    "        minutes = self.hour * 60 + self.minute\n",
    "        seconds = minutes   * 60 + self.second\n",
    "        return seconds\n",
    "\n",
    "    def is_after(self, other):\n",
    "        if not self.valid_time() or not other.valid_time():\n",
    "            raise ValueError(\"Invalid Time object in add_time()\")\n",
    "        return self.time_to_int() > other.time_to_int()\n"
   ]
  },
  {
   "cell_type": "code",
   "execution_count": 33,
   "metadata": {},
   "outputs": [
    {
     "name": "stdout",
     "output_type": "stream",
     "text": [
      "True\n",
      "03:38:00\n"
     ]
    }
   ],
   "source": [
    "time_1 = Time()\n",
    "time_2 = Time()\n",
    "\n",
    "\n",
    "time_1.hour   = 3\n",
    "time_1.minute = 35\n",
    "\n",
    "time_2.hour   = 3\n",
    "time_2.minute  = 38\n",
    "\n",
    "\n",
    "print( time_2.is_after( time_1 ) )\n",
    "\n",
    "print(time_2)"
   ]
  },
  {
   "cell_type": "markdown",
   "metadata": {},
   "source": [
    "### Let's revisit operator overloading, and practice some more examples.\n",
    "\n",
    "***Operator overloading*** allows you to change the behavior of an operator (e.g. + -) so that it works in a *programmer* defined way.\n",
    "\n",
    "**e.g.** the `+` operation on strings makes more sense as string concatenation. What would it even mean to add strings otherwise?"
   ]
  },
  {
   "cell_type": "code",
   "execution_count": 100,
   "metadata": {},
   "outputs": [
    {
     "name": "stdout",
     "output_type": "stream",
     "text": [
      "treehouse <class 'str'>\n",
      "Treehouse\n"
     ]
    }
   ],
   "source": [
    "compound_word = 'tree' + 'house'\n",
    "print(compound_word,type(compound_word))\n",
    "print(compound_word.capitalize())"
   ]
  },
  {
   "cell_type": "code",
   "execution_count": 101,
   "metadata": {},
   "outputs": [
    {
     "name": "stdout",
     "output_type": "stream",
     "text": [
      "11:20:00\n"
     ]
    }
   ],
   "source": [
    "# This function is the only one not operating on a Time.  It cannot be\n",
    "# in the class Time, because its \"self\" argument would be undefined\n",
    "# when called.  So, it appears out here, would be in the module, but not in the\n",
    "# class.\n",
    "\n",
    "def int_to_time(seconds):\n",
    "    time = Time()\n",
    "    minutes,   time.second = divmod(seconds, 60)\n",
    "    time.hour, time.minute = divmod(minutes, 60)\n",
    "    return time\n",
    "\n",
    "#--------------------------------------------------\n",
    "class Time :\n",
    "    \"\"\"Represents the time of day.\"\"\"\n",
    "    \n",
    "    def __init__(self, hour=0, minute=0, second=0):    #--> special method for initializing class\n",
    "        self.hour   = hour\n",
    "        self.minute = minute\n",
    "        self.second = second\n",
    "        \n",
    "        \n",
    "    def __str__(self):                                 # --> return string with print command\n",
    "        return ('%.2d:%.2d:%.2d' % (self.hour, self.minute, self.second ) )\n",
    "\n",
    "    def valid_time(self):\n",
    "        if self.hour < 0 or self.minute < 0 or self.second < 0:\n",
    "            return False\n",
    "        if self.minute >= 60 or self.second >= 60:\n",
    "            return False\n",
    "        return True\n",
    "        \n",
    "    def time_to_int(self):\n",
    "        minutes = self.hour * 60 + self.minute\n",
    "        seconds = minutes   * 60 + self.second\n",
    "        return seconds\n",
    "\n",
    "    def is_after(self, other):\n",
    "        if not self.valid_time() or not other.valid_time():\n",
    "            raise ValueError(\"Invalid Time object in add_time()\")\n",
    "        return self.time_to_int() > other.time_to_int()\n",
    "    \n",
    "    \n",
    "### this is the function where we use operator overloading :\n",
    "    def __add__(self, other):                              # when you see the \"+\" you will do the following:\n",
    "        seconds = self.time_to_int() + other.time_to_int()\n",
    "        return int_to_time(seconds)\n",
    "\n",
    "\n",
    "\n",
    "start = Time(9, 45)\n",
    "duration = Time(1, 35)\n",
    "print(start + duration) # ---> 11:20:00 (+ becomes the __add__ function)"
   ]
  },
  {
   "cell_type": "code",
   "execution_count": 102,
   "metadata": {},
   "outputs": [
    {
     "name": "stdout",
     "output_type": "stream",
     "text": [
      "-04:03:02\n",
      "True\n"
     ]
    }
   ],
   "source": [
    "t = Time(-4,3,2)\n",
    "print(t)\n",
    "#t.is_after(start)\n",
    "print(6>4)"
   ]
  },
  {
   "cell_type": "markdown",
   "metadata": {},
   "source": [
    "### Let's try out some more operator overloading cases:"
   ]
  },
  {
   "cell_type": "code",
   "execution_count": 103,
   "metadata": {},
   "outputs": [],
   "source": [
    "class my_test_overloads :\n",
    "    \n",
    "    def __lt__( self, other ): \n",
    "        \n",
    "        if ( self.a < other.a ): \n",
    "            return \"number_1 < number_2 \"\n",
    "        else: \n",
    "            return \"number_2 < number_1 \"\n",
    "        \n",
    "    def __gt__( self, other ): \n",
    "        \n",
    "        if ( self.a > other.a ): \n",
    "            return \"number_1 > number_2 \"\n",
    "        else: \n",
    "            return \"number_2 > number_1 \"\n",
    "        \n",
    "    def __eq__( self, other ): \n",
    "        \n",
    "        if( self.a == other.a ): \n",
    "            return \"number_1 == number_2 \"\n",
    "        else: \n",
    "            return \"number_1 != number_2 \"\n",
    "        \n",
    "    def __sub__( self, other ):\n",
    "        \n",
    "        return self.a - other.a \n",
    "    \n",
    "    def __add__( self, other ):\n",
    "        \n",
    "        return self.a + other.a\n",
    "    \n",
    "    def __mul__( self, other ):\n",
    "        \n",
    "        return self.a / other.a\n",
    "    \n",
    "    \n",
    "    def __floordiv__( self, other ) :\n",
    "        \n",
    "        return self.a // other.a \n",
    "    \n",
    "    def __truediv__( self, other ) :\n",
    "        \n",
    "        return self.a * other.a \n",
    "    \n",
    "    def __mod__ ( self, other ):\n",
    "        \n",
    "        return self.a % other.a\n",
    "    "
   ]
  },
  {
   "cell_type": "code",
   "execution_count": 104,
   "metadata": {},
   "outputs": [],
   "source": [
    "q1 = my_test_overloads( )\n",
    "q2 = my_test_overloads( )"
   ]
  },
  {
   "cell_type": "code",
   "execution_count": 105,
   "metadata": {},
   "outputs": [],
   "source": [
    "q1.a = 12\n",
    "q2.a = 5"
   ]
  },
  {
   "cell_type": "code",
   "execution_count": 106,
   "metadata": {},
   "outputs": [
    {
     "name": "stdout",
     "output_type": "stream",
     "text": [
      "17\n"
     ]
    }
   ],
   "source": [
    "print( q1 + q2 )"
   ]
  },
  {
   "cell_type": "code",
   "execution_count": 107,
   "metadata": {},
   "outputs": [
    {
     "name": "stdout",
     "output_type": "stream",
     "text": [
      "2.4\n"
     ]
    }
   ],
   "source": [
    "print( q1 * q2 ) #?? What happened?"
   ]
  },
  {
   "cell_type": "code",
   "execution_count": 108,
   "metadata": {},
   "outputs": [
    {
     "name": "stdout",
     "output_type": "stream",
     "text": [
      "number_1 > number_2 \n"
     ]
    }
   ],
   "source": [
    "print( q1 > q2 )"
   ]
  },
  {
   "cell_type": "code",
   "execution_count": 109,
   "metadata": {},
   "outputs": [
    {
     "data": {
      "text/plain": [
       "True"
      ]
     },
     "execution_count": 109,
     "metadata": {},
     "output_type": "execute_result"
    }
   ],
   "source": [
    "12 > 5"
   ]
  },
  {
   "cell_type": "code",
   "execution_count": 110,
   "metadata": {},
   "outputs": [
    {
     "name": "stdout",
     "output_type": "stream",
     "text": [
      "number_2 < number_1 \n"
     ]
    }
   ],
   "source": [
    "print( q1 < q2 )"
   ]
  },
  {
   "cell_type": "code",
   "execution_count": 111,
   "metadata": {},
   "outputs": [
    {
     "name": "stdout",
     "output_type": "stream",
     "text": [
      "60\n"
     ]
    }
   ],
   "source": [
    "print ( q1 / q2 )"
   ]
  },
  {
   "cell_type": "code",
   "execution_count": 112,
   "metadata": {},
   "outputs": [
    {
     "name": "stdout",
     "output_type": "stream",
     "text": [
      "2\n"
     ]
    }
   ],
   "source": [
    "print( q1 // q2 )"
   ]
  },
  {
   "cell_type": "code",
   "execution_count": 113,
   "metadata": {},
   "outputs": [
    {
     "name": "stdout",
     "output_type": "stream",
     "text": [
      "2\n"
     ]
    }
   ],
   "source": [
    "print( q1 % q2 )"
   ]
  },
  {
   "cell_type": "code",
   "execution_count": null,
   "metadata": {},
   "outputs": [],
   "source": []
  },
  {
   "cell_type": "code",
   "execution_count": 114,
   "metadata": {},
   "outputs": [],
   "source": [
    "class my_test_overloads_b :\n",
    "\n",
    "    def __lt__( self, other ): \n",
    "        \n",
    "        if ( len(self.a) < len(other.a) ): \n",
    "            return \"word_1 shorter than word_2 \"\n",
    "        else: \n",
    "            return \"word_2 shorter than word_1 \"\n",
    "        \n",
    "    def __gt__( self, other ): \n",
    "        \n",
    "        if ( len(self.a) > len(other.a) ): \n",
    "            return \"word_1 longer than word_2 \"\n",
    "        else: \n",
    "            return \"word_2 longer than word_1 \""
   ]
  },
  {
   "cell_type": "code",
   "execution_count": 115,
   "metadata": {},
   "outputs": [],
   "source": [
    "word_A = my_test_overloads_b()\n",
    "word_B = my_test_overloads_b()"
   ]
  },
  {
   "cell_type": "code",
   "execution_count": 116,
   "metadata": {},
   "outputs": [],
   "source": [
    "word_A.a = 'test'\n",
    "word_B.a = 'maybe'"
   ]
  },
  {
   "cell_type": "code",
   "execution_count": 117,
   "metadata": {},
   "outputs": [
    {
     "data": {
      "text/plain": [
       "'word_2 longer than word_1 '"
      ]
     },
     "execution_count": 117,
     "metadata": {},
     "output_type": "execute_result"
    }
   ],
   "source": [
    "word_A > word_B"
   ]
  },
  {
   "cell_type": "code",
   "execution_count": 118,
   "metadata": {},
   "outputs": [
    {
     "data": {
      "text/plain": [
       "'word_1 shorter than word_2 '"
      ]
     },
     "execution_count": 118,
     "metadata": {},
     "output_type": "execute_result"
    }
   ],
   "source": [
    "word_A < word_B"
   ]
  },
  {
   "cell_type": "code",
   "execution_count": 119,
   "metadata": {},
   "outputs": [
    {
     "name": "stdout",
     "output_type": "stream",
     "text": [
      "True\n"
     ]
    }
   ],
   "source": [
    "print(len(\"word\")<len(\"timee\"))"
   ]
  },
  {
   "cell_type": "code",
   "execution_count": null,
   "metadata": {},
   "outputs": [],
   "source": []
  },
  {
   "cell_type": "markdown",
   "metadata": {},
   "source": [
    "## Inheritance\n",
    "***Inheritance*** is the ability to define a new class that is a modified version of an existing (*parent*) class; i.e., we don't need to redefine all methods that we already defined in the parent class, we can just use them in the *child* class and potentially add some more..\n",
    "\n",
    "**EXAMPLE:**\n",
    "- Let's create a *parent* class `photon` with some attributes and methods. We'll initialize it with a wavelength in nanometers (nm) and a phase angle in radians and use the following equations to define its attributes.\n",
    "- Next we'll define a *child* class `laser_beam` that *inherits* the structure of photon.\n",
    "- Equations:\n",
    "\n",
    "  Input: wavelength ($\\lambda$)\n",
    "\n",
    "  1. Reduced Plank's Constant: $\\hbar = \\frac{6.626 \\times 10^{-34}}{2 \\pi} \\mathrm {J \\cdot s}$\n",
    "  2. Speed of light, c: $2.99792 \\times 10^{8} \\mathrm{\\frac{m}{s}}$\n",
    "  3. Wave number: $k = \\frac{2\\pi}{\\lambda}$\n",
    "  4. Angular frequency: $\\omega = \\frac{c}{k}$\n",
    "  5. Momemtum: $p = \\hbar k$\n",
    "  6. Energy: $E = \\hbar \\omega$ \n",
    "\n",
    "  "
   ]
  },
  {
   "cell_type": "code",
   "execution_count": 70,
   "metadata": {},
   "outputs": [],
   "source": [
    "class Photon():\n",
    "    \"\"\"\n",
    "    Class of single travelling photons traveling in 1 dimension.\n",
    "    \"\"\"\n",
    "    hbar = 6.626e-34 #Js\n",
    "    c = 2.99792e8 #m/s \n",
    "    \n",
    "    def __init__(self,lam = 500, phase = 0):\n",
    "        self.lam = lam*1e-9 # m\n",
    "        self.phase = phase #radians\n",
    "       \n",
    "    def wavenumber(self):\n",
    "        k = 2*np.pi/self.lam\n",
    "        return k\n",
    "\n",
    "    def frequency(self):\n",
    "        f = self.c/self.lam\n",
    "        return f\n",
    "\n",
    "    def ang_freq(self):\n",
    "        w = 2*np.pi*self.frequency()\n",
    "        return w\n",
    "    \n",
    "    def momentum(self):\n",
    "        p = self.hbar*self.wavenumber() #kg * m/s\n",
    "        return p\n",
    "\n",
    "    def Energy(self):\n",
    "        E = self.hbar*self.ang_freq()\n",
    "        return E              "
   ]
  },
  {
   "cell_type": "code",
   "execution_count": 71,
   "metadata": {},
   "outputs": [],
   "source": [
    "class laser_beam(Photon):\n",
    "    \"\"\"\n",
    "    Class of laser beams consisting of a flux of N travelling photons per  \n",
    "    picosecond (1 ps = 10^-12 s) traveling in 1 dimension, all with the same phase.\n",
    "    Initialized with beam energy, diameter in mm, wavelength, and phase.\n",
    "    \"\"\"\n",
    "\n",
    "    def __init__(self,photons = 500, lam = 500, diameter = 5, phase = 0):\n",
    "\n",
    "        self.photons = photons\n",
    "        self.lam = lam*1e-9 #m\n",
    "        self.diameter = diameter*1e-3 #m\n",
    "        self.phase = phase #radians\n",
    "\n",
    "    def beam_energy(self):\n",
    "\n",
    "        beam_E = self.photons*self.Energy()\n",
    "        return beam_E\n",
    "\n",
    "    def beam_area(self):\n",
    "        area = np.pi*(self.diameter/2)**2\n",
    "        return area\n",
    "\n",
    "    def __str__(self):\n",
    "\n",
    "        picosec = 1e-12 #s\n",
    "        p1 = f\"Power: {self.Energy()*self.photons/picosec} W.\"\n",
    "        p2 = f\"Wavelength: {self.lam*1e9} nanometers.\"\n",
    "        p3 = f\"Phase at target: {np.degrees(self.phase)} deg.\"\n",
    "        p4 = f\"Flux: {self.beam_energy()/self.beam_area()/picosec} W/m^2.\"\n",
    "        return p1+'\\n' + p2 + '\\n' + p3 + '\\n' + p4\n",
    "        \n",
    "        \n",
    "        "
   ]
  },
  {
   "cell_type": "code",
   "execution_count": 73,
   "metadata": {},
   "outputs": [],
   "source": [
    "redlaser = laser_beam(5000,656,5,np.pi)"
   ]
  },
  {
   "cell_type": "code",
   "execution_count": 74,
   "metadata": {},
   "outputs": [
    {
     "name": "stdout",
     "output_type": "stream",
     "text": [
      "Power: 0.009513000165667486 W.\n",
      "Wavelength: 656.0 nanometers.\n",
      "Phase at target: 180.0 deg.\n",
      "Flux: 484.4931199999999 W/m^2.\n"
     ]
    }
   ],
   "source": [
    "print(redlaser)"
   ]
  },
  {
   "cell_type": "code",
   "execution_count": 243,
   "metadata": {},
   "outputs": [
    {
     "name": "stdout",
     "output_type": "stream",
     "text": [
      "The single photon energy is 1.902600033133497e-18 W.\n"
     ]
    }
   ],
   "source": [
    "print(f\"The single photon energy is {redlaser.Energy()} W.\")"
   ]
  },
  {
   "cell_type": "code",
   "execution_count": 246,
   "metadata": {},
   "outputs": [
    {
     "name": "stdout",
     "output_type": "stream",
     "text": [
      "The frequency is 456999999999999.94 Hz\n"
     ]
    }
   ],
   "source": [
    "print(f\"The frequency is {redlaser.frequency()} Hz\")"
   ]
  },
  {
   "cell_type": "code",
   "execution_count": 249,
   "metadata": {},
   "outputs": [
    {
     "name": "stdout",
     "output_type": "stream",
     "text": [
      "456999999999999.94\n"
     ]
    }
   ],
   "source": [
    "print(redlaser.ang_freq()/2/np.pi)"
   ]
  },
  {
   "cell_type": "code",
   "execution_count": null,
   "metadata": {},
   "outputs": [],
   "source": []
  },
  {
   "cell_type": "markdown",
   "metadata": {},
   "source": [
    "## *Think Python* Example: Building card games"
   ]
  },
  {
   "cell_type": "code",
   "execution_count": 35,
   "metadata": {},
   "outputs": [],
   "source": [
    "### define the cards you will be playing with\n",
    "\n",
    "class Card:\n",
    "    \"\"\"Represents a standard playing card.\n",
    "    \n",
    "    Attributes:\n",
    "      suit: integer 0-3\n",
    "      rank: integer 1-13\n",
    "    \"\"\"\n",
    "### In order to print Card objects in a way that people can easily read, we need a mapping\n",
    "### from the integer codes to the corresponding ranks and suits. A natural way to do that is\n",
    "### with lists of strings. We assign these lists to class attributes suit_names and rank_names:\n",
    "\n",
    "    suit_names = [\"Clubs\", \"Diamonds\", \"Hearts\", \"Spades\"]\n",
    "    rank_names = [None, \"Ace\", \"2\", \"3\", \"4\", \"5\", \"6\", \"7\", \n",
    "              \"8\", \"9\", \"10\", \"Jack\", \"Queen\", \"King\"]\n",
    "\n",
    "    def __init__(self, suit=0, rank=2):\n",
    "        self.suit = suit\n",
    "        self.rank = rank\n",
    "\n",
    "    def __str__(self):\n",
    "        \"\"\"Returns a human-readable string representation.\"\"\"\n",
    "        return '%s of %s' % (Card.rank_names[self.rank],\n",
    "                             Card.suit_names[self.suit])\n",
    "\n",
    "### test which card is stronger than the other:    \n",
    "    def __eq__(self, other):\n",
    "        \"\"\"Checks whether self and other have the same rank and suit.\n",
    "\n",
    "        returns: boolean\n",
    "        \"\"\"\n",
    "        return self.suit == other.suit and self.rank == other.rank\n",
    "\n",
    "    def __lt__(self, other):\n",
    "        \"\"\"Compares this card to other, first by suit, then rank.\n",
    "\n",
    "        returns: boolean\n",
    "        \"\"\"\n",
    "        t1 = self.suit, self.rank\n",
    "        t2 = other.suit, other.rank\n",
    "        return t1 < t2"
   ]
  },
  {
   "cell_type": "code",
   "execution_count": 37,
   "metadata": {},
   "outputs": [
    {
     "name": "stdout",
     "output_type": "stream",
     "text": [
      "King of Spades\n"
     ]
    }
   ],
   "source": [
    "# let's see it in practice:\n",
    "\n",
    "card1 = Card(3, 13)\n",
    "\n",
    "print( card1)"
   ]
  },
  {
   "cell_type": "code",
   "execution_count": 38,
   "metadata": {},
   "outputs": [
    {
     "name": "stdout",
     "output_type": "stream",
     "text": [
      "King of Spades 2 of Diamonds\n",
      "False\n"
     ]
    }
   ],
   "source": [
    "# make another card and test if it is stronger than the first one:\n",
    "card2 = Card(1, 2)\n",
    "\n",
    "print(card1, card2)\n",
    "\n",
    "print( card2 > card1)"
   ]
  },
  {
   "cell_type": "markdown",
   "metadata": {},
   "source": [
    "### Make a class deck that at the init method creates the attribute cards and generates the standard set of fifty-two cards:"
   ]
  },
  {
   "cell_type": "code",
   "execution_count": 44,
   "metadata": {},
   "outputs": [],
   "source": [
    "\n",
    "\n",
    "import random\n",
    "\n",
    "class Deck:\n",
    "    \"\"\"Represents a deck of cards.\n",
    "\n",
    "    Attributes:\n",
    "      cards: list of Card objects.\n",
    "    \"\"\"\n",
    "    \n",
    "    def __init__( self ):\n",
    "        \"\"\"Initializes the Deck with 52 cards.\n",
    "        \"\"\"\n",
    "        self.cards = []\n",
    "        for suit in range( 4 ):\n",
    "            for rank in range( 1, 14 ):\n",
    "                card = Card( suit, rank )   # --> call the class card() and make your full set of cards\n",
    "                self.cards.append( card )\n",
    "\n",
    "    def __str__( self ):\n",
    "        \"\"\"Returns a string representation of the deck.\n",
    "        \"\"\"\n",
    "        res = []                        #--> create a list where we store our Deck card names\n",
    "        for card in self.cards:         #--> loop over cards and append to list\n",
    "            res.append( str( card ) )\n",
    "        return '\\n'.join( res )         #--> use function join() to join the names with a \\n between them\n",
    "\n",
    "    \n",
    "# define all the actions you will do with cards : \n",
    "    def add_card( self, card ):\n",
    "        \"\"\"Adds a card to the deck.\n",
    "\n",
    "        card: Card\n",
    "        \"\"\"\n",
    "        self.cards.append( card )\n",
    "\n",
    "    def remove_card( self, card ):\n",
    "        \"\"\"Removes a card from the deck or raises exception if it is not there.\n",
    "        \n",
    "        card: Card\n",
    "        \"\"\"\n",
    "        self.cards.remove( card )\n",
    "        \n",
    "    def pop_card( self, i = -1 ):\n",
    "        \"\"\"Removes and returns a card from the deck.\n",
    "\n",
    "        i: index of the card to pop; by default, pops the last card.\n",
    "        \"\"\"\n",
    "        return self.cards.pop( i )\n",
    "\n",
    "    def shuffle( self ):\n",
    "        \"\"\"Shuffles the cards in this deck.\"\"\"\n",
    "        random.shuffle( self.cards )\n",
    "\n",
    "    def sort( self ):\n",
    "        \"\"\"Sorts the cards in ascending order.\"\"\"\n",
    "        self.cards.sort()\n",
    "\n",
    "    def move_cards( self, hand, num ):\n",
    "        \"\"\"Moves the given number of cards from the deck into the Hand.\n",
    "\n",
    "        hand: destination Hand object\n",
    "        num: integer number of cards to move\n",
    "        \"\"\"\n",
    "        for i in range( num ):\n",
    "            hand.add_card( self.pop_card() )\n"
   ]
  },
  {
   "cell_type": "code",
   "execution_count": 46,
   "metadata": {},
   "outputs": [
    {
     "name": "stdout",
     "output_type": "stream",
     "text": [
      "3 of Hearts\n",
      "Jack of Clubs\n",
      "Ace of Clubs\n",
      "10 of Diamonds\n",
      "10 of Clubs\n",
      "4 of Clubs\n",
      "Queen of Diamonds\n",
      "3 of Spades\n",
      "2 of Diamonds\n",
      "King of Spades\n",
      "6 of Diamonds\n",
      "6 of Clubs\n",
      "4 of Diamonds\n",
      "Ace of Diamonds\n",
      "Ace of Hearts\n",
      "2 of Clubs\n",
      "10 of Hearts\n",
      "7 of Spades\n",
      "9 of Spades\n",
      "6 of Spades\n",
      "10 of Spades\n",
      "Jack of Diamonds\n",
      "7 of Diamonds\n",
      "4 of Hearts\n",
      "3 of Clubs\n",
      "King of Clubs\n",
      "8 of Spades\n",
      "8 of Diamonds\n",
      "Queen of Spades\n",
      "5 of Hearts\n",
      "Ace of Spades\n",
      "9 of Diamonds\n",
      "2 of Spades\n",
      "5 of Diamonds\n",
      "7 of Clubs\n",
      "Jack of Hearts\n",
      "8 of Hearts\n",
      "7 of Hearts\n",
      "5 of Clubs\n",
      "9 of Hearts\n",
      "5 of Spades\n",
      "3 of Diamonds\n",
      "Queen of Hearts\n",
      "Queen of Clubs\n",
      "9 of Clubs\n",
      "King of Hearts\n",
      "4 of Spades\n",
      "Jack of Spades\n",
      "6 of Hearts\n",
      "8 of Clubs\n",
      "King of Diamonds\n",
      "2 of Hearts\n"
     ]
    }
   ],
   "source": [
    "# print the full deck of cards:\n",
    "deck = Deck()\n",
    "\n",
    "deck.shuffle()\n",
    "print(deck)"
   ]
  },
  {
   "cell_type": "markdown",
   "metadata": {},
   "source": [
    "### Now let's create a child class `Hand` that will use the information from parent class Deck to create a hand of cards:"
   ]
  },
  {
   "cell_type": "code",
   "execution_count": 255,
   "metadata": {},
   "outputs": [],
   "source": [
    "class Hand(Deck):\n",
    "    \"\"\"Represents a hand of playing cards.\"\"\"\n",
    "    \n",
    "    def __init__(self, label=''):         # --> it has its own init, which overrides the one from Deck\n",
    "        self.cards = []\n",
    "        self.label = label\n"
   ]
  },
  {
   "cell_type": "code",
   "execution_count": 256,
   "metadata": {},
   "outputs": [
    {
     "name": "stdout",
     "output_type": "stream",
     "text": [
      "[]\n"
     ]
    }
   ],
   "source": [
    "my_hand = Hand('new hand')\n",
    "\n",
    "print( my_hand.cards )\n"
   ]
  },
  {
   "cell_type": "code",
   "execution_count": 257,
   "metadata": {},
   "outputs": [
    {
     "name": "stdout",
     "output_type": "stream",
     "text": [
      "King of Spades\n"
     ]
    }
   ],
   "source": [
    "# we can add cards to our hand:\n",
    "deck = Deck()\n",
    "card = deck.pop_card()\n",
    "\n",
    "my_hand.add_card(card)\n",
    "print(my_hand)"
   ]
  },
  {
   "cell_type": "code",
   "execution_count": 258,
   "metadata": {},
   "outputs": [
    {
     "name": "stdout",
     "output_type": "stream",
     "text": [
      "King of Spades\n",
      "Queen of Spades\n"
     ]
    }
   ],
   "source": [
    "card = deck.pop_card()  # take another card (remember it's always from bottom here )\n",
    "\n",
    "my_hand.add_card(card)\n",
    "print(my_hand)"
   ]
  },
  {
   "cell_type": "code",
   "execution_count": 259,
   "metadata": {},
   "outputs": [
    {
     "name": "stdout",
     "output_type": "stream",
     "text": [
      "King of Spades\n",
      "Queen of Spades\n",
      "Jack of Spades\n"
     ]
    }
   ],
   "source": [
    "card = deck.pop_card()  \n",
    "my_hand.add_card(card)\n",
    "print(my_hand)"
   ]
  },
  {
   "cell_type": "code",
   "execution_count": 260,
   "metadata": {},
   "outputs": [
    {
     "name": "stdout",
     "output_type": "stream",
     "text": [
      "<class '__main__.Deck'>\n",
      "3 of Clubs\n",
      "5 of Diamonds\n",
      "8 of Diamonds\n",
      "Queen of Diamonds\n",
      "7 of Spades\n"
     ]
    }
   ],
   "source": [
    "def find_defining_class(obj, method_name):\n",
    "    \"\"\"Finds and returns the class object that will provide \n",
    "    the definition of method_name (as a string) if it is\n",
    "    invoked on obj.\n",
    "\n",
    "    obj: any python object\n",
    "    method_name: string method name\n",
    "    \"\"\"\n",
    "    for ty in type(obj).mro():\n",
    "        if method_name in ty.__dict__:\n",
    "            return ty\n",
    "    return None\n",
    "\n",
    "\n",
    "# if we are in the main code do the following:\n",
    "\n",
    "if __name__ == '__main__':\n",
    "    deck = Deck()\n",
    "    deck.shuffle()\n",
    "\n",
    "    hand = Hand()\n",
    "    print(find_defining_class(hand, 'shuffle'))\n",
    "\n",
    "    deck.move_cards(hand, 5)\n",
    "    hand.sort()\n",
    "    print(hand)"
   ]
  },
  {
   "cell_type": "markdown",
   "metadata": {},
   "source": [
    "### Practice:\n",
    "\n",
    "- Let's create a class `Sensor` that initializes with attributes `name, location, record_date,` and an empty dictionary called `data`\n",
    "- Add a method called `add_data` which will store the two arrays: time and data with keys 'time' and 'data' in the data dictionary.\n",
    "- Add another method called `clear_data` which empties the `data` dictionary. "
   ]
  },
  {
   "cell_type": "code",
   "execution_count": 49,
   "metadata": {},
   "outputs": [],
   "source": [
    "class Sensor():\n",
    "    def __init__(self, name, location, record_date):\n",
    "        self.name = name\n",
    "        self.location = location\n",
    "        self.record_date = record_date\n",
    "        self.data = {}\n",
    "        \n",
    "        \n",
    "    def add_data(self, t, data):\n",
    "        self.data['time'] = t\n",
    "        self.data['data'] = data\n",
    "        \n",
    "        print(f'We have {len(data)} points saved')        \n",
    "        \n",
    "    def clear_data(self):\n",
    "        self.data = {}\n",
    "        print('Data cleared!')"
   ]
  },
  {
   "cell_type": "markdown",
   "metadata": {},
   "source": [
    "## Inherit and update attributes with *super*\n",
    "\n",
    "Let's see we want to create a class **NewSensor** that inherit from *Sensor* class, but with updated the attributes by adding a new attribute *brand*. We can of course re-define the whole *\\_\\_init__* method as shown below. "
   ]
  },
  {
   "cell_type": "markdown",
   "metadata": {},
   "source": [
    "But we don't want to re-type all the code as before for all the attributes, this is especially true if we have tens of attributes. Therefore, there is a more concise and popular way to do it: we can use the **super** method to avoid referring to the parent class explicitly. Let's see the following example:\n",
    "\n",
    "**EXAMPLE:** Use *super* method to redefine the attributes. "
   ]
  },
  {
   "cell_type": "code",
   "execution_count": 50,
   "metadata": {},
   "outputs": [
    {
     "data": {
      "text/plain": [
       "'XYZ'"
      ]
     },
     "execution_count": 50,
     "metadata": {},
     "output_type": "execute_result"
    }
   ],
   "source": [
    "class NewSensor(Sensor):\n",
    "    def __init__(self, name, location, record_date, brand):\n",
    "        self.name = name\n",
    "        self.location = location\n",
    "        self.record_date = record_date\n",
    "        self.brand = brand\n",
    "        self.data = {}\n",
    "        \n",
    "new_sensor = NewSensor('OK', 'SF', '2019-03-01', 'XYZ')\n",
    "new_sensor.brand"
   ]
  },
  {
   "cell_type": "code",
   "execution_count": 51,
   "metadata": {},
   "outputs": [
    {
     "data": {
      "text/plain": [
       "'XYZ'"
      ]
     },
     "execution_count": 51,
     "metadata": {},
     "output_type": "execute_result"
    }
   ],
   "source": [
    "class NewSensor(Sensor):\n",
    "    def __init__(self, name, location, record_date, brand):\n",
    "        super().__init__(name, location, record_date)\n",
    "        self.brand = brand\n",
    "        \n",
    "new_sensor = NewSensor('OK', 'SF', '2019-03-01', 'XYZ')\n",
    "new_sensor.brand"
   ]
  },
  {
   "cell_type": "markdown",
   "metadata": {
    "button": false,
    "new_sheet": false,
    "run_control": {
     "read_only": false
    }
   },
   "source": [
    "## Summary\n",
    "\n",
    "\n",
    "1. OOP and POP are different. OOP has many benefits and is often more appropriate for use in large-scale projects.\n",
    "2. A *Class* is the blueprint of the structure that allows us to group data and methods, while an *object* is an instance from the class.\n",
    "3. The concept of \"inheritance\" is key to OOP, which allows us to refer attributes or methods from the superclass.\n",
    "5. The concept of \"polymorphism\" allows us to use common operation in different ways for different data input for example operator overloa."
   ]
  },
  {
   "cell_type": "markdown",
   "metadata": {
    "button": false,
    "jp-MarkdownHeadingCollapsed": true,
    "new_sheet": false,
    "run_control": {
     "read_only": false
    }
   },
   "source": [
    "## Problems\n",
    "\n",
    "1. Describe what are the differences of classes versus objects.\n",
    "2. Describe why we use self as the first argument in the methods. \n",
    "3. What is a constructor? And why do we use it?\n",
    "4. Describe the differences between class and instance attributes. \n",
    "5. The following is a definition of the class *Point* that takes in the coordinate x, y. Add a method *plot_point* that plot the position of point. \n",
    "\n",
    "    ```python\n",
    "   import matplotlib.pyplot as plt\n",
    "\n",
    "   class Point():\n",
    "       def __init__(self, x, y):\n",
    "           self.x = x\n",
    "           self.y = y\n",
    "    ```\n",
    "6. Use the class from problem 5, add a method *calculate_dist* which takes in x and y from another point, and returns the distance calculated between the two points.  \n",
    "7. What's inheritance? \n",
    "8. How do we inherit from a superclass and add new methods?\n",
    "9. When we inherit from a superclass, we need to replace a method with a new one, how do we do that?\n",
    "10. What's the super method? Why do we need it?\n",
    "11. Create a class to model some real world object and create a new class to inherit from it. One example can be the following. You should use a different example and use as many things we learned as possible. "
   ]
  },
  {
   "cell_type": "markdown",
   "metadata": {},
   "source": [
    "## Practice: "
   ]
  },
  {
   "cell_type": "markdown",
   "metadata": {},
   "source": [
    "1. You have a water-air interface. Light comes in at an angle of $24^\\circ$  to the vertical. At what angle will it travel in the water (what is the angle of refraction)? \n",
    "\n",
    "    - Make a function snell_angle that takes as input a list with the incoming angle of light, and the two refractive indices of the two materials the light moves to/from. The function should then use Snell's law to calculate the angle of refraction and return that angle. Remember that from Snell's law: $\\frac{\\sin\\theta_1}{\\sin\\theta_2} = \\frac{n2}{n1}$.  \n",
    "\n",
    "    - Call the function for light moving from air to water with an angle of incidence of $24^\\circ$ (remember that the refractive indices of water and air are approximately 1.333 and 1).  \n",
    "\n",
    "    - What will the angle of refraction be for light moving from air to an acrylic surface ( $n_2$  = 1.49) for the same incidence angle? \n",
    "\n"
   ]
  },
  {
   "cell_type": "code",
   "execution_count": null,
   "metadata": {},
   "outputs": [],
   "source": []
  },
  {
   "cell_type": "code",
   "execution_count": null,
   "metadata": {},
   "outputs": [],
   "source": []
  },
  {
   "cell_type": "markdown",
   "metadata": {},
   "source": [
    "2. Get file test_input.dat Make a code that reads it line by line, and: \n",
    "    - if the line has more than 50 characters it prints the number of \"a\"s and \"w\"s the line has and the number of words that have a \"c\"\n",
    "    - if the line has less than 24 characters it will print the words that have an \"e\"."
   ]
  },
  {
   "cell_type": "code",
   "execution_count": null,
   "metadata": {},
   "outputs": [],
   "source": []
  },
  {
   "cell_type": "code",
   "execution_count": null,
   "metadata": {},
   "outputs": [],
   "source": []
  },
  {
   "cell_type": "code",
   "execution_count": null,
   "metadata": {},
   "outputs": [],
   "source": []
  },
  {
   "cell_type": "markdown",
   "metadata": {},
   "source": [
    "3.  Open discussion: What will the following code print/ why?\n",
    "\n",
    "`list_of_letters = [ 'M', 'a', 'p', 'l', ''e, 'h' , 'u' , 't', 's']`\n",
    "\n",
    "`for letter in 'Mary Poppins flied away with her umbrella ':`\n",
    "\n",
    "`    if letter not in list_of_letters:`\n",
    "\n",
    "`        print(letter)`\n"
   ]
  },
  {
   "cell_type": "code",
   "execution_count": null,
   "metadata": {},
   "outputs": [],
   "source": []
  },
  {
   "cell_type": "markdown",
   "metadata": {},
   "source": [
    "4. Projectile motion is a form of motion experienced by an object or particle that is thrown near the Earth's surface and moves along a curved path under the action of gravity only. In this example you will study the parabolic motion of objects with different initial speeds and angles.  Create function `balistics_planet( gravity, balistics_obj )` that gets as input a dictionary `gravity` and a dictionary `balistics_obj` and returns the maximum altitude the projectile reached (`y_max`) and the total time it traveled (`t`) to get there.  \n",
    "\n",
    "`gravity` should have as keys the names of the four terrestrial planets (Mercury, Venus, Earth and Mars) and as values the acceleration of the four terrestrial planets: (3.7 ,  8.87 , 9.81 and 3.71). \n",
    "\n",
    "`balistics_obj` should have as keys the names of the four terrestrial planets and as keys lists containing the following information for the initial speed and angle of the projectile on each planet:\n",
    "Planet |\tMercury|\tVenus|\tEarth\t|Mars\n",
    "--|:---------:|:---------:|:---------:|:---------:\n",
    "Initial Speed ($v_0$)\t|0.2|\t2.8|\t8.81|\t1.71\n",
    "Angle ($\\theta$)\t|30|\t32|\t50\t|22\n",
    " \n",
    "\n",
    "Remember that:\n",
    "\n",
    "$t = \\frac{2 \\cdot v_0 \\cdot \\sin(\\theta)}{g}$\n",
    "\n",
    "and\n",
    "\n",
    "$y_{max} = \\frac{v_0^2  \\cdot \\sin(\\theta)^2}{2 \\cdot g}$ . \n",
    "\n",
    "\n",
    "- Call `balistics_planet(gravity,balistics_obj)`.\n",
    "- Print an informative sentence about the total time each projectile travelled on each planet and what the maximum altitude it reached.\n",
    "  \n",
    "   **e.g.**:\n",
    "  `On Mercury the object with a starting speed of 0.2 and an angle of 30.0 degrees will travel for a total of ___ seconds to reach a maximum of ___ meters.\"`\n",
    "\n",
    "- Format the statement so that y_max and t have are accurate to 3 digits beyond the decimal.\n",
    "\n"
   ]
  },
  {
   "cell_type": "code",
   "execution_count": null,
   "metadata": {},
   "outputs": [],
   "source": []
  },
  {
   "cell_type": "code",
   "execution_count": null,
   "metadata": {},
   "outputs": [],
   "source": [
    "#3.7 , 8.87 , 9.81 and 3.71\n",
    "gravity = {\"Mercury\": 3.7, \"Venus\":8.87, 'Earth': 9.81, \"Mars\":3.71}\n",
    "balistics_obj = { \"Mercury\":[0.2,  30],\n",
    "                  \"Venus\"  :[2.8,  32], \n",
    "                  \"Earth\"  :[8.81, 50],\n",
    "                  \"Mars\"   :[1.71, 22] }"
   ]
  },
  {
   "cell_type": "code",
   "execution_count": null,
   "metadata": {},
   "outputs": [],
   "source": [
    "#Solve the problem!"
   ]
  },
  {
   "cell_type": "code",
   "execution_count": null,
   "metadata": {},
   "outputs": [],
   "source": [
    "# On  Mercury the object with a starting speed of  0.2 and an angle of 30.0  degrees will \n",
    "# travel for a total of 0.0541 and reach a maximum of 0.0014 meters.\n",
    "# On  Venus the object with a starting speed of  2.8 and an angle of 32  degrees will \n",
    "# travel for a total of 0.3346 and reach a maximum of 0.1241 meters.\n",
    "#On  Earth the object with a starting speed of  8.81 and an angle of 50  degrees \n",
    "# will travel for a total of 1.3759 and reach a maximum of 2.3215 meters.\n",
    "#On  Mars the object with a starting speed of  1.71 and an angle of 22  degrees will \n",
    "# travel for a total of 0.3453 and reach a maximum of 0.0553 meters."
   ]
  },
  {
   "cell_type": "code",
   "execution_count": null,
   "metadata": {},
   "outputs": [],
   "source": []
  },
  {
   "cell_type": "code",
   "execution_count": null,
   "metadata": {},
   "outputs": [],
   "source": []
  },
  {
   "attachments": {},
   "cell_type": "markdown",
   "metadata": {},
   "source": [
    "5. Make a function called `exo_kepler_3rd(period, m_star)` that gets as input the orbital period $T$ of a planet in years and the mass of its parent star $M$ in Solar Masses, and returns the orbital distance $a$ from the star to the planet. Since the mass of the star $M$ could be different than that of the Sun, we'll use Newton's version of Kepler’s $3^{rd}$ law:\n",
    "   \n",
    "   $\\frac{GM}{4\\pi^2} \\cdot T^2 = a^3$.\n",
    "\n",
    "    so the ratio is $\\frac{M_1}{M_2} \\times \\left(\\frac{T_1}{T_2}\\right)^2=\\left(\\frac{a_1}{a_2}\\right)^3 $ \n",
    "\n",
    "    - Use the properties of our Sun (1 $M_\\odot$) and Earth (a = 1 AU, T = 365 days) as a point of reference. Write an appropriate docstring. Call `exo_kepler_3rd`  for the following exoplanets:\n",
    "\n",
    "Planet | Period [days]  | Parent star mass (solar masses)\n",
    "--|:---------:|:---------:\n",
    "HR8799c\t| 232 Earth years | 1.47\n",
    "NGTS-10b\t| 0.76  | 0.696\n",
    "GJ1214b\t| 1.58 | 0.176\n",
    "\n",
    "\n",
    "- What does the distance of these planets to their parent star imply for the conditions of these planets?\n",
    "\n"
   ]
  },
  {
   "cell_type": "code",
   "execution_count": null,
   "metadata": {},
   "outputs": [],
   "source": []
  }
 ],
 "metadata": {
  "kernelspec": {
   "display_name": "Python 3 (ipykernel)",
   "language": "python",
   "name": "python3"
  },
  "language_info": {
   "codemirror_mode": {
    "name": "ipython",
    "version": 3
   },
   "file_extension": ".py",
   "mimetype": "text/x-python",
   "name": "python",
   "nbconvert_exporter": "python",
   "pygments_lexer": "ipython3",
   "version": "3.11.5"
  }
 },
 "nbformat": 4,
 "nbformat_minor": 4
}
