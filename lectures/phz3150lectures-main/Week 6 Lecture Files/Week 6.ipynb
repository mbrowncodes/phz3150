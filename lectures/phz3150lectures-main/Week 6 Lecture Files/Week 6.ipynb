{
 "cells": [
  {
   "cell_type": "markdown",
   "id": "e6ab412e-327e-44ca-bc18-ade918e40bae",
   "metadata": {
    "button": false,
    "new_sheet": false,
    "run_control": {
     "read_only": false
    }
   },
   "source": [
    "<h1 id = \"Week6\">Week 6 Branching Statements and Iteration</h1> "
   ]
  },
  {
   "cell_type": "markdown",
   "id": "8ef8f7d8-891c-4bcc-8b24-6f18d05940e3",
   "metadata": {
    "button": false,
    "new_sheet": false,
    "run_control": {
     "read_only": false
    }
   },
   "source": [
    " ## Motivation\n",
    "\n",
    "When writing functions, it is very common to want certain parts of the function body to be executed only under certain conditions. For example, if the input argument is odd, you may want the function to perform one operation on it, and another if the input argument is even. This effect can be achieved in Python using branching statements (i.e., the execution of the function branches under certain conditions), which are the topic of this chapter.\n",
    "\n",
    "By the end of this chapter, you should be able to program branching statements into your functions and scripts, which should substantially increase the scope of tasks for which you will be able to make functions."
   ]
  },
  {
   "cell_type": "markdown",
   "id": "dffad4f4-e8e9-4642-b6b4-e3adc6e6d40b",
   "metadata": {},
   "source": [
    "# If-Else Statements\n",
    "\n",
    "A **branching statement**, **If-Else Statement**, or **If-Statement** for short, is a code construct that executes blocks of code only if certain conditions are met. These conditions are represented as logical expressions. Let $P$, $Q$, and $R$ be some logical expressions in Python. The following shows an if-statement construction."
   ]
  },
  {
   "cell_type": "markdown",
   "id": "59601bfc-cb34-4ff2-a682-a8cd8ab974df",
   "metadata": {},
   "source": [
    "**CONSTRUCTION**: Simple If-Else Statement Syntax\n",
    "\n",
    "```pseudocode\n",
    "if logical expression:\n",
    "    code block\n",
    "```"
   ]
  },
  {
   "cell_type": "markdown",
   "id": "c7430601-4561-4139-b9b7-b82aed0d1772",
   "metadata": {},
   "source": [
    "The word \"if\" is a keyword. When Python sees an if-statement, it will determine if the associated logical expression is true. If it is true, then the code in *code block* will be executed. If it is false, then the code in the if-statement will not be executed. The way to read this is \"If logical expression is true then do code block.\"\n",
    "\n",
    "When there are several conditions to consider you can include elif-statements; if you want a condition that covers any other case, then you can use an else statement.\n",
    "\n",
    "**Note!** Python gives the same level of indentation to every line of code within a conditional statement."
   ]
  },
  {
   "cell_type": "markdown",
   "id": "265fa5a9-1f3c-4045-ae8a-9fe581251463",
   "metadata": {},
   "source": [
    "**CONSTRUCTION**: Extended If-Else Statement Syntax\n",
    "\n",
    "```pseudocode\n",
    "if logical expression P:\n",
    "    code block 1\n",
    "elif logical expression Q:\n",
    "    code block 2\n",
    "elif logical expression R:\n",
    "    code block 3\n",
    "else:\n",
    "    code block 4\n",
    "   \n",
    "```"
   ]
  },
  {
   "cell_type": "markdown",
   "id": "801b3f41-47c1-45ff-a6c0-b30d690643f6",
   "metadata": {},
   "source": [
    "In the previous code, Python will first check if $\\textit{P}$ is true. If $\\textit{P}$ is true, then code block 1 will be executed, and then the $\\textit{if-statement}$ will end. In other words, Python will *not* check the rest of the statements once it reaches a true statement. However, if $\\textit{P}$ is false, then Python will check if $\\textit{Q}$ is true. If $\\textit{Q}$ is true, then code block 2 will be executed, and the if-statement will end. If it is false, then $\\textit{R}$ will be executed, and so forth. If $\\textit{P}$, $\\textit{Q}$, and $\\textit{R}$ are all false, then code block 4 will be executed. You can have any number of elif statements (or none) as long as there is at least one if-statement (the first statement). You do not need an else statement, but you can have at most one else statement. The logical expressions after the if and elif (i.e., such as P, Q, and R) will be referred to as conditional statements."
   ]
  },
  {
   "cell_type": "markdown",
   "id": "c2e06922-6bc9-466b-b777-05b4ee385e61",
   "metadata": {},
   "source": [
    "**TRY IT!** Write a function *my_thermo_stat(temp, desired_temp)*. The return value of the function should be the string *'Heat'* if temp is less than desired_temp minus 5 degrees, *'AC'* if temp is more than the desired_temp plus 5, and *'off'* otherwise."
   ]
  },
  {
   "cell_type": "code",
   "execution_count": 1,
   "id": "ffe6f7b4-2313-45fc-9f91-2061f731085d",
   "metadata": {},
   "outputs": [],
   "source": [
    "def my_thermo_stat(temp, desired_temp):\n",
    "    \"\"\"\n",
    "    Changes the status of the thermostat based on \n",
    "    temperature and desired temperature\n",
    "    author\n",
    "    date\n",
    "    :type temp: Int\n",
    "    :type desiredTemp: Int\n",
    "    :rtype: String\n",
    "    \"\"\"\n",
    "    if temp < desired_temp - 5:\n",
    "        status = 'Heat'\n",
    "    elif temp > desired_temp + 5:\n",
    "        status = 'AC'\n",
    "    else:\n",
    "        status = 'off'\n",
    "    return status"
   ]
  },
  {
   "cell_type": "code",
   "execution_count": 2,
   "id": "9dcecad2-9d36-4fd0-92dc-2da42d1cdf99",
   "metadata": {},
   "outputs": [
    {
     "name": "stdout",
     "output_type": "stream",
     "text": [
      "Heat\n"
     ]
    }
   ],
   "source": [
    "status = my_thermo_stat(65,75)\n",
    "print(status)"
   ]
  },
  {
   "cell_type": "code",
   "execution_count": 3,
   "id": "cbae7efa-2e94-4975-ba54-cd29494429b9",
   "metadata": {},
   "outputs": [
    {
     "name": "stdout",
     "output_type": "stream",
     "text": [
      "AC\n"
     ]
    }
   ],
   "source": [
    "status = my_thermo_stat(75,65)\n",
    "print(status)"
   ]
  },
  {
   "cell_type": "code",
   "execution_count": 4,
   "id": "92693f51-67e3-47b2-93d0-29aa517c8bc1",
   "metadata": {},
   "outputs": [
    {
     "name": "stdout",
     "output_type": "stream",
     "text": [
      "off\n"
     ]
    }
   ],
   "source": [
    "status = my_thermo_stat(65,63)\n",
    "print(status)"
   ]
  },
  {
   "cell_type": "markdown",
   "id": "dcb0ea24-5b50-478d-8e09-7551130f2721",
   "metadata": {},
   "source": [
    "**EXAMPLE**: What will be the value of y after the following script is executed?"
   ]
  },
  {
   "cell_type": "code",
   "execution_count": 5,
   "id": "16d65f26-fffa-4042-882a-1c14f3a1a405",
   "metadata": {},
   "outputs": [
    {
     "name": "stdout",
     "output_type": "stream",
     "text": [
      "2\n"
     ]
    }
   ],
   "source": [
    "x = 3\n",
    "if x > 1:\n",
    "    y = 2\n",
    "elif x > 2:\n",
    "    y = 4\n",
    "else:\n",
    "    y = 0\n",
    "print(y)"
   ]
  },
  {
   "cell_type": "markdown",
   "id": "ed4cb2b1-4e3a-4cab-b0ae-b150ff3abaec",
   "metadata": {},
   "source": [
    "We can also insert more complicated conditional statements using logical operators."
   ]
  },
  {
   "cell_type": "markdown",
   "id": "3a6557a0-1022-4306-8678-71f6d3734c84",
   "metadata": {},
   "source": [
    "**EXAMPLE:** What will be the value of y after the following code is executed?"
   ]
  },
  {
   "cell_type": "code",
   "execution_count": 6,
   "id": "f7fd447e-9d87-45dc-ae9a-33b746bb9ea2",
   "metadata": {},
   "outputs": [
    {
     "name": "stdout",
     "output_type": "stream",
     "text": [
      "4\n"
     ]
    }
   ],
   "source": [
    "x = 3\n",
    "if x > 1 and x < 2:\n",
    "    y = 2\n",
    "elif x > 2 and x < 4:\n",
    "    y = 4\n",
    "else:\n",
    "    y = 0\n",
    "print(y)"
   ]
  },
  {
   "cell_type": "markdown",
   "id": "5fa92d96-f8b4-4f21-828f-0fa08bd2a6cb",
   "metadata": {},
   "source": [
    "Note that if you want the logical statement a < x < b, this is two conditional statements, *a < x and x < b*. In Python, you can type a < x < b as well. For example:"
   ]
  },
  {
   "cell_type": "code",
   "execution_count": 7,
   "id": "ed6dd8f2-3b02-4e4d-b115-79971cf9948c",
   "metadata": {},
   "outputs": [
    {
     "name": "stdout",
     "output_type": "stream",
     "text": [
      "4\n"
     ]
    }
   ],
   "source": [
    "x = 3\n",
    "if 1 < x < 2:\n",
    "    y = 2\n",
    "elif 2 < x < 4:\n",
    "    y = 4\n",
    "else:\n",
    "    y = 0\n",
    "print(y)"
   ]
  },
  {
   "cell_type": "markdown",
   "id": "151b4942-134c-4e01-8604-f83e3ecf1d75",
   "metadata": {},
   "source": [
    "A statement is called **nested** if it is entirely contained within another statement of the same type as itself. For example, a **nested if-statement** is an if-statement that is entirely contained within a clause of another if-statement."
   ]
  },
  {
   "cell_type": "markdown",
   "id": "a464abf7-8bfe-47a7-bb51-894184499bbe",
   "metadata": {},
   "source": [
    "**EXAMPLE:** Think about what will happen when the following code is executed. What are all the possible outcomes based on the input values of x and y?"
   ]
  },
  {
   "cell_type": "code",
   "execution_count": 8,
   "id": "150130f5-d3fa-4b89-a09d-f94d59951e74",
   "metadata": {},
   "outputs": [],
   "source": [
    "def my_nested_branching(x,y):\n",
    "    \"\"\"\n",
    "    Nested Branching Statement Example\n",
    "    author\n",
    "    date\n",
    "    :type x: Int\n",
    "    :type y: Int\n",
    "    :rtype: Int\n",
    "    \"\"\"\n",
    "    if x > 2:\n",
    "        if y < 2:\n",
    "            out = x + y\n",
    "        else:\n",
    "            out = x - y\n",
    "    else:\n",
    "        if y > 2:\n",
    "            out = x*y\n",
    "        else:\n",
    "            out = 0\n",
    "    return out"
   ]
  },
  {
   "cell_type": "markdown",
   "id": "c2af7310-3f7c-440c-9996-ba4651981a6c",
   "metadata": {},
   "source": [
    "**Note!** As before, Python gives the same level of indentation to every line of code within a conditional statement. The nested if-statement have deeper indentation by increasing four white spaces. You will get an **IndentationError** if the indentation is not correct, as we saw in the defining of the functions. "
   ]
  },
  {
   "cell_type": "code",
   "execution_count": 9,
   "id": "cb9a0a4e-013d-47b6-8fe2-59e8d15d069f",
   "metadata": {},
   "outputs": [],
   "source": [
    "import numpy as np"
   ]
  },
  {
   "cell_type": "code",
   "execution_count": 10,
   "id": "42ed0c86-7940-44f6-ad6d-54d6f433aba9",
   "metadata": {},
   "outputs": [
    {
     "data": {
      "text/plain": [
       "False"
      ]
     },
     "execution_count": 10,
     "metadata": {},
     "output_type": "execute_result"
    }
   ],
   "source": [
    "all([1, 1, 0])"
   ]
  },
  {
   "cell_type": "markdown",
   "id": "40be4ca0-a2a9-4127-b11c-ad6fcb8fd5cc",
   "metadata": {},
   "source": [
    "There are many logical functions that are designed to help you build branching statements. For example, you can ask if a variable has a certain data type with function *isinstance*. There are also functions that can tell you information about arrays of logicals like *any*, which computes to true if any element in an array is true, and false otherwise, and *all*, which computes to true only if all the elements in an array are true.\n",
    "\n",
    "Sometimes you may want to design your function to check the inputs of a function to ensure that your function will be used properly. For example, the function *my_adder* in the previous chapter expects doubles as input. If the user inputs a *list* or a *string* as one of the input variables, then the function will throw an error or have unexpected results. To prevent this, you can put a check to tell the user the function has not been used properly. This and other techniques for controlling errors are explored further in Week 11. For the moment, you only need to know that we could use the $\\texttt{raise}$ statement with a $\\texttt{TypeError}$ exception to stop a function's execution and throw an error with a specific text. "
   ]
  },
  {
   "cell_type": "markdown",
   "id": "52a75f68-aa24-4fe3-ab30-8e1a50ff67bf",
   "metadata": {},
   "source": [
    "**EXAMPLE**: Make a function *my_adder* which adds 3 numbers but throws out a warning if the user does not input numerical values. Try your function for non-numerical inputs to show that the check works. When a statement is too long, we can use '\\\\' symbol to break a line to multiple lines. "
   ]
  },
  {
   "cell_type": "code",
   "execution_count": 11,
   "id": "ff02b53f-7bc5-406e-8d14-6c8434ded428",
   "metadata": {},
   "outputs": [],
   "source": [
    "def my_adder(a, b, c):\n",
    "    \"\"\"\n",
    "    Calculate the sum of three numbers\n",
    "    author\n",
    "    date\n",
    "    \"\"\"\n",
    "    \n",
    "    # Check for erroneous input\n",
    "    if not (isinstance(a, (int, float)) \\\n",
    "            or isinstance(b, (int, float)) \\\n",
    "            or isinstance(c, (int, float))):\n",
    "        raise TypeError('Inputs must be numbers.')\n",
    "    # Return output\n",
    "    return a + b + c"
   ]
  },
  {
   "cell_type": "code",
   "execution_count": 12,
   "id": "c1568c29-74ff-40a9-b26d-2aa3a49849af",
   "metadata": {},
   "outputs": [
    {
     "name": "stdout",
     "output_type": "stream",
     "text": [
      "6\n"
     ]
    }
   ],
   "source": [
    "x = my_adder(1,2,3)\n",
    "print(x)"
   ]
  },
  {
   "cell_type": "code",
   "execution_count": 13,
   "id": "bea4f682-0aba-469b-b787-ece92c67cc0a",
   "metadata": {},
   "outputs": [
    {
     "ename": "TypeError",
     "evalue": "Inputs must be numbers.",
     "output_type": "error",
     "traceback": [
      "\u001b[0;31m---------------------------------------------------------------------------\u001b[0m",
      "\u001b[0;31mTypeError\u001b[0m                                 Traceback (most recent call last)",
      "\u001b[0;32m<ipython-input-13-c3e353c636b0>\u001b[0m in \u001b[0;36m<module>\u001b[0;34m\u001b[0m\n\u001b[0;32m----> 1\u001b[0;31m \u001b[0mx\u001b[0m \u001b[0;34m=\u001b[0m \u001b[0mmy_adder\u001b[0m\u001b[0;34m(\u001b[0m\u001b[0;34m'1'\u001b[0m\u001b[0;34m,\u001b[0m\u001b[0;34m'2'\u001b[0m\u001b[0;34m,\u001b[0m\u001b[0;34m'3'\u001b[0m\u001b[0;34m)\u001b[0m\u001b[0;34m\u001b[0m\u001b[0;34m\u001b[0m\u001b[0m\n\u001b[0m\u001b[1;32m      2\u001b[0m \u001b[0mprint\u001b[0m\u001b[0;34m(\u001b[0m\u001b[0mx\u001b[0m\u001b[0;34m)\u001b[0m\u001b[0;34m\u001b[0m\u001b[0;34m\u001b[0m\u001b[0m\n",
      "\u001b[0;32m<ipython-input-11-0f3d29eecee0>\u001b[0m in \u001b[0;36mmy_adder\u001b[0;34m(a, b, c)\u001b[0m\n\u001b[1;32m     10\u001b[0m             \u001b[0;32mor\u001b[0m \u001b[0misinstance\u001b[0m\u001b[0;34m(\u001b[0m\u001b[0mb\u001b[0m\u001b[0;34m,\u001b[0m \u001b[0;34m(\u001b[0m\u001b[0mint\u001b[0m\u001b[0;34m,\u001b[0m \u001b[0mfloat\u001b[0m\u001b[0;34m)\u001b[0m\u001b[0;34m)\u001b[0m\u001b[0;31m \u001b[0m\u001b[0;31m\\\u001b[0m\u001b[0;34m\u001b[0m\u001b[0;34m\u001b[0m\u001b[0m\n\u001b[1;32m     11\u001b[0m             or isinstance(c, (int, float))):\n\u001b[0;32m---> 12\u001b[0;31m         \u001b[0;32mraise\u001b[0m \u001b[0mTypeError\u001b[0m\u001b[0;34m(\u001b[0m\u001b[0;34m'Inputs must be numbers.'\u001b[0m\u001b[0;34m)\u001b[0m\u001b[0;34m\u001b[0m\u001b[0;34m\u001b[0m\u001b[0m\n\u001b[0m\u001b[1;32m     13\u001b[0m     \u001b[0;31m# Return output\u001b[0m\u001b[0;34m\u001b[0m\u001b[0;34m\u001b[0m\u001b[0;34m\u001b[0m\u001b[0m\n\u001b[1;32m     14\u001b[0m     \u001b[0;32mreturn\u001b[0m \u001b[0ma\u001b[0m \u001b[0;34m+\u001b[0m \u001b[0mb\u001b[0m \u001b[0;34m+\u001b[0m \u001b[0mc\u001b[0m\u001b[0;34m\u001b[0m\u001b[0;34m\u001b[0m\u001b[0m\n",
      "\u001b[0;31mTypeError\u001b[0m: Inputs must be numbers."
     ]
    }
   ],
   "source": [
    "x = my_adder('1','2','3')\n",
    "print(x)"
   ]
  },
  {
   "cell_type": "markdown",
   "id": "51766d89-ad59-46b9-a018-35287a2e7773",
   "metadata": {},
   "source": [
    "There is a large variety of erroneous inputs that your function may encounter from users, and it is unreasonable to expect that your function will catch them all. Therefore, unless otherwise stated, write your functions assuming the functions will be used properly.\n",
    "\n",
    "The remainder of the section gives a few more examples of branching statements."
   ]
  },
  {
   "cell_type": "markdown",
   "id": "6bc1b5b9-0ece-4b73-8463-629dc6a31e6b",
   "metadata": {},
   "source": [
    "**TRY IT!** Write a function called is_odd that returns 'odd' if the input is odd and 'even' if it is even. You can assume that input will be a positive integer."
   ]
  },
  {
   "cell_type": "code",
   "execution_count": 14,
   "id": "e08df1e1-5436-4169-a4ab-b00e47b88415",
   "metadata": {},
   "outputs": [],
   "source": [
    "def is_odd(number):\n",
    "    \"\"\"\n",
    "    function returns 'odd' if the input is odd, \n",
    "       'even' otherwise\n",
    "    author\n",
    "    date\n",
    "    :type number: Int\n",
    "    :rtype: String\n",
    "    \"\"\"\n",
    "    # use modulo to check if the input is divisible by 2\n",
    "    if number % 2 == 0:\n",
    "        # if it is divisible by 2, then input is not odd\n",
    "        return 'even'\n",
    "    else:\n",
    "        return 'odd'"
   ]
  },
  {
   "cell_type": "code",
   "execution_count": 15,
   "id": "cdb35318-4dbd-425a-8cd9-34bf695bc913",
   "metadata": {},
   "outputs": [
    {
     "data": {
      "text/plain": [
       "'odd'"
      ]
     },
     "execution_count": 15,
     "metadata": {},
     "output_type": "execute_result"
    }
   ],
   "source": [
    "is_odd(11)"
   ]
  },
  {
   "cell_type": "code",
   "execution_count": 16,
   "id": "a3152af4-3b0b-47ac-9594-7f8284fc02ff",
   "metadata": {},
   "outputs": [
    {
     "data": {
      "text/plain": [
       "'even'"
      ]
     },
     "execution_count": 16,
     "metadata": {},
     "output_type": "execute_result"
    }
   ],
   "source": [
    "is_odd(2)"
   ]
  },
  {
   "cell_type": "markdown",
   "id": "9c585860-5d06-4df2-8faf-6b59a17e58d7",
   "metadata": {},
   "source": [
    "**TRY IT!** Write a function called *my_circ_calc* that takes a numerical number, *r*, and a string, *calc* as input arguments. You may assume that r is positive, and that *calc* is either the string 'area' or 'circumference'. The function *my_circ_calc* should compute the area of a circle with radius, *r*, if the string *calc* is 'area', and the circumference of a circle with radius, *r*, if *calc* is 'circumference'."
   ]
  },
  {
   "cell_type": "code",
   "execution_count": null,
   "id": "535ac9e2-bd10-4209-a5c7-6cc894aa4a85",
   "metadata": {},
   "outputs": [],
   "source": []
  },
  {
   "cell_type": "code",
   "execution_count": null,
   "id": "32fbb18a-1248-4b19-b38d-26d6b71f4751",
   "metadata": {},
   "outputs": [],
   "source": []
  },
  {
   "cell_type": "code",
   "execution_count": null,
   "id": "3c35e7c1-b0a4-44e1-98bc-f231dff2e01b",
   "metadata": {},
   "outputs": [],
   "source": []
  },
  {
   "cell_type": "code",
   "execution_count": null,
   "id": "fac8fd84-7ea8-4a8f-8a60-29fe02bbb524",
   "metadata": {},
   "outputs": [],
   "source": [
    "my_circ_calc(3, 'circumference')"
   ]
  },
  {
   "cell_type": "markdown",
   "id": "0662ae8a-02e6-4b9c-a492-d16c7003155d",
   "metadata": {},
   "source": [
    "**Note!** The function we write not only working on single value, but on Numpy arrays as well (that is the same operation will apply on each item of the array). See the following example, that we could calculate the circumferences for radius as [2, 3, 4] using a Numpy array. "
   ]
  },
  {
   "cell_type": "code",
   "execution_count": 21,
   "id": "94246edf-a414-4669-8dc4-ba57daa84ae1",
   "metadata": {},
   "outputs": [
    {
     "data": {
      "text/plain": [
       "array([12.56637061, 18.84955592, 25.13274123])"
      ]
     },
     "execution_count": 21,
     "metadata": {},
     "output_type": "execute_result"
    }
   ],
   "source": [
    "my_circ_calc(np.array([2, 3, 4]), 'circumference')"
   ]
  },
  {
   "cell_type": "markdown",
   "id": "54e8403e-1430-43ac-9d7e-0285d160a490",
   "metadata": {},
   "source": [
    "## Ternary Operators\n",
    "\n",
    "Most programming languages have **ternary operators**, which usually known as **conditional expressions**. It provides a way that we can use one-line code to evaluate the first expression if the condition is true, otherwise it evaluates the second expression. Python has its way to implement the ternary operator, which can be constructed as below:"
   ]
  },
  {
   "cell_type": "markdown",
   "id": "eeeb9551-0279-4070-8e77-4b6cd44332db",
   "metadata": {},
   "source": [
    "**CONSTRUCTION**: ternary operator in Python\n",
    "\n",
    "```pseudocode\n",
    "expression_if_true if condition else expression_if_false\n",
    "```\n",
    "\n",
    "**EXAMPLE:** Ternary operator"
   ]
  },
  {
   "cell_type": "code",
   "execution_count": 1,
   "id": "e2bdedc1-4ffa-4847-8ba0-b5626c58c281",
   "metadata": {},
   "outputs": [
    {
     "name": "stdout",
     "output_type": "stream",
     "text": [
      "student\n"
     ]
    }
   ],
   "source": [
    "is_student = True\n",
    "person = 'student' if is_student else 'not student'\n",
    "print(person)"
   ]
  },
  {
   "cell_type": "markdown",
   "id": "1e38248d-8d3a-429a-8cda-a4f2e60b4273",
   "metadata": {},
   "source": [
    "From the above example, we can see this one-line code is equivalent to the following block of codes. "
   ]
  },
  {
   "cell_type": "code",
   "execution_count": 2,
   "id": "bf80253a-0171-454c-bebe-6f03281a7dfe",
   "metadata": {},
   "outputs": [
    {
     "name": "stdout",
     "output_type": "stream",
     "text": [
      "student\n"
     ]
    }
   ],
   "source": [
    "is_student = True\n",
    "if is_student:\n",
    "    person = 'student'\n",
    "else:\n",
    "    person = 'not student'\n",
    "print(person)"
   ]
  },
  {
   "cell_type": "markdown",
   "id": "f8884cca-13ae-474e-ba70-0477f4c600f0",
   "metadata": {},
   "source": [
    "Ternary operator provides a simple way for branching, and it can make our codes concise. Besides, in the next chapter, you will also see it commonly be used in list comprehensions, which is quite useful.   "
   ]
  },
  {
   "cell_type": "markdown",
   "id": "4761c536-6c76-4595-bb34-b03fdd99ebf8",
   "metadata": {},
   "source": [
    "# Summary\n",
    "\n",
    "1. Branching (if-else) statements allow functions to take different actions under different circumstances.\n",
    "2. Ternary operators allow single line branching statements "
   ]
  },
  {
   "cell_type": "markdown",
   "id": "740f66a5-4c23-4abb-b9c0-27b8909b2cc4",
   "metadata": {},
   "source": [
    "## Practice:"
   ]
  },
  {
   "cell_type": "markdown",
   "id": "de86a15f-3bbc-4a0b-aa96-c1f01b9595d4",
   "metadata": {},
   "source": [
    "**TRY IT!** Write a function *my_mult_operation(a,b,operation)*. The input argument, *operation*, is a string that is either 'plus', 'minus', 'mult', 'div', or 'pow', and the function should compute: $a+b$, $a-b$, $a∗b$, $a/b$, and $a^b$ for the respective values for *operation*. A couple of test cases are given below. "
   ]
  },
  {
   "cell_type": "code",
   "execution_count": null,
   "id": "f803f8e9-545b-438f-a79f-f498f998f7b4",
   "metadata": {},
   "outputs": [],
   "source": [
    "def my_mult_operation(a,b,operation):\n",
    "    # write your function code here\n",
    "    \n",
    "    return out"
   ]
  },
  {
   "cell_type": "code",
   "execution_count": null,
   "id": "d98973f3-b1f7-4db6-b743-c7c2ba60645c",
   "metadata": {},
   "outputs": [],
   "source": [
    "x = np.array([1,2,3,4])\n",
    "y = np.array([2,3,4,5])"
   ]
  },
  {
   "cell_type": "code",
   "execution_count": null,
   "id": "4f17a53b-5f51-4bc2-a031-2ea55f49e88e",
   "metadata": {},
   "outputs": [],
   "source": [
    "# Output: [3,5,7,9]\n",
    "my_mult_operation(x,y,'plus')"
   ]
  },
  {
   "cell_type": "code",
   "execution_count": null,
   "id": "b54911dc-122a-427c-bbc6-cd42257743f0",
   "metadata": {},
   "outputs": [],
   "source": [
    "# Output: [-1,-1,-1,-1]\n",
    "my_mult_operation(x,y,'minus')"
   ]
  },
  {
   "cell_type": "code",
   "execution_count": null,
   "id": "c621c45f-f0ce-4951-9d4c-833951fc6d6e",
   "metadata": {},
   "outputs": [],
   "source": [
    "# Output: [2,6,12,20]\n",
    "my_mult_operation(x,y,'mult')"
   ]
  },
  {
   "cell_type": "code",
   "execution_count": null,
   "id": "f43c29f0-bd75-435f-ba30-abc02ab84a41",
   "metadata": {},
   "outputs": [],
   "source": [
    "# Output: [0.5,0.66666667,0.75,0.8]\n",
    "my_mult_operation(x,y,'div')"
   ]
  },
  {
   "cell_type": "code",
   "execution_count": null,
   "id": "2f7f0178-6ccd-4fba-9b5e-ff9450f1ab27",
   "metadata": {},
   "outputs": [],
   "source": [
    "# Output: [1,8,81,1024]\n",
    "my_mult_operation(x,y,'pow')"
   ]
  },
  {
   "cell_type": "markdown",
   "id": "7f2b6c9c-716d-4072-8f41-2e776fd6f4be",
   "metadata": {},
   "source": [
    "**TRY IT!** Consider a triangle with vertices at $(0,0)$, $(1,0)$, and $(0,1)$. Write a function *my_inside_triangle(x,y)* where the output is the string 'outside' if the point $(x,y)$ is outside of the triangle, 'border' if the point is exactly on the border of the triangle, and 'inside' if the point is on the inside of the triangle."
   ]
  },
  {
   "cell_type": "code",
   "execution_count": null,
   "id": "0cd0c559-ac12-4da6-b587-762546b9331f",
   "metadata": {},
   "outputs": [],
   "source": [
    "def my_inside_triangle(x,y):\n",
    "    # write your function code here\n",
    "    \n",
    "    return position"
   ]
  },
  {
   "cell_type": "code",
   "execution_count": null,
   "id": "f1a4bf7e-faae-4c4c-9b1a-56d046549201",
   "metadata": {},
   "outputs": [],
   "source": [
    "# Output: 'border'\n",
    "my_inside_triangle(.5,.5)"
   ]
  },
  {
   "cell_type": "code",
   "execution_count": null,
   "id": "cb27f276-a5fc-462c-99b2-97932cc3ac9f",
   "metadata": {},
   "outputs": [],
   "source": [
    "# Output: 'inside'\n",
    "my_inside_triangle(.25,.25)"
   ]
  },
  {
   "cell_type": "code",
   "execution_count": null,
   "id": "4a43f0e5-0327-41aa-a166-dafaee16ffe4",
   "metadata": {},
   "outputs": [],
   "source": [
    "# Output: 'outside'\n",
    "my_inside_triangle(5,5)"
   ]
  },
  {
   "cell_type": "markdown",
   "id": "8a7568bf-6f79-44bb-b601-89ade1b8c0ce",
   "metadata": {},
   "source": [
    "**TRY IT!** Write a function *my_letter_grader(percent)*, where grade is the string 'A+' if *percent* is greater than 97, 'A' if *percent* is greater than 93, 'A-' if *percent* is greater than 90, 'B+' if *percent* is greater than 87, 'B' if *percent* is greater than 83, 'B-' if *percent* is greater than 80, 'C+' if *percent* is greater than 77, 'C' if *percent* is greater than 73, 'C-' if *percent* is greater than 70, 'D+' if *percent* is greater than 67, 'D' if *percent* is greater than 63, 'D-' if *percent* is greater than 60, and 'F' for any *percent* less than 60. Grades exactly on the division should be included in the higher grade category."
   ]
  },
  {
   "cell_type": "code",
   "execution_count": null,
   "id": "a3054461-7e6a-4203-bfe1-a612a5633b66",
   "metadata": {},
   "outputs": [],
   "source": [
    "def my_letter_grader(percent):\n",
    "    # write your function code here\n",
    "    \n",
    "    return grade"
   ]
  },
  {
   "cell_type": "code",
   "execution_count": null,
   "id": "75990584-e98b-49e0-9f0a-b74c7b71f627",
   "metadata": {},
   "outputs": [],
   "source": [
    "# Output: 'A+'\n",
    "my_letter_grader(97)"
   ]
  },
  {
   "cell_type": "code",
   "execution_count": null,
   "id": "ad98933f-87af-417a-8b2d-b681ebc80cad",
   "metadata": {},
   "outputs": [],
   "source": [
    "# Output: 'B'\n",
    "my_letter_grader(84)"
   ]
  },
  {
   "cell_type": "markdown",
   "id": "aa2cd428-e27e-4876-b51b-587b23afee86",
   "metadata": {},
   "source": [
    "**TRY IT!** Most engineering systems have redundancy. That is, an engineering system has more than is required to accomplish its purpose. Consider a nuclear reactor whose temperature is monitored by three sensors. An alarm should go off if any two of the sensor readings disagree. Write a function *my_nuke_alarm(s1,s2,s3)* where *s1*, *s2*, and *s3* are the temperature readings for sensor 1, sensor 2, and sensor 3, respectively. The output should be the string 'alarm!' if any two of the temperature readings disagree by strictly more than 10 degrees and 'normal' otherwise."
   ]
  },
  {
   "cell_type": "code",
   "execution_count": null,
   "id": "4a2db879-c414-45c9-9fe6-6a4b12fb58b8",
   "metadata": {},
   "outputs": [],
   "source": [
    "def my_nuke_alarm(s1,s2,s3):\n",
    "    # write your function code here\n",
    "    \n",
    "    return response"
   ]
  },
  {
   "cell_type": "code",
   "execution_count": null,
   "id": "11f4b6a9-75a2-4ffa-a345-72bed27f7e82",
   "metadata": {},
   "outputs": [],
   "source": [
    "#Output: 'normal'\n",
    "my_nuke_alarm(94,96,90)"
   ]
  },
  {
   "cell_type": "code",
   "execution_count": null,
   "id": "452f5cc9-e64b-44b1-9b0c-2ea5e6b23928",
   "metadata": {},
   "outputs": [],
   "source": [
    "#Output: 'alarm!'\n",
    "my_nuke_alarm(94,96,80)"
   ]
  },
  {
   "cell_type": "code",
   "execution_count": null,
   "id": "062c6bae-40f0-410f-8bbc-b4f6e88cda39",
   "metadata": {},
   "outputs": [],
   "source": [
    "#Output: 'normal'\n",
    "my_nuke_alarm(100,96,90)"
   ]
  },
  {
   "cell_type": "markdown",
   "id": "e5a1047c-98b8-4463-b466-ddb7cd9158f5",
   "metadata": {},
   "source": [
    "**TRY IT!** Let Q(x) be the quadratic equation $Q(x) = ax^2 + bx + c$ for some scalar values *a*, *b*, and *c*. A root of $Q(x)$ is an *r* such that $Q(r) = 0$. The two roots of a quadratic equation can be described by the quadratic formula, which is\n",
    "\n",
    "$$r = \\frac{-b\\pm\\sqrt{b^2-4ac}}{2a}$$. \n",
    "\n",
    "A quadratic equation has either two real roots (i.e., $b^2 > 4ac$), two imaginary roots (i.e., $b^2 < 4ac$), or one root, $r = − \\frac{b}{2a}$.\n",
    "\n",
    "Write a function *my_n_roots(a,b,c)*, where *a*, *b*, and *c* are the coefficients of the quadratic $Q(x)$, the function should return two values: *n_roots* and *r*. *n_roots* is 2 if *Q* has two real roots, 1 if *Q* has one root, −2 if *Q* has two imaginary roots, and *r* is an array containing the roots of *Q*."
   ]
  },
  {
   "cell_type": "code",
   "execution_count": null,
   "id": "ccb26832-c78d-4b65-89b0-5617c4a9401e",
   "metadata": {},
   "outputs": [],
   "source": [
    "def my_n_roots(a,b,c):\n",
    "    # write your function code here\n",
    "    \n",
    "    return n_roots, r"
   ]
  },
  {
   "cell_type": "code",
   "execution_count": null,
   "id": "be80d2a3-836b-47c3-969b-a71dd1c6ab6f",
   "metadata": {},
   "outputs": [],
   "source": [
    "# Output: n_roots = 2, r = [3, -3]\n",
    "n_roots, r = my_n_roots(1,0,-9)\n",
    "print(n_roots, r)"
   ]
  },
  {
   "cell_type": "code",
   "execution_count": null,
   "id": "2e7e4fa6-8da5-4091-94e1-0ffbfcb76157",
   "metadata": {},
   "outputs": [],
   "source": [
    "# Output: n_roots = -2, r = [-0.6667 + 1.1055i, -0.6667 - 1.1055i]\n",
    "my_n_roots(3,4,5)"
   ]
  },
  {
   "cell_type": "code",
   "execution_count": null,
   "id": "0d4cf894-c73c-4fed-b9ff-b59b265dabd8",
   "metadata": {},
   "outputs": [],
   "source": [
    "# Output: n_roots = 1, r = [1]\n",
    "my_n_roots(2,4,2)"
   ]
  },
  {
   "cell_type": "markdown",
   "id": "37f92a5d-3f01-4e8e-bd62-a652468a670f",
   "metadata": {
    "button": false,
    "new_sheet": false,
    "run_control": {
     "read_only": false
    }
   },
   "source": [
    "# Iteration"
   ]
  },
  {
   "cell_type": "markdown",
   "id": "9dec58ab-3e9d-468b-afb9-3ec24216a8e0",
   "metadata": {
    "button": false,
    "new_sheet": false,
    "run_control": {
     "read_only": false
    }
   },
   "source": [
    "## Motivation\n",
    "\n",
    "Many tasks in life are boring or tedious because they require doing the same  basic actions over and over again—iterating—in slightly different contexts. For example, consider looking up the definition of 20 words in the dictionary, populating a large table of numbers with data, alphabetizing many stacks of paper, or dusting off every object and shelf in your room. Since repetitive tasks appear so frequently, it is only natural that programming languages like Python would have direct methods of performing iteration.\n",
    "\n",
    "This lecture teaches you how to program iterative tasks. With *branching* and *iteration*, it is possible to program just about any task that you can imagine.\n"
   ]
  },
  {
   "cell_type": "markdown",
   "id": "57154e5b-5f04-41bb-b202-3aac71ba8731",
   "metadata": {
    "button": false,
    "new_sheet": false,
    "run_control": {
     "read_only": false
    }
   },
   "source": [
    "## For-Loops"
   ]
  },
  {
   "cell_type": "markdown",
   "id": "d4bc79fa-8849-446f-9e17-96ab3546e175",
   "metadata": {
    "button": false,
    "new_sheet": false,
    "run_control": {
     "read_only": false
    }
   },
   "source": [
    "A **for-loop** is a set of instructions that is repeated, or iterated, for every value in a sequence. Sometimes for-loops are referred to as **definite loops** because they have a predefined begin and end as bounded by the sequence. \n",
    "\n",
    "The general syntax of a for-loop block is as follows.\n",
    "\n",
    "**CONSTRUCTION**: For-loop\n",
    "\n",
    "```python\n",
    "for looping variable in sequence:\n",
    "    code block\n",
    "```\n",
    "\n",
    "A for-loop assigns the **looping variable** to the first element of the sequence. It executes everything in the code block. Then it assigns the looping variable to the next element of the sequence and executes the code block again. It continues until there are no more elements in the sequence to assign."
   ]
  },
  {
   "cell_type": "markdown",
   "id": "3a603d71-cff8-443a-b01e-44ccb51afd47",
   "metadata": {
    "button": false,
    "new_sheet": false,
    "run_control": {
     "read_only": false
    }
   },
   "source": [
    "**TRY IT!** What is the sum of every integer from 1 to 3?"
   ]
  },
  {
   "cell_type": "code",
   "execution_count": 1,
   "id": "f6409583-e9e3-47ef-917d-607524cb6160",
   "metadata": {
    "button": false,
    "new_sheet": false,
    "run_control": {
     "read_only": false
    }
   },
   "outputs": [
    {
     "name": "stdout",
     "output_type": "stream",
     "text": [
      "6\n"
     ]
    }
   ],
   "source": [
    "n = 0\n",
    "for i in range(1, 4):\n",
    "    n = n + i\n",
    "    \n",
    "print(n)"
   ]
  },
  {
   "cell_type": "markdown",
   "id": "92f91530-f4b3-45e9-9273-2a87b9b03400",
   "metadata": {
    "button": false,
    "new_sheet": false,
    "run_control": {
     "read_only": false
    }
   },
   "source": [
    "**WHAT IS HAPPENING?** \n",
    "\n",
    "0. First, the function *range(1, 4)* is generating a list of numbers beginning at 1 and ending at 3. Check the description of the function *range* and get familiar with how to use it. In a very simple form, it is *range(start, stop, step)*, and the *step* is optional with 1 as the default. \n",
    "1. The variable *n* is assigned the value 0.\n",
    "2. The variable *i* is assigned the value 1.\n",
    "3. The variable *n* is assigned the value *n + i* ($0 + 1 = 1$).\n",
    "4. The variable *i* is assigned the value 2.\n",
    "5. The variable *n* is assigned the value *n + i* ($1 + 2 = 3$).\n",
    "6. The variable *i* is assigned the value 3.\n",
    "7. The variable *n* is assigned the value *n + i* ($3 + 3 = 6$).\n",
    "8. With no more values to assign in the list, the for-loop is terminated with \n",
    "*n = 6*."
   ]
  },
  {
   "cell_type": "markdown",
   "id": "c38b1fd5-a1b4-4ae8-84e1-34bc1f6495e1",
   "metadata": {
    "button": false,
    "new_sheet": false,
    "run_control": {
     "read_only": false
    }
   },
   "source": [
    "We present several more examples to give you a sense of how for-loops work. Other examples of sequences that we can iterate over include the elements of a tuple, the characters in a string, and other sequential data types."
   ]
  },
  {
   "cell_type": "markdown",
   "id": "37ff6034-23c6-49be-a26f-77ecb40a084f",
   "metadata": {
    "button": false,
    "new_sheet": false,
    "run_control": {
     "read_only": false
    }
   },
   "source": [
    "__EXAMPLE:__ Print all the characters in the string `\"banana\"`."
   ]
  },
  {
   "cell_type": "code",
   "execution_count": 2,
   "id": "8122b23f-ae2e-4b20-8ace-3c2837b63cb4",
   "metadata": {
    "button": false,
    "new_sheet": false,
    "run_control": {
     "read_only": false
    }
   },
   "outputs": [
    {
     "name": "stdout",
     "output_type": "stream",
     "text": [
      "b\n",
      "a\n",
      "n\n",
      "a\n",
      "n\n",
      "a\n"
     ]
    }
   ],
   "source": [
    "for c in \"banana\":\n",
    "    print(c)"
   ]
  },
  {
   "cell_type": "markdown",
   "id": "bf19ecb1-9103-41be-892e-83ccd19e6f55",
   "metadata": {
    "button": false,
    "new_sheet": false,
    "run_control": {
     "read_only": false
    }
   },
   "source": [
    "Alternatively, you could use the index to get each character. But it is not as concise as the previous example. Recall that the length of a string could be determined by using the *len* function. And we could ignore the start by only giving one number as the stop. "
   ]
  },
  {
   "cell_type": "code",
   "execution_count": 3,
   "id": "c9027f55-948c-4959-a1e1-a72bf3e3db80",
   "metadata": {
    "button": false,
    "new_sheet": false,
    "run_control": {
     "read_only": false
    }
   },
   "outputs": [
    {
     "name": "stdout",
     "output_type": "stream",
     "text": [
      "b\n",
      "a\n",
      "n\n",
      "a\n",
      "n\n",
      "a\n"
     ]
    }
   ],
   "source": [
    "s = \"banana\"\n",
    "for i in range(len(s)):\n",
    "    print(s[i])"
   ]
  },
  {
   "cell_type": "markdown",
   "id": "d5e7e10a-2dc2-48fa-906d-18fbc6c477b7",
   "metadata": {
    "button": false,
    "new_sheet": false,
    "run_control": {
     "read_only": false
    }
   },
   "source": [
    "**EXAMPLE**: Given a list of integers, *a*, add all the elements of *a*."
   ]
  },
  {
   "cell_type": "code",
   "execution_count": 4,
   "id": "25cc06b1-ff64-4e03-9bca-a32d51c5f4d3",
   "metadata": {
    "button": false,
    "new_sheet": false,
    "run_control": {
     "read_only": false
    }
   },
   "outputs": [
    {
     "name": "stdout",
     "output_type": "stream",
     "text": [
      "12\n"
     ]
    }
   ],
   "source": [
    "s = 0\n",
    "a = [2, 3, 1, 3, 3]\n",
    "for i in a:\n",
    "    s += i # note this is equivalent to s = s + i\n",
    "    \n",
    "print(s)"
   ]
  },
  {
   "cell_type": "markdown",
   "id": "2f073959-459a-42d2-a5c4-efebaa2e0d0a",
   "metadata": {
    "button": false,
    "new_sheet": false,
    "run_control": {
     "read_only": false
    }
   },
   "source": [
    "The Python function *sum* has already been written to handle the previous example. However, assume you wish to add only the even numbers. What would you change to the previous for-loop block to handle this restriction?"
   ]
  },
  {
   "cell_type": "code",
   "execution_count": 5,
   "id": "245c4137-cf3f-45d6-9c03-44cc65606372",
   "metadata": {
    "button": false,
    "new_sheet": false,
    "run_control": {
     "read_only": false
    }
   },
   "outputs": [
    {
     "name": "stdout",
     "output_type": "stream",
     "text": [
      "6\n"
     ]
    }
   ],
   "source": [
    "s = 0\n",
    "for i in range(0, len(a), 2):\n",
    "    s += a[i]\n",
    "    \n",
    "print(s)"
   ]
  },
  {
   "cell_type": "markdown",
   "id": "401ed941-7b31-4725-ba55-3a4352f10a3e",
   "metadata": {
    "button": false,
    "new_sheet": false,
    "run_control": {
     "read_only": false
    }
   },
   "source": [
    "**NOTE!** We use *step* as 2 in the *range* function to get the even indexes for list *a*. Also, a Python shortcut that is commonly used is the operator *+=*. In Python and many other programming languages, a statement like *i += 1* is equivalent to *i = i + 1* and same is for other operators as *-=*, *\\*=*, */=*."
   ]
  },
  {
   "cell_type": "markdown",
   "id": "76a272d4-9056-4845-ab4d-0c2efb0217f4",
   "metadata": {
    "button": false,
    "new_sheet": false,
    "run_control": {
     "read_only": false
    }
   },
   "source": [
    "**Example** Define a dictionary and loop through all the keys and values. "
   ]
  },
  {
   "cell_type": "code",
   "execution_count": 6,
   "id": "ea863d03-3f6f-4e10-9070-6d76dde900c0",
   "metadata": {
    "button": false,
    "new_sheet": false,
    "run_control": {
     "read_only": false
    }
   },
   "outputs": [
    {
     "name": "stdout",
     "output_type": "stream",
     "text": [
      "One 1\n",
      "Two 2\n",
      "Three 3\n"
     ]
    }
   ],
   "source": [
    "dict_a = {\"One\":1, \"Two\":2, \"Three\":3}\n",
    "\n",
    "for key in dict_a.keys():\n",
    "    print(key, dict_a[key])"
   ]
  },
  {
   "cell_type": "markdown",
   "id": "c9a1ed8e-113f-41b0-9dc3-e17514d4b6c0",
   "metadata": {
    "button": false,
    "new_sheet": false,
    "run_control": {
     "read_only": false
    }
   },
   "source": [
    "In the above example, we first get all the keys using the method *keys*, and then use the key to get access the value. Alternatively, we could use the *item* method in a dictionary, and get the key and value at the same time as show in the following example."
   ]
  },
  {
   "cell_type": "code",
   "execution_count": 7,
   "id": "5b989f45-67b7-41af-b227-0e8b31785439",
   "metadata": {
    "button": false,
    "new_sheet": false,
    "run_control": {
     "read_only": false
    }
   },
   "outputs": [
    {
     "name": "stdout",
     "output_type": "stream",
     "text": [
      "One 1\n",
      "Two 2\n",
      "Three 3\n"
     ]
    }
   ],
   "source": [
    "for key, value in dict_a.items():\n",
    "    print(key, value)"
   ]
  },
  {
   "cell_type": "markdown",
   "id": "6667d3e8-6b9d-43f9-9b7f-453951f9196e",
   "metadata": {
    "button": false,
    "new_sheet": false,
    "run_control": {
     "read_only": false
    }
   },
   "source": [
    "Note that, we could assign two different looping variables at the same time. There are other cases that we could do things similarly. For example, if we have two lists with same length, and we want to loop through them, we could do as the following example using the *zip* function:"
   ]
  },
  {
   "cell_type": "code",
   "execution_count": 8,
   "id": "d31c36ed-0e8a-44cc-9e82-4113aa4e75d4",
   "metadata": {
    "button": false,
    "new_sheet": false,
    "run_control": {
     "read_only": false
    }
   },
   "outputs": [
    {
     "name": "stdout",
     "output_type": "stream",
     "text": [
      "One 1\n",
      "Two 2\n",
      "Three 3\n"
     ]
    }
   ],
   "source": [
    "a = [\"One\", \"Two\", \"Three\"]\n",
    "b = [1, 2, 3]\n",
    "\n",
    "for i, j in zip(a, b):\n",
    "    print(i, j)"
   ]
  },
  {
   "cell_type": "markdown",
   "id": "70bb2002-8a32-4ae2-b2bf-5612a866f533",
   "metadata": {
    "button": false,
    "new_sheet": false,
    "run_control": {
     "read_only": false
    }
   },
   "source": [
    "**EXAMPLE:** Let the function *have_digits* has the input as a string. The output *out* should take the value 1 if the string contains digits, and 0 otherwise. You could use the *isdigit* method of the string to check if the character is a digit. "
   ]
  },
  {
   "cell_type": "code",
   "execution_count": 9,
   "id": "e5448c24-6444-44d3-9abb-a40271e6297d",
   "metadata": {
    "button": false,
    "new_sheet": false,
    "run_control": {
     "read_only": false
    }
   },
   "outputs": [],
   "source": [
    "def have_digits(s):\n",
    "    \n",
    "    out = 0\n",
    "    \n",
    "    # loop through the string\n",
    "    for c in s:\n",
    "        # check if the character is a digit\n",
    "        if c.isdigit():\n",
    "            out = 1\n",
    "            break\n",
    "            \n",
    "    return out"
   ]
  },
  {
   "cell_type": "code",
   "execution_count": 10,
   "id": "1e52f7e0-05a4-49e1-90fc-4ad68932ad93",
   "metadata": {
    "button": false,
    "new_sheet": false,
    "run_control": {
     "read_only": false
    }
   },
   "outputs": [
    {
     "name": "stdout",
     "output_type": "stream",
     "text": [
      "1\n"
     ]
    }
   ],
   "source": [
    "out = have_digits('only4you')\n",
    "print(out)"
   ]
  },
  {
   "cell_type": "code",
   "execution_count": 11,
   "id": "b57ce1d8-061e-41f4-8acd-dcc79bbe1883",
   "metadata": {
    "button": false,
    "new_sheet": false,
    "run_control": {
     "read_only": false
    }
   },
   "outputs": [
    {
     "name": "stdout",
     "output_type": "stream",
     "text": [
      "0\n"
     ]
    }
   ],
   "source": [
    "out = have_digits('only for you')\n",
    "print(out)"
   ]
  },
  {
   "cell_type": "markdown",
   "id": "5f61ffa7-1aca-4b20-a86e-ae610ed51b10",
   "metadata": {
    "button": false,
    "new_sheet": false,
    "run_control": {
     "read_only": false
    }
   },
   "source": [
    "The first step in the function *have_digits* assumes that there are no digits in the string *s* (i.e., the output is 0 or False). \n",
    "\n",
    "Notice the new keyword *break*. If executed, the *break* keyword immediately stops the most immediate for-loop that contains it; that is, if it is contained in a nested for-loop, then it will only stop the innermost for-loop. In this particular case, the break command is executed if we ever find a digit in the string. The code will still function properly without this statement, but since the task is to find out if there are any digit in *s*, we do not have to keep looking if we find one. Similarly, if a human was given the same task for a long string of characters, that person would not continue looking for digits if he or she already found one. Break statements are used when anything happens in a for-loop that would make you want it to stop early. A less intrusive command is the keyword *continue*, which skips the remaining code in the current iteration of the for-loop, and continues on to the next element of the looping array. See the following example, that we use the keyword *continue* to skip the *print* function to print 2:"
   ]
  },
  {
   "cell_type": "code",
   "execution_count": 12,
   "id": "50f68448-4d6a-4e22-9063-1d695ef397c6",
   "metadata": {
    "button": false,
    "new_sheet": false,
    "run_control": {
     "read_only": false
    }
   },
   "outputs": [
    {
     "name": "stdout",
     "output_type": "stream",
     "text": [
      "0\n",
      "1\n",
      "3\n",
      "4\n"
     ]
    }
   ],
   "source": [
    "for i in range(5):\n",
    "    \n",
    "    if i == 2:\n",
    "        continue\n",
    "        \n",
    "    print(i)"
   ]
  },
  {
   "cell_type": "markdown",
   "id": "5dabf39f-2efb-4cb7-ba75-0b51062c14fa",
   "metadata": {
    "button": false,
    "new_sheet": false,
    "run_control": {
     "read_only": false
    }
   },
   "source": [
    "**EXAMPLE:** Let the function *my_dist_2_points(xy_points, xy)*, where the input argument *xy_points* is a list of x-y coordinates of a point in Euclidean space, *xy* is a list that contain an x-y coordinate, and the output *d* is a list containing the distances from *xy* to the points contained in each row of *xy_points*. "
   ]
  },
  {
   "cell_type": "code",
   "execution_count": 13,
   "id": "8d063e2a-077f-468c-92cd-a5dbba37f789",
   "metadata": {
    "button": false,
    "new_sheet": false,
    "run_control": {
     "read_only": false
    }
   },
   "outputs": [],
   "source": [
    "import math\n",
    "\n",
    "def my_dist_2_points(xy_points, xy):\n",
    "    \"\"\"\n",
    "    Returns an array of distances between xy and the points \n",
    "    contained in the rows of xy_points\n",
    "    \n",
    "    author\n",
    "    date\n",
    "    \"\"\"\n",
    "    d = []\n",
    "    for xy_point in xy_points:\n",
    "        dist = math.sqrt(\\\n",
    "            (xy_point[0] - xy[0])**2 + (xy_point[1] - xy[1])**2)\n",
    "        \n",
    "        d.append(dist)\n",
    "        \n",
    "    return d"
   ]
  },
  {
   "cell_type": "code",
   "execution_count": 14,
   "id": "2bd4aff4-8d25-4145-a889-1f7ffa8918a4",
   "metadata": {
    "button": false,
    "new_sheet": false,
    "run_control": {
     "read_only": false
    }
   },
   "outputs": [
    {
     "data": {
      "text/plain": [
       "[2.0, 1.4142135623730951, 1.0]"
      ]
     },
     "execution_count": 14,
     "metadata": {},
     "output_type": "execute_result"
    }
   ],
   "source": [
    "xy_points = [[3,2], [2, 3], [2, 2]]\n",
    "xy = [1, 2]\n",
    "my_dist_2_points(xy_points, xy)"
   ]
  },
  {
   "cell_type": "markdown",
   "id": "b23c1427-adf7-4774-8f85-091829f10394",
   "metadata": {
    "button": false,
    "new_sheet": false,
    "run_control": {
     "read_only": false
    }
   },
   "source": [
    "Just like if-statements, for-loops can be nested. \n",
    "\n",
    "**EXAMPLE:** Let *x* be a two-dimensional array, [5 6;7 8]. Use a nested for-loop to sum all the elements in *x*. "
   ]
  },
  {
   "cell_type": "code",
   "execution_count": 15,
   "id": "ba5bf432-99ee-422e-a304-371c68d65df6",
   "metadata": {
    "button": false,
    "new_sheet": false,
    "run_control": {
     "read_only": false
    }
   },
   "outputs": [
    {
     "name": "stdout",
     "output_type": "stream",
     "text": [
      "26\n"
     ]
    }
   ],
   "source": [
    "x = np.array([[5, 6], [7, 8]])\n",
    "n, m = x.shape\n",
    "s = 0\n",
    "for i in range(n):\n",
    "    for j in range(m):\n",
    "        s += x[i, j]\n",
    "        \n",
    "print(s)"
   ]
  },
  {
   "cell_type": "markdown",
   "id": "dd49cbe5-3386-499f-b1ef-67392681a276",
   "metadata": {
    "button": false,
    "new_sheet": false,
    "run_control": {
     "read_only": false
    }
   },
   "source": [
    "**WHAT IS HAPPENING?**\n",
    "\n",
    "1. *s*, representing the running total sum, is set to 0. \n",
    "2. The outer for-loop begins with looping variable, i, set to 0.\n",
    "3. Inner for-loop begins with looping variable, j, set to 0.\n",
    "4. *s* is incremented by x[i,j] = x[0,0] = 5. So s = 5. \n",
    "5. Inner for-loop sets j = 1.\n",
    "6. *s* is incremented by x[i,j] = x[0,1] = 6. So s = 11. \n",
    "7. Inner for-loop terminates.\n",
    "8. Outer for-loop sets i = 1.\n",
    "9. Inner for-loop begins with looping variable, j, set to 0.\n",
    "10. *s* is incremented by x[i,j] = x[1,0] = 7. So s = 18. \n",
    "11. Inner for-loop sets j = 1.\n",
    "12. *s* is incremented by x[i,j] = x[1,1] = 8. So s = 26. \n",
    "13. Inner for-loop terminates.\n",
    "14. Outer for-loop terminates with s = 26.\n",
    "\n",
    "**WARNING!** Although possible, do not try to change the looping variable inside of the for-loop. It will make your code very complicated and will likely result in errors."
   ]
  },
  {
   "cell_type": "markdown",
   "id": "713e2d1e-0789-4bd0-ac4b-5d12589aada4",
   "metadata": {},
   "source": [
    "## While Loops"
   ]
  },
  {
   "cell_type": "markdown",
   "id": "f41babd8-820e-41d1-a458-f634cad7c176",
   "metadata": {},
   "source": [
    "A __while loop__ or __indefinite loop__ is a set of instructions that is repeated as long as the associated logical expression is true. The following is the abstract syntax of a while loop block."
   ]
  },
  {
   "cell_type": "markdown",
   "id": "dbbba61e-90cb-4694-a1c6-6c099f535ed0",
   "metadata": {},
   "source": [
    "**CONSTRUCTION:** While Loop\n",
    "\n",
    "```python\n",
    "while <logical expression>:\n",
    "    # Code block to be repeated until logical statement is false\n",
    "    code block\n",
    "```"
   ]
  },
  {
   "cell_type": "markdown",
   "id": "34bbac96-6498-4ac6-a01d-3d7b13a43f2e",
   "metadata": {},
   "source": [
    "When Python reaches a while loop block, it first determines if the logical expression of the while loop is true or false. If the expression is true, the code block will be executed, and after it is executed, the program returns to the logical expression at the beginning of the while statement. If it is false, then the while loop will terminate."
   ]
  },
  {
   "cell_type": "markdown",
   "id": "6e36f87d-5058-4bd0-917f-bafe6d95ca73",
   "metadata": {},
   "source": [
    "__TRY IT!__ Determine the number of times 8 can be divided by 2 until the result is less than 1."
   ]
  },
  {
   "cell_type": "code",
   "execution_count": 1,
   "id": "0b2d6770-6c62-46d3-b5e6-35b1f2edca19",
   "metadata": {},
   "outputs": [
    {
     "name": "stdout",
     "output_type": "stream",
     "text": [
      "n = 0.5, i = 4\n"
     ]
    }
   ],
   "source": [
    "i = 0\n",
    "n = 8\n",
    "\n",
    "while n >= 1:\n",
    "    n /= 2\n",
    "    i += 1\n",
    "    \n",
    "print(f'n = {n}, i = {i}')"
   ]
  },
  {
   "cell_type": "markdown",
   "id": "e5b3e995-1ee8-455a-9f03-d9a68378d316",
   "metadata": {},
   "source": [
    "**WHAT IS HAPPENING?**\n",
    "\n",
    "1. First the variable i (running count of divisions of n by 2) is set to 0.\n",
    "2. n is set to 8 and represents the current value we are dividing by 2.\n",
    "3. The while-loop begins.\n",
    "4. Python computes n >= 1 or 8 >= 1, which is true so the code block is executed.\n",
    "5. n is assigned n/2 = 8/2 = 4.\n",
    "6. i is incremented to 1.\n",
    "7. Python computes n >= 1 or 4 >= 1, which is true so the code block is executed.\n",
    "8. n is assigned n/2 = 4/2 = 2.\n",
    "9. i is incremented to 2.\n",
    "10. Python computes n >= 1 or 2 >= 1, which is true so the code block is executed.\n",
    "11. n is assigned n/2 = 2/2 = 1.\n",
    "12. i is incremented to 3.\n",
    "13. Python computes n >= 1 or 1 >= 1, which is true so the code block is executed.\n",
    "14. n is assigned n/2 = 1/2 = 0.5.\n",
    "15. i is incremented to 4.\n",
    "16. Python computes n >= 1 or 0.5 >= 1, which is false so the while-loop ends with i = 4."
   ]
  },
  {
   "cell_type": "markdown",
   "id": "8f30f3eb-23a6-4bfa-bef9-13adfda6d36f",
   "metadata": {},
   "source": [
    "You may have asked, \"What if the logical expression is true and never changes?\" and this is indeed a very good question. If the logical expression is true, and nothing in the while-loop code changes the expression, then the result is known as an **infinite loop**. Infinite loops run forever, or until your computer breaks or runs out of memory."
   ]
  },
  {
   "cell_type": "markdown",
   "id": "b15e0618-59df-433c-a77d-b1ca8e58b8c4",
   "metadata": {},
   "source": [
    "**EXAMPLE:** Write a while-loop that causes an infinite loop."
   ]
  },
  {
   "cell_type": "code",
   "execution_count": null,
   "id": "1b6bc287-ec49-4861-9bc9-60a966296465",
   "metadata": {},
   "outputs": [],
   "source": [
    "n = 0\n",
    "while n > -1:\n",
    "    n += 1"
   ]
  },
  {
   "cell_type": "markdown",
   "id": "c929c25a-672f-4f83-b47f-160275714ebb",
   "metadata": {},
   "source": [
    "Since *n* will always be bigger than −1 no matter how many times the loop is run, this code will never end. \n",
    "\n",
    "You can terminate the infinite while loop manually by pressing the *interrupt the kernel* - the black square button in the tool bar above, or the drop down menu - *Kernel* - *Interrupt* in the notebook. Or if you are using the Python shell, you need to press *cmd + c* on Mac or *ctrl + c* on PC. \n",
    "\n",
    "Can you change a single character so that the while-loop will run at least once but will not infinite loop?\n",
    "\n",
    "Infinite loops are not always easy to spot. Consider the next two examples: one infinite loops and one does not. Can you determine which is which? As your code becomes more complicated, it will become harder to detect."
   ]
  },
  {
   "cell_type": "markdown",
   "id": "b2c54887-8795-48ef-8c92-a5a7d0c7e796",
   "metadata": {},
   "source": [
    "**EXAMPLE:** Which while-loop causes an infinite loop? "
   ]
  },
  {
   "cell_type": "code",
   "execution_count": null,
   "id": "d62789b0-7d89-42d7-a173-c6f5ff793f5e",
   "metadata": {},
   "outputs": [],
   "source": [
    "# Example 1\n",
    "n = 1\n",
    "while n > 0:\n",
    "    n /= 2"
   ]
  },
  {
   "cell_type": "code",
   "execution_count": null,
   "id": "dae948e7-515c-4ac7-85b1-7aeb0cdf3ff8",
   "metadata": {},
   "outputs": [],
   "source": [
    "# Example 2\n",
    "n = 2\n",
    "while n > 0:\n",
    "    if n % 2 == 0:\n",
    "        n += 1\n",
    "    else:\n",
    "        n -= 1"
   ]
  },
  {
   "cell_type": "markdown",
   "id": "dbfdab49-3d4b-4014-a6b9-e2c6a1ff1370",
   "metadata": {},
   "source": [
    "**Answer:** The first example will not infinite loop because eventually n will be so small that Python cannot tell the difference between n and 0. More on this in *Chapter 9*. The second example will infinite loop because n will oscillate between 2 and 3 indefinitely."
   ]
  },
  {
   "cell_type": "markdown",
   "id": "07725d43-7224-4e2f-aae4-1b77aad12d91",
   "metadata": {},
   "source": [
    "Now we know two types of loops: *for-loops* and *while-loops*. In some cases, either can be used equally well, but sometimes one is better suited for the task than the other. In general, we should use *for-loops* when the number of iterations to be performed is well-defined. Conversely, we should use *while-loops* statements when the number of iterations to be performed is indefinite or not well known."
   ]
  },
  {
   "cell_type": "markdown",
   "id": "d10dc343-9c7a-4808-9f5e-0d4b65a1a51c",
   "metadata": {},
   "source": [
    "## Comprehensions"
   ]
  },
  {
   "cell_type": "markdown",
   "id": "2f0d9352-18ff-43a7-85fa-c519b3929ed0",
   "metadata": {},
   "source": [
    "In Python, there are other ways to do iterations, list (dictionary, set) comprehensions are an important and popular way that you will use frequently in your work. Comprehensions allow sequences to be created from other sequence with very compact syntax. Let's first start to look at the list comprehension. \n",
    "\n",
    "### List comprehension"
   ]
  },
  {
   "cell_type": "markdown",
   "id": "11ae74a4-48e5-4150-8d51-7e81d305a1d0",
   "metadata": {},
   "source": [
    "**CONSTRUCTION:** List comprehension\n",
    "\n",
    "```python\n",
    "[Output Input_sequence Conditions]\n",
    "```"
   ]
  },
  {
   "cell_type": "markdown",
   "id": "2baf38d5-5548-46e2-baa7-72e4abb0cc4e",
   "metadata": {},
   "source": [
    "**EXAMPLE!** If x = range(5), square each number in x, and store it in a list y. \n",
    "\n",
    "If we don't use list comprehension, it will be something like this:"
   ]
  },
  {
   "cell_type": "code",
   "execution_count": 1,
   "id": "09d58805-1132-485f-adcb-7705f9b9b9c9",
   "metadata": {},
   "outputs": [
    {
     "name": "stdout",
     "output_type": "stream",
     "text": [
      "[0, 1, 4, 9, 16]\n"
     ]
    }
   ],
   "source": [
    "x = range(5)\n",
    "y = []\n",
    "\n",
    "for i in x:\n",
    "    y.append(i**2)\n",
    "print(y)"
   ]
  },
  {
   "cell_type": "markdown",
   "id": "9e726460-c345-4c2e-8141-d1db0e46ba39",
   "metadata": {},
   "source": [
    "But with list comprehension, we can write with just one line. "
   ]
  },
  {
   "cell_type": "code",
   "execution_count": 2,
   "id": "6228fb3f-a924-4fd4-947a-54732e0c869d",
   "metadata": {},
   "outputs": [
    {
     "name": "stdout",
     "output_type": "stream",
     "text": [
      "[0, 1, 4, 9, 16]\n"
     ]
    }
   ],
   "source": [
    "y = [i**2 for i in x]\n",
    "print(y)"
   ]
  },
  {
   "cell_type": "markdown",
   "id": "d6fd56c4-1e0a-4f09-9781-259043fb9bea",
   "metadata": {},
   "source": [
    "Besides, we can have conditions in the list comprehension as well. For example, if we just want to store the even numbers in the above example, we can do this by adding a condition in the list comprehension. "
   ]
  },
  {
   "cell_type": "code",
   "execution_count": 3,
   "id": "d309be10-3408-4e61-a868-d442233b06a2",
   "metadata": {},
   "outputs": [
    {
     "name": "stdout",
     "output_type": "stream",
     "text": [
      "[0, 4, 16]\n"
     ]
    }
   ],
   "source": [
    "y = [i**2 for i in x if i%2 == 0]\n",
    "print(y)"
   ]
  },
  {
   "cell_type": "markdown",
   "id": "02262829-16f6-4392-8f3e-d48e9adfecb5",
   "metadata": {},
   "source": [
    "If we have two nested for loops, we can also use the list comprehensions as well. For example, we have the following two level for loops that we can do it in the list comprehension. "
   ]
  },
  {
   "cell_type": "code",
   "execution_count": 4,
   "id": "fdb6e060-9d86-4210-8150-b289b0e7760e",
   "metadata": {},
   "outputs": [
    {
     "name": "stdout",
     "output_type": "stream",
     "text": [
      "[0, 1, 1, 2, 2, 3, 3, 4, 4, 5]\n"
     ]
    }
   ],
   "source": [
    "y = []\n",
    "for i in range(5):\n",
    "    for j in range(2):\n",
    "        y.append(i + j)\n",
    "print(y)"
   ]
  },
  {
   "cell_type": "code",
   "execution_count": 5,
   "id": "415b3a47-7a65-4539-9f86-c5563638fdbe",
   "metadata": {},
   "outputs": [
    {
     "name": "stdout",
     "output_type": "stream",
     "text": [
      "[0, 1, 1, 2, 2, 3, 3, 4, 4, 5]\n"
     ]
    }
   ],
   "source": [
    "y = [i + j for i in range(5) for j in range(2)]\n",
    "print(y)"
   ]
  },
  {
   "cell_type": "markdown",
   "id": "f94df1b5-d88c-4fd2-ae98-f34ce42d4907",
   "metadata": {},
   "source": [
    "### Dictionary comprehension"
   ]
  },
  {
   "cell_type": "markdown",
   "id": "646aab6a-71a6-48a9-8d8b-c14f1e0181fc",
   "metadata": {},
   "source": [
    "Similarly, we can do the dictionary comprehension as well. See the following example. "
   ]
  },
  {
   "cell_type": "code",
   "execution_count": 6,
   "id": "5cc9f2f5-0cae-4d11-a904-8b2439957f55",
   "metadata": {},
   "outputs": [
    {
     "data": {
      "text/plain": [
       "{'a': 1, 'b': 8, 'c': 27}"
      ]
     },
     "execution_count": 6,
     "metadata": {},
     "output_type": "execute_result"
    }
   ],
   "source": [
    "x = {'a': 1, 'b': 2, 'c': 3}\n",
    "\n",
    "{key:v**3 for (key, v) in x.items()}"
   ]
  },
  {
   "cell_type": "markdown",
   "id": "59eadc17-11a5-4c74-a468-e3b89f2e7ffd",
   "metadata": {},
   "source": [
    "We can do set comprehension in Python, this will leave for you to explore. "
   ]
  },
  {
   "cell_type": "markdown",
   "id": "92b8e84f-716c-49ea-ba3d-5a667f000d04",
   "metadata": {
    "button": false,
    "new_sheet": false,
    "run_control": {
     "read_only": false
    }
   },
   "source": [
    "# Summary\n",
    "\n",
    "\n",
    "1. Loops provide a mechanism for code to perform repetitive tasks; that is, iteration. \n",
    "2. There are two kinds of loops: for-loops and while-loops.\n",
    "3. Loops are important for constructing iterative solutions to problems.\n",
    "4. Comprehensions provide another concise way to iterate sequence. "
   ]
  },
  {
   "cell_type": "markdown",
   "id": "d1423f80-a178-47f7-8aa0-dcdc07a848ba",
   "metadata": {},
   "source": [
    "## Practice:\n",
    "\n",
    "What will the value of y be after the following code is executed?\n",
    "```\n",
    "y = 0\n",
    "for i in range(1000):\n",
    "    for j in range(1000):\n",
    "        if i == j:\n",
    "            y += 1\n",
    "```"
   ]
  },
  {
   "cell_type": "markdown",
   "id": "af5fd2c3-2a73-4726-bfa5-ca92c5751a47",
   "metadata": {},
   "source": [
    "## Practice: \n",
    "Write a function *my_max(x)* to return the maximum (largest) value in *x*. Don't use the built-in Python function *max*."
   ]
  },
  {
   "cell_type": "code",
   "execution_count": 3,
   "id": "19b96ded-5e5a-4f29-8317-979213c41aa0",
   "metadata": {},
   "outputs": [],
   "source": [
    "x = [7, 9, 10, 5, 8, 3, 4, 6, 2, 1]\n",
    "\n",
    "def my_max(x):\n",
    "    # write your function code here\n",
    "    \n",
    "    return out"
   ]
  },
  {
   "cell_type": "code",
   "execution_count": null,
   "id": "e4b83894-6deb-46a8-8c0f-14fb09e374bd",
   "metadata": {},
   "outputs": [],
   "source": [
    "# Output = 10\n",
    "out = my_n_max(x)\n",
    "print(out)"
   ]
  },
  {
   "cell_type": "markdown",
   "id": "e70826da-3c6d-4880-8afb-c5623ec136e7",
   "metadata": {},
   "source": [
    "5. Let *P* be an $m \\times p$ array and Q be a $p \\times n$ array. As you will find later in this book, $M = P \\times Q$ is defined as $M[i, j] = \\sum_{k=1}^{p}P[i, k]\\cdot Q[k, j]$. Write a function *my_mat_mult(P, Q) that uses for-loops to compute *M*, the matrix product of *P* and *Q*. Hint: You may need up to three nested for-loops. Do not use the function *np.dot*."
   ]
  },
  {
   "cell_type": "code",
   "execution_count": null,
   "id": "2be8b661-6034-422e-9735-0a545402a8d7",
   "metadata": {},
   "outputs": [],
   "source": [
    "import numpy as np\n",
    "\n",
    "def my_mat_mult(P, Q):\n",
    "    # write your function code here\n",
    "    \n",
    "    return M"
   ]
  },
  {
   "cell_type": "code",
   "execution_count": null,
   "id": "84612147-43ba-4b52-b176-70d82f38ab4b",
   "metadata": {},
   "outputs": [],
   "source": [
    "# Output:\n",
    "#  array([[3., 3., 3.],\n",
    "#        [3., 3., 3.],\n",
    "#        [3., 3., 3.]])\n",
    "\n",
    "P = np.ones((3, 3))\n",
    "my_mat_mult(P, P)"
   ]
  },
  {
   "cell_type": "code",
   "execution_count": null,
   "id": "e8c1c1e1-43a8-44c9-8a84-e01568814d58",
   "metadata": {},
   "outputs": [],
   "source": [
    "# Output:\n",
    "# array([[30, 30, 30],\n",
    "#       [70, 70, 70]])\n",
    "\n",
    "P = np.array([[1, 2, 3, 4], [5, 6, 7, 8]])\n",
    "Q = np.array([[1, 1, 1], [2, 2, 2], [3, 3, 3], [4, 4, 4]])\n",
    "my_mat_mult(P, Q)"
   ]
  },
  {
   "cell_type": "markdown",
   "id": "3e3e098a-9cd9-4cdc-b3a8-5972522894c8",
   "metadata": {},
   "source": [
    "6. The interest, $i$, on a principle, $P_0$, is a payment for allowing the bank to use your money. Compound interest is accumulated according to the formula $P_n = (1 + i)P_{n-1}$, where n is the compounding period, usually in months or years. Write a function *my_saving_plan(P0, i, goal)* where the output is the number of years it will take $P_0$ to become goal at $i\\%$ interest compounded annually. "
   ]
  },
  {
   "cell_type": "code",
   "execution_count": null,
   "id": "eb0a8062-da83-4530-86a8-79f713f15fd1",
   "metadata": {},
   "outputs": [],
   "source": [
    "def my_saving_plan(P0, i, goal):\n",
    "    # write your function code here\n",
    "    \n",
    "    return years"
   ]
  },
  {
   "cell_type": "code",
   "execution_count": null,
   "id": "5a4f1e5c-4919-4142-b813-ffd727a8e5ad",
   "metadata": {},
   "outputs": [],
   "source": [
    "# Output: 15\n",
    "my_saving_plan(1000, 0.05, 2000)"
   ]
  },
  {
   "cell_type": "code",
   "execution_count": null,
   "id": "484d8df4-9811-4308-ac55-7de64aa07aa7",
   "metadata": {},
   "outputs": [],
   "source": [
    "# Output: 11\n",
    "my_saving_plan(1000, 0.07, 2000)"
   ]
  },
  {
   "cell_type": "code",
   "execution_count": null,
   "id": "0c91aceb-64c1-4bf6-99f7-b7afdcbeceb2",
   "metadata": {},
   "outputs": [],
   "source": [
    "# Output: 21\n",
    "my_saving_plan(500, 0.07, 2000)"
   ]
  },
  {
   "cell_type": "markdown",
   "id": "c521e88c-e187-4f75-96cc-363dc9cf1ba3",
   "metadata": {},
   "source": [
    "7. Write a function with *my_find(M)*, where output is a list of indices *i* where M[i] is 1. You may assume that *M* is a list of only ones and zeros. Do not use the built-in Python function find."
   ]
  },
  {
   "cell_type": "code",
   "execution_count": null,
   "id": "c84a3086-df14-4498-b1f4-9f33f7d81a43",
   "metadata": {},
   "outputs": [],
   "source": [
    "# Output: [0, 2, 3]\n",
    "\n",
    "M = [1, 0, 1, 1, 0]\n",
    "\n",
    "my_find(M)"
   ]
  },
  {
   "cell_type": "markdown",
   "id": "6da877dc-b249-4be4-b14e-37837f03fddc",
   "metadata": {},
   "source": [
    "8. Assume you are rolling two six-sided dice, each side having an equal chance of occurring. Write a function *my_monopoly_dice()*, where the output is the sum of the values of the two dice thrown but with the following extra rule: if the two dice rolls are the same, then another roll is made, and the new sum added to the running total. For example, if the two dice show 3 and 4, then the running total should be 7. If the two dice show 1 and 1, then the running total should be 2 plus the total of another throw. Rolls stop when the dice rolls are different."
   ]
  },
  {
   "cell_type": "markdown",
   "id": "d6751888-fab6-4fe8-8764-7478e9b11b45",
   "metadata": {},
   "source": [
    "9. A number is prime if it is divisible without remainder only by itself and 1. The number 1 is not prime. Write a function *my_is_prime(n)*, where output is 1 if *n* is prime and 0 otherwise. Assume that *n* is a strictly positive integer."
   ]
  },
  {
   "cell_type": "markdown",
   "id": "6ad1245b-c63d-43e7-8382-b6c4687a13c3",
   "metadata": {},
   "source": [
    "10. Write a function *my_n_primes(n)* where primes is a list of the first *n* primes. Assume that *n* is a strictly positive integer."
   ]
  },
  {
   "cell_type": "markdown",
   "id": "626768da-d03e-4e27-ba63-6dac7b4ca389",
   "metadata": {},
   "source": [
    "11. Write a function *my_n_fib_primes(n)*, where the output *fib_primes* is a list of the first *n* numbers that are both a Fibonacci number and prime. Note: 1 is not prime. Hint: Do not use the recursive implementation of Fibonacci numbers. A function to compute Fibonacci numbers is presented in Section 6.1. You may use the code freely."
   ]
  },
  {
   "cell_type": "code",
   "execution_count": null,
   "id": "44faced0-deb5-40ef-b2d7-e1e2c370f8bd",
   "metadata": {},
   "outputs": [],
   "source": [
    "def my_n_fib_primes(n):\n",
    "    # write your function code here\n",
    "    \n",
    "    return fib_primes"
   ]
  },
  {
   "cell_type": "code",
   "execution_count": null,
   "id": "510694ed-7476-45f3-8da3-09d70e5ec1bc",
   "metadata": {},
   "outputs": [],
   "source": [
    "# Output: [3, 5, 13, 89, 233, 1597, 28657, 514229]\n",
    "\n",
    "my_n_fib_primes(3)"
   ]
  },
  {
   "cell_type": "code",
   "execution_count": null,
   "id": "889f08ad-23ea-4219-a0d6-493f059fc513",
   "metadata": {},
   "outputs": [],
   "source": [
    "# Output: [3, 5, 13]\n",
    "\n",
    "my_n_fib_primes(8)"
   ]
  },
  {
   "cell_type": "markdown",
   "id": "d857e1d7-ee7c-43cb-a9d2-e377b1fae293",
   "metadata": {},
   "source": [
    "12. Write a function *my_trig_odd_even(M)*, where the output $Q[i, j] = sin (\\pi/M[i, j])$ if $M[i,j]$ is odd, and $Q[i, j] = cos (\\pi/M[i, j])$ if $M[i, j]$ is even. Assume that M is a two-dimensional array of strictly positive integers."
   ]
  },
  {
   "cell_type": "code",
   "execution_count": null,
   "id": "4e109701-07de-4657-909c-79f6378e53a8",
   "metadata": {},
   "outputs": [],
   "source": [
    "def my_trig_odd_even(M):\n",
    "    # write your function code here\n",
    "    \n",
    "    return Q"
   ]
  },
  {
   "cell_type": "code",
   "execution_count": null,
   "id": "bebbc94c-8147-42f4-8857-a8478d0abd5c",
   "metadata": {},
   "outputs": [],
   "source": [
    "# Output: [[0.8660, 0.7071], [0.8660, 0.4339]]\n",
    "M = [[3, 4], [6, 7]]\n",
    "my_trig_odd_even(M)"
   ]
  },
  {
   "cell_type": "markdown",
   "id": "3c5bba03-a7c6-4bf8-803b-01ea043b34d3",
   "metadata": {},
   "source": [
    "13. Let $C$ be a square connectivity array containing zeros and ones. We say that point $i$ has a connection to point $j$ , or $i$ is connected to $j$ , if $C [i , j ] = 1$. Note that connections in this context are one-directional, meaning $C [i , j]$ is not necessarily the same as $C [ j , i ]$. For example, think of a one-way street from point A to point B. If A is connected to B, then B is not necessarily connected to A.\n",
    "\n",
    "Write a function *my_connectivity_mat_2_dict(C, names)*, where *C* is a connectivity array and *names* is a list of strings that denote the name of a point. That is, *names[i]* is the name of the name of the *i-th* point. \n",
    "\n",
    "The output variable *node* should be a dict with the key as the string in *names* and value is a vector containing the indices, j, such that $C[i,j] = 1$. In other words, it is a list of points that point i is connected to."
   ]
  },
  {
   "cell_type": "code",
   "execution_count": null,
   "id": "9cc5357c-415a-43ed-a47e-32349497865e",
   "metadata": {},
   "outputs": [],
   "source": [
    "def my_connectivity_mat_2_dict(C, names):\n",
    "    # write your function code here\n",
    "    return node"
   ]
  },
  {
   "cell_type": "code",
   "execution_count": null,
   "id": "86accf48-f705-4280-849e-051dd29cd74f",
   "metadata": {},
   "outputs": [],
   "source": [
    "C = [[0, 1, 0, 1], [1, 0, 0, 1], [0, 0, 0, 1], [1, 1, 1, 0]]\n",
    "names = ['Los Angeles', 'New York', 'Miami', 'Dallas']"
   ]
  },
  {
   "cell_type": "code",
   "execution_count": null,
   "id": "cc7fcf01-9df1-4f32-83c7-f0821feb33c3",
   "metadata": {},
   "outputs": [],
   "source": [
    "# Output: node['Los Angeles'] = [2, 4]\n",
    "#         node['New York'] = [1, 4]\n",
    "#         node['Miami'] = [4]\n",
    "#         node['Dallas'] = [1, 2, 3]\n",
    "\n",
    "node = my_connectivity_mat_2_dict(C, names)"
   ]
  },
  {
   "cell_type": "markdown",
   "id": "bc48b45f-016e-4148-a606-e08aa82196aa",
   "metadata": {},
   "source": [
    "14. Turn the list *words* of lower case characters to upper case using list comprehension. "
   ]
  },
  {
   "cell_type": "code",
   "execution_count": null,
   "id": "3e1e4a9f-88c4-45e6-bbbb-3a6843452000",
   "metadata": {},
   "outputs": [],
   "source": [
    "words = ['test', 'data', 'analyze']"
   ]
  },
  {
   "cell_type": "markdown",
   "id": "ae792256-50d3-4702-86cf-db4185650b77",
   "metadata": {
    "button": false,
    "new_sheet": false,
    "run_control": {
     "read_only": false
    }
   },
   "source": [
    "# Recursion"
   ]
  },
  {
   "cell_type": "markdown",
   "id": "bab150e5-fbf9-4997-8a94-24463294641d",
   "metadata": {
    "button": false,
    "new_sheet": false,
    "run_control": {
     "read_only": false
    }
   },
   "source": [
    "--- \n",
    "\n",
    "## Motivation\n",
    "\n",
    "Imagine that a CEO of a large company wants to know how many people work for him. One option is to spend a tremendous amount of personal effort counting up the number of people on the payroll. However, the CEO has other more important things to do, and so implements another, more clever, option. At the next meeting with his department directors, he asks everyone to tell him at the next meeting how many people work for them. Each director then meets with all their managers, who subsequently meet with their supervisors who perform the same task. The supervisors know how many people work under them and readily report this information back to their managers (plus one to count themselves), who relay the aggregated information to the department directors, who relay the relevant information to the CEO. In this way, the CEO accomplishes a difficult task (for himself) by delegating similar, but simpler, tasks to his subordinates.\n",
    "\n",
    "This method of solving difficult problems by breaking them up into simpler problems is naturally modeled by recursive relationships, which are the topic of this chapter, and which form the basis of important engineering and science problem-solving techniques. By the end of this chapter, you should be able to recognize recursive relationships and program them using recursive functions.\n",
    "\n",
    "---"
   ]
  },
  {
   "cell_type": "markdown",
   "id": "6878ff32-8fb8-4963-ab94-1955f7a99031",
   "metadata": {
    "button": false,
    "new_sheet": false,
    "run_control": {
     "read_only": false
    }
   },
   "source": [
    "## Recursive Functions"
   ]
  },
  {
   "cell_type": "markdown",
   "id": "fc8f310a-db06-4ac9-8d9e-4ab42d30d06f",
   "metadata": {
    "button": false,
    "new_sheet": false,
    "run_control": {
     "read_only": false
    }
   },
   "source": [
    "A **recursive** function is a function that makes calls to itself. It works like the loops we described before, but sometimes it the situation is better to use recursion than loops. \n",
    "\n",
    "Every recursive function has two components: a __base case__ and a __recursive step__. The __base case__ is usually the smallest input and has an easily verifiable solution. This is also the mechanism that stops the function from calling itself forever. The __recursive step__ is the set of all cases where a __recursive call__, or a function call to itself, is made."
   ]
  },
  {
   "cell_type": "markdown",
   "id": "8a1c0c0a-d639-4351-9fe1-0aabf42b6dba",
   "metadata": {
    "button": false,
    "new_sheet": false,
    "run_control": {
     "read_only": false
    }
   },
   "source": [
    "As an example, we show how recursion can be used to define and compute the factorial of an integer number. The factorial of an integer $n$ is $1 \\times 2 \\times 3 \\times ... \\times (n - 1) \\times n$. The recursive definition can be written:\n",
    "\n",
    "\\begin{equation}\n",
    "f(n) = \\begin{cases}\n",
    "    1 &\\text{if $n=1$}\\\\\n",
    "    n \\times f(n-1) & \\text{otherwise}\\\\\n",
    "    \\end{cases}\n",
    "\\end{equation}\n",
    "\n",
    "The base case is $n = 1$ which is trivial to compute: $f(1) = 1$. In the recursive step, $n$ is multiplied by the result of a recursive call to the factorial of $n - 1$.\n",
    "\n",
    "**TRY IT!** Write the factorial function using recursion. Use your function to compute the factorial of 3. "
   ]
  },
  {
   "cell_type": "code",
   "execution_count": 1,
   "id": "6b695656-bd8f-4b3c-8037-ed8c9747ace0",
   "metadata": {
    "button": false,
    "new_sheet": false,
    "run_control": {
     "read_only": false
    }
   },
   "outputs": [],
   "source": [
    "def factorial(n):\n",
    "    \"\"\"Computes and returns the factorial of n, \n",
    "    a positive integer.\n",
    "    \"\"\"\n",
    "    if n == 1: # Base cases!\n",
    "        return 1\n",
    "    else: # Recursive step\n",
    "        return n * factorial(n - 1) # Recursive call     "
   ]
  },
  {
   "cell_type": "code",
   "execution_count": 2,
   "id": "771a4710-dd0e-4ff6-aa96-18bc006d2c56",
   "metadata": {
    "button": false,
    "new_sheet": false,
    "run_control": {
     "read_only": false
    }
   },
   "outputs": [
    {
     "data": {
      "text/plain": [
       "6"
      ]
     },
     "execution_count": 2,
     "metadata": {},
     "output_type": "execute_result"
    }
   ],
   "source": [
    "factorial(3)"
   ]
  },
  {
   "cell_type": "markdown",
   "id": "6da9a9b8-5c2f-4299-a325-6ca55fcffff5",
   "metadata": {
    "button": false,
    "new_sheet": false,
    "run_control": {
     "read_only": false
    }
   },
   "source": [
    "__WHAT IS HAPPENING?__ First recall that when Python executes a function, it creates a workspace for the variables that are created in that function, and whenever a function calls another function, it will wait until that function returns an answer before continuing. In programming, this workspace is called stack. Similar to a stack of plates in our kitchen, elements in a stack are added or removed from the top of the stack to the bottom, in a \"last in, first out\" order. For example, in the `np.sin(np.tan(x))`, `sin` must wait for `tan` to return an answer before it can be evaluated. Even though a recursive function makes calls to itself, the same rules apply.\n",
    "\n",
    "1. A call is made to `factorial(3)`, A new workspace is opened to compute `factorial(3)`.\n",
    "2. Input argument value 3 is compared to 1. Since they are not equal, else statement is executed.\n",
    "3. `3*factorial(2)` must be computed. A new workspace is opened to compute `factorial(2)`.\n",
    "4. Input argument value 2 is compared to 1. Since they are not equal, else statement is executed.\n",
    "5. `2*factorial(1)` must be computed. A new workspace is opened to compute `factorial(1)`.\n",
    "6. Input argument value 1 is compared to 1. Since they are equal, if statement is executed.\n",
    "7. The return variable is assigned the value 1. `factorial(1)` terminates with output 1. \n",
    "8. `2*factorial(1)` can be resolved to $2 \\times 1 = 2$. Output is assigned the value 2. `factorial(2)` terminates with output 2. \n",
    "9. `3*factorial(2)` can be resolved to $3 \\times 2 = 6$. Output is assigned the value 6. `factorial(3)` terminates with output 6. "
   ]
  },
  {
   "attachments": {
    "51c34a2b-6f48-49f9-8ee2-cea8f7073177.png": {
     "image/png": "[encoded data removed]"
    }
   },
   "cell_type": "markdown",
   "id": "50f61b8d-fb4b-4a59-a953-bf36c7506a3b",
   "metadata": {
    "button": false,
    "new_sheet": false,
    "run_control": {
     "read_only": false
    }
   },
   "source": [
    "The order of recursive calls can be depicted by a recursion tree shown in the following figure for `factorial(3)`. A recursion tree is a diagram of the function calls connected by numbered arrows to depict the order in which the calls were made. \n",
    "\n",
    "![06.01.01-Recursion_tree_for_factorial.png](attachment:51c34a2b-6f48-49f9-8ee2-cea8f7073177.png)"
   ]
  },
  {
   "cell_type": "markdown",
   "id": "3b43dc49-09ec-4e7f-9a36-a7113b440444",
   "metadata": {
    "button": false,
    "new_sheet": false,
    "run_control": {
     "read_only": false
    }
   },
   "source": [
    "Fibonacci numbers were originally developed to model the idealized population growth of rabbits. Since then, they have been found to be significant in any naturally occurring phenomena. The Fibonacci numbers can be generated using the following recursive formula. Note that the recursive step contains two recursive calls and that there are also two base cases (i.e., two cases that cause the recursion to stop).\n",
    "\n",
    "\\begin{equation}\n",
    "F(n) = \\begin{cases}\n",
    "    1 &\\text{if $n=1$}\\\\\n",
    "    1 &\\text{if $n=2$}\\\\\n",
    "    F(n-1) + F(n-2) & \\text{otherwise}\\\\\n",
    "    \\end{cases}\n",
    "\\end{equation}\n",
    "\n",
    "**TRY IT!** Write a recursive function for computing the *n-th* Fibonacci number. Use your function to compute the first five Fibonacci numbers. Draw the associated recursion tree. "
   ]
  },
  {
   "cell_type": "code",
   "execution_count": 3,
   "id": "6f0885d8-1196-43a5-a2d2-70592d9ef6c0",
   "metadata": {
    "button": false,
    "new_sheet": false,
    "run_control": {
     "read_only": false
    }
   },
   "outputs": [],
   "source": [
    "def fibonacci(n):\n",
    "    \"\"\"Computes and returns the Fibonacci of n, \n",
    "    a postive integer.\n",
    "    \"\"\"\n",
    "    if n == 1: # first base case\n",
    "        return 1\n",
    "    elif n == 2: # second base case\n",
    "        return 1\n",
    "    else: # Recursive step\n",
    "        return fibonacci(n-1) + fibonacci(n-2) # Recursive call "
   ]
  },
  {
   "cell_type": "code",
   "execution_count": 4,
   "id": "103af771-1666-40b1-819d-9e007b4cdee8",
   "metadata": {
    "button": false,
    "new_sheet": false,
    "run_control": {
     "read_only": false
    }
   },
   "outputs": [
    {
     "name": "stdout",
     "output_type": "stream",
     "text": [
      "1\n",
      "1\n",
      "2\n",
      "3\n",
      "5\n"
     ]
    }
   ],
   "source": [
    "print(fibonacci(1))\n",
    "print(fibonacci(2))\n",
    "print(fibonacci(3))\n",
    "print(fibonacci(4))\n",
    "print(fibonacci(5))"
   ]
  },
  {
   "attachments": {
    "422e946a-cc31-4f97-a315-3d08716f6fcc.png": {
     "image/png": "[encoded data removed]"
    }
   },
   "cell_type": "markdown",
   "id": "543168eb-2a48-4b04-92b8-268be25ad54a",
   "metadata": {
    "button": false,
    "new_sheet": false,
    "run_control": {
     "read_only": false
    }
   },
   "source": [
    "![06.01.02-Recursion_tree_for_fibonacci.png](attachment:422e946a-cc31-4f97-a315-3d08716f6fcc.png)"
   ]
  },
  {
   "cell_type": "markdown",
   "id": "77df21bf-fb1a-4a66-b103-8629a40db8b9",
   "metadata": {
    "button": false,
    "new_sheet": false,
    "run_control": {
     "read_only": false
    }
   },
   "source": [
    "As an exercise, consider the following modification to `fibonacci`, where the results of each recursive call are displayed to the screen.\n",
    "\n",
    "**EXAMPLE:** Write a function `fibonacci_display` that based on the Modification of `fibonacci`. Can you determine the order in which the Fibonacci numbers will appear on the screen for fibonacci(5)?"
   ]
  },
  {
   "cell_type": "code",
   "execution_count": 1,
   "id": "3ab30ecb-3899-47fa-a770-738c39b5ab98",
   "metadata": {
    "button": false,
    "new_sheet": false,
    "run_control": {
     "read_only": false
    }
   },
   "outputs": [],
   "source": [
    "def fibonacci_display(n):\n",
    "    \"\"\"Computes and returns the Fibonacci of n, \n",
    "    a postive integer.\n",
    "    \"\"\"\n",
    "    if n == 1: # first base case\n",
    "        out = 1\n",
    "        print(out)\n",
    "        return out\n",
    "    elif n == 2: # second base case\n",
    "        out = 1\n",
    "        print(out)\n",
    "        return out\n",
    "    else: # Recursive step\n",
    "        out = fibonacci_display(n-1)+fibonacci_display(n-2)\n",
    "        print(out)\n",
    "        return out # Recursive call "
   ]
  },
  {
   "cell_type": "code",
   "execution_count": 4,
   "id": "5b1b0b66-f19f-4d05-ab90-ee79c1bca603",
   "metadata": {
    "button": false,
    "new_sheet": false,
    "run_control": {
     "read_only": false
    }
   },
   "outputs": [
    {
     "name": "stdout",
     "output_type": "stream",
     "text": [
      "1\n",
      "1\n",
      "2\n",
      "1\n",
      "3\n",
      "1\n",
      "1\n",
      "2\n",
      "5\n"
     ]
    },
    {
     "data": {
      "text/plain": [
       "5"
      ]
     },
     "execution_count": 4,
     "metadata": {},
     "output_type": "execute_result"
    }
   ],
   "source": [
    "fibonacci_display(5)"
   ]
  },
  {
   "cell_type": "markdown",
   "id": "93957151-5330-4523-b257-faf7c10dbaf9",
   "metadata": {
    "button": false,
    "new_sheet": false,
    "run_control": {
     "read_only": false
    }
   },
   "source": [
    "Notice that the number of recursive calls becomes very large for even relatively small inputs for `n`. If you do not agree, try to draw the recursion tree for `fibonacci(10)`. If you try your unmodified function for inputs around 35, you will notice significant computation times."
   ]
  },
  {
   "cell_type": "code",
   "execution_count": 7,
   "id": "21284b7f-fa62-4520-a647-4e40bde50f14",
   "metadata": {
    "button": false,
    "new_sheet": false,
    "run_control": {
     "read_only": false
    }
   },
   "outputs": [
    {
     "data": {
      "text/plain": [
       "9227465"
      ]
     },
     "execution_count": 7,
     "metadata": {},
     "output_type": "execute_result"
    }
   ],
   "source": [
    "fibonacci(35)"
   ]
  },
  {
   "cell_type": "markdown",
   "id": "af59a486-861e-48a8-8b1c-ee5d2052fe2d",
   "metadata": {
    "button": false,
    "new_sheet": false,
    "run_control": {
     "read_only": false
    }
   },
   "source": [
    "There is an iterative method of computing the *n-th* Fibonacci number that requires only one workspace.\n",
    "\n",
    "**EXAMPLE:** Iterative implementation for computing Fibonacci numbers."
   ]
  },
  {
   "cell_type": "code",
   "execution_count": 8,
   "id": "b965109a-4b0d-4b58-aa30-336ab2d0f6eb",
   "metadata": {
    "button": false,
    "new_sheet": false,
    "run_control": {
     "read_only": false
    }
   },
   "outputs": [],
   "source": [
    "import numpy as np\n",
    "\n",
    "def iter_fib(n):\n",
    "    fib = np.ones(n)\n",
    "    \n",
    "    for i in range(2, n):\n",
    "        fib[i] = fib[i - 1] + fib[i - 2]\n",
    "        \n",
    "    return fib"
   ]
  },
  {
   "cell_type": "markdown",
   "id": "d09e8534-9cc4-46da-9b48-8ea24a73bcdb",
   "metadata": {
    "button": false,
    "new_sheet": false,
    "run_control": {
     "read_only": false
    }
   },
   "source": [
    "**TRY IT!** Compute the *25-th* Fibonacci number using `iter_fib` and `fibonacci`. And use the magic command `timeit` to measure the run time for each. Notice the large difference in running times. "
   ]
  },
  {
   "cell_type": "code",
   "execution_count": 9,
   "id": "e3c95ff0-d70e-4c9d-8305-b477c29eecb4",
   "metadata": {
    "button": false,
    "new_sheet": false,
    "run_control": {
     "read_only": false
    }
   },
   "outputs": [
    {
     "name": "stdout",
     "output_type": "stream",
     "text": [
      "8.52 µs ± 141 ns per loop (mean ± std. dev. of 7 runs, 100000 loops each)\n"
     ]
    }
   ],
   "source": [
    "%timeit iter_fib(25)"
   ]
  },
  {
   "cell_type": "code",
   "execution_count": 10,
   "id": "3725d5bb-2611-4efe-ab1d-379fd1594f0e",
   "metadata": {
    "button": false,
    "new_sheet": false,
    "run_control": {
     "read_only": false
    }
   },
   "outputs": [
    {
     "name": "stdout",
     "output_type": "stream",
     "text": [
      "16.5 ms ± 260 µs per loop (mean ± std. dev. of 7 runs, 100 loops each)\n"
     ]
    }
   ],
   "source": [
    "%timeit fibonacci(25)"
   ]
  },
  {
   "cell_type": "markdown",
   "id": "b786e62b-317d-4ec2-9c2e-701748d3b164",
   "metadata": {
    "button": false,
    "new_sheet": false,
    "run_control": {
     "read_only": false
    }
   },
   "source": [
    "You can see in the previous example that the iterative version runs much faster than the recursive counterpart. In general, iterative functions are faster than recursive functions that perform the same task. So why use recursive functions at all? There are some solution methods that have a naturally recursive structure. In these cases it is usually very hard to write a counterpart using loops. The primary value of writing recursive functions is that they can usually be written much more compactly than iterative functions. The cost of the improved compactness is added running time.\n",
    "\n",
    "The relationship between the input arguments and the running time is discussed in more detail later in the chapter on Complexity.\n",
    "\n",
    "**TIP!** Try to write functions iteratively whenever it is convenient to do so. Your functions will run faster. "
   ]
  },
  {
   "cell_type": "markdown",
   "id": "b4a54e45-1afe-4370-924b-708add9dd89f",
   "metadata": {},
   "source": [
    "**NOTE!** When we are using recursive call as showing above, we need to make sure that it can reach the base case, otherwise, it results to infinite recursion. In Python, when we execute a recursive function on a large output that can not reach the base case, we will encounter a \"maximum recursion depth exceeded error\". Try the following example, and see what do you get. "
   ]
  },
  {
   "cell_type": "code",
   "execution_count": null,
   "id": "2f11c1b5-f92f-4570-95f1-30f041b6956b",
   "metadata": {},
   "outputs": [],
   "source": [
    "factorial(5000)"
   ]
  },
  {
   "cell_type": "markdown",
   "id": "b0a51d9a-7a4a-46ec-9606-e886fd1b2846",
   "metadata": {},
   "source": [
    "We can handle the recursion limit using the `sys` module in Python and set a higher limit. Run the following code, and you will not see the error. "
   ]
  },
  {
   "cell_type": "code",
   "execution_count": null,
   "id": "83ba7a43-1d56-415d-978e-e7734f0f20d7",
   "metadata": {},
   "outputs": [],
   "source": [
    "import sys\n",
    "sys.setrecursionlimit(10**5)\n",
    "\n",
    "factorial(5000)"
   ]
  },
  {
   "cell_type": "markdown",
   "id": "a0f741fb-e84f-43e7-93bd-80f7d3ab68c7",
   "metadata": {
    "button": false,
    "new_sheet": false,
    "run_control": {
     "read_only": false
    }
   },
   "source": [
    "# Divide and Conquer"
   ]
  },
  {
   "cell_type": "markdown",
   "id": "4de21eb9-167e-4cd1-8fce-5a6451821549",
   "metadata": {
    "button": false,
    "new_sheet": false,
    "run_control": {
     "read_only": false
    }
   },
   "source": [
    "**Divide and conquer** is a useful strategy for solving difficult problems. Using divide and conquer, difficult problems are solved from solutions to many similar easy problems. In this way, difficult problems are broken up so they are more manageable. In this section, we cover two classical examples of divide and conquer: the Towers of Hanoi Problem and the Quicksort algorithm."
   ]
  },
  {
   "attachments": {
    "92982816-150c-4747-a68a-8662486748ec.png": {
     "image/png": "[encoded data removed]"
    }
   },
   "cell_type": "markdown",
   "id": "1131226e-524a-40fa-b78c-e5f308372f79",
   "metadata": {
    "button": false,
    "new_sheet": false,
    "run_control": {
     "read_only": false
    }
   },
   "source": [
    "## Towers of Hanoi\n",
    "\n",
    "The Towers of Hanoi problem consists of three vertical rods, or towers, and *N* disks of different sizes, each with a hole in the center so that the rod can slide through it. The disks are originally stacked on one of the towers in order of descending size (i.e., the largest disc is on the bottom). The goal of the problem is to move all the disks to a different rod while complying with the following three rules:\n",
    "\n",
    "\n",
    "1. Only one disk can be moved at a time.\n",
    "2. Only the disk at the top of a stack may be moved. \n",
    "3. A disk may not be placed on top of a smaller disk.\n",
    "\n",
    "The following figure shows the steps of the solution to the Tower of Hanoi problem with three disks. \n",
    "\n",
    "![06.02.01-Illustration_Towers_of_Hanoi.png](attachment:92982816-150c-4747-a68a-8662486748ec.png)"
   ]
  },
  {
   "attachments": {
    "6c8a688b-a3d4-4058-ba2c-0f4e589831c0.png": {
     "image/png": "[encoded data removed]"
    }
   },
   "cell_type": "markdown",
   "id": "831231fb-c94d-45fe-8403-0e4b40822708",
   "metadata": {
    "button": false,
    "new_sheet": false,
    "run_control": {
     "read_only": false
    }
   },
   "source": [
    "A legend goes that a group of Indian monks are in a monastery working to complete a Towers of Hanoi problem with 64 disks. When they complete the problem, the world will end. Fortunately, the number of moves required is $2^{64} − 1$ so even if they could move one disk per millisecond, it would take over 584 million years for them to finish.\n",
    "\n",
    "The key to the Towers of Hanoi problem is breaking it down into smaller, easier-to-manage problems that we will refer to as **subproblems**. For this problem, it is relatively easy to see that moving a disk is easy (which has only three rules) but moving a tower is difficult (we cannot immediately see how to do it). So we will assign moving a stack of size *N* to several subproblems of moving a stack of size *N − 1*.\n",
    "\n",
    "Consider a stack of *N* disks that we wish to move from Tower 1 to Tower 3, and let *my_tower(N)* move a stack of size *N* to the desired tower (i.e., display the moves). How to write *my_tower* may not immediately be clear. However, if we think about the problem in terms of subproblems, we can see that we need to move the top *N-1* disks to the middle tower, then the bottom disk to the right tower, and then the *N-1* disks on the middle tower to the right tower. *my_tower* can display the instruction to move disk *N*, and then make recursive calls to *my_tower(N-1)* to handle moving the smaller towers. The calls to *my_tower(N-1)* make recursive calls to *my_tower(N-2)* and so on. A breakdown of the three steps is depicted in the following figure.\n",
    "\n",
    "![06.02.02-Break_down.png](attachment:6c8a688b-a3d4-4058-ba2c-0f4e589831c0.png)\n",
    "\n",
    "Following is a recursive solution to the Towers of Hanoi problem. Notice its compactness and simplicity. The code exactly reflects our intuition about the recursive nature of the solution: First we move a stack of size *N-1* from the original tower 'from_tower' to the alternative tower 'alt_tower'. This is a difficult task, so instead we make a recursive call that will make subsequent recursive calls, but will, in the end, move the stack as desired. Then we move the bottom disk to the target tower 'to_tower'. Finally, we move the stack of size *N-1* to the target tower by making another recursive call.\n",
    "\n",
    "**TRY IT!** Use the function *my_towers* to solve the Towers of Hanoi Problem for *N = 3*. Verify the solution is correct by inspection. "
   ]
  },
  {
   "cell_type": "code",
   "execution_count": 1,
   "id": "08b8f7d6-d7da-4ac3-ada3-3b31f75668c7",
   "metadata": {
    "button": false,
    "collapsed": true,
    "jupyter": {
     "outputs_hidden": true
    },
    "new_sheet": false,
    "run_control": {
     "read_only": false
    }
   },
   "outputs": [],
   "source": [
    "def my_towers(N, from_tower, to_tower, alt_tower):\n",
    "    \"\"\"\n",
    "    Displays the moves required to move a tower of size N from the\n",
    "    'from_tower' to the 'to_tower'. \n",
    "    \n",
    "    'from_tower', 'to_tower' and 'alt_tower' are uniquely either \n",
    "    1, 2, or 3 referring to tower 1, tower 2, and tower 3. \n",
    "    \"\"\"\n",
    "    \n",
    "    if N != 0:\n",
    "        # recursive call that moves N-1 stack from starting tower\n",
    "        # to alternate tower\n",
    "        my_towers(N-1, from_tower, alt_tower, to_tower)\n",
    "        \n",
    "        # display to screen movement of bottom disk from starting\n",
    "        # tower to final tower\n",
    "        print(\"Move disk %d from tower %d to tower %d.\"\\\n",
    "                  %(N, from_tower, to_tower))\n",
    "        \n",
    "        # recursive call that moves N-1 stack from alternate tower\n",
    "        # to final tower\n",
    "        my_towers(N-1, alt_tower, to_tower, from_tower)"
   ]
  },
  {
   "cell_type": "code",
   "execution_count": 2,
   "id": "ced0bb74-0314-4b28-b370-80fb14472167",
   "metadata": {
    "button": false,
    "new_sheet": false,
    "run_control": {
     "read_only": false
    }
   },
   "outputs": [
    {
     "name": "stdout",
     "output_type": "stream",
     "text": [
      "Move disk 1 from tower 1 to tower 3.\n",
      "Move disk 2 from tower 1 to tower 2.\n",
      "Move disk 1 from tower 3 to tower 2.\n",
      "Move disk 3 from tower 1 to tower 3.\n",
      "Move disk 1 from tower 2 to tower 1.\n",
      "Move disk 2 from tower 2 to tower 3.\n",
      "Move disk 1 from tower 1 to tower 3.\n"
     ]
    }
   ],
   "source": [
    "my_towers(3, 1, 3, 2)"
   ]
  },
  {
   "cell_type": "markdown",
   "id": "548da6f6-e84e-4119-9c47-365eac45e746",
   "metadata": {
    "button": false,
    "new_sheet": false,
    "run_control": {
     "read_only": false
    }
   },
   "source": [
    "By using Divide and Conquer, we have solved the Towers of Hanoi problem by making recursive calls to slightly smaller Towers of Hanoi problems that, in turn, make recursive calls to yet smaller Towers of Hanoi problems. Together, the solutions form the solution to the whole problem. The actual work done by a single function call is actually quite small: two recursive calls and moving one disk. In other words, a function call does very little work (moving a disk), and then passes the rest of the work onto other calls, a skill you will probably find very useful throughout your engineering career."
   ]
  },
  {
   "cell_type": "markdown",
   "id": "e60f6930-012b-451c-97d3-c8968e8042b4",
   "metadata": {
    "button": false,
    "new_sheet": false,
    "run_control": {
     "read_only": false
    }
   },
   "source": [
    "## Quicksort\n",
    "\n",
    "An list of numbers, *A*, is **sorted** if the elements are arranged in ascending or descending order. Although there are many ways of sorting a list, *quicksort* is a divide-and-conquer approach that is a very fast algorithm for sorting using a single processor (there are faster algorithms for multiple processors).\n",
    "\n",
    "The *quicksort* algorithm starts with the observation that sorting a list is hard, but comparison is easy. So instead of sorting a list, we separate the list by comparing to a **pivot**. At each recursive call to *quicksort*, the input list is divided into three parts: elements that are smaller than the pivot, elements that are equal to the pivot, and elements that are larger than the pivot. Then a recursive call to *quicksort* is made on the two subproblems: the list of elements smaller than the pivot and the list of elements larger than the pivot. Eventually the subproblems are small enough (i.e., list size of length 1 or 0) that sorting the list is trivial.\n",
    "\n",
    "Consider the following recursive implementation of *quicksort*."
   ]
  },
  {
   "cell_type": "code",
   "execution_count": 3,
   "id": "cab59abd-03a7-404a-9518-cbce1c6f7a5f",
   "metadata": {
    "button": false,
    "collapsed": true,
    "jupyter": {
     "outputs_hidden": true
    },
    "new_sheet": false,
    "run_control": {
     "read_only": false
    }
   },
   "outputs": [],
   "source": [
    "def my_quicksort(lst):\n",
    "    \n",
    "    if len(lst) <= 1:\n",
    "        # list of length 1 is easiest to sort \n",
    "        # because it is already sorted\n",
    "        \n",
    "        sorted_list = lst    \n",
    "    else:\n",
    "        \n",
    "        # select pivot as teh first element of the list\n",
    "        pivot = lst[0]\n",
    "        \n",
    "        # initialize lists for bigger and smaller elements \n",
    "        # as well those equal to the pivot\n",
    "        bigger = []\n",
    "        smaller = []\n",
    "        same = []\n",
    "        \n",
    "        # loop through list and put elements into appropriate array\n",
    "        \n",
    "        for item in lst:\n",
    "            if item > pivot:\n",
    "                bigger.append(item)\n",
    "            elif item < pivot:\n",
    "                smaller.append(item)\n",
    "            else:\n",
    "                same.append(item)\n",
    "        \n",
    "        sorted_list = my_quicksort(smaller) + same + my_quicksort(bigger)\n",
    "        \n",
    "    return sorted_list"
   ]
  },
  {
   "cell_type": "code",
   "execution_count": 4,
   "id": "f1e33ecd-f6fa-4556-a02c-1755d19ee21b",
   "metadata": {
    "button": false,
    "new_sheet": false,
    "run_control": {
     "read_only": false
    }
   },
   "outputs": [
    {
     "data": {
      "text/plain": [
       "[1, 2, 3, 3, 5, 6, 8, 10]"
      ]
     },
     "execution_count": 4,
     "metadata": {},
     "output_type": "execute_result"
    }
   ],
   "source": [
    "my_quicksort([2, 1, 3, 5, 6, 3, 8, 10])"
   ]
  },
  {
   "cell_type": "markdown",
   "id": "469743ab-e173-49ac-9255-9ef74eba37fb",
   "metadata": {
    "button": false,
    "new_sheet": false,
    "run_control": {
     "read_only": false
    }
   },
   "source": [
    "Similarly to Towers of Hanoi, we have broken up the problem of sorting (hard) into many comparisons (easy). "
   ]
  },
  {
   "cell_type": "markdown",
   "id": "68db2939-9532-4598-a7fb-b047db5ef35f",
   "metadata": {
    "button": false,
    "new_sheet": false,
    "run_control": {
     "read_only": false
    }
   },
   "source": [
    "# Summary\n",
    "\n",
    "\n",
    "1. A recursive function is a function that calls itself.\n",
    "2. Recursive functions are useful when problems have a hierarchical structure rather than an iterative structure.\n",
    "3. Divide and Conquer is a powerful problem-solving strategy that can be used to solve difficult problems."
   ]
  },
  {
   "cell_type": "markdown",
   "id": "f09e6917-ed76-4c39-acbc-a1f1f26d30a2",
   "metadata": {
    "button": false,
    "new_sheet": false,
    "run_control": {
     "read_only": false
    }
   },
   "source": [
    "# Problems\n",
    "\n",
    "1. Write a function *my_sum(lst)* where *lst* is a list, and the output is the sum of all the elements of *lst*. You can use recursion or iteration to solve the problem, but do not use Python's function *sum*. "
   ]
  },
  {
   "cell_type": "code",
   "execution_count": null,
   "id": "eaa1f2e1-764c-4716-b56d-e5dd9d984390",
   "metadata": {
    "button": false,
    "collapsed": true,
    "jupyter": {
     "outputs_hidden": true
    },
    "new_sheet": false,
    "run_control": {
     "read_only": false
    }
   },
   "outputs": [],
   "source": [
    "def my_sum(lst):\n",
    "    # Write your function code here\n",
    "    \n",
    "    return out"
   ]
  },
  {
   "cell_type": "code",
   "execution_count": null,
   "id": "55770834-fdf9-4f71-898b-4616e3d6d29e",
   "metadata": {
    "button": false,
    "collapsed": true,
    "jupyter": {
     "outputs_hidden": true
    },
    "new_sheet": false,
    "run_control": {
     "read_only": false
    }
   },
   "outputs": [],
   "source": [
    "# Output: 6\n",
    "my_sum([1, 2, 3])"
   ]
  },
  {
   "cell_type": "code",
   "execution_count": null,
   "id": "048f6568-bb7a-4ef7-822f-4b803deeff77",
   "metadata": {
    "button": false,
    "collapsed": true,
    "jupyter": {
     "outputs_hidden": true
    },
    "new_sheet": false,
    "run_control": {
     "read_only": false
    }
   },
   "outputs": [],
   "source": [
    "# Output: 5050\n",
    "my_sum(range(1,101))"
   ]
  },
  {
   "cell_type": "markdown",
   "id": "5c51721a-70a6-4e36-a2cf-3e41ac5389f3",
   "metadata": {
    "button": false,
    "new_sheet": false,
    "run_control": {
     "read_only": false
    }
   },
   "source": [
    "2. Chebyshev polynomials are defined recursively. Chebyshev polynomials are separated into two kinds: first and second. Chebyshev polynomials of the first kind, $T_n(x)$, and of the second kind, $U_n(x)$, are defined by the following recurrence relations:\n",
    "\n",
    "\\begin{equation}\n",
    "T_n(x) = \\begin{cases}\n",
    "    1 & \\text{if $n=0$}\\\\\n",
    "    x & \\text{if $n=1$}\\\\\n",
    "    2xT_{n-1}(x)-T_{n-2}(x) & \\text{otherwise}\\\\\n",
    "    \\end{cases}\n",
    "\\end{equation}\n",
    "\n",
    " \\begin{equation}\n",
    "U_n(x) = \\begin{cases}\n",
    "    1 & \\text{if $n=0$}\\\\\n",
    "    2x & \\text{if $n=1$}\\\\\n",
    "    2xU_{n-1}(x)-U_{n-2}(x) & \\text{otherwise}\\\\\n",
    "    \\end{cases}\n",
    "\\end{equation}\n",
    "\n",
    " Write a function *my_chebyshev_poly1(n,x)*, where the output *y* is the n-th Chebyshev polynomial of the first kind evaluated at *x*. Be sure your function can take list inputs for *x*. You may assume that *x* is a list. The output variable, *y*, must be a list also."
   ]
  },
  {
   "cell_type": "code",
   "execution_count": null,
   "id": "d7f0437a-8336-4c8a-b17b-946198c0b570",
   "metadata": {
    "button": false,
    "collapsed": true,
    "jupyter": {
     "outputs_hidden": true
    },
    "new_sheet": false,
    "run_control": {
     "read_only": false
    }
   },
   "outputs": [],
   "source": [
    "def my_chebyshev_poly1(n,x):\n",
    "    # Write your function code here\n",
    "    \n",
    "    return y"
   ]
  },
  {
   "cell_type": "code",
   "execution_count": null,
   "id": "80203f77-dd10-4192-8785-d98fdb44fb2f",
   "metadata": {
    "button": false,
    "collapsed": true,
    "jupyter": {
     "outputs_hidden": true
    },
    "new_sheet": false,
    "run_control": {
     "read_only": false
    }
   },
   "outputs": [],
   "source": [
    "x = [1, 2, 3, 4, 5]"
   ]
  },
  {
   "cell_type": "code",
   "execution_count": null,
   "id": "04ade2ee-36a1-42f6-a1f8-2de53c9bf463",
   "metadata": {
    "button": false,
    "collapsed": true,
    "jupyter": {
     "outputs_hidden": true
    },
    "new_sheet": false,
    "run_control": {
     "read_only": false
    }
   },
   "outputs": [],
   "source": [
    "# Output: [1, 1, 1, 1, 1]\n",
    "my_chebyshev_poly1(0,x)"
   ]
  },
  {
   "cell_type": "code",
   "execution_count": null,
   "id": "60567a89-f5f8-4fef-a217-1e41217bd6ef",
   "metadata": {
    "button": false,
    "collapsed": true,
    "jupyter": {
     "outputs_hidden": true
    },
    "new_sheet": false,
    "run_control": {
     "read_only": false
    }
   },
   "outputs": [],
   "source": [
    "# Output: [1, 2, 3, 4, 5]\n",
    "my_chebyshev_poly1(1,x)"
   ]
  },
  {
   "cell_type": "code",
   "execution_count": null,
   "id": "dba8b95b-fa70-4e2d-bc93-bdc63dab1ee6",
   "metadata": {
    "button": false,
    "collapsed": true,
    "jupyter": {
     "outputs_hidden": true
    },
    "new_sheet": false,
    "run_control": {
     "read_only": false
    }
   },
   "outputs": [],
   "source": [
    "# Output: [1, 26, 99, 244, 485]\n",
    "my_chebyshev_poly1(3,x)"
   ]
  },
  {
   "cell_type": "markdown",
   "id": "ee388a2e-2aeb-4e91-8a1d-e163aa3ceff9",
   "metadata": {
    "button": false,
    "new_sheet": false,
    "run_control": {
     "read_only": false
    }
   },
   "source": [
    "3. The Ackermann function, *A*, is a quickly growing function that is defined by the recursive relationship:\n",
    "\n",
    " \\begin{equation}\n",
    "A(m, n) = \\begin{cases}\n",
    "    n+1 &\\text{if $m=0$}\\\\\n",
    "    A(m-1,1) &\\text{if  $m>0$ and $n=1$}\\\\\n",
    "    A(m-1,A(m,n-1)) & \\text{if  $m>0$ and $n>0$}\\\\\n",
    "    \\end{cases}\n",
    "\\end{equation}\n",
    "\n",
    " Write a function *my_ackermann(m,n)*, where the output is the Ackermann function compuated for *m* and *n*. \n",
    "    \n",
    " *my_ackermann(4,4)* is so large that it would be difficult to write down. Although the Ackermann function does not have many practical uses, the inverse Ackermann function has several uses in robotic motion planning. "
   ]
  },
  {
   "cell_type": "code",
   "execution_count": null,
   "id": "dbdb2182-9970-48c0-b36a-e958949d76df",
   "metadata": {
    "button": false,
    "collapsed": true,
    "jupyter": {
     "outputs_hidden": true
    },
    "new_sheet": false,
    "run_control": {
     "read_only": false
    }
   },
   "outputs": [],
   "source": [
    "def my_ackermann(m,n):\n",
    "    # write your own function code here\n",
    "    return out"
   ]
  },
  {
   "cell_type": "code",
   "execution_count": null,
   "id": "f509a5e9-71b6-46ac-a173-b57d125ae80a",
   "metadata": {
    "button": false,
    "collapsed": true,
    "jupyter": {
     "outputs_hidden": true
    },
    "new_sheet": false,
    "run_control": {
     "read_only": false
    }
   },
   "outputs": [],
   "source": [
    "# Output: 3\n",
    "my_ackermann(1,1)"
   ]
  },
  {
   "cell_type": "code",
   "execution_count": null,
   "id": "650d6f6e-d494-43d3-af25-9f96c32449f3",
   "metadata": {
    "button": false,
    "collapsed": true,
    "jupyter": {
     "outputs_hidden": true
    },
    "new_sheet": false,
    "run_control": {
     "read_only": false
    }
   },
   "outputs": [],
   "source": [
    "# Output: 4\n",
    "my_ackermann(1,2)"
   ]
  },
  {
   "cell_type": "code",
   "execution_count": null,
   "id": "184addeb-3164-460a-95ab-950e00f5aa62",
   "metadata": {
    "button": false,
    "collapsed": true,
    "jupyter": {
     "outputs_hidden": true
    },
    "new_sheet": false,
    "run_control": {
     "read_only": false
    }
   },
   "outputs": [],
   "source": [
    "# Output: 9\n",
    "my_ackermann(2,3)"
   ]
  },
  {
   "cell_type": "code",
   "execution_count": null,
   "id": "2ec5af20-22ba-496d-b662-f127238f0804",
   "metadata": {
    "button": false,
    "new_sheet": false,
    "run_control": {
     "read_only": false
    }
   },
   "outputs": [],
   "source": [
    "# Output: 61\n",
    "my_ackermann(3,3)"
   ]
  },
  {
   "cell_type": "code",
   "execution_count": null,
   "id": "fc46b662-d863-4867-99e0-187789af80c7",
   "metadata": {
    "button": false,
    "new_sheet": false,
    "run_control": {
     "read_only": false
    }
   },
   "outputs": [],
   "source": [
    "# Output: 125\n",
    "my_ackermann(3,4)"
   ]
  },
  {
   "cell_type": "markdown",
   "id": "6c250550-f965-4922-afbd-634e24ca2778",
   "metadata": {
    "button": false,
    "new_sheet": false,
    "run_control": {
     "read_only": false
    }
   },
   "source": [
    "4. A function, *C(n,k)*, which computes the number of different ways of uniquely choosing *k* objects from *n* without repetition, is commonly used in many statistics applications. For example, how many three-flavored ice cream sundaes are there if there are 10 icecream flavors? To solve this problem we would have to compute *C(10,3)*, the number of ways of choosing three unique icecream flavors from 10. The function *C* is commonly called \"*n* choose *k*.\" You may assume that *n* and *k* are integers.\n",
    "\n",
    " If *n = k*, then clearly *C(n,k) = 1* because there is only way to choose *n* objects from *n* objects. \n",
    "\n",
    " If *k = 1*, then *C(n,k) = n* because choosing each of the *n* objects is a way of choosing one object from *n*. For all other cases, *C(n,k) = C(n-1,k) + C(n-1,k-1)*. Can you see why?\n",
    "\n",
    " Write a function *my_n_choose_k(n,k)* that computes the number of times $k$ objects can be uniquely chosen from $n$ objects without repetition."
   ]
  },
  {
   "cell_type": "code",
   "execution_count": null,
   "id": "8bbf604f-dca8-4bfb-869e-c1b9868eb96f",
   "metadata": {
    "button": false,
    "collapsed": true,
    "jupyter": {
     "outputs_hidden": true
    },
    "new_sheet": false,
    "run_control": {
     "read_only": false
    }
   },
   "outputs": [],
   "source": [
    "def my_n_choose_k(n,k):\n",
    "    # Write your own function code here\n",
    "    return out"
   ]
  },
  {
   "cell_type": "code",
   "execution_count": null,
   "id": "4ec6c319-692e-4da7-ac0a-d5c4f8c7048c",
   "metadata": {
    "button": false,
    "collapsed": true,
    "jupyter": {
     "outputs_hidden": true
    },
    "new_sheet": false,
    "run_control": {
     "read_only": false
    }
   },
   "outputs": [],
   "source": [
    "# Output: 10\n",
    "my_n_choose_k(10,1)"
   ]
  },
  {
   "cell_type": "code",
   "execution_count": null,
   "id": "c9c5c415-8bbe-4902-9d48-1d4657035d0c",
   "metadata": {
    "button": false,
    "collapsed": true,
    "jupyter": {
     "outputs_hidden": true
    },
    "new_sheet": false,
    "run_control": {
     "read_only": false
    }
   },
   "outputs": [],
   "source": [
    "# Output: 1\n",
    "my_n_choose_k(10,10)"
   ]
  },
  {
   "cell_type": "code",
   "execution_count": null,
   "id": "e557feec-afd0-44c9-b985-7c55bfc2cc7e",
   "metadata": {
    "button": false,
    "collapsed": true,
    "jupyter": {
     "outputs_hidden": true
    },
    "new_sheet": false,
    "run_control": {
     "read_only": false
    }
   },
   "outputs": [],
   "source": [
    "# Output: 120\n",
    "my_n_choose_k(10,3)"
   ]
  },
  {
   "cell_type": "markdown",
   "id": "e454634d-7272-4d01-9208-63f811dbe17a",
   "metadata": {
    "button": false,
    "new_sheet": false,
    "run_control": {
     "read_only": false
    }
   },
   "source": [
    "5. In purchases paid in cash, the seller must return money that was overpaid. This is commonly referred to as \"giving change.\" The bills and coins required to properly give change can be defined by a recursive relationship. If the amount paid is more than \\\\$100 more than the cost, then return a hundred-dollar bill along with the result of a recursive call to the change function with \\\\$100 subtracted from the amount paid. If the amount paid is more than \\\\$50 over the cost of the item, then return a fifty-dollar bill, along with the result of a recursive call to the change function with \\\\$50 subtracted. Similar clauses can be given for every denomination of US currency. The denominations of US currency, in dollars, is 100, 50, 20, 10, 5, 1, 0.25, 0.10, 0.05, and 0.01. For this problem we will ignore the two-dollar bill, which is not in common circulation. You may assume that *cost* and\n",
    "*paid* are scalars, and that *paid >= cost*. The output\n",
    "variable, *change*, must be a list as shown in\n",
    "the test case.\n",
    "\n",
    " Use recursion to program a function *my_change(cost, paid)* where *cost* is the cost of the item, *paid* is the amount paid, and the output *change* is a list of bills and coins that should be returned to the seller. Note: Watch out for the base case!"
   ]
  },
  {
   "cell_type": "code",
   "execution_count": null,
   "id": "13f956ee-1a8e-4894-b774-69181aebcd8e",
   "metadata": {
    "button": false,
    "collapsed": true,
    "jupyter": {
     "outputs_hidden": true
    },
    "new_sheet": false,
    "run_control": {
     "read_only": false
    }
   },
   "outputs": [],
   "source": [
    "def my_change(cost, paid):\n",
    "    # Write your own function code here\n",
    "    return change"
   ]
  },
  {
   "cell_type": "code",
   "execution_count": null,
   "id": "a7400c59-30e5-46fe-9466-6aadf159c7cc",
   "metadata": {
    "button": false,
    "collapsed": true,
    "jupyter": {
     "outputs_hidden": true
    },
    "new_sheet": false,
    "run_control": {
     "read_only": false
    }
   },
   "outputs": [],
   "source": [
    "# Output: [50.0, 20.0, 1.0, 1.0, 0.25, 0.10, 0.05, 0.01, 0.01, 0.01]\n",
    "my_change(27.57, 100)"
   ]
  },
  {
   "cell_type": "markdown",
   "id": "4d83a5da-45a0-47dd-8092-3304fdb498c6",
   "metadata": {
    "button": false,
    "new_sheet": false,
    "run_control": {
     "read_only": false
    }
   },
   "source": [
    "6. The golden ratio, $\\phi$, is the limit of $\\frac{F(n+1)}{F(n)}$ as *n* goes to infinity and *F(n)* is the *n*-th Fibonacci number, which can be shown to be exactly $\\frac{1 + \\sqrt{5}}{2}$ and is approximately 1.62. We say that $G(n) = \\frac{F(n+1)}{F(n)}$ is the *n*-th approximation of the golden ratio, and $G(1) = 1$.\n",
    "\n",
    " It can be shown that $\\phi$ is also the limit of the continued fraction:\n",
    " \n",
    " $$\\varphi = 1 + \\dfrac{1}{1 + \\dfrac{1}{1 + \\dfrac{1}{1 + \\ddots}}}.$$\n",
    "\n",
    " Write a recursive function with header *my_golden_ratio(n)*, where the output is the *n*-th approximation of the golden ratio according to the continued fraction recursive relationship. You should use the continued fraction approximation for the Golden ratio, not the $G(n) = F(n+1)/F(n)$ definition. However for both definitions, $G(1) = 1$.\n",
    " \n",
    " Studies have shown that rectangles with aspect ratio (i.e., length divided by width) close to the golden ratio are more pleasing than rectangles that do not. What is the aspect ratio of many wide-screen TV's and movie screens?"
   ]
  },
  {
   "cell_type": "code",
   "execution_count": null,
   "id": "f3fddd99-8f90-4c47-9980-1287793aa4a0",
   "metadata": {
    "button": false,
    "new_sheet": false,
    "run_control": {
     "read_only": false
    }
   },
   "outputs": [],
   "source": [
    "def my_golden_ratio(n):\n",
    "    # Write your own function code here\n",
    "    return out"
   ]
  },
  {
   "cell_type": "code",
   "execution_count": null,
   "id": "a194d2ce-cb52-4c63-98f5-312431bf9dd7",
   "metadata": {
    "button": false,
    "new_sheet": false,
    "run_control": {
     "read_only": false
    }
   },
   "outputs": [],
   "source": [
    "# Output: 1.618181818181818\n",
    "my_golden_ratio(10)"
   ]
  },
  {
   "cell_type": "code",
   "execution_count": null,
   "id": "6bbbdeb8-aa04-4f06-82a1-82ad26c45759",
   "metadata": {
    "button": false,
    "new_sheet": false,
    "run_control": {
     "read_only": false
    }
   },
   "outputs": [],
   "source": [
    "import numpy as np\n",
    "(1 + np.sqrt(5))/2"
   ]
  },
  {
   "cell_type": "markdown",
   "id": "df7ce2be-acc3-4ad7-b9bf-b4d43de3bbb4",
   "metadata": {
    "button": false,
    "new_sheet": false,
    "run_control": {
     "read_only": false
    }
   },
   "source": [
    "7. The greatest common divisor of two integers *a* and *b* is the largest integer that divides both numbers without remainder, and the function to compute it is denoted by *gcd(a,b)*. The *gcd* function can be written recursively. If *b* equals 0, then *a* is the greatest common divisor. Otherwise, *gcd(a,b) = gcd(b,a%b)* where *a%b* is the remainder of *a* divided by *b*. Assume that *a* and *b* are integers.\n",
    "\n",
    " Write a recursive function *my_gcd(a,b)* that computes the greatest common divisor of *a* and *b*. Assume that *a* and *b* are integers.\n"
   ]
  },
  {
   "cell_type": "code",
   "execution_count": null,
   "id": "0ac3f4f3-d5b9-40e8-b7fe-2444cb68124d",
   "metadata": {
    "button": false,
    "collapsed": true,
    "jupyter": {
     "outputs_hidden": true
    },
    "new_sheet": false,
    "run_control": {
     "read_only": false
    }
   },
   "outputs": [],
   "source": [
    "def my_gcd(a, b):\n",
    "    # Write your own function code here\n",
    "    return gcd"
   ]
  },
  {
   "cell_type": "code",
   "execution_count": null,
   "id": "66ea98cb-e9aa-4622-9b69-f3b8a3e27575",
   "metadata": {
    "button": false,
    "collapsed": true,
    "jupyter": {
     "outputs_hidden": true
    },
    "new_sheet": false,
    "run_control": {
     "read_only": false
    }
   },
   "outputs": [],
   "source": [
    "# Output: 2\n",
    "my_gcd(10, 4)"
   ]
  },
  {
   "cell_type": "code",
   "execution_count": null,
   "id": "dfb460aa-aee3-4fac-b158-b64fa8427cc7",
   "metadata": {
    "button": false,
    "collapsed": true,
    "jupyter": {
     "outputs_hidden": true
    },
    "new_sheet": false,
    "run_control": {
     "read_only": false
    }
   },
   "outputs": [],
   "source": [
    "# Output: 11\n",
    "my_gcd(33, 121)"
   ]
  },
  {
   "cell_type": "code",
   "execution_count": null,
   "id": "9273b49f-df29-400d-99e2-b1754446970f",
   "metadata": {
    "button": false,
    "collapsed": true,
    "jupyter": {
     "outputs_hidden": true
    },
    "new_sheet": false,
    "run_control": {
     "read_only": false
    }
   },
   "outputs": [],
   "source": [
    "# Output: 1\n",
    "my_gcd(18, 1)"
   ]
  },
  {
   "attachments": {
    "d0a37b99-f3e1-46fd-8607-e71b613eebc6.png": {
     "image/png": "[encoded data removed]"
    }
   },
   "cell_type": "markdown",
   "id": "5dd8e30b-22d7-4488-a579-84e791ec9209",
   "metadata": {
    "button": false,
    "new_sheet": false,
    "run_control": {
     "read_only": false
    }
   },
   "source": [
    "8. Pascal's triangle is an arrangement of numbers such that each row is equivalent to the coefficients of the binomial expansion of $(x + y)^{(p-1)}$, where *p* is some positive integer more than or equal to 1. For example, $(x+y)^2 = 1 x^2 + 2 xy + 1 y^2$ so the third row of Pascal's triangle is 1 2 1.\n",
    "\n",
    " Let $R_{m}$ represent the *m*-th row of Pascal's triangle, and $R_m(n)$ be the $n$-th element of the row. By definition, $R_m$ has m elements, and $R_m(1) = R_m(n) = 1$. The remaining elements are computed by the following recursive relationship: $R_m(i) = R_{m-1}(i-1) + R_{m-1}(i)$ for $i = 2,\\ldots,m-1$. The first few rows of Pascal's triangle are depicted in the following figure. You may assume that *m* is a strictly positive integer. The output variable, *row*, must be a list.\n",
    "\n",
    " ![06.03.01-pascal_triangle.png](attachment:d0a37b99-f3e1-46fd-8607-e71b613eebc6.png)\n",
    " \n",
    " Write a function with *my_pascal_row(m)* where output variable *row* is the *m*-th row of the Pascal triangle. You may assume that *m* is a strictly positive integer."
   ]
  },
  {
   "cell_type": "code",
   "execution_count": null,
   "id": "91c14903-aa0e-4fa0-a85c-1a4060a616f9",
   "metadata": {
    "button": false,
    "collapsed": true,
    "jupyter": {
     "outputs_hidden": true
    },
    "new_sheet": false,
    "run_control": {
     "read_only": false
    }
   },
   "outputs": [],
   "source": [
    "def my_pascal_row(m):\n",
    "    # Write your own function code here\n",
    "    return row"
   ]
  },
  {
   "cell_type": "code",
   "execution_count": null,
   "id": "39510cb1-42c7-4dc9-a182-174ff6c29a73",
   "metadata": {
    "button": false,
    "collapsed": true,
    "jupyter": {
     "outputs_hidden": true
    },
    "new_sheet": false,
    "run_control": {
     "read_only": false
    }
   },
   "outputs": [],
   "source": [
    "# Output: [1]\n",
    "my_pascal_row(1)"
   ]
  },
  {
   "cell_type": "code",
   "execution_count": null,
   "id": "aed1b8b3-2679-4e4b-b1ff-a07638b25ecc",
   "metadata": {
    "button": false,
    "collapsed": true,
    "jupyter": {
     "outputs_hidden": true
    },
    "new_sheet": false,
    "run_control": {
     "read_only": false
    }
   },
   "outputs": [],
   "source": [
    "# Output: [1, 1]\n",
    "my_pascal_row(2)"
   ]
  },
  {
   "cell_type": "code",
   "execution_count": null,
   "id": "ba5745ec-2d6f-4dfe-bb71-f45c0787164d",
   "metadata": {
    "button": false,
    "collapsed": true,
    "jupyter": {
     "outputs_hidden": true
    },
    "new_sheet": false,
    "run_control": {
     "read_only": false
    }
   },
   "outputs": [],
   "source": [
    "# Output: [1, 2, 1]\n",
    "my_pascal_row(3)"
   ]
  },
  {
   "cell_type": "code",
   "execution_count": null,
   "id": "2667a0e7-8125-4f81-98a0-1e231858e1a1",
   "metadata": {
    "button": false,
    "collapsed": true,
    "jupyter": {
     "outputs_hidden": true
    },
    "new_sheet": false,
    "run_control": {
     "read_only": false
    }
   },
   "outputs": [],
   "source": [
    "# Output: [1, 3, 3, 1]\n",
    "my_pascal_row(4)"
   ]
  },
  {
   "cell_type": "code",
   "execution_count": null,
   "id": "65d96059-567d-4eb5-9866-8e294f2696b3",
   "metadata": {
    "button": false,
    "collapsed": true,
    "jupyter": {
     "outputs_hidden": true
    },
    "new_sheet": false,
    "run_control": {
     "read_only": false
    }
   },
   "outputs": [],
   "source": [
    "# Output: [1, 4, 6, 4, 1]\n",
    "my_pascal_row(5)"
   ]
  },
  {
   "cell_type": "markdown",
   "id": "5e23d437-7d9d-4e03-a833-ec7e0ec0d6e4",
   "metadata": {
    "button": false,
    "new_sheet": false,
    "run_control": {
     "read_only": false
    }
   },
   "source": [
    "9. Consider a $n\\times{n}$ matrix of the following form:\n",
    "\n",
    " $$A =\n",
    "\\left[{\\begin{array}{l@{\\quad}l@{\\quad}l@{\\quad}l@{\\quad}l}\n",
    "1 & 1 & 1 & 1 & 1\\\\ \n",
    "1 & 0 & 0 & 0 & 0\\\\ \n",
    "1 & 0 & 1 & 1 & 0\\\\\n",
    "1 & 0 & 0 & 1 & 0\\\\\n",
    "1 & 1 & 1 & 1 & 0\n",
    "\\end{array}}\\right]\n",
    "$$\n",
    "\n",
    " where the ones form a right spiral. Write a function *my_spiral_ones(n)* that produces an $n\\times{n}$ matrix of the given form. Take care that the recursive steps are in the correct order (i.e., the ones go right, then down, then left, then up, then right, etc.)."
   ]
  },
  {
   "cell_type": "code",
   "execution_count": null,
   "id": "96998118-cf5b-4946-9899-d091a73c5334",
   "metadata": {
    "button": false,
    "collapsed": true,
    "jupyter": {
     "outputs_hidden": true
    },
    "new_sheet": false,
    "run_control": {
     "read_only": false
    }
   },
   "outputs": [],
   "source": [
    "def my_spiral_ones(n):\n",
    "    # Write your own function code here\n",
    "    return A"
   ]
  },
  {
   "cell_type": "code",
   "execution_count": null,
   "id": "4fb2a1df-70c6-4519-9e3d-b2bc0e5f888c",
   "metadata": {
    "button": false,
    "collapsed": true,
    "jupyter": {
     "outputs_hidden": true
    },
    "new_sheet": false,
    "run_control": {
     "read_only": false
    }
   },
   "outputs": [],
   "source": [
    "# Output: 1\n",
    "my_spiral_ones(1)"
   ]
  },
  {
   "cell_type": "code",
   "execution_count": null,
   "id": "c3fd45bf-b54b-4e44-97ca-f4f0902d790f",
   "metadata": {
    "button": false,
    "collapsed": true,
    "jupyter": {
     "outputs_hidden": true
    },
    "new_sheet": false,
    "run_control": {
     "read_only": false
    }
   },
   "outputs": [],
   "source": [
    "# Output: \n",
    "# array([[1, 1],\n",
    "#       [0, 1]])\n",
    "my_spiral_ones(2)"
   ]
  },
  {
   "cell_type": "code",
   "execution_count": null,
   "id": "3f521808-14bc-4bbd-b288-23541bd2cc6b",
   "metadata": {
    "button": false,
    "collapsed": true,
    "jupyter": {
     "outputs_hidden": true
    },
    "new_sheet": false,
    "run_control": {
     "read_only": false
    }
   },
   "outputs": [],
   "source": [
    "# Output:\n",
    "#array([[0, 1, 1],\n",
    "#       [0, 0, 1],\n",
    "#       [1, 1, 1]])\n",
    "my_spiral_ones(3)"
   ]
  },
  {
   "cell_type": "code",
   "execution_count": null,
   "id": "3b9f340a-f6d1-433b-baec-6b58e4224150",
   "metadata": {
    "button": false,
    "collapsed": true,
    "jupyter": {
     "outputs_hidden": true
    },
    "new_sheet": false,
    "run_control": {
     "read_only": false
    }
   },
   "outputs": [],
   "source": [
    "# Output:\n",
    "#array([[1, 0, 0, 0],\n",
    "#       [1, 0, 1, 1],\n",
    "#       [1, 0, 0, 1],\n",
    "#       [1, 1, 1, 1]])\n",
    "my_spiral_ones(4)"
   ]
  },
  {
   "cell_type": "code",
   "execution_count": null,
   "id": "6517803d-4090-4411-8d28-27818626e8e7",
   "metadata": {
    "button": false,
    "collapsed": true,
    "jupyter": {
     "outputs_hidden": true
    },
    "new_sheet": false,
    "run_control": {
     "read_only": false
    }
   },
   "outputs": [],
   "source": [
    "# Output:\n",
    "#array([[1, 1, 1, 1, 1],\n",
    "#       [1, 0, 0, 0, 0],\n",
    "#       [1, 0, 1, 1, 0],\n",
    "#       [1, 0, 0, 1, 0],\n",
    "#       [1, 1, 1, 1, 0]])\n",
    "my_spiral_ones(5)"
   ]
  },
  {
   "cell_type": "markdown",
   "id": "b05a7770-34a3-4424-8d85-82b5499f1385",
   "metadata": {
    "button": false,
    "new_sheet": false,
    "run_control": {
     "read_only": false
    }
   },
   "source": [
    "10. Rewrite *my_spiral_ones* without using recursion.\n",
    "11. Draw the recursion tree for *my_towers(4)*.\n",
    "12. Rewrite the Towers of Hanoi function in this chapter without using recursion.\n",
    "13. Draw the recursion tree for *my_quicksort([5 4 6 2 9 1 7 3])*.\n",
    "14. Rewrite the *quicksort* function in this chapter without using recursion."
   ]
  }
 ],
 "metadata": {
  "kernelspec": {
   "display_name": "Python 3 (ipykernel)",
   "language": "python",
   "name": "python3"
  },
  "language_info": {
   "codemirror_mode": {
    "name": "ipython",
    "version": 3
   },
   "file_extension": ".py",
   "mimetype": "text/x-python",
   "name": "python",
   "nbconvert_exporter": "python",
   "pygments_lexer": "ipython3",
   "version": "3.11.5"
  }
 },
 "nbformat": 4,
 "nbformat_minor": 5
}
