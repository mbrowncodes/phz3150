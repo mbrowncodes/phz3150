{
 "cells": [
  {
   "cell_type": "markdown",
   "id": "59db2fa8-222d-433e-ba73-d87dc42b8cc1",
   "metadata": {},
   "source": [
    "<h1 id=\"Week3\">Week 3. Functions,Slicing Data Structures, and More Numpy.</h1>\n",
    "\n",
    "Today we will continue learning Python by learning how to make a function–both in a notebook and in a separate .py script file. We will also learn more about slicing arrays, lists, and tuples and using Numpy in general.\n"
   ]
  },
  {
   "cell_type": "markdown",
   "id": "1496c36b-2b4b-43da-bc42-e21f381ca887",
   "metadata": {},
   "source": [
    "## Functions."
   ]
  },
  {
   "cell_type": "markdown",
   "id": "1119341f-72ed-472f-9c50-bae6d659b9d4",
   "metadata": {},
   "source": [
    "### Functions are a collection of statements that:\n",
    "- take some input from the code\n",
    "- do something/ perform a computation\n",
    "- might return some output to the main code.\n",
    "\n",
    " $ z = f(x,y)$ ->\n",
    "`return_values(s) = f(argument(s)`\n",
    "\n",
    "- *When do I make a function?* Do you need to do this calculation more than once in the future? \n",
    "\n",
    "- To call them you need to use: my_function_name( \n",
    "\n",
    "- You may here functions and methods used interchangably. After we get into object-oriented programming the term *method* will make more sense. For now, just think of a *method* as a synonym of *function*."
   ]
  },
  {
   "cell_type": "code",
   "execution_count": null,
   "id": "aa2476e1-fd28-4e9c-9713-b1630ef01d56",
   "metadata": {},
   "outputs": [],
   "source": [
    "print( \" Hello World! \" )  #---> you call the function print() and it is \n",
    "                           #---> tasked to print the text between the quotes"
   ]
  },
  {
   "cell_type": "code",
   "execution_count": 55,
   "id": "081587d7-5599-4a09-aabe-d4be0c91aea8",
   "metadata": {},
   "outputs": [
    {
     "name": "stdout",
     "output_type": "stream",
     "text": [
      "3\n"
     ]
    }
   ],
   "source": [
    "# some other build-in function you may see:\n",
    "\n",
    "my_int = int( 3.1 )      # ----> get the 3.1 and give me the integer\n",
    "print(my_int)"
   ]
  },
  {
   "cell_type": "markdown",
   "id": "73e550ff-c043-42af-a61c-2476f758d98d",
   "metadata": {},
   "source": [
    "### Python has many *modules*. *Modules* are collections or libraries of functions. To call them you first need to import them:\n",
    "\n",
    "- `import module_name`\n",
    "- or to abbreviate the module name: `import module_name as module_shortname`\n",
    "- this is dangerous because you might shadow other functions with the same name from a different module: `from module_name import *`. It imports *all* of the functions in the module without the module name.\n",
    "- we can also import a single function or subset of functions using: `from module_name import function_name`\n",
    "\n"
   ]
  },
  {
   "cell_type": "markdown",
   "id": "08c88050-3cc1-4418-a088-19cba9b02864",
   "metadata": {},
   "source": [
    "## How you call a function from the module changes depending on how you import the module:\n",
    "\n",
    "### 1. When you use:\n",
    "`import module_name`\n",
    "\n",
    "### you need to call a function as:\n",
    "`module_name.function_name()`\n"
   ]
  },
  {
   "cell_type": "markdown",
   "id": "2b50fde9-f29d-4bb1-8f58-8f347d2b7db1",
   "metadata": {},
   "source": [
    "**Try it!** import the math module and round the number 4.7 down and up using functions."
   ]
  },
  {
   "cell_type": "code",
   "execution_count": 1,
   "id": "3c369b0b-63c9-4551-8f15-0bdee827647c",
   "metadata": {},
   "outputs": [],
   "source": [
    "# ---> Note that int() is not a rounding function; for that you have the floor() and ceil() in math:\n",
    "\n",
    "import math"
   ]
  },
  {
   "cell_type": "code",
   "execution_count": 2,
   "id": "fcd7fc35-3f4f-4732-8214-7825ce4f931f",
   "metadata": {},
   "outputs": [
    {
     "data": {
      "text/plain": [
       "(4, 5)"
      ]
     },
     "execution_count": 2,
     "metadata": {},
     "output_type": "execute_result"
    }
   ],
   "source": [
    "#round down and up:\n",
    "math.floor( 4.7 ) , math.ceil( 4.7 )"
   ]
  },
  {
   "cell_type": "code",
   "execution_count": null,
   "id": "3ca47b86-0bae-4b5f-9c64-aed01d029f6d",
   "metadata": {},
   "outputs": [],
   "source": []
  },
  {
   "cell_type": "markdown",
   "id": "764f1aad-7249-4ac2-92a6-1c80bbc0ae14",
   "metadata": {},
   "source": [
    "### 2. For most modules it is common practice to import them following this example:"
   ]
  },
  {
   "cell_type": "code",
   "execution_count": 61,
   "id": "eda3802b-f295-454a-a893-d571642630a1",
   "metadata": {},
   "outputs": [],
   "source": [
    "import numpy as np  #--> this tells Python to import the module numpy under the name np \n",
    "                    #    this simplifies your coding as instead of writing numpy.blabla() \n",
    "                    #    you just need to write np.blabla()\n",
    "                    #--> may not look as much gain with numpy but think of: import matplotlib.pyplot as plt "
   ]
  },
  {
   "cell_type": "code",
   "execution_count": 65,
   "id": "85468137-6328-41a4-a720-e6cdb6d18d02",
   "metadata": {},
   "outputs": [
    {
     "data": {
      "text/plain": [
       "(3.0, 4.0, 3.0)"
      ]
     },
     "execution_count": 65,
     "metadata": {},
     "output_type": "execute_result"
    }
   ],
   "source": [
    "#import the numpy module with the short name 'np' and round the number 3.2 down, up,\n",
    "#and following the standard rounding rule using numpy functions.\n",
    "np.floor( 3.2 ), np.ceil(3.2), np.round(3.2)"
   ]
  },
  {
   "cell_type": "markdown",
   "id": "8633f548-4409-4c4e-a64f-35050f9a14fc",
   "metadata": {},
   "source": [
    "**Tip:** The numpy module contains everything you would need from the math module and more. If you are importing *numpy*, you do not need to also import *math*. "
   ]
  },
  {
   "cell_type": "markdown",
   "id": "aa42d044-56f7-4576-be37-bb351e67741e",
   "metadata": {},
   "source": [
    "### 3. If you want to avoid using the math.* ,np.* etc you may also chose to change the import command to:\n",
    "`from module_name import *`\n",
    "    \n",
    "### Then you call a function as:\n",
    "`function_name()`"
   ]
  },
  {
   "cell_type": "code",
   "execution_count": 69,
   "id": "5f08c803-e071-4cf2-8e4c-e5b4fe08cd03",
   "metadata": {},
   "outputs": [],
   "source": [
    "from math import *   # --> this goes into math and imports all functions with their name  \n",
    "                     # --> ( so you don't need a math.* )"
   ]
  },
  {
   "cell_type": "code",
   "execution_count": 7,
   "id": "d054356a-1748-45bd-a4cf-dda2528fc373",
   "metadata": {},
   "outputs": [
    {
     "name": "stdout",
     "output_type": "stream",
     "text": [
      "4 5\n"
     ]
    }
   ],
   "source": [
    "print( floor( 4.7 ) , ceil ( 4.7 )  )"
   ]
  },
  {
   "cell_type": "markdown",
   "id": "c4bce145-6ef6-4d5b-a4e9-4eb5382d9d8b",
   "metadata": {},
   "source": [
    "**WARNING!** This is not a good practice generally, as more than one packages may share the same name of a function; you want to separate them and know what package you call (e.g., np.pi or math.pi....)"
   ]
  },
  {
   "cell_type": "code",
   "execution_count": 66,
   "id": "985109e9-5227-4239-a358-bb451b5e6971",
   "metadata": {},
   "outputs": [
    {
     "name": "stdout",
     "output_type": "stream",
     "text": [
      "3.141592653589793 3.1415\n"
     ]
    }
   ],
   "source": [
    "print( np.pi, pi)"
   ]
  },
  {
   "cell_type": "markdown",
   "id": "62afd99e-034d-4131-9a9e-5a5af2b42ca5",
   "metadata": {},
   "source": [
    "### Practice:\n",
    "Now that you imported numpy use functions: \n",
    "- use array() to make a numpy array called `test1` with the numbers `[ 1, 2, 5, 3]`.\n",
    "- Call functions `max()`, `min()` to calculate the max and min of the array.\n",
    "- Determine what the functions `argmin()` and `argmax` do.\n",
    "- Find the mean of test1"
   ]
  },
  {
   "cell_type": "code",
   "execution_count": null,
   "id": "50083d8e-e2ec-4671-b532-43f126fa03db",
   "metadata": {},
   "outputs": [],
   "source": []
  },
  {
   "cell_type": "code",
   "execution_count": null,
   "id": "21bb3d13-5196-4593-831c-5e02b5dd3b51",
   "metadata": {},
   "outputs": [],
   "source": []
  },
  {
   "cell_type": "code",
   "execution_count": null,
   "id": "8ff0a280-9411-47cb-b4b6-80f8606927db",
   "metadata": {},
   "outputs": [],
   "source": []
  },
  {
   "cell_type": "code",
   "execution_count": null,
   "id": "1d7ddf8b-f2ec-4d40-8645-3724ca5ae1cb",
   "metadata": {},
   "outputs": [],
   "source": []
  },
  {
   "cell_type": "markdown",
   "id": "1e5aac75-56b9-4d20-a501-fcd6031bf777",
   "metadata": {},
   "source": [
    "### Building Functions.\n",
    "Sometimes you have a task that you need to do over and over and it takes a while to write the code. Functions allow you to call a sequence of code over again."
   ]
  },
  {
   "cell_type": "markdown",
   "id": "bd709578-d841-44e3-a93b-a870515ea765",
   "metadata": {},
   "source": [
    "### To make your own function you need the following structure:"
   ]
  },
  {
   "cell_type": "markdown",
   "id": "70858294-1391-4385-abb9-83b555be5082",
   "metadata": {},
   "source": [
    "    def function_name( argument(s) ) : \n",
    "\n",
    "          \"\"\"\n",
    "          This is called a docstring. It is instantiated with 3 quotes (\"\"\") It is essentially a comment where    \n",
    "          useful notes go about input/output and what function desscription goes.\n",
    "          \n",
    "          Input: argument1 - this is ...    \n",
    "          Output: return_value1 - this is ...\n",
    "          \n",
    "          All built-in Python functions have docstrings. To view a functions docstring type\n",
    "          help(function_name(arguments)) or SHIFT + TAB where the cursor is in the () following\n",
    "          the function_name.\n",
    "          \"\"\"    \n",
    "        \n",
    "          **this is where all my code goes** \n",
    "        \n",
    "          return return_value(s)"
   ]
  },
  {
   "cell_type": "markdown",
   "id": "416ce558-9967-4b76-9874-3b7d938c5aa1",
   "metadata": {},
   "source": [
    "**WARNING!** If you don't indent you code for defining function, you will get an **IndentationError**."
   ]
  },
  {
   "cell_type": "markdown",
   "id": "9a565261-d2bb-4f50-a3e5-2d46c28cb1fe",
   "metadata": {},
   "source": [
    "### Practice:\n",
    "Make a function `position_car_v` that calculates the position of a car with initial position `x0`, moving with constant velocity `v0` for time `t`. Where all quantities are in SI base units. The function should also print an informative statement about the car's position\n",
    "\n",
    "- Discuss: what should the input of the function be?\n",
    "- what should the output be?\n",
    "- what should a good docstring include?"
   ]
  },
  {
   "cell_type": "code",
   "execution_count": null,
   "id": "5bea6e8d-fb2c-4b3d-97dc-f6cd2edfeb6c",
   "metadata": {},
   "outputs": [],
   "source": []
  },
  {
   "cell_type": "markdown",
   "id": "a19a73d9-d645-4abf-8be8-3ad5b4dad774",
   "metadata": {},
   "source": [
    "Now let's call our function for an initial position of $x_0 = -2100 ~\\mathrm{m}$, $v_0 = 200 ~\\mathrm{\\frac{m}{s}}$ and $t = 10 ~\\mathrm{s}$. Print the result."
   ]
  },
  {
   "cell_type": "code",
   "execution_count": 21,
   "id": "683717c8-042a-45de-a093-c04287628c03",
   "metadata": {},
   "outputs": [],
   "source": [
    "vel = 200\n",
    "time  = 10 \n",
    "pos0 = -2100"
   ]
  },
  {
   "cell_type": "code",
   "execution_count": null,
   "id": "8f8af90f-b5fb-4ae0-aae6-a01cfc9a59ec",
   "metadata": {},
   "outputs": [],
   "source": []
  },
  {
   "cell_type": "code",
   "execution_count": null,
   "id": "b7e3ead5-5a63-43b0-9bf6-b9ae436b2271",
   "metadata": {},
   "outputs": [],
   "source": []
  },
  {
   "cell_type": "markdown",
   "id": "0554f73a-5824-4595-9032-dd70fd393470",
   "metadata": {},
   "source": [
    "### Docstrings\n",
    "Why is a good and informative docstring important? Imagine calling the docstring from above and just getting a \"\"Function that calculates the position of the car in [m] traveled by object moving with constant velocity in [ m/s] over time [s]\"\". What could go wrong? Input order matters!"
   ]
  },
  {
   "cell_type": "markdown",
   "id": "dd8b783b-315f-49fb-81d4-f3270bff733c",
   "metadata": {},
   "source": [
    "### Keyword Arguments:\n",
    "To make sure the user inputs the right variables you can use keyword arguments (KWARGS). You can also set default values in case the user doesn't input it. \n",
    "\n",
    "- Write another function `position_car_a` that calculates the 1d position of the car with constant acceleration. Use KWARGS and set the default value of x0 to 0.\n",
    "- Call it for $a = -9.8 \\mathrm{\\frac{m}{s^2}}$, $v_0 = 11 \\mathrm{\\frac{m}{s}}$, and $t = 1 ~\\mathrm{s}$.\n",
    "- Print the docstring to the screen."
   ]
  },
  {
   "cell_type": "code",
   "execution_count": null,
   "id": "2e7f1e1f-d4a1-488a-b3bb-02197893fd71",
   "metadata": {},
   "outputs": [],
   "source": []
  },
  {
   "cell_type": "code",
   "execution_count": 1,
   "id": "66616038-f9c6-4860-b2ae-7e5e0b6ce887",
   "metadata": {},
   "outputs": [
    {
     "ename": "NameError",
     "evalue": "name 'position_car_a' is not defined",
     "output_type": "error",
     "traceback": [
      "\u001b[0;31m---------------------------------------------------------------------------\u001b[0m",
      "\u001b[0;31mNameError\u001b[0m                                 Traceback (most recent call last)",
      "Cell \u001b[0;32mIn[1], line 1\u001b[0m\n\u001b[0;32m----> 1\u001b[0m distance \u001b[38;5;241m=\u001b[39m position_car_a(a\u001b[38;5;241m=\u001b[39m \u001b[38;5;241m-\u001b[39m\u001b[38;5;241m9.8\u001b[39m, v0 \u001b[38;5;241m=\u001b[39m \u001b[38;5;241m11\u001b[39m, t \u001b[38;5;241m=\u001b[39m \u001b[38;5;241m1\u001b[39m)\n\u001b[1;32m      2\u001b[0m \u001b[38;5;28mprint\u001b[39m(\u001b[38;5;124m'\u001b[39m\u001b[38;5;124mThe (very fast) car is\u001b[39m\u001b[38;5;124m'\u001b[39m,distance,\u001b[38;5;124m'\u001b[39m\u001b[38;5;124mm from the origin.\u001b[39m\u001b[38;5;124m'\u001b[39m)\n",
      "\u001b[0;31mNameError\u001b[0m: name 'position_car_a' is not defined"
     ]
    }
   ],
   "source": [
    "distance = position_car_a(a= -9.8, v0 = 11, t = 1)\n",
    "print('The (very fast) car is',distance,'m from the origin.')"
   ]
  },
  {
   "cell_type": "code",
   "execution_count": 26,
   "id": "239c8797-d0f0-4c78-acfd-9ff736025693",
   "metadata": {},
   "outputs": [
    {
     "name": "stdout",
     "output_type": "stream",
     "text": [
      "Help on function position_car_a in module __main__:\n",
      "\n",
      "position_car_a(t=None, v0=None, a=None, x0=0)\n",
      "    Function that calculates the 1D position of a car with initial position x0, constant velocity, v0, \n",
      "    and for time, t. All quantities should be in SI base units.\n",
      "    Follows xf = x0 + v0 * t + 0.5*a*t**2, assuming constant speed. \n",
      "    Input: \n",
      "        x0 - initial position [m] (Default value is 0)\n",
      "        v0 - initial velocity[ m/s]\n",
      "        a  - constant acceleration\n",
      "        t  - time interval [ s ]\n",
      "    Output: position [ m ]\n",
      "\n"
     ]
    }
   ],
   "source": [
    "help(position_car_a)"
   ]
  },
  {
   "cell_type": "markdown",
   "id": "e93f21b5-2dfc-4388-85ad-e28d8baebed1",
   "metadata": {},
   "source": [
    "### .py files\n",
    "When writing a function, think if you may use it in the future possibly in another notebook. If so, write it on a separate .py file. You can then import it in whichever code you are working in the future just like you do with numpy.\n"
   ]
  },
  {
   "cell_type": "markdown",
   "id": "22ca5917-f0fe-4dbb-9938-dfc0be54a441",
   "metadata": {},
   "source": [
    "### Practice:\n",
    "Create a function called `F2C` in a .py file called `my_functions.py`. \n",
    "1. From your Jupyter dashboard choose \"New\" from the right side of the screen.\n",
    "2. Choose \"New File\"\n",
    "3. Change the filename from \"untitled1.py\" to \"my_functions.py\"\n",
    "4. Write your script. "
   ]
  },
  {
   "cell_type": "markdown",
   "id": "7abc7fd7-cd81-46fd-9f23-086d0f9818be",
   "metadata": {},
   "source": [
    "#### Let's import F2C and run it:\n",
    "- Call the docstring to figure out what distance 2 does.\n",
    "- Call the function for `degF = 98.6`. "
   ]
  },
  {
   "cell_type": "code",
   "execution_count": 115,
   "id": "01c7da3b-246b-4a82-b9ba-7333d178174a",
   "metadata": {},
   "outputs": [],
   "source": [
    "import my_functions as myf"
   ]
  },
  {
   "cell_type": "code",
   "execution_count": 103,
   "id": "41322557-ab42-44c3-bb0b-b05821c3c10f",
   "metadata": {
    "scrolled": true
   },
   "outputs": [
    {
     "data": {
      "text/plain": [
       "\u001b[0;31mSignature:\u001b[0m \u001b[0mmyf\u001b[0m\u001b[0;34m.\u001b[0m\u001b[0mF2C\u001b[0m\u001b[0;34m(\u001b[0m\u001b[0mdegF\u001b[0m\u001b[0;34m)\u001b[0m\u001b[0;34m\u001b[0m\u001b[0;34m\u001b[0m\u001b[0m\n",
       "\u001b[0;31mDocstring:\u001b[0m\n",
       "Converts degrees in F to degrees in C.\n",
       "Input: temp. in degrees F.\n",
       "Output: temp. in degrees C.\n",
       "\u001b[0;31mFile:\u001b[0m      ~/Documents/GitHub/phz3150/2025 lectures/my_functions.py\n",
       "\u001b[0;31mType:\u001b[0m      function"
      ]
     },
     "metadata": {},
     "output_type": "display_data"
    }
   ],
   "source": [
    "myf.F2C?"
   ]
  },
  {
   "cell_type": "code",
   "execution_count": 27,
   "id": "cb7fcaea-1357-4bd6-8649-71bdf4badcbc",
   "metadata": {},
   "outputs": [
    {
     "name": "stdout",
     "output_type": "stream",
     "text": [
      "37.0\n"
     ]
    }
   ],
   "source": [
    "print(myf.F2C(98.6))\n"
   ]
  },
  {
   "cell_type": "markdown",
   "id": "f109f4d6-2a05-4cfe-872a-9457cd354775",
   "metadata": {},
   "source": [
    "## Nested functions.\n",
    "\n",
    "### Practice:\n",
    "\n",
    "Write another function `F2K` in your .py file that converts from $^\\circ$F to Kelvin where 0 K is -273.15 $^\\circ$C and one unit K is equal to a change of 1 $^\\circ$C. Use F2C in your code. "
   ]
  },
  {
   "cell_type": "markdown",
   "id": "7051c249-9a4e-47d8-a060-8d4c85f401f0",
   "metadata": {},
   "source": [
    "### Importing multiple functions from a .py file.\n",
    "You can import multiple functions the same way as we would from a module.\n",
    "\n",
    "`import my_functions as myf`\n",
    "\n",
    "or \n",
    "\n",
    "`from my functions import *`\n",
    "\n",
    "or \n",
    "\n",
    "`import my_functions`"
   ]
  },
  {
   "cell_type": "markdown",
   "id": "2fc5724e-2b21-4b91-a195-9aebb08edaac",
   "metadata": {},
   "source": [
    "Restart your Python kernel, import my_functions and call `F2K` to convert the average temperature on Saturn's moon Titan (-290 $^\\circ$F) to Kelvin."
   ]
  },
  {
   "cell_type": "code",
   "execution_count": 28,
   "id": "1e250ba0-fdc4-45e9-9cc5-297a8684b1d8",
   "metadata": {},
   "outputs": [
    {
     "name": "stdout",
     "output_type": "stream",
     "text": [
      "The average temperature on Saturn's moon Titan is 94.26111111111109 K.\n"
     ]
    }
   ],
   "source": [
    "import my_functions as myf\n",
    "\n",
    "Titan_temp_K = myf.F2K(-290)\n",
    "\n",
    "print(\"The average temperature on Saturn's moon Titan is\", Titan_temp_K, \"K.\")"
   ]
  },
  {
   "cell_type": "markdown",
   "id": "0911609a-bbc5-4b9f-8805-42e2e0b24bdb",
   "metadata": {},
   "source": [
    "Let's do our imports again since we restarted our Python kernels."
   ]
  },
  {
   "cell_type": "code",
   "execution_count": 29,
   "id": "7d407c01-79be-419d-b8bc-4b131804ad57",
   "metadata": {},
   "outputs": [],
   "source": [
    "import numpy as np\n",
    "import matplotlib.pyplot as plt"
   ]
  },
  {
   "cell_type": "markdown",
   "id": "e691d048-8563-434e-9139-f7c11205436e",
   "metadata": {},
   "source": [
    "### Practice: \n",
    "\n",
    "Stars are far away from us. So far away that it is hard to describe using normal distance units. The units to describe distances are light years (ly) or parsecs (pc). A parsec is $\\sim 3.262$ ly. Knowing that 1 pc = $1.9174 \\times 10^13$ miles make a function pc_to_mi that takes as input the name of the star and its distance from us in pc, prints an informative statement of how far the star is in miles, and returns nothing. Run it for Betlegeuse ($\\sim$168 pc) and Arcturus ($\\sim$11pc).\n"
   ]
  },
  {
   "cell_type": "code",
   "execution_count": null,
   "id": "95bb73f7-3502-4fa4-9185-7b301ddb7323",
   "metadata": {},
   "outputs": [],
   "source": []
  },
  {
   "cell_type": "code",
   "execution_count": null,
   "id": "e2e894f4-8cd6-41fd-8320-0684625a3689",
   "metadata": {},
   "outputs": [],
   "source": []
  },
  {
   "cell_type": "code",
   "execution_count": null,
   "id": "dbe68f4b-b912-422a-a6ef-37df01fc1a8c",
   "metadata": {},
   "outputs": [],
   "source": []
  },
  {
   "cell_type": "markdown",
   "id": "c3892ae6-5f68-40b2-bbde-04425f13bd25",
   "metadata": {},
   "source": [
    "## Local variables and global variables\n",
    "\n",
    "A function has its own memory block that is reserved for variables created within that function. This block of memory is not shared with the whole notebook memory block. Therefore, a variable with a given name can be assigned within a fucntion without changing a variable with the same name outside of the function. The memory block associated with the function is opened every time a function is used."
   ]
  },
  {
   "cell_type": "markdown",
   "id": "8cc9a24c-6d60-4ec9-85c9-5570d1beb8c3",
   "metadata": {},
   "source": [
    "### Practice:\n",
    "\n",
    "Create a function `grav` that takes two masses `m_A` and `m_B` and a distance between their centers `r` and returns the force of the gravitational force of one mass on the other following:\n",
    "\n",
    "$|\\vec{F}_{A,B}| = \\frac{Gm_Am_B}{r^2}$\n",
    "        \n",
    "where $G = 6.67 \\times 10^{-11} \\mathrm{Nm^2/kg^2}$."
   ]
  },
  {
   "cell_type": "code",
   "execution_count": null,
   "id": "0a878338-a9a6-4bb5-904e-343eb38d1c8e",
   "metadata": {},
   "outputs": [],
   "source": []
  },
  {
   "cell_type": "markdown",
   "id": "29feeda1-0241-4536-b473-4ff8a5a482a4",
   "metadata": {},
   "source": [
    "- Call it for $m_A = 5.97 \\times 10^24$ kg (Earth) and $m_B = 1.00$ kg at a distance of Earth's radius: r = $6.37 \\times 10^6$ m.\n",
    "- Print the variable $G$."
   ]
  },
  {
   "cell_type": "code",
   "execution_count": 118,
   "id": "06befe0e-15d1-4612-9c78-ab07a003e063",
   "metadata": {},
   "outputs": [
    {
     "name": "stdout",
     "output_type": "stream",
     "text": [
      "9.813440652193735\n"
     ]
    }
   ],
   "source": [
    "print(grav(5.97e24,1,6.37e6))"
   ]
  },
  {
   "cell_type": "markdown",
   "id": "e86112f0-2ea7-4b20-9b80-2dbfbb8515bf",
   "metadata": {},
   "source": [
    "`print(G)` returns an error that G is not defined!\n",
    "G is a *local* variable, only accessable by the function *grav*."
   ]
  },
  {
   "cell_type": "markdown",
   "id": "bf93b2ed-ffd8-4de4-8771-e0e0ae7049bd",
   "metadata": {},
   "source": [
    "If we want the variable $G$ to be accessable everyone, we use the keyword global to let Python know this variable is a ***global*** variable that it can be used both outside and inside the function.\n",
    "\n",
    "**EXAMPLE:** Define $G$ as the global variable, and then use and change the value $G$ within the function, *grav*."
   ]
  },
  {
   "cell_type": "code",
   "execution_count": 121,
   "id": "8d6fe090-c684-4c03-bb74-5783014c7571",
   "metadata": {},
   "outputs": [],
   "source": [
    "G = 0\n",
    "\n",
    "def grav(m_A,m_B,r):\n",
    "    \"\"\"\n",
    "    Calculates the magnitude of the gravitational force between masses m_A and m_B.\n",
    "    All quantities are in base SI units.\n",
    "    Input:\n",
    "    m_A - mass in kg\n",
    "    m_B - mass in kg\n",
    "    r - distance between masses' centers in m.\n",
    "    Output:\n",
    "    Force in N.\n",
    "    \"\"\"\n",
    "    global G\n",
    "    G = 6.67e-11 #Nm^2/kg^2\n",
    "\n",
    "    F = G*m_A*m_B/r**2\n",
    "\n",
    "    return F"
   ]
  },
  {
   "cell_type": "code",
   "execution_count": 123,
   "id": "c745e0d5-e9ab-4d60-a796-b58f1d76e8d1",
   "metadata": {},
   "outputs": [
    {
     "name": "stdout",
     "output_type": "stream",
     "text": [
      "0\n",
      "9.813440652193735\n",
      "6.67e-11\n"
     ]
    }
   ],
   "source": [
    "print(G)\n",
    "print(grav(5.97e24,1,6.37e6))\n",
    "print(G)"
   ]
  },
  {
   "cell_type": "markdown",
   "id": "d88e32ae-4191-4188-82f3-8a29d1b53a00",
   "metadata": {},
   "source": [
    "### Lambda Functions\n",
    "Sometimes, we don't want to use the normal way to define a function, especially if our function is just one line. In this case, we can use anonymous function in Python, which is a function that is defined without a name. This type of functions also called a **$\\lambda$ function**, since they are defined using the *lambda* keyword. A typical lambda function is defined:\n",
    "\n",
    "```python\n",
    "lambda arguments: expression\n",
    "```\n",
    "\n",
    "It can have any number of arguments, but with only one expression. \n",
    "\n",
    "**TRY IT!** Define a labmda function, which square the in put number. And call the function with input 2 and 5. "
   ]
  },
  {
   "cell_type": "code",
   "execution_count": 129,
   "id": "145cd0f2-3d8b-496b-b852-5723da924313",
   "metadata": {},
   "outputs": [
    {
     "name": "stdout",
     "output_type": "stream",
     "text": [
      "4\n",
      "9\n",
      "56\n"
     ]
    }
   ],
   "source": [
    "square = lambda x: x**2\n",
    "\n",
    "print(square(2))\n",
    "print(square(3))\n",
    "print(square(2) + square(4) + square(6))"
   ]
  },
  {
   "cell_type": "markdown",
   "id": "a9ce9f47-3787-4ddc-bd36-35395d9eb605",
   "metadata": {},
   "source": [
    "## Slicing Data Structures in Python\n",
    "\n",
    "As we mentioned last week, sometimes we have a lot of data in a list, tuple, string, or numpy array but we only want to access some of it. We can then use slicing to get a part of our list/tuple/numpy array/ pandas dataframe etc....\n",
    "\n",
    "To slice something we need to use brackets  [   ] and we need to know the dimensions of our data. In the simple 1D case we use\n",
    "\n",
    "The numbers in the brackets represent an address (index/indices) in the array, list, tuple, etc. Python *always* starts counting with $i = 0$. We usually label indices abstractly in Latin as $i, j, k,$ ... or sometimes in Relativity in Greek $\\mu, \\nu, \\rho,$ .... \n",
    "\n",
    "The value stored at the address of the $i^{th}$ row and $j^{th}$ column in the matrix $ M $ is denoted $M_{i,j}$ "
   ]
  },
  {
   "cell_type": "code",
   "execution_count": null,
   "id": "5ff9e852-ec8e-4543-851b-edbb3a7f742e",
   "metadata": {},
   "outputs": [],
   "source": []
  },
  {
   "cell_type": "markdown",
   "id": "8537f6d5-161a-4707-9b98-f51a8b20ad98",
   "metadata": {},
   "source": [
    "**TRY IT!** Create a 2D $3 \\times 3$ array with the numbers 0 - 8 ordered left-to-right and top-to-bottom. Slice out the value 5 using array slicing."
   ]
  },
  {
   "cell_type": "code",
   "execution_count": 19,
   "id": "e69492af-e687-4c10-8d6c-87b29292a607",
   "metadata": {},
   "outputs": [
    {
     "name": "stdout",
     "output_type": "stream",
     "text": [
      "[[0 1 2]\n",
      " [3 4 5]\n",
      " [6 7 8]]\n",
      "5\n"
     ]
    }
   ],
   "source": [
    "test_slicing_2d = np.arange( 9 )\n",
    "test_slicing_2d = np.reshape(test_slicing_2d, (3,3))\n",
    "\n",
    "#check your array:\n",
    "print(test_slicing_2d)\n",
    "print(test_slicing_2d[1,2])"
   ]
  },
  {
   "cell_type": "markdown",
   "id": "9a13490b-db88-470d-9d32-f9dea7c3f868",
   "metadata": {},
   "source": [
    "### Slicing a subarray 1D.\n",
    "\n",
    "To slice a subarray from a 1 dimensional data structure use the following format:\n",
    "\n",
    "`My_1D_array[Start_index: End_but_NOT_INCLUDING_index : With_step_size_of]`\n",
    "\n",
    "**Try it!**"
   ]
  },
  {
   "cell_type": "code",
   "execution_count": 42,
   "id": "94b87a09-8acc-403e-b08f-99973cd9e589",
   "metadata": {},
   "outputs": [
    {
     "name": "stdout",
     "output_type": "stream",
     "text": [
      "[ 2.   2.5  3.   3.5  4.   4.5  5.   5.5  6.   6.5  7.   7.5  8.   8.5\n",
      "  9.   9.5 10. ]\n",
      "[4.5 5.  5.5 6.  6.5 7. ]\n"
     ]
    }
   ],
   "source": [
    "#create a 1D array with 17 evenly-spaced elements starting on 2 and ending on 10:\n",
    "\n",
    "My_1D_array = np.linspace(2,10,num = 17)  \n",
    "\n",
    "print(My_1D_array)\n",
    "\n",
    "#slice out the numbers 4.5 - 7 from the array:\n",
    "\n",
    "My_slice = My_1D_array[5:11]\n",
    "\n",
    "print(My_slice)"
   ]
  },
  {
   "cell_type": "markdown",
   "id": "b82c03cc-e6ec-4dc4-8228-d494f696cb87",
   "metadata": {},
   "source": [
    "**WARNING:** python (like most programming languages) starts counting arrays at 0 ( so first element of array x is x[ 0 ] )! Also, it is easy to forget the Python requires the end index to be greater than the last index included. (considers the open set)"
   ]
  },
  {
   "cell_type": "markdown",
   "id": "f5af5dfc-7b98-40f7-94a3-d5041f931e87",
   "metadata": {},
   "source": [
    "### Practice:\n",
    "\n",
    "Create a slice `My_other_slice` which contains the number at every *odd* index of `My_1d_array` listed backwards and starting with the number 7.5. Print it."
   ]
  },
  {
   "cell_type": "code",
   "execution_count": null,
   "id": "f92cd6b4-181a-42c4-928a-31470b456845",
   "metadata": {},
   "outputs": [],
   "source": []
  },
  {
   "cell_type": "markdown",
   "id": "5155d989-d12d-4f5a-a9fe-bac8f3f0fb31",
   "metadata": {},
   "source": [
    "For n-dimensional arrays you can use the same slicing rules for each dimension separated by commas."
   ]
  },
  {
   "cell_type": "markdown",
   "id": "6065c68e-160b-45a1-a360-ac1f0080ed50",
   "metadata": {},
   "source": [
    "### Practice:\n",
    "\n",
    "Create a $4 \\times 4$ array `array4` that contains evenly spaced numbers from 1 to 4 ordered from left-to-right and top-to-bottom. Print a slice containing the subarray: \n",
    "\n",
    "$\\begin{pmatrix} \n",
    "2.8 & 3.0 \\\\\n",
    "3.6 & 3.8 \\\\\n",
    "\\end{pmatrix}$\n",
    "\n"
   ]
  },
  {
   "cell_type": "code",
   "execution_count": null,
   "id": "be5aab39-4667-4ef1-88ee-6deef03a3153",
   "metadata": {
    "scrolled": true
   },
   "outputs": [],
   "source": []
  },
  {
   "cell_type": "markdown",
   "id": "f70ff2c2-211d-4d4c-af35-486d01d7c406",
   "metadata": {},
   "source": [
    "### Appending lists or numpy arrays:\n",
    "\n",
    "Numpy arrays: use the function `np.append(my_array, values_to_append_to_end)`\n",
    "\n",
    "Lists: use the list method append. If the list is *my_list*: `my_list.append(values_to_append_to_end)`\n",
    "\n",
    "**Try it!**"
   ]
  },
  {
   "cell_type": "code",
   "execution_count": 14,
   "id": "d01550ce-09df-4893-a114-6ab50f1e0cff",
   "metadata": {},
   "outputs": [
    {
     "name": "stdout",
     "output_type": "stream",
     "text": [
      "[ 0  1  2  3  4  5  6  7  8  9 11 10  9  8  7  6]\n",
      "[1, 2, 'red', 'blue', 'fish']\n"
     ]
    }
   ],
   "source": [
    "#Numpy array:\n",
    "array = np.arange(10)\n",
    "array = np.append(array,11)\n",
    "array = np.append(array,[10,9,8,7,6])\n",
    "print(array)\n",
    "\n",
    "#List:\n",
    "my_list = [1,2,'red','blue']\n",
    "my_list.append('fish')\n",
    "print(my_list)"
   ]
  },
  {
   "cell_type": "markdown",
   "id": "895e6d3e-d15c-4f8f-acec-4ea10a023a98",
   "metadata": {},
   "source": [
    "**TRY IT!**\n",
    "Sort the array and put it in reverse order:"
   ]
  },
  {
   "cell_type": "code",
   "execution_count": 15,
   "id": "d4295ffe-afe7-4b62-aaaa-9547e3375265",
   "metadata": {},
   "outputs": [
    {
     "name": "stdout",
     "output_type": "stream",
     "text": [
      "[11 10  9  9  8  8  7  7  6  6  5  4  3  2  1  0]\n"
     ]
    }
   ],
   "source": [
    "array = np.sort(array)\n",
    "array = np.flip(array)\n",
    "print(array)"
   ]
  },
  {
   "cell_type": "markdown",
   "id": "7dd8eaa5-741f-4608-9a97-dd1b71de3811",
   "metadata": {},
   "source": [
    "**TRY IT!** Extend `my_list` by appending the list `['bird','frog','dog']` on to the end."
   ]
  },
  {
   "cell_type": "code",
   "execution_count": 16,
   "id": "ec11ab14-6b0e-484e-ba52-5e791c013afe",
   "metadata": {},
   "outputs": [
    {
     "name": "stdout",
     "output_type": "stream",
     "text": [
      "[1, 2, 'red', 'blue', 'fish', ['bird', 'frog', 'dog']]\n"
     ]
    }
   ],
   "source": [
    "my_list.append(['bird','frog','dog'])\n",
    "print(my_list)"
   ]
  },
  {
   "cell_type": "markdown",
   "id": "4ff7853d-69ae-4a50-a2aa-c07e71f07927",
   "metadata": {},
   "source": [
    "Oops! I added a list to the list! I should use *extend* to append just the elements of the list."
   ]
  },
  {
   "cell_type": "code",
   "execution_count": 17,
   "id": "1f0bb68d-f7f8-44c3-8d8c-121a3d282057",
   "metadata": {},
   "outputs": [
    {
     "name": "stdout",
     "output_type": "stream",
     "text": [
      "[1, 2, 'red', 'blue', 'fish', 'bird', 'frog', 'dog']\n"
     ]
    }
   ],
   "source": [
    "my_list = my_list[0:-1]\n",
    "my_list.extend(['bird','frog','dog'])\n",
    "print(my_list)"
   ]
  },
  {
   "cell_type": "code",
   "execution_count": 19,
   "id": "42b59804-f5ab-4a0e-9f2f-d8ebb3a65e8f",
   "metadata": {},
   "outputs": [
    {
     "ename": "ValueError",
     "evalue": "list.remove(x): x not in list",
     "output_type": "error",
     "traceback": [
      "\u001b[0;31m---------------------------------------------------------------------------\u001b[0m",
      "\u001b[0;31mValueError\u001b[0m                                Traceback (most recent call last)",
      "Cell \u001b[0;32mIn[19], line 1\u001b[0m\n\u001b[0;32m----> 1\u001b[0m my_list\u001b[38;5;241m.\u001b[39mremove(\u001b[38;5;124m'\u001b[39m\u001b[38;5;124mfish\u001b[39m\u001b[38;5;124m'\u001b[39m)   \u001b[38;5;66;03m# remove the \"4\" from the list\u001b[39;00m\n\u001b[1;32m      2\u001b[0m \u001b[38;5;28mprint\u001b[39m(my_list)\n",
      "\u001b[0;31mValueError\u001b[0m: list.remove(x): x not in list"
     ]
    }
   ],
   "source": [
    "my_list.remove('fish')   # remove the \"4\" from the list"
   ]
  },
  {
   "cell_type": "code",
   "execution_count": 20,
   "id": "b87109d0-5b12-4b90-ad7c-9bfc4bddd622",
   "metadata": {},
   "outputs": [
    {
     "name": "stdout",
     "output_type": "stream",
     "text": [
      "[1, 2, 'red', 'blue', 'bird', 'frog', 'dog']\n"
     ]
    }
   ],
   "source": [
    "print(my_list)"
   ]
  },
  {
   "cell_type": "markdown",
   "id": "9a5bc756-2b9e-4fb3-a040-2569567a0e77",
   "metadata": {},
   "source": [
    "### Practice:\n",
    "\n",
    "Create a list `count` that contains the numbers from 10 - 20. Create a np.array `count_a` from `count`. Create a tuple `count_t` from `count`. Change the last element of each to 0. Does it work for all of them? Why or why not?"
   ]
  },
  {
   "cell_type": "code",
   "execution_count": null,
   "id": "dea63bea-7d38-4b69-b67e-766e64d005df",
   "metadata": {},
   "outputs": [],
   "source": []
  },
  {
   "cell_type": "code",
   "execution_count": null,
   "id": "0210b225-ba8c-402c-b6a4-a4a3c9091e7e",
   "metadata": {},
   "outputs": [],
   "source": []
  },
  {
   "cell_type": "code",
   "execution_count": null,
   "id": "929cec8b-2465-4509-b13e-d2c2230a7ca1",
   "metadata": {},
   "outputs": [],
   "source": []
  },
  {
   "cell_type": "markdown",
   "id": "be6f2017-566a-4059-bf6b-d3ac09e7138e",
   "metadata": {},
   "source": [
    "`count_t[-1] = 0` Doesn't work since tuples are immutable!"
   ]
  },
  {
   "cell_type": "markdown",
   "id": "54313b76-94bf-4ac3-b9d1-efca1148a8d2",
   "metadata": {},
   "source": [
    "#### A clever work around?\n",
    "- First let's check where count_t is in memory:"
   ]
  },
  {
   "cell_type": "code",
   "execution_count": 96,
   "id": "6a900f8e-b5fc-4e8d-ba06-25e1ee2125ac",
   "metadata": {},
   "outputs": [
    {
     "name": "stdout",
     "output_type": "stream",
     "text": [
      "4533795648\n"
     ]
    }
   ],
   "source": [
    "print( id( count_t ) )"
   ]
  },
  {
   "cell_type": "code",
   "execution_count": 98,
   "id": "5c8b62c8-61e3-4aae-bb1a-1192afc0a495",
   "metadata": {},
   "outputs": [],
   "source": [
    "count_t = count_t[0:9]+(0,)"
   ]
  },
  {
   "cell_type": "code",
   "execution_count": 99,
   "id": "d7948f16-2c12-4e00-951d-742b59dc7a94",
   "metadata": {},
   "outputs": [
    {
     "name": "stdout",
     "output_type": "stream",
     "text": [
      "(10, 11, 12, 13, 14, 15, 16, 17, 18, 0) <class 'tuple'>\n",
      "4533885888\n"
     ]
    }
   ],
   "source": [
    "print(count_t,type(count_t))\n",
    "print(id(count_t))"
   ]
  },
  {
   "cell_type": "markdown",
   "id": "ec081fe8-764a-4e31-9618-ab3f2a567474",
   "metadata": {},
   "source": [
    "Notice that we simply *shadowed* `count_t` with a tuple having the same name. The memory address has changed. This doesn't happen with lists:"
   ]
  },
  {
   "cell_type": "code",
   "execution_count": 102,
   "id": "96fbc656-bebb-4cf6-a6bd-1a5f5dd41cd6",
   "metadata": {},
   "outputs": [
    {
     "name": "stdout",
     "output_type": "stream",
     "text": [
      "[10, 11, 12, 13, 14, 15, 16, 17, 18, 19, 21] <class 'list'> 4532538816\n",
      "[10, 11, 12, 13, 14, 15, 16, 17, 18, 19, 21] <class 'list'> 4532538816\n"
     ]
    }
   ],
   "source": [
    "print(count,type(count),id(count))\n",
    "count[-1] = 21\n",
    "print(count,type(count),id(count))"
   ]
  },
  {
   "cell_type": "code",
   "execution_count": 60,
   "id": "38e81058-0d2b-4bb7-bb92-35b2acfd1890",
   "metadata": {},
   "outputs": [
    {
     "name": "stdout",
     "output_type": "stream",
     "text": [
      "4392395328\n"
     ]
    }
   ],
   "source": [
    "count_t = count_t"
   ]
  },
  {
   "cell_type": "markdown",
   "id": "dd261408-f34a-4aac-a15a-501fc4fa97ac",
   "metadata": {},
   "source": [
    "### Concept reminder:\n",
    "\n",
    "1. Functions:\n",
    "    - are used for calculations you want to do repeatedly. Instead of coding the same thing again and again, you just call the function and you get the result for each case you want.\n",
    "    - Functions need a good docstring!\n",
    "    - The main body of your code and the function can have different names for the same quantity. The name should be consistent in the same body though!\n",
    "    - When your function gives a result you should calculate these numbers some other way to check that they are correct\n",
    "    \n"
   ]
  },
  {
   "cell_type": "code",
   "execution_count": null,
   "id": "665e28ac-21b4-4d35-96d3-471e16f08442",
   "metadata": {},
   "outputs": [],
   "source": []
  },
  {
   "cell_type": "markdown",
   "id": "eef7ef2d-81b5-4770-bc45-4ed22a8456f2",
   "metadata": {},
   "source": [
    "2. Lists:\n",
    "    - defined using: [ ]\n",
    "    - slicing\n",
    "    - mutable\n",
    "    \n",
    "    \n",
    "    "
   ]
  },
  {
   "cell_type": "code",
   "execution_count": null,
   "id": "f31b1e90-1c14-492b-b27d-c83d8848cdbc",
   "metadata": {},
   "outputs": [],
   "source": []
  },
  {
   "cell_type": "markdown",
   "id": "d42a1617-19e1-4e29-a24d-836fdb5ffeb7",
   "metadata": {},
   "source": [
    "3. Tuples:\n",
    "    - defined using ( )\n",
    "    - slicing\n",
    "    - immutable"
   ]
  },
  {
   "cell_type": "markdown",
   "id": "dd5ece56-a5aa-4a9c-bcdf-80be0322a0b4",
   "metadata": {},
   "source": [
    "\n",
    "\n",
    "### Practice: \n",
    "Create a function `circuit_resistance` that takes the measured voltage across a circuit element and the current through that circuit element and returns the circuit element's resistance. Following Ohm's law:\n",
    "\n",
    "$R = \\frac{V}{I}$\n",
    "\n",
    "Remember to use a good, appropriate docstring! \n",
    "\n",
    "- Call circuit_resistance for I = 4A and V = 0.1, 2, and 40 V using a numpy array.  \n",
    "\n",
    "- Call circuit_resistance for V = 100 V and I = 0.1, 4, and 100 A using a numpy array.\n",
    "\n",
    "- Call circuit_resistance using the V and I arrays but only print the resistance corresponding to the second element of both V and I.\n",
    "\n",
    "- Print your docstring to the screen!\n"
   ]
  },
  {
   "cell_type": "code",
   "execution_count": null,
   "id": "4ce4f6f5-29bc-4e92-99f4-76e4021db4b5",
   "metadata": {},
   "outputs": [],
   "source": []
  },
  {
   "cell_type": "code",
   "execution_count": null,
   "id": "a0aec534-353e-46ea-bd18-8063ad6aad17",
   "metadata": {},
   "outputs": [],
   "source": [
    "  "
   ]
  },
  {
   "cell_type": "code",
   "execution_count": null,
   "id": "e9ca3bbd-0b5e-4a8a-ac1b-d68c76cf7348",
   "metadata": {},
   "outputs": [],
   "source": []
  },
  {
   "cell_type": "code",
   "execution_count": null,
   "id": "207b9d29-1032-47d4-894e-5d322272dece",
   "metadata": {},
   "outputs": [],
   "source": []
  },
  {
   "cell_type": "code",
   "execution_count": null,
   "id": "a519cc64-36e1-4d91-b028-153b2d49c9df",
   "metadata": {},
   "outputs": [],
   "source": []
  },
  {
   "cell_type": "markdown",
   "id": "d2b934f8-01c8-43db-a6e0-0dfb34b1cc8b",
   "metadata": {},
   "source": [
    "## More with Numpy\n",
    "In the 2nd part of this book, we will study the numerical methods by using Python. We will use array/matrix a lot later in the book. Therefore, here we are going to introduce the most common way to handle arrays in Python using the [Numpy module](http://www.numpy.org). Numpy is probably the most fundamental numerical computing module in Python. \n",
    "\n",
    "NumPy is important in scientific computing, it is coded both in Python and C (for speed). On its website, a few important features for Numpy is listed:\n",
    "\n",
    "* a powerful N-dimensional array object\n",
    "* sophisticated (broadcasting) functions\n",
    "* tools for integrating C/C++ and Fortran code\n",
    "* useful linear algebra, Fourier transform, and random number capabilities\n",
    "\n",
    "**Scipy** is the complimentary package which we will also use quite a lot. As a rule of thumb, if something is covered in a general textbook on numerical computing, it’s probably implemented in SciPy."
   ]
  },
  {
   "cell_type": "markdown",
   "id": "08c530dd-0a14-4863-8bd0-b0b282703bfe",
   "metadata": {},
   "source": [
    "As always, let's start with some imports:"
   ]
  },
  {
   "cell_type": "code",
   "execution_count": 21,
   "id": "fafa3367-edb2-4524-ab5d-f3e1e897a049",
   "metadata": {},
   "outputs": [],
   "source": [
    "import numpy as np\n",
    "import matplotlib.pyplot as plt #We will also be making some plots to demonstrate numpy functions."
   ]
  },
  {
   "cell_type": "code",
   "execution_count": 2,
   "id": "029be77c-fe92-4954-870f-501c82a6b574",
   "metadata": {},
   "outputs": [],
   "source": [
    "import matplotlib.pyplot  as plt   \n",
    "## remember that if you knew --for some very weird case-- that you only need 1 or 2 packages you could just import\n",
    "## those with: from matplotlib.pyplot import plot or (plot, xlabel, ylabel...)"
   ]
  },
  {
   "cell_type": "markdown",
   "id": "f8c03e2f-9d3a-469d-96fb-0acc2d46a50a",
   "metadata": {},
   "source": [
    "## Array Creation\n",
    "\n",
    "**Recall** We've already learned a few ways to create arrays. Let's look at some examples:\n"
   ]
  },
  {
   "cell_type": "code",
   "execution_count": 24,
   "id": "13b93ffb-b122-424e-a192-9255368dd637",
   "metadata": {},
   "outputs": [],
   "source": [
    "x_1d = np.arange( 3, 50.1, 0.1 ) #Creates a 1D array starting on 3 and ending on 50 with a step of 0.1.\n",
    "y_1d = np.linspace(0,10,num = 471) #Creates a 1D array with 471 evenly spaced elements from 0 to 10.\n",
    "z_1d = np.array([1,2,3]) #Creates an array from a list\n",
    "z_2d = np.array([[1,2,3],[4,5,6],[7,8,9]]) #Creates a 2D array from a list of lists."
   ]
  },
  {
   "cell_type": "code",
   "execution_count": 29,
   "id": "d347e2f0-725b-4256-b8a4-f36fa43efb9f",
   "metadata": {},
   "outputs": [
    {
     "name": "stdout",
     "output_type": "stream",
     "text": [
      "[3.  3.1 3.2 3.3 3.4] ... \n",
      " [0.         0.0212766  0.04255319 0.06382979 0.08510638] ...\n",
      " [1 2 3] \n",
      " \n",
      " [[1 2 3]\n",
      " [4 5 6]\n",
      " [7 8 9]]\n"
     ]
    }
   ],
   "source": [
    "print(x_1d[0:5],'... \\n',y_1d[0:5],'...\\n',z_1d,'\\n \\n',z_2d)"
   ]
  },
  {
   "cell_type": "markdown",
   "id": "f928bbd2-95a4-44dd-96d3-17464f571b8b",
   "metadata": {},
   "source": [
    "### Array are better equiped for math than lists\n",
    "\n",
    "**TRY IT!** Try multiplying our array, z_1d and a list version by the scalar 10. Does 10 distribute to all elements? "
   ]
  },
  {
   "cell_type": "code",
   "execution_count": 31,
   "id": "e6238ece-ca71-43be-8ae8-1aac6b412018",
   "metadata": {},
   "outputs": [
    {
     "name": "stdout",
     "output_type": "stream",
     "text": [
      "[10 20 30]\n",
      "[1, 2, 3, 1, 2, 3, 1, 2, 3, 1, 2, 3, 1, 2, 3, 1, 2, 3, 1, 2, 3, 1, 2, 3, 1, 2, 3, 1, 2, 3]\n"
     ]
    }
   ],
   "source": [
    "zlist = list(z_1d)\n",
    "\n",
    "print(z_1d*10)\n",
    "print(zlist*10)"
   ]
  },
  {
   "cell_type": "markdown",
   "id": "b4f03c53-a04a-49b8-844a-289e66f76e74",
   "metadata": {},
   "source": [
    "It looks like the list creates 10 copies of the original list. This may be good for some programming tasks but in general the numpy array behaves much more like we would expect from math."
   ]
  },
  {
   "cell_type": "markdown",
   "id": "1d611527-8200-4299-8de6-132231e52a94",
   "metadata": {},
   "source": [
    "### Lists are not arrays. \n",
    "To do numerical computations with their elements we need to call them one by one. \n",
    "You need a *for loop* or this: [i*10 for i in x_list] and you will get the same results as with x_numpy * 10. \n",
    "We will study *for loops* in more detail next week.\n"
   ]
  },
  {
   "cell_type": "code",
   "execution_count": 41,
   "id": "fe18a536-6318-4502-8de0-6f2dc7827156",
   "metadata": {},
   "outputs": [
    {
     "name": "stdout",
     "output_type": "stream",
     "text": [
      "[10, 20, 30]\n",
      "[10, 20, 30]\n"
     ]
    }
   ],
   "source": [
    "z10a = []\n",
    "for i in range( len( zlist ) ):\n",
    "    z10a.append( zlist[i] * 10 )\n",
    "\n",
    "print(z10a)\n",
    "#or\n",
    "\n",
    "z10b = []\n",
    "for num in zlist: z10b.append(num*10)\n",
    "\n",
    "print(z10b)"
   ]
  },
  {
   "cell_type": "code",
   "execution_count": 42,
   "id": "ae4e2e49-6fcf-437e-8a29-e540fb61b6f1",
   "metadata": {},
   "outputs": [
    {
     "data": {
      "text/plain": [
       "[10, 20, 30]"
      ]
     },
     "execution_count": 42,
     "metadata": {},
     "output_type": "execute_result"
    }
   ],
   "source": [
    "#or even simpler: \n",
    "[ i*10 for i in zlist ]   # ---> \"list comprehension\" we will get to this later in the course."
   ]
  }
 ],
 "metadata": {
  "kernelspec": {
   "display_name": "Python 3 (ipykernel)",
   "language": "python",
   "name": "python3"
  },
  "language_info": {
   "codemirror_mode": {
    "name": "ipython",
    "version": 3
   },
   "file_extension": ".py",
   "mimetype": "text/x-python",
   "name": "python",
   "nbconvert_exporter": "python",
   "pygments_lexer": "ipython3",
   "version": "3.11.5"
  }
 },
 "nbformat": 4,
 "nbformat_minor": 5
}
